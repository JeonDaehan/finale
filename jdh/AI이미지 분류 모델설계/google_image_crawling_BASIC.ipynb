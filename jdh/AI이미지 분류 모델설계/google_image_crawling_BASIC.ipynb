{
 "cells": [
  {
   "cell_type": "markdown",
   "id": "baf9f4a3",
   "metadata": {},
   "source": [
    "# 이미지 크롤링 해보기"
   ]
  },
  {
   "cell_type": "code",
   "execution_count": 1,
   "id": "e571da2c",
   "metadata": {},
   "outputs": [],
   "source": [
    "import requests\n",
    "from selenium import webdriver\n",
    "from selenium.webdriver.chrome.options import Options\n",
    "from selenium.webdriver.common.by import By\n",
    "from selenium.webdriver.common.keys import Keys\n",
    "import time\n",
    "from bs4 import BeautifulSoup\n",
    "import re\n",
    "import urllib.request #(이미지 다운로드 하는 코드)\n",
    "import pandas as pd\n",
    "import os\n",
    "import sys\n",
    "import shutil"
   ]
  },
  {
   "cell_type": "markdown",
   "id": "3c4e0979",
   "metadata": {},
   "source": [
    "## 0. 결과 record"
   ]
  },
  {
   "cell_type": "code",
   "execution_count": null,
   "id": "8f08244a",
   "metadata": {},
   "outputs": [],
   "source": [
    "### pizza\n",
    "## high-definition\n",
    "# "
   ]
  },
  {
   "cell_type": "markdown",
   "id": "4e07b363",
   "metadata": {},
   "source": [
    "## 1. 검색할 단어와 주소_구글"
   ]
  },
  {
   "cell_type": "code",
   "execution_count": 24,
   "id": "19fc7cc5",
   "metadata": {},
   "outputs": [
    {
     "name": "stdout",
     "output_type": "stream",
     "text": [
      "검색어를 입력하세요 : 초밥\n",
      "받고싶은 이미지 개수는 : 10000\n",
      "초밥고화질로 검색\n"
     ]
    }
   ],
   "source": [
    "url = \"https://www.google.co.uk/\"\n",
    "keyword = input(\"검색어를 입력하세요 : \") + str(\"고화질\")\n",
    "crolcnt = int(input(\"받고싶은 이미지 개수는 : \"))\n",
    "print(\"{}로 검색\".format(keyword))\n",
    "time.sleep(0.5)"
   ]
  },
  {
   "cell_type": "markdown",
   "id": "43de49ab",
   "metadata": {},
   "source": [
    "## 1.1 검색할 담어와 주소_네이버"
   ]
  },
  {
   "cell_type": "code",
   "execution_count": 74,
   "id": "40f9428f",
   "metadata": {},
   "outputs": [
    {
     "name": "stdout",
     "output_type": "stream",
     "text": [
      "검색어를 입력하세요 : 피자 알볼로 어깨 피자\n",
      "받고싶은 이미지 개수는 : 10000\n",
      "피자 알볼로 어깨 피자로 검색\n"
     ]
    }
   ],
   "source": [
    "url = \"https://www.naver.com/\"\n",
    "keyword = input(\"검색어를 입력하세요 : \") + str(\"\")\n",
    "crolcnt = int(input(\"받고싶은 이미지 개수는 : \"))\n",
    "print(\"{}로 검색\".format(keyword))\n",
    "time.sleep(0.5)"
   ]
  },
  {
   "cell_type": "markdown",
   "id": "48e46a27",
   "metadata": {},
   "source": [
    "## 2-1. 다운받을 파일 만들기_train,test,val"
   ]
  },
  {
   "cell_type": "code",
   "execution_count": 8,
   "id": "0a164a97",
   "metadata": {},
   "outputs": [
    {
     "name": "stdout",
     "output_type": "stream",
     "text": [
      "c:/han/google/train is deleted!\n",
      "c:/han/google/train is created\n",
      "c:/han/google/test is created\n",
      "c:/han/google/val is created\n"
     ]
    }
   ],
   "source": [
    "if os.path.exists(\"c:/han/google/train\"):\n",
    "    shutil.rmtree(\"c:/han/google/train\")\n",
    "    print(\"c:/han/google/train is deleted!\")\n",
    "    \n",
    "    \n",
    "if not os.path.exists(\"c:/han/google/train\"):\n",
    "    os.mkdir(\"c:/han/google/train\")\n",
    "    print(\"c:/han/google/train is created\")\n",
    "    \n",
    "if os.path.exists(\"c:/han/google/test\"):\n",
    "    shutil.rmtree(\"c:/han/google/test\")\n",
    "    print(\"c:/han/google/test is deleted!\")\n",
    "    \n",
    "    \n",
    "if not os.path.exists(\"c:/han/google/test\"):\n",
    "    os.mkdir(\"c:/han/google/test\")\n",
    "    print(\"c:/han/google/test is created\")\n",
    "    \n",
    "if os.path.exists(\"c:/han/google/val\"):\n",
    "    shutil.rmtree(\"c:/han/google/val\")\n",
    "    print(\"c:/han/google/val is deleted!\")\n",
    "    \n",
    "    \n",
    "if not os.path.exists(\"c:/han/google/val\"):\n",
    "    os.mkdir(\"c:/han/google/val\")\n",
    "    print(\"c:/han/google/val is created\")"
   ]
  },
  {
   "cell_type": "markdown",
   "id": "17b3e135",
   "metadata": {},
   "source": [
    "## 2-2. 다운받을 파일 만들기_카테고리별"
   ]
  },
  {
   "cell_type": "code",
   "execution_count": 3,
   "id": "dcca8cd8",
   "metadata": {},
   "outputs": [],
   "source": [
    "## 상위 폴더 먼저 만들기\n",
    "\n",
    "path = \"c:/han/google\"\n",
    "if not os.path.exists(path):\n",
    "    os.mkdir(path)\n",
    "    print(path + \"is created!\")"
   ]
  },
  {
   "cell_type": "code",
   "execution_count": 49,
   "id": "27de9e0d",
   "metadata": {},
   "outputs": [],
   "source": [
    "cate = \"pizza\"\n",
    "    \n",
    "    \n",
    "if not os.path.exists(\"c:/han/google/train/\" + str(cate)):\n",
    "    os.mkdir(\"c:/han/google/train/\" + str(cate))\n",
    "    print(\"file name \" + str(cate) + \"is created!\")"
   ]
  },
  {
   "cell_type": "markdown",
   "id": "a2359255",
   "metadata": {},
   "source": [
    "## 2-3. 다운받을 파일 만들기_대용량 데이터 오저장 방지"
   ]
  },
  {
   "cell_type": "code",
   "execution_count": 75,
   "id": "f0bfc465",
   "metadata": {},
   "outputs": [
    {
     "name": "stdout",
     "output_type": "stream",
     "text": [
      "지정한 경로에 폴더가 존재합니다. : c:/han/google/train/pizza\n",
      "지정한 경로로 다운로드가 시작됩니다. \n",
      "동의하면 [y]입력 : y\n"
     ]
    }
   ],
   "source": [
    "img_folder = \"c:/han/google/train/\" + str(cate)\n",
    "\n",
    "if os.path.isdir(img_folder)==True:\n",
    "    print(\"지정한 경로에 폴더가 존재합니다. : {}\".format(img_folder))\n",
    "    if input(\"지정한 경로로 다운로드가 시작됩니다. \\n동의하면 [y]입력 : \") == \"y\":\n",
    "        pass\n",
    "    else:\n",
    "        sys.exit(\"크롤링 종료\")\n",
    "\n",
    "else:\n",
    "    print(\"폴더가 존재하지 않습니다. 확인 후 실행해주세요\")\n",
    "    sys.exit(\"크롤링 종료\")"
   ]
  },
  {
   "cell_type": "code",
   "execution_count": null,
   "id": "b0fbe3ed",
   "metadata": {},
   "outputs": [],
   "source": [
    "## 3. chrome브라우저 실행 및 검색어 입력"
   ]
  },
  {
   "cell_type": "code",
   "execution_count": 43,
   "id": "0c75dff3",
   "metadata": {
    "collapsed": true
   },
   "outputs": [
    {
     "name": "stderr",
     "output_type": "stream",
     "text": [
      "C:\\Users\\LG\\AppData\\Local\\Temp\\ipykernel_7320\\1164588236.py:2: DeprecationWarning: executable_path has been deprecated, please pass in a Service object\n",
      "  driver = webdriver.Chrome(driverpath)\n"
     ]
    },
    {
     "ename": "NoSuchElementException",
     "evalue": "Message: no such element: Unable to locate element: {\"method\":\"css selector\",\"selector\":\".gLFyf\"}\n  (Session info: chrome=108.0.5359.126)\nStacktrace:\nBacktrace:\n\t(No symbol) [0x009CF243]\n\t(No symbol) [0x00957FD1]\n\t(No symbol) [0x0084D04D]\n\t(No symbol) [0x0087C0B0]\n\t(No symbol) [0x0087C22B]\n\t(No symbol) [0x008AE612]\n\t(No symbol) [0x008985D4]\n\t(No symbol) [0x008AC9EB]\n\t(No symbol) [0x00898386]\n\t(No symbol) [0x0087163C]\n\t(No symbol) [0x0087269D]\n\tGetHandleVerifier [0x00C69A22+2655074]\n\tGetHandleVerifier [0x00C5CA24+2601828]\n\tGetHandleVerifier [0x00A78C0A+619850]\n\tGetHandleVerifier [0x00A77830+614768]\n\t(No symbol) [0x009605FC]\n\t(No symbol) [0x00965968]\n\t(No symbol) [0x00965A55]\n\t(No symbol) [0x0097051B]\n\tBaseThreadInitThunk [0x76C500F9+25]\n\tRtlGetAppContainerNamedObjectPath [0x77127BBE+286]\n\tRtlGetAppContainerNamedObjectPath [0x77127B8E+238]\n",
     "output_type": "error",
     "traceback": [
      "\u001b[1;31m-------------------------------------------------------------------------\u001b[0m",
      "\u001b[1;31mNoSuchElementException\u001b[0m                  Traceback (most recent call last)",
      "\u001b[1;32m~\\AppData\\Local\\Temp\\ipykernel_7320\\1164588236.py\u001b[0m in \u001b[0;36m<module>\u001b[1;34m\u001b[0m\n\u001b[0;32m      4\u001b[0m \u001b[0mtime\u001b[0m\u001b[1;33m.\u001b[0m\u001b[0msleep\u001b[0m\u001b[1;33m(\u001b[0m\u001b[1;36m2\u001b[0m\u001b[1;33m)\u001b[0m\u001b[1;33m\u001b[0m\u001b[1;33m\u001b[0m\u001b[0m\n\u001b[0;32m      5\u001b[0m \u001b[1;33m\u001b[0m\u001b[0m\n\u001b[1;32m----> 6\u001b[1;33m \u001b[0melement\u001b[0m \u001b[1;33m=\u001b[0m \u001b[0mdriver\u001b[0m\u001b[1;33m.\u001b[0m\u001b[0mfind_element\u001b[0m\u001b[1;33m(\u001b[0m\u001b[0mBy\u001b[0m\u001b[1;33m.\u001b[0m\u001b[0mCLASS_NAME\u001b[0m\u001b[1;33m,\u001b[0m \u001b[1;34m\"gLFyf\"\u001b[0m\u001b[1;33m)\u001b[0m\u001b[1;33m\u001b[0m\u001b[1;33m\u001b[0m\u001b[0m\n\u001b[0m\u001b[0;32m      7\u001b[0m \u001b[0melement\u001b[0m\u001b[1;33m.\u001b[0m\u001b[0mclick\u001b[0m\u001b[1;33m(\u001b[0m\u001b[1;33m)\u001b[0m\u001b[1;33m\u001b[0m\u001b[1;33m\u001b[0m\u001b[0m\n\u001b[0;32m      8\u001b[0m \u001b[0melement\u001b[0m\u001b[1;33m.\u001b[0m\u001b[0msend_keys\u001b[0m\u001b[1;33m(\u001b[0m\u001b[0mkeyword\u001b[0m\u001b[1;33m)\u001b[0m\u001b[1;33m\u001b[0m\u001b[1;33m\u001b[0m\u001b[0m\n",
      "\u001b[1;32m~\\anaconda3\\lib\\site-packages\\selenium\\webdriver\\remote\\webdriver.py\u001b[0m in \u001b[0;36mfind_element\u001b[1;34m(self, by, value)\u001b[0m\n\u001b[0;32m    859\u001b[0m             \u001b[0mvalue\u001b[0m \u001b[1;33m=\u001b[0m \u001b[1;34m'[name=\"%s\"]'\u001b[0m \u001b[1;33m%\u001b[0m \u001b[0mvalue\u001b[0m\u001b[1;33m\u001b[0m\u001b[1;33m\u001b[0m\u001b[0m\n\u001b[0;32m    860\u001b[0m \u001b[1;33m\u001b[0m\u001b[0m\n\u001b[1;32m--> 861\u001b[1;33m         \u001b[1;32mreturn\u001b[0m \u001b[0mself\u001b[0m\u001b[1;33m.\u001b[0m\u001b[0mexecute\u001b[0m\u001b[1;33m(\u001b[0m\u001b[0mCommand\u001b[0m\u001b[1;33m.\u001b[0m\u001b[0mFIND_ELEMENT\u001b[0m\u001b[1;33m,\u001b[0m \u001b[1;33m{\u001b[0m\u001b[1;34m\"using\"\u001b[0m\u001b[1;33m:\u001b[0m \u001b[0mby\u001b[0m\u001b[1;33m,\u001b[0m \u001b[1;34m\"value\"\u001b[0m\u001b[1;33m:\u001b[0m \u001b[0mvalue\u001b[0m\u001b[1;33m}\u001b[0m\u001b[1;33m)\u001b[0m\u001b[1;33m[\u001b[0m\u001b[1;34m\"value\"\u001b[0m\u001b[1;33m]\u001b[0m\u001b[1;33m\u001b[0m\u001b[1;33m\u001b[0m\u001b[0m\n\u001b[0m\u001b[0;32m    862\u001b[0m \u001b[1;33m\u001b[0m\u001b[0m\n\u001b[0;32m    863\u001b[0m     \u001b[1;32mdef\u001b[0m \u001b[0mfind_elements\u001b[0m\u001b[1;33m(\u001b[0m\u001b[0mself\u001b[0m\u001b[1;33m,\u001b[0m \u001b[0mby\u001b[0m\u001b[1;33m=\u001b[0m\u001b[0mBy\u001b[0m\u001b[1;33m.\u001b[0m\u001b[0mID\u001b[0m\u001b[1;33m,\u001b[0m \u001b[0mvalue\u001b[0m\u001b[1;33m:\u001b[0m \u001b[0mOptional\u001b[0m\u001b[1;33m[\u001b[0m\u001b[0mstr\u001b[0m\u001b[1;33m]\u001b[0m \u001b[1;33m=\u001b[0m \u001b[1;32mNone\u001b[0m\u001b[1;33m)\u001b[0m \u001b[1;33m->\u001b[0m \u001b[0mList\u001b[0m\u001b[1;33m[\u001b[0m\u001b[0mWebElement\u001b[0m\u001b[1;33m]\u001b[0m\u001b[1;33m:\u001b[0m\u001b[1;33m\u001b[0m\u001b[1;33m\u001b[0m\u001b[0m\n",
      "\u001b[1;32m~\\anaconda3\\lib\\site-packages\\selenium\\webdriver\\remote\\webdriver.py\u001b[0m in \u001b[0;36mexecute\u001b[1;34m(self, driver_command, params)\u001b[0m\n\u001b[0;32m    442\u001b[0m         \u001b[0mresponse\u001b[0m \u001b[1;33m=\u001b[0m \u001b[0mself\u001b[0m\u001b[1;33m.\u001b[0m\u001b[0mcommand_executor\u001b[0m\u001b[1;33m.\u001b[0m\u001b[0mexecute\u001b[0m\u001b[1;33m(\u001b[0m\u001b[0mdriver_command\u001b[0m\u001b[1;33m,\u001b[0m \u001b[0mparams\u001b[0m\u001b[1;33m)\u001b[0m\u001b[1;33m\u001b[0m\u001b[1;33m\u001b[0m\u001b[0m\n\u001b[0;32m    443\u001b[0m         \u001b[1;32mif\u001b[0m \u001b[0mresponse\u001b[0m\u001b[1;33m:\u001b[0m\u001b[1;33m\u001b[0m\u001b[1;33m\u001b[0m\u001b[0m\n\u001b[1;32m--> 444\u001b[1;33m             \u001b[0mself\u001b[0m\u001b[1;33m.\u001b[0m\u001b[0merror_handler\u001b[0m\u001b[1;33m.\u001b[0m\u001b[0mcheck_response\u001b[0m\u001b[1;33m(\u001b[0m\u001b[0mresponse\u001b[0m\u001b[1;33m)\u001b[0m\u001b[1;33m\u001b[0m\u001b[1;33m\u001b[0m\u001b[0m\n\u001b[0m\u001b[0;32m    445\u001b[0m             \u001b[0mresponse\u001b[0m\u001b[1;33m[\u001b[0m\u001b[1;34m\"value\"\u001b[0m\u001b[1;33m]\u001b[0m \u001b[1;33m=\u001b[0m \u001b[0mself\u001b[0m\u001b[1;33m.\u001b[0m\u001b[0m_unwrap_value\u001b[0m\u001b[1;33m(\u001b[0m\u001b[0mresponse\u001b[0m\u001b[1;33m.\u001b[0m\u001b[0mget\u001b[0m\u001b[1;33m(\u001b[0m\u001b[1;34m\"value\"\u001b[0m\u001b[1;33m,\u001b[0m \u001b[1;32mNone\u001b[0m\u001b[1;33m)\u001b[0m\u001b[1;33m)\u001b[0m\u001b[1;33m\u001b[0m\u001b[1;33m\u001b[0m\u001b[0m\n\u001b[0;32m    446\u001b[0m             \u001b[1;32mreturn\u001b[0m \u001b[0mresponse\u001b[0m\u001b[1;33m\u001b[0m\u001b[1;33m\u001b[0m\u001b[0m\n",
      "\u001b[1;32m~\\anaconda3\\lib\\site-packages\\selenium\\webdriver\\remote\\errorhandler.py\u001b[0m in \u001b[0;36mcheck_response\u001b[1;34m(self, response)\u001b[0m\n\u001b[0;32m    247\u001b[0m                 \u001b[0malert_text\u001b[0m \u001b[1;33m=\u001b[0m \u001b[0mvalue\u001b[0m\u001b[1;33m[\u001b[0m\u001b[1;34m\"alert\"\u001b[0m\u001b[1;33m]\u001b[0m\u001b[1;33m.\u001b[0m\u001b[0mget\u001b[0m\u001b[1;33m(\u001b[0m\u001b[1;34m\"text\"\u001b[0m\u001b[1;33m)\u001b[0m\u001b[1;33m\u001b[0m\u001b[1;33m\u001b[0m\u001b[0m\n\u001b[0;32m    248\u001b[0m             \u001b[1;32mraise\u001b[0m \u001b[0mexception_class\u001b[0m\u001b[1;33m(\u001b[0m\u001b[0mmessage\u001b[0m\u001b[1;33m,\u001b[0m \u001b[0mscreen\u001b[0m\u001b[1;33m,\u001b[0m \u001b[0mstacktrace\u001b[0m\u001b[1;33m,\u001b[0m \u001b[0malert_text\u001b[0m\u001b[1;33m)\u001b[0m  \u001b[1;31m# type: ignore[call-arg]  # mypy is not smart enough here\u001b[0m\u001b[1;33m\u001b[0m\u001b[1;33m\u001b[0m\u001b[0m\n\u001b[1;32m--> 249\u001b[1;33m         \u001b[1;32mraise\u001b[0m \u001b[0mexception_class\u001b[0m\u001b[1;33m(\u001b[0m\u001b[0mmessage\u001b[0m\u001b[1;33m,\u001b[0m \u001b[0mscreen\u001b[0m\u001b[1;33m,\u001b[0m \u001b[0mstacktrace\u001b[0m\u001b[1;33m)\u001b[0m\u001b[1;33m\u001b[0m\u001b[1;33m\u001b[0m\u001b[0m\n\u001b[0m",
      "\u001b[1;31mNoSuchElementException\u001b[0m: Message: no such element: Unable to locate element: {\"method\":\"css selector\",\"selector\":\".gLFyf\"}\n  (Session info: chrome=108.0.5359.126)\nStacktrace:\nBacktrace:\n\t(No symbol) [0x009CF243]\n\t(No symbol) [0x00957FD1]\n\t(No symbol) [0x0084D04D]\n\t(No symbol) [0x0087C0B0]\n\t(No symbol) [0x0087C22B]\n\t(No symbol) [0x008AE612]\n\t(No symbol) [0x008985D4]\n\t(No symbol) [0x008AC9EB]\n\t(No symbol) [0x00898386]\n\t(No symbol) [0x0087163C]\n\t(No symbol) [0x0087269D]\n\tGetHandleVerifier [0x00C69A22+2655074]\n\tGetHandleVerifier [0x00C5CA24+2601828]\n\tGetHandleVerifier [0x00A78C0A+619850]\n\tGetHandleVerifier [0x00A77830+614768]\n\t(No symbol) [0x009605FC]\n\t(No symbol) [0x00965968]\n\t(No symbol) [0x00965A55]\n\t(No symbol) [0x0097051B]\n\tBaseThreadInitThunk [0x76C500F9+25]\n\tRtlGetAppContainerNamedObjectPath [0x77127BBE+286]\n\tRtlGetAppContainerNamedObjectPath [0x77127B8E+238]\n"
     ]
    }
   ],
   "source": [
    "driverpath = \"chromedriver.exe\"\n",
    "driver = webdriver.Chrome(driverpath)\n",
    "driver.get(url)\n",
    "time.sleep(2)\n",
    "\n",
    "element = driver.find_element(By.CLASS_NAME, \"gLFyf\")\n",
    "element.click()\n",
    "element.send_keys(keyword)\n",
    "element.send_keys(Keys.ENTER)\n",
    "\n",
    "element = driver.find_element(By.XPATH, '/html/body/div[7]/div/div[4]/div/div[1]/div/div[1]/div/div[2]/a')\n",
    "element.click()"
   ]
  },
  {
   "cell_type": "markdown",
   "id": "aa39fe43",
   "metadata": {},
   "source": [
    "## 3.1 chrome브라우저 실행 및 검색어 입력_naver일때"
   ]
  },
  {
   "cell_type": "code",
   "execution_count": 77,
   "id": "6c30e05b",
   "metadata": {},
   "outputs": [
    {
     "name": "stderr",
     "output_type": "stream",
     "text": [
      "C:\\Users\\LG\\AppData\\Local\\Temp\\ipykernel_5268\\1814317623.py:2: DeprecationWarning: executable_path has been deprecated, please pass in a Service object\n",
      "  driver = webdriver.Chrome(driverpath)\n"
     ]
    }
   ],
   "source": [
    "driverpath = \"chromedriver.exe\"\n",
    "driver = webdriver.Chrome(driverpath)\n",
    "driver.get(url)\n",
    "time.sleep(2)\n",
    "\n",
    "element = driver.find_element(By.ID, \"query\")\n",
    "element.click()\n",
    "element.send_keys(keyword)\n",
    "element.send_keys(Keys.ENTER)\n",
    "\n",
    "element = driver.find_element(By.XPATH, '/html/body/div[3]/div[1]/div/div[2]/div[1]/div/ul/li[2]/a')\n",
    "element.click()"
   ]
  },
  {
   "cell_type": "markdown",
   "id": "f7e28651",
   "metadata": {},
   "source": [
    "## 4. 반복문을 활용하여 스크롤다운"
   ]
  },
  {
   "cell_type": "code",
   "execution_count": 78,
   "id": "fa4ded4c",
   "metadata": {},
   "outputs": [],
   "source": [
    "element = driver.find_element(By.TAG_NAME, \"body\")\n",
    "\n",
    "for i in range(70):\n",
    "    element.send_keys(Keys.PAGE_DOWN)\n",
    "    time.sleep(0.1)\n",
    "    \n",
    "# try:\n",
    "#     driver.find_element(By.CLASS_NAME, 'mye4qd').click()\n",
    "    \n",
    "#     for i in range(60):\n",
    "#         element.send_keys(Keys.PAGE_DOWN)\n",
    "#         time.sleep(0.1)\n",
    "        \n",
    "# except:\n",
    "#     pass"
   ]
  },
  {
   "cell_type": "markdown",
   "id": "c0af9016",
   "metadata": {},
   "source": [
    "## 이미지 개수"
   ]
  },
  {
   "cell_type": "code",
   "execution_count": 71,
   "id": "f704c04b",
   "metadata": {},
   "outputs": [
    {
     "name": "stdout",
     "output_type": "stream",
     "text": [
      "찾은 이미지 개수 : 0\n"
     ]
    }
   ],
   "source": [
    "## 구글\n",
    "links = []\n",
    "\n",
    "images = driver.find_elements(By.CLASS_NAME, 'rg_i.Q4LuWd')\n",
    "\n",
    "for image in images:\n",
    "    if image.get_attribute('src')!=None:\n",
    "        links.append(image.get_attribute('src'))\n",
    "        \n",
    "print(\"찾은 이미지 개수 :\", len(links))"
   ]
  },
  {
   "cell_type": "code",
   "execution_count": 79,
   "id": "395ecda4",
   "metadata": {},
   "outputs": [
    {
     "name": "stdout",
     "output_type": "stream",
     "text": [
      "찾은 이미지 개수 : 497\n"
     ]
    }
   ],
   "source": [
    "## 네이버\n",
    "links = []\n",
    "\n",
    "images = driver.find_elements(By.CLASS_NAME, '_image._listImage')\n",
    "\n",
    "\n",
    "for image in images:\n",
    "    if image.get_attribute('src')!=None:\n",
    "        links.append(image.get_attribute('src'))\n",
    "        \n",
    "print(\"찾은 이미지 개수 :\", len(links))"
   ]
  },
  {
   "cell_type": "code",
   "execution_count": null,
   "id": "07bb1402",
   "metadata": {},
   "outputs": [],
   "source": []
  },
  {
   "cell_type": "code",
   "execution_count": 38,
   "id": "f8e75525",
   "metadata": {},
   "outputs": [
    {
     "name": "stdout",
     "output_type": "stream",
     "text": [
      "1459\n"
     ]
    }
   ],
   "source": [
    "### 대한이의 노트 (해당키워드개수/ 최종개수)\n",
    "## 피자 구글\n",
    "# pizza high_definition 687 \n",
    "# pizza png 372 1059\n",
    "# pizza photo 400 1459\n",
    "## 피자 네이버 \n",
    "# 피자 사진 482 1941\n",
    "# 피자 고화질 500 2441\n",
    "# 하와이안 피자 사진 500 2941\n",
    "# 피자 알볼로 어깨 피자 497 3438\n",
    "\n",
    "## 스시 네이버\n",
    "# 초밥 사진 489\n",
    "# 초밥 고화질 450 939\n",
    "# 스시 고화질 500 1439 인데 하나더 지워버려서 1438\n",
    "# 스시 사진 496 1934\n",
    "# 연어 초밥 고화질 500 2434\n",
    "# 광어 초밥은 100개도 안나오고 이상한 사진도 나와서 제외\n",
    "\n",
    "## 떡볶이 네이버\n",
    "# 떡볶이 고화질 495\n",
    "# 떡볶이 사진 480 975\n",
    "# 떡볶이 이미지 487 1462\n",
    "# 로제떡볶이 고화질 500 1962\n",
    "# (국물 떡볶이 스크롤25번 250)\n",
    "# 떡볶이 482 2444\n",
    "\n",
    "## 돈까스 네이버\n",
    "# 돈까스 고화질 500\n",
    "# 돈까스 사진 499 999\n",
    "# 돈까스 482 1481\n",
    "# 왕돈까스 5001881\n",
    "\n",
    "## 파스타 네이버\n",
    "# 파스타 사진 495\n",
    "# 로제파스타 사진 500 995\n",
    "# 올리브파스타 사진 250 1245"
   ]
  },
  {
   "cell_type": "code",
   "execution_count": 80,
   "id": "2a10bfcc",
   "metadata": {},
   "outputs": [],
   "source": [
    "for i,k in enumerate(links):\n",
    "    url = k\n",
    "    i = i + 2941\n",
    "    urllib.request.urlretrieve(url, \"c:/han/google/train/pizza/\" +str(i)+\".jpg\")"
   ]
  },
  {
   "cell_type": "code",
   "execution_count": null,
   "id": "0830dc06",
   "metadata": {},
   "outputs": [],
   "source": []
  }
 ],
 "metadata": {
  "kernelspec": {
   "display_name": "Python 3 (ipykernel)",
   "language": "python",
   "name": "python3"
  },
  "language_info": {
   "codemirror_mode": {
    "name": "ipython",
    "version": 3
   },
   "file_extension": ".py",
   "mimetype": "text/x-python",
   "name": "python",
   "nbconvert_exporter": "python",
   "pygments_lexer": "ipython3",
   "version": "3.9.13"
  }
 },
 "nbformat": 4,
 "nbformat_minor": 5
}
