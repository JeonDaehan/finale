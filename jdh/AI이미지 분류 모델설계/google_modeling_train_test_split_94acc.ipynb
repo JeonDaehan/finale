{
  "nbformat": 4,
  "nbformat_minor": 0,
  "metadata": {
    "colab": {
      "provenance": []
    },
    "kernelspec": {
      "name": "python3",
      "display_name": "Python 3"
    },
    "language_info": {
      "name": "python"
    },
    "accelerator": "GPU",
    "gpuClass": "standard"
  },
  "cells": [
    {
      "cell_type": "code",
      "execution_count": 1,
      "metadata": {
        "id": "ZWoCCuFBNaST"
      },
      "outputs": [],
      "source": [
        "import numpy as np\n",
        "import pandas as pd\n",
        "import matplotlib.pyplot as plt\n",
        "\n",
        "import tensorflow as tf\n",
        "from tensorflow.keras.models import Sequential\n",
        "from tensorflow.keras.layers import Dense, Flatten, Input, concatenate, Dropout\n",
        "from tensorflow.keras.layers import Conv2D, MaxPool2D, GlobalAveragePooling2D\n",
        "from tensorflow.keras.optimizers import SGD, Adam, RMSprop\n",
        "from tensorflow.keras.utils import to_categorical\n",
        "\n",
        "from sklearn.model_selection import train_test_split\n",
        "from sklearn.preprocessing import MinMaxScaler\n",
        "from tensorflow.keras.callbacks import ModelCheckpoint, EarlyStopping\n",
        "\n",
        "from datetime import datetime\n",
        "import os\n",
        "import glob\n",
        "import shutil\n",
        "import random\n",
        "import cv2\n",
        "from google.colab import drive\n",
        "import zipfile\n",
        "\n",
        "from tensorflow.keras.applications import Xception, ResNet50, InceptionV3, MobileNet"
      ]
    },
    {
      "cell_type": "code",
      "source": [
        "# 구글 드라이브와 연동하기\n",
        "drive.mount(\"/content/gdrive/\")"
      ],
      "metadata": {
        "colab": {
          "base_uri": "https://localhost:8080/"
        },
        "id": "-WPrTLQ3Ngwa",
        "outputId": "16ab894f-ec6b-494e-b9c5-be1f26f6d341"
      },
      "execution_count": 2,
      "outputs": [
        {
          "output_type": "stream",
          "name": "stdout",
          "text": [
            "Mounted at /content/gdrive/\n"
          ]
        }
      ]
    },
    {
      "cell_type": "code",
      "source": [
        "dataset_path = \"/content/gdrive/MyDrive/colab_modeling\"\n",
        "DATA_ROOT_DIR = os.path.join(\"/content\", \"food\")\n",
        "TRAIN_DATA_ROOT_DIR = os.path.join(DATA_ROOT_DIR, \"train\") # train이라는 폴더를 만들어 주겠다.\n",
        "TEST_DATA_ROOT_DIR = os.path.join(DATA_ROOT_DIR, \"test\")"
      ],
      "metadata": {
        "id": "SjvpNSYTNhlC"
      },
      "execution_count": 3,
      "outputs": []
    },
    {
      "cell_type": "code",
      "source": [
        "TRAIN_DATA_ROOT_DIR"
      ],
      "metadata": {
        "colab": {
          "base_uri": "https://localhost:8080/",
          "height": 36
        },
        "id": "VQljY3uld5Z3",
        "outputId": "04d58361-4ddc-4763-8ecf-3b4df9217c80"
      },
      "execution_count": 21,
      "outputs": [
        {
          "output_type": "execute_result",
          "data": {
            "text/plain": [
              "'/content/food/train'"
            ],
            "application/vnd.google.colaboratory.intrinsic+json": {
              "type": "string"
            }
          },
          "metadata": {},
          "execution_count": 21
        }
      ]
    },
    {
      "cell_type": "code",
      "source": [
        "# 압축 풀어주기 (풀면 파일이 만들어짐)\n",
        "with zipfile.ZipFile(os.path.join(dataset_path, \"food.zip\"), \"r\") as target_file:\n",
        "  target_file.extractall(TRAIN_DATA_ROOT_DIR)\n",
        "    "
      ],
      "metadata": {
        "id": "ylTctN_QNhnq"
      },
      "execution_count": 4,
      "outputs": []
    },
    {
      "cell_type": "code",
      "source": [
        "label_name_list = os.listdir(TRAIN_DATA_ROOT_DIR)\n",
        "label_name_list"
      ],
      "metadata": {
        "colab": {
          "base_uri": "https://localhost:8080/"
        },
        "id": "qugDG_ZSNhrY",
        "outputId": "d1e04486-b9e5-4fbe-f10e-550a0a9ed565"
      },
      "execution_count": 5,
      "outputs": [
        {
          "output_type": "execute_result",
          "data": {
            "text/plain": [
              "['sushi', 'pasta', 'porkcutlet', 'chicken', 'burger', 'pizza', 'tteokbokki']"
            ]
          },
          "metadata": {},
          "execution_count": 5
        }
      ]
    },
    {
      "cell_type": "code",
      "source": [
        "# 실제 이미지를 메모리에 올려놓자\n",
        "\n",
        "train_data_list = []\n",
        "train_label_list = []\n",
        "\n",
        "\n",
        "class_dict = {\"sushi\" : 0, \"pasta\" : 1, \"porkcutlet\" : 2, \"chicken\" : 3, \"burger\" : 4, \"pizza\" : 5, \"tteokbokki\" : 6}\n",
        "\n",
        "\n",
        "start_time = datetime.now()\n",
        "for label_name in label_name_list:\n",
        "  # file_path = os.path.join(TRAIN_DATA_ROOT_DIR, label_name)\n",
        "  file_path = TRAIN_DATA_ROOT_DIR + \"/\" + label_name\n",
        "  img_file_list = glob.glob(file_path + \"/*.*\")\n",
        "\n",
        "\n",
        "# 이미지, 색, 순서(bgr->rgb)\n",
        "  for img in img_file_list:\n",
        "    src_img = cv2.imread(img,cv2.IMREAD_COLOR)\n",
        "    src_img = cv2.resize(src_img, dsize=(128,128))\n",
        "    src_img = cv2.cvtColor(src_img, cv2.COLOR_BGR2RGB)\n",
        "\n",
        "    train_data_list.append(src_img)\n",
        "    train_label_list.append(class_dict[label_name])\n",
        "end_time = datetime.now()\n",
        "print(\"Elapsed Time : \", end_time - start_time)"
      ],
      "metadata": {
        "colab": {
          "base_uri": "https://localhost:8080/"
        },
        "id": "Dwylm7RFNhwI",
        "outputId": "cdedf7c6-6eda-46d1-eb39-dcaa38122003"
      },
      "execution_count": 6,
      "outputs": [
        {
          "output_type": "stream",
          "name": "stdout",
          "text": [
            "Elapsed Time :  0:00:50.341961\n"
          ]
        }
      ]
    },
    {
      "cell_type": "code",
      "source": [
        "X_train, X_test, y_train, y_test = train_test_split(train_data_list, train_label_list,test_size=0.2, random_state=123, stratify= train_label_list, shuffle=True, )"
      ],
      "metadata": {
        "id": "ktqo8oDONh0M"
      },
      "execution_count": 7,
      "outputs": []
    },
    {
      "cell_type": "code",
      "source": [
        "X_train = np.array(X_train).astype(\"float32\")\n",
        "y_train = np.array(y_train).astype(\"float32\")\n",
        "\n",
        "X_test = np.array(X_test).astype(\"float32\")\n",
        "y_test = np.array(y_test).astype(\"float32\")"
      ],
      "metadata": {
        "id": "pteYmWEfNh3U"
      },
      "execution_count": 8,
      "outputs": []
    },
    {
      "cell_type": "code",
      "source": [
        "X_train = X_train / 255.0\n",
        "X_test = X_test / 255.0"
      ],
      "metadata": {
        "id": "qZKws_TKNh6e"
      },
      "execution_count": 9,
      "outputs": []
    },
    {
      "cell_type": "code",
      "source": [],
      "metadata": {
        "id": "Ygp7hEUJdpXj"
      },
      "execution_count": 23,
      "outputs": []
    },
    {
      "cell_type": "code",
      "source": [
        "base_model = MobileNet(weights=\"imagenet\", include_top=False, input_shape=(128,128,3))\n",
        "\n",
        "model = Sequential()\n",
        "model.add(base_model)\n",
        "\n",
        "# model.add(Flatten())\n",
        "\n",
        "model.add(GlobalAveragePooling2D())\n",
        "model.add(Dense(64, activation='relu')) #은닉층\n",
        "\n",
        "model.add(Dense(7, activation = 'softmax'))\n",
        "model.compile(loss='sparse_categorical_crossentropy', optimizer=Adam(learning_rate=0.00001), metrics=[\"accuracy\"])\n",
        "base_model.summary()"
      ],
      "metadata": {
        "colab": {
          "base_uri": "https://localhost:8080/"
        },
        "id": "hNv_U0CxNh-t",
        "outputId": "562ed527-58d7-48dd-eb20-a4e12db21965"
      },
      "execution_count": 10,
      "outputs": [
        {
          "output_type": "stream",
          "name": "stdout",
          "text": [
            "Downloading data from https://storage.googleapis.com/tensorflow/keras-applications/mobilenet/mobilenet_1_0_128_tf_no_top.h5\n",
            "17225924/17225924 [==============================] - 0s 0us/step\n",
            "Model: \"mobilenet_1.00_128\"\n",
            "_________________________________________________________________\n",
            " Layer (type)                Output Shape              Param #   \n",
            "=================================================================\n",
            " input_1 (InputLayer)        [(None, 128, 128, 3)]     0         \n",
            "                                                                 \n",
            " conv1 (Conv2D)              (None, 64, 64, 32)        864       \n",
            "                                                                 \n",
            " conv1_bn (BatchNormalizatio  (None, 64, 64, 32)       128       \n",
            " n)                                                              \n",
            "                                                                 \n",
            " conv1_relu (ReLU)           (None, 64, 64, 32)        0         \n",
            "                                                                 \n",
            " conv_dw_1 (DepthwiseConv2D)  (None, 64, 64, 32)       288       \n",
            "                                                                 \n",
            " conv_dw_1_bn (BatchNormaliz  (None, 64, 64, 32)       128       \n",
            " ation)                                                          \n",
            "                                                                 \n",
            " conv_dw_1_relu (ReLU)       (None, 64, 64, 32)        0         \n",
            "                                                                 \n",
            " conv_pw_1 (Conv2D)          (None, 64, 64, 64)        2048      \n",
            "                                                                 \n",
            " conv_pw_1_bn (BatchNormaliz  (None, 64, 64, 64)       256       \n",
            " ation)                                                          \n",
            "                                                                 \n",
            " conv_pw_1_relu (ReLU)       (None, 64, 64, 64)        0         \n",
            "                                                                 \n",
            " conv_pad_2 (ZeroPadding2D)  (None, 65, 65, 64)        0         \n",
            "                                                                 \n",
            " conv_dw_2 (DepthwiseConv2D)  (None, 32, 32, 64)       576       \n",
            "                                                                 \n",
            " conv_dw_2_bn (BatchNormaliz  (None, 32, 32, 64)       256       \n",
            " ation)                                                          \n",
            "                                                                 \n",
            " conv_dw_2_relu (ReLU)       (None, 32, 32, 64)        0         \n",
            "                                                                 \n",
            " conv_pw_2 (Conv2D)          (None, 32, 32, 128)       8192      \n",
            "                                                                 \n",
            " conv_pw_2_bn (BatchNormaliz  (None, 32, 32, 128)      512       \n",
            " ation)                                                          \n",
            "                                                                 \n",
            " conv_pw_2_relu (ReLU)       (None, 32, 32, 128)       0         \n",
            "                                                                 \n",
            " conv_dw_3 (DepthwiseConv2D)  (None, 32, 32, 128)      1152      \n",
            "                                                                 \n",
            " conv_dw_3_bn (BatchNormaliz  (None, 32, 32, 128)      512       \n",
            " ation)                                                          \n",
            "                                                                 \n",
            " conv_dw_3_relu (ReLU)       (None, 32, 32, 128)       0         \n",
            "                                                                 \n",
            " conv_pw_3 (Conv2D)          (None, 32, 32, 128)       16384     \n",
            "                                                                 \n",
            " conv_pw_3_bn (BatchNormaliz  (None, 32, 32, 128)      512       \n",
            " ation)                                                          \n",
            "                                                                 \n",
            " conv_pw_3_relu (ReLU)       (None, 32, 32, 128)       0         \n",
            "                                                                 \n",
            " conv_pad_4 (ZeroPadding2D)  (None, 33, 33, 128)       0         \n",
            "                                                                 \n",
            " conv_dw_4 (DepthwiseConv2D)  (None, 16, 16, 128)      1152      \n",
            "                                                                 \n",
            " conv_dw_4_bn (BatchNormaliz  (None, 16, 16, 128)      512       \n",
            " ation)                                                          \n",
            "                                                                 \n",
            " conv_dw_4_relu (ReLU)       (None, 16, 16, 128)       0         \n",
            "                                                                 \n",
            " conv_pw_4 (Conv2D)          (None, 16, 16, 256)       32768     \n",
            "                                                                 \n",
            " conv_pw_4_bn (BatchNormaliz  (None, 16, 16, 256)      1024      \n",
            " ation)                                                          \n",
            "                                                                 \n",
            " conv_pw_4_relu (ReLU)       (None, 16, 16, 256)       0         \n",
            "                                                                 \n",
            " conv_dw_5 (DepthwiseConv2D)  (None, 16, 16, 256)      2304      \n",
            "                                                                 \n",
            " conv_dw_5_bn (BatchNormaliz  (None, 16, 16, 256)      1024      \n",
            " ation)                                                          \n",
            "                                                                 \n",
            " conv_dw_5_relu (ReLU)       (None, 16, 16, 256)       0         \n",
            "                                                                 \n",
            " conv_pw_5 (Conv2D)          (None, 16, 16, 256)       65536     \n",
            "                                                                 \n",
            " conv_pw_5_bn (BatchNormaliz  (None, 16, 16, 256)      1024      \n",
            " ation)                                                          \n",
            "                                                                 \n",
            " conv_pw_5_relu (ReLU)       (None, 16, 16, 256)       0         \n",
            "                                                                 \n",
            " conv_pad_6 (ZeroPadding2D)  (None, 17, 17, 256)       0         \n",
            "                                                                 \n",
            " conv_dw_6 (DepthwiseConv2D)  (None, 8, 8, 256)        2304      \n",
            "                                                                 \n",
            " conv_dw_6_bn (BatchNormaliz  (None, 8, 8, 256)        1024      \n",
            " ation)                                                          \n",
            "                                                                 \n",
            " conv_dw_6_relu (ReLU)       (None, 8, 8, 256)         0         \n",
            "                                                                 \n",
            " conv_pw_6 (Conv2D)          (None, 8, 8, 512)         131072    \n",
            "                                                                 \n",
            " conv_pw_6_bn (BatchNormaliz  (None, 8, 8, 512)        2048      \n",
            " ation)                                                          \n",
            "                                                                 \n",
            " conv_pw_6_relu (ReLU)       (None, 8, 8, 512)         0         \n",
            "                                                                 \n",
            " conv_dw_7 (DepthwiseConv2D)  (None, 8, 8, 512)        4608      \n",
            "                                                                 \n",
            " conv_dw_7_bn (BatchNormaliz  (None, 8, 8, 512)        2048      \n",
            " ation)                                                          \n",
            "                                                                 \n",
            " conv_dw_7_relu (ReLU)       (None, 8, 8, 512)         0         \n",
            "                                                                 \n",
            " conv_pw_7 (Conv2D)          (None, 8, 8, 512)         262144    \n",
            "                                                                 \n",
            " conv_pw_7_bn (BatchNormaliz  (None, 8, 8, 512)        2048      \n",
            " ation)                                                          \n",
            "                                                                 \n",
            " conv_pw_7_relu (ReLU)       (None, 8, 8, 512)         0         \n",
            "                                                                 \n",
            " conv_dw_8 (DepthwiseConv2D)  (None, 8, 8, 512)        4608      \n",
            "                                                                 \n",
            " conv_dw_8_bn (BatchNormaliz  (None, 8, 8, 512)        2048      \n",
            " ation)                                                          \n",
            "                                                                 \n",
            " conv_dw_8_relu (ReLU)       (None, 8, 8, 512)         0         \n",
            "                                                                 \n",
            " conv_pw_8 (Conv2D)          (None, 8, 8, 512)         262144    \n",
            "                                                                 \n",
            " conv_pw_8_bn (BatchNormaliz  (None, 8, 8, 512)        2048      \n",
            " ation)                                                          \n",
            "                                                                 \n",
            " conv_pw_8_relu (ReLU)       (None, 8, 8, 512)         0         \n",
            "                                                                 \n",
            " conv_dw_9 (DepthwiseConv2D)  (None, 8, 8, 512)        4608      \n",
            "                                                                 \n",
            " conv_dw_9_bn (BatchNormaliz  (None, 8, 8, 512)        2048      \n",
            " ation)                                                          \n",
            "                                                                 \n",
            " conv_dw_9_relu (ReLU)       (None, 8, 8, 512)         0         \n",
            "                                                                 \n",
            " conv_pw_9 (Conv2D)          (None, 8, 8, 512)         262144    \n",
            "                                                                 \n",
            " conv_pw_9_bn (BatchNormaliz  (None, 8, 8, 512)        2048      \n",
            " ation)                                                          \n",
            "                                                                 \n",
            " conv_pw_9_relu (ReLU)       (None, 8, 8, 512)         0         \n",
            "                                                                 \n",
            " conv_dw_10 (DepthwiseConv2D  (None, 8, 8, 512)        4608      \n",
            " )                                                               \n",
            "                                                                 \n",
            " conv_dw_10_bn (BatchNormali  (None, 8, 8, 512)        2048      \n",
            " zation)                                                         \n",
            "                                                                 \n",
            " conv_dw_10_relu (ReLU)      (None, 8, 8, 512)         0         \n",
            "                                                                 \n",
            " conv_pw_10 (Conv2D)         (None, 8, 8, 512)         262144    \n",
            "                                                                 \n",
            " conv_pw_10_bn (BatchNormali  (None, 8, 8, 512)        2048      \n",
            " zation)                                                         \n",
            "                                                                 \n",
            " conv_pw_10_relu (ReLU)      (None, 8, 8, 512)         0         \n",
            "                                                                 \n",
            " conv_dw_11 (DepthwiseConv2D  (None, 8, 8, 512)        4608      \n",
            " )                                                               \n",
            "                                                                 \n",
            " conv_dw_11_bn (BatchNormali  (None, 8, 8, 512)        2048      \n",
            " zation)                                                         \n",
            "                                                                 \n",
            " conv_dw_11_relu (ReLU)      (None, 8, 8, 512)         0         \n",
            "                                                                 \n",
            " conv_pw_11 (Conv2D)         (None, 8, 8, 512)         262144    \n",
            "                                                                 \n",
            " conv_pw_11_bn (BatchNormali  (None, 8, 8, 512)        2048      \n",
            " zation)                                                         \n",
            "                                                                 \n",
            " conv_pw_11_relu (ReLU)      (None, 8, 8, 512)         0         \n",
            "                                                                 \n",
            " conv_pad_12 (ZeroPadding2D)  (None, 9, 9, 512)        0         \n",
            "                                                                 \n",
            " conv_dw_12 (DepthwiseConv2D  (None, 4, 4, 512)        4608      \n",
            " )                                                               \n",
            "                                                                 \n",
            " conv_dw_12_bn (BatchNormali  (None, 4, 4, 512)        2048      \n",
            " zation)                                                         \n",
            "                                                                 \n",
            " conv_dw_12_relu (ReLU)      (None, 4, 4, 512)         0         \n",
            "                                                                 \n",
            " conv_pw_12 (Conv2D)         (None, 4, 4, 1024)        524288    \n",
            "                                                                 \n",
            " conv_pw_12_bn (BatchNormali  (None, 4, 4, 1024)       4096      \n",
            " zation)                                                         \n",
            "                                                                 \n",
            " conv_pw_12_relu (ReLU)      (None, 4, 4, 1024)        0         \n",
            "                                                                 \n",
            " conv_dw_13 (DepthwiseConv2D  (None, 4, 4, 1024)       9216      \n",
            " )                                                               \n",
            "                                                                 \n",
            " conv_dw_13_bn (BatchNormali  (None, 4, 4, 1024)       4096      \n",
            " zation)                                                         \n",
            "                                                                 \n",
            " conv_dw_13_relu (ReLU)      (None, 4, 4, 1024)        0         \n",
            "                                                                 \n",
            " conv_pw_13 (Conv2D)         (None, 4, 4, 1024)        1048576   \n",
            "                                                                 \n",
            " conv_pw_13_bn (BatchNormali  (None, 4, 4, 1024)       4096      \n",
            " zation)                                                         \n",
            "                                                                 \n",
            " conv_pw_13_relu (ReLU)      (None, 4, 4, 1024)        0         \n",
            "                                                                 \n",
            "=================================================================\n",
            "Total params: 3,228,864\n",
            "Trainable params: 3,206,976\n",
            "Non-trainable params: 21,888\n",
            "_________________________________________________________________\n"
          ]
        }
      ]
    },
    {
      "cell_type": "code",
      "source": [
        "from tensorflow.keras.callbacks import EarlyStopping, ModelCheckpoint\n",
        "earlystopping = EarlyStopping(monitor='val_loss', patience=10, verbose=1)\n",
        "\n",
        "save_file_name = \"/content/food/food_model_Colab.h5\"\n",
        "\n",
        "checkpoint = ModelCheckpoint(save_file_name, monitor=\"val_loss\",verbose=1,\n",
        "                            save_best_only=True, mode=\"auto\")\n",
        "\n",
        "result = model.fit(X_train, y_train, epochs=20, validation_split=0.2, callbacks=[earlystopping])\n",
        "\n",
        "\n",
        "#### 결과 작성\n",
        "### imagenet, dd 128, adam0.00001, 다중분류\n",
        "## loss: 0.0066 - accuracy: 0.9994 - val_loss: 0.2899 - val_accuracy: 0.9223"
      ],
      "metadata": {
        "colab": {
          "base_uri": "https://localhost:8080/"
        },
        "id": "jU3Q0ZY1NiBh",
        "outputId": "53d6ed02-a02c-4708-e4af-3f26e1fabd25"
      },
      "execution_count": 11,
      "outputs": [
        {
          "output_type": "stream",
          "name": "stdout",
          "text": [
            "Epoch 1/20\n",
            "435/435 [==============================] - 42s 68ms/step - loss: 1.1108 - accuracy: 0.6198 - val_loss: 0.5384 - val_accuracy: 0.8342\n",
            "Epoch 2/20\n",
            "435/435 [==============================] - 28s 64ms/step - loss: 0.4544 - accuracy: 0.8594 - val_loss: 0.3516 - val_accuracy: 0.8888\n",
            "Epoch 3/20\n",
            "435/435 [==============================] - 28s 65ms/step - loss: 0.3170 - accuracy: 0.9019 - val_loss: 0.2840 - val_accuracy: 0.9106\n",
            "Epoch 4/20\n",
            "435/435 [==============================] - 29s 66ms/step - loss: 0.2459 - accuracy: 0.9243 - val_loss: 0.2503 - val_accuracy: 0.9221\n",
            "Epoch 5/20\n",
            "435/435 [==============================] - 29s 66ms/step - loss: 0.1937 - accuracy: 0.9411 - val_loss: 0.2287 - val_accuracy: 0.9264\n",
            "Epoch 6/20\n",
            "435/435 [==============================] - 29s 66ms/step - loss: 0.1552 - accuracy: 0.9544 - val_loss: 0.2146 - val_accuracy: 0.9296\n",
            "Epoch 7/20\n",
            "435/435 [==============================] - 29s 66ms/step - loss: 0.1295 - accuracy: 0.9630 - val_loss: 0.2058 - val_accuracy: 0.9333\n",
            "Epoch 8/20\n",
            "435/435 [==============================] - 29s 66ms/step - loss: 0.1071 - accuracy: 0.9690 - val_loss: 0.1987 - val_accuracy: 0.9376\n",
            "Epoch 9/20\n",
            "435/435 [==============================] - 29s 66ms/step - loss: 0.0874 - accuracy: 0.9784 - val_loss: 0.1939 - val_accuracy: 0.9371\n",
            "Epoch 10/20\n",
            "435/435 [==============================] - 29s 66ms/step - loss: 0.0707 - accuracy: 0.9833 - val_loss: 0.1916 - val_accuracy: 0.9414\n",
            "Epoch 11/20\n",
            "435/435 [==============================] - 30s 69ms/step - loss: 0.0578 - accuracy: 0.9884 - val_loss: 0.1876 - val_accuracy: 0.9422\n",
            "Epoch 12/20\n",
            "435/435 [==============================] - 29s 66ms/step - loss: 0.0470 - accuracy: 0.9910 - val_loss: 0.1877 - val_accuracy: 0.9402\n",
            "Epoch 13/20\n",
            "435/435 [==============================] - 29s 66ms/step - loss: 0.0385 - accuracy: 0.9929 - val_loss: 0.1849 - val_accuracy: 0.9417\n",
            "Epoch 14/20\n",
            "435/435 [==============================] - 29s 66ms/step - loss: 0.0362 - accuracy: 0.9930 - val_loss: 0.1830 - val_accuracy: 0.9440\n",
            "Epoch 15/20\n",
            "435/435 [==============================] - 29s 66ms/step - loss: 0.0287 - accuracy: 0.9961 - val_loss: 0.1855 - val_accuracy: 0.9420\n",
            "Epoch 16/20\n",
            "435/435 [==============================] - 29s 66ms/step - loss: 0.0262 - accuracy: 0.9957 - val_loss: 0.1827 - val_accuracy: 0.9440\n",
            "Epoch 17/20\n",
            "435/435 [==============================] - 29s 66ms/step - loss: 0.0212 - accuracy: 0.9968 - val_loss: 0.1841 - val_accuracy: 0.9448\n",
            "Epoch 18/20\n",
            "435/435 [==============================] - 29s 66ms/step - loss: 0.0173 - accuracy: 0.9980 - val_loss: 0.1818 - val_accuracy: 0.9468\n",
            "Epoch 19/20\n",
            "435/435 [==============================] - 29s 66ms/step - loss: 0.0154 - accuracy: 0.9978 - val_loss: 0.1840 - val_accuracy: 0.9460\n",
            "Epoch 20/20\n",
            "435/435 [==============================] - 29s 66ms/step - loss: 0.0146 - accuracy: 0.9981 - val_loss: 0.1878 - val_accuracy: 0.9454\n"
          ]
        }
      ]
    },
    {
      "cell_type": "code",
      "source": [
        "import matplotlib.pyplot as plt\n",
        "\n",
        "plt.plot(result.history['accuracy'], label='train')\n",
        "plt.plot(result.history['val_accuracy'], label='validation')\n",
        "plt.title('Accuracy Trend')\n",
        "plt.ylabel('accuracy')\n",
        "plt.xlabel('epoch')\n",
        "plt.legend(loc='best')\n",
        "plt.grid()\n",
        "plt.show()"
      ],
      "metadata": {
        "colab": {
          "base_uri": "https://localhost:8080/",
          "height": 295
        },
        "id": "iieKQIXVZ58x",
        "outputId": "49e3e30e-646f-49db-8fe6-3bdd9dfea494"
      },
      "execution_count": 18,
      "outputs": [
        {
          "output_type": "display_data",
          "data": {
            "text/plain": [
              "<Figure size 432x288 with 1 Axes>"
            ],
            "image/png": "[encoded data removed]"
          },
          "metadata": {
            "needs_background": "light"
          }
        }
      ]
    },
    {
      "cell_type": "code",
      "source": [
        "plt.plot(result.history['loss'], label='train')\n",
        "plt.plot(result.history['val_loss'], label='validation')\n",
        "plt.title('Loss Trend')\n",
        "plt.ylabel('loss')\n",
        "plt.xlabel('epoch')\n",
        "plt.legend(loc='best')\n",
        "plt.grid()\n",
        "plt.show()"
      ],
      "metadata": {
        "colab": {
          "base_uri": "https://localhost:8080/",
          "height": 295
        },
        "id": "ZXbZQkmBaL6f",
        "outputId": "4bf8bec8-461d-42ef-818f-5e912ebc1daa"
      },
      "execution_count": 19,
      "outputs": [
        {
          "output_type": "display_data",
          "data": {
            "text/plain": [
              "<Figure size 432x288 with 1 Axes>"
            ],
            "image/png": "[encoded data removed]"
          },
          "metadata": {
            "needs_background": "light"
          }
        }
      ]
    },
    {
      "cell_type": "code",
      "source": [
        "model.evaluate(X_test, y_test)\n",
        "\n",
        "### imagenet, dd 128, adam0.00001, 다중분류\n",
        "## [0.15950730443000793, 0.9475555419921875]"
      ],
      "metadata": {
        "colab": {
          "base_uri": "https://localhost:8080/"
        },
        "id": "iNkk1s5-NiDy",
        "outputId": "d127d657-8fac-4854-c62d-f62e27ca1aa1"
      },
      "execution_count": 12,
      "outputs": [
        {
          "output_type": "stream",
          "name": "stdout",
          "text": [
            "136/136 [==============================] - 3s 18ms/step - loss: 0.2148 - accuracy: 0.9370\n"
          ]
        },
        {
          "output_type": "execute_result",
          "data": {
            "text/plain": [
              "[0.2147550880908966, 0.9369969964027405]"
            ]
          },
          "metadata": {},
          "execution_count": 12
        }
      ]
    },
    {
      "cell_type": "code",
      "source": [
        "test_img2 = cv2.imread(\"/content/gdrive/MyDrive/colab_modeling/test/3.jpg\", cv2.IMREAD_COLOR)\n",
        "test_img2 = cv2.resize(test_img2, dsize=(128,128))\n",
        "test_img2 = cv2.cvtColor(test_img2, cv2.COLOR_BGR2RGB)\n",
        "\n",
        "pred2 = model.predict(test_img2.reshape(-1, 128,128,3))\n",
        "score2=tf.nn.softmax(pred2)\n",
        "\n",
        "print(\"{:.2f}percnet confidence.\".format( 100*np.max(score2)))\n",
        "print(score2)"
      ],
      "metadata": {
        "colab": {
          "base_uri": "https://localhost:8080/"
        },
        "id": "9759Afl-NiHe",
        "outputId": "34a33575-b0ce-4363-9ef2-34757a9ccc9b"
      },
      "execution_count": 16,
      "outputs": [
        {
          "output_type": "stream",
          "name": "stdout",
          "text": [
            "1/1 [==============================] - 0s 22ms/step\n",
            "26.59percnet confidence.\n",
            "tf.Tensor(\n",
            "[[0.11830278 0.11843404 0.1207592  0.13987416 0.11838443 0.2659429\n",
            "  0.11830251]], shape=(1, 7), dtype=float32)\n"
          ]
        }
      ]
    },
    {
      "cell_type": "code",
      "source": [],
      "metadata": {
        "id": "EKxdZdLAXYAa"
      },
      "execution_count": null,
      "outputs": []
    }
  ]
}