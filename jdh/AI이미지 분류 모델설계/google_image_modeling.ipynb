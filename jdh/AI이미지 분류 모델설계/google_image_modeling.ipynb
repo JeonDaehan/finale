{
 "cells": [
  {
   "cell_type": "code",
   "execution_count": 1,
   "id": "0b1b71c3",
   "metadata": {},
   "outputs": [],
   "source": [
    "import numpy as np\n",
    "import pandas as pd\n",
    "import matplotlib.pyplot as plt\n",
    "\n",
    "import tensorflow as tf\n",
    "from tensorflow.keras.models import Sequential\n",
    "from tensorflow.keras.layers import Dense, Flatten, Input, concatenate, Dropout\n",
    "from tensorflow.keras.layers import Conv2D, MaxPool2D\n",
    "from tensorflow.keras.optimizers import SGD, Adam, RMSprop\n",
    "from tensorflow.keras.utils import to_categorical\n",
    "\n",
    "from datetime import datetime\n",
    "import os\n",
    "import glob\n",
    "import shutil\n",
    "import random\n",
    "import cv2\n",
    "# from google.colab import drive\n",
    "import zipfile"
   ]
  },
  {
   "cell_type": "code",
   "execution_count": 2,
   "id": "d325e8f2",
   "metadata": {},
   "outputs": [],
   "source": [
    "# # 관리할 폴더 미리 지정해주기(만들어주는게 아님)\n",
    "\n",
    "# DATA_ROOT_DIR = os.path.join(\"c:/han/food_file\", \"food\")\n",
    "# food_file_list = \"C:\\\\han\\\\food_file\\\\food/train\"\n",
    "# label_name_list = os.listdir(food_file_list)\n",
    "# TRAIN_DATA_ROOT_DIR = os.path.join(DATA_ROOT_DIR, \"train\") # train이라는 폴더를 만들어 주겠다.\n",
    "# TEST_DATA_ROOT_DIR = os.path.join(DATA_ROOT_DIR, \"test\")\n",
    "# # label_name_list = 폴더이름이자 정답이름\n",
    "\n",
    "\n",
    "# 이미지 저장할 폴더 준비\n",
    "\n",
    "\n",
    "DATA_ROOT_DIR = \"c:/han/food_file/food/train\"\n",
    "label_name_list = os.listdir(DATA_ROOT_DIR)\n",
    "\n",
    "# label_name_list = 폴더이름이자 정답이름"
   ]
  },
  {
   "cell_type": "code",
   "execution_count": 23,
   "id": "5f06b1b7",
   "metadata": {},
   "outputs": [],
   "source": [
    "# # 압축 풀어주기 (풀면 파일이 만들어짐)\n",
    "# with zipfile.ZipFile(os.path.join(\"c:/han/food_file\", \"food.zip\"), \"r\") as target_file:\n",
    "#     target_file.extractall(DATA_ROOT_DIR)  \n",
    "\n",
    "\n",
    "\n",
    "# 압축 풀어놓기\n",
    "with zipfile.ZipFile(\"c:/han/food_file/food.zip\", \"r\") as target_file:\n",
    "    target_file.extractall(\"c:/han/food_file/food/train/\")"
   ]
  },
  {
   "cell_type": "code",
   "execution_count": 3,
   "id": "651b5bee",
   "metadata": {},
   "outputs": [
    {
     "data": {
      "text/plain": [
       "['Burger', 'chicken', 'croffle', 'pasta', 'Pizza', 'pork cutlet', 'tteokbokki']"
      ]
     },
     "execution_count": 3,
     "metadata": {},
     "output_type": "execute_result"
    }
   ],
   "source": [
    "label_name_list"
   ]
  },
  {
   "cell_type": "code",
   "execution_count": 9,
   "id": "e66ad7e7",
   "metadata": {},
   "outputs": [
    {
     "data": {
      "text/plain": [
       "'c:/han/food_file\\\\food\\\\train'"
      ]
     },
     "execution_count": 9,
     "metadata": {},
     "output_type": "execute_result"
    }
   ],
   "source": [
    "# 풀어놓은 전체 데이터를 TRAIN파일에 옮겨주자\n",
    "\n",
    "shutil.copytree(DATA_ROOT_DIR, TRAIN_DATA_ROOT_DIR) # COPYTREE는 기존에 똑같은 이름의 폴더가 있으면 에러가 생김."
   ]
  },
  {
   "cell_type": "code",
   "execution_count": 25,
   "id": "70d7cb28",
   "metadata": {},
   "outputs": [
    {
     "name": "stdout",
     "output_type": "stream",
     "text": [
      "c:/han/food_file/food/test directory is created\n",
      "c:/han/food_file/food/test/Burger is created\n",
      "c:/han/food_file/food/test/chicken is created\n",
      "c:/han/food_file/food/test/croffle is created\n",
      "c:/han/food_file/food/test/pasta is created\n",
      "c:/han/food_file/food/test/Pizza is created\n",
      "c:/han/food_file/food/test/pork cutlet is created\n",
      "c:/han/food_file/food/test/tteokbokki is created\n",
      "총 횟수 :  7\n"
     ]
    }
   ],
   "source": [
    "# # TEST폴더 만들어주자 / 기존에 같은 명의의 파일이 있으면 에러생김\n",
    "# os.mkdir(TEST_DATA_ROOT_DIR)\n",
    "# os.mkdir(os.path.join(TEST_DATA_ROOT_DIR, \"Burger\"))\n",
    "# os.mkdir(os.path.join(TEST_DATA_ROOT_DIR, \"Pizza\"))\n",
    "# os.mkdir(os.path.join(TEST_DATA_ROOT_DIR, \"chicken\"))\n",
    "# os.mkdir(os.path.join(TEST_DATA_ROOT_DIR, \"croffle\"))\n",
    "# os.mkdir(os.path.join(TEST_DATA_ROOT_DIR, \"pasta\"))\n",
    "# os.mkdir(os.path.join(TEST_DATA_ROOT_DIR, \"pork cutlet\"))\n",
    "# os.mkdir(os.path.join(TEST_DATA_ROOT_DIR, \"tteokbokki\"))\n",
    "\n",
    "# test데이터폴터 만들어주기\n",
    "\n",
    "if not os.path.exists(\"c:/han/food_file/food/test\"):\n",
    "    os.mkdir(\"c:/han/food_file/food/test\")\n",
    "    print(\"c:/han/food_file/food/test directory is created\")\n",
    "    \n",
    "    count = 0\n",
    "    for label_name in label_name_list:\n",
    "        os.mkdir(\"c:/han/food_file/food/test/\" + label_name.strip())\n",
    "        print(\"c:/han/food_file/food/test/\" + label_name.strip() + \" is created\")\n",
    "        \n",
    "        count = count + 1\n",
    "        \n",
    "    print(\"총 횟수 : \", count)"
   ]
  },
  {
   "cell_type": "code",
   "execution_count": 13,
   "id": "a7309e54",
   "metadata": {},
   "outputs": [
    {
     "data": {
      "text/plain": [
       "['Burger',\n",
       " 'chicken',\n",
       " 'croffle',\n",
       " 'pasta',\n",
       " 'Pizza',\n",
       " 'pork cutlet',\n",
       " 'test',\n",
       " 'train',\n",
       " 'tteokbokki']"
      ]
     },
     "execution_count": 13,
     "metadata": {},
     "output_type": "execute_result"
    }
   ],
   "source": [
    "label_name_list"
   ]
  },
  {
   "cell_type": "markdown",
   "id": "7dcfae54",
   "metadata": {},
   "source": []
  },
  {
   "cell_type": "code",
   "execution_count": 48,
   "id": "b4180558",
   "metadata": {},
   "outputs": [
    {
     "name": "stdout",
     "output_type": "stream",
     "text": [
      "==========================================================\n",
      "total [Burger] image file nums => [1500]\n",
      "분리할 갯수 :  300\n",
      "total move nums =>  300\n",
      "===========================================================\n",
      "==========================================================\n",
      "total [chicken] image file nums => [1396]\n",
      "분리할 갯수 :  279\n",
      "total move nums =>  279\n",
      "===========================================================\n",
      "==========================================================\n",
      "total [croffle] image file nums => [1267]\n",
      "분리할 갯수 :  253\n",
      "total move nums =>  253\n",
      "===========================================================\n",
      "==========================================================\n",
      "total [pasta] image file nums => [1230]\n",
      "분리할 갯수 :  246\n",
      "total move nums =>  246\n",
      "===========================================================\n",
      "==========================================================\n",
      "total [Pizza] image file nums => [1500]\n",
      "분리할 갯수 :  300\n",
      "total move nums =>  300\n",
      "===========================================================\n",
      "==========================================================\n",
      "total [pork cutlet] image file nums => [1208]\n",
      "분리할 갯수 :  241\n",
      "total move nums =>  241\n",
      "===========================================================\n",
      "==========================================================\n",
      "total [tteokbokki] image file nums => [1549]\n",
      "분리할 갯수 :  309\n",
      "total move nums =>  309\n",
      "===========================================================\n"
     ]
    }
   ],
   "source": [
    "ratio = 0.2\n",
    "\n",
    "src_root_dir = \"c:/han/food_file/food/train/\"\n",
    "dst_root_dir = \"c:/han/food_file/food/test/\"\n",
    "\n",
    "for label_name in label_name_list:\n",
    "    train_image_file_list = glob.glob(src_root_dir + label_name + \"/*.*\")\n",
    "\n",
    "#     print(src_root_dir + label_name)\n",
    "#     print(\"C:/han/food_file/food/train/Burger\")\n",
    "    print(\"==========================================================\")\n",
    "    \n",
    "    print(\"total [%s] image file nums => [%s]\"%(label_name, len(train_image_file_list)))\n",
    "    \n",
    "    split_num = int(ratio * len(train_image_file_list))\n",
    "    print(\"분리할 갯수 : \", split_num)\n",
    "    \n",
    "    test_image_file_list = train_image_file_list[0:split_num]\n",
    "    \n",
    "    # move\n",
    "    move_nums = 0\n",
    "    for image_file in test_image_file_list:\n",
    "        shutil.move(image_file, dst_root_dir + label_name)\n",
    "        move_nums = move_nums + 1\n",
    "        \n",
    "    print(\"total move nums => \", move_nums)\n",
    "    print(\"===========================================================\")"
   ]
  },
  {
   "cell_type": "code",
   "execution_count": 4,
   "id": "9a82f863",
   "metadata": {},
   "outputs": [
    {
     "name": "stdout",
     "output_type": "stream",
     "text": [
      "7 7\n"
     ]
    }
   ],
   "source": [
    "##### 검증 코드\n",
    "\n",
    "src_root_dir = \"c:/han/food_file/food/train/\"\n",
    "dst_root_dir = \"c:/han/food_file/food/test/\"\n",
    "\n",
    "train_label_name_list = os.listdir(src_root_dir)\n",
    "test_label_name_list = os.listdir(dst_root_dir)\n",
    "\n",
    "train_label_name_list.sort()\n",
    "test_label_name_list.sort()\n",
    "\n",
    "if train_label_name_list != test_label_name_list:\n",
    "    print(\"fatal error !\")\n",
    "    \n",
    "else:\n",
    "    print(len(train_label_name_list), len(test_label_name_list))"
   ]
  },
  {
   "cell_type": "code",
   "execution_count": 5,
   "id": "91440e21",
   "metadata": {},
   "outputs": [
    {
     "name": "stdout",
     "output_type": "stream",
     "text": [
      "c:/han/food_file/food/train/Burger\n",
      "c:/han/food_file/food/train/chicken\n",
      "c:/han/food_file/food/train/croffle\n",
      "c:/han/food_file/food/train/pasta\n",
      "c:/han/food_file/food/train/Pizza\n",
      "c:/han/food_file/food/train/pork cutlet\n",
      "c:/han/food_file/food/train/tteokbokki\n",
      "Elapsed Time :  0:00:39.705383\n"
     ]
    }
   ],
   "source": [
    "##### TRAIN 형식 맞춰주기\n",
    "\n",
    "image_list = []\n",
    "label_list = []\n",
    "\n",
    "train_base_dir = \"c:/han/food_file/food/train/\"\n",
    "train_label_list = os.listdir(train_base_dir)\n",
    "\n",
    "\n",
    "start_time = datetime.now()\n",
    "for label_name in train_label_list:\n",
    "    file_path = train_base_dir + label_name\n",
    "    print(file_path)\n",
    "    img_file_list = glob.glob(file_path + \"/*.*\")\n",
    "    \n",
    "    \n",
    "    for img_file in img_file_list:\n",
    "        src_img = cv2.imread(img_file, cv2.IMREAD_COLOR)\n",
    "        src_img = cv2.resize(src_img, dsize=(128,128))\n",
    "        src_img = cv2.cvtColor(src_img, cv2.COLOR_BGR2RGB)\n",
    "        \n",
    "        image_list.append(src_img)        \n",
    "        label_list.append(label_list)\n",
    "\n",
    "        \n",
    "end_time = datetime.now()\n",
    "print(\"Elapsed Time : \", end_time - start_time)"
   ]
  },
  {
   "cell_type": "code",
   "execution_count": 6,
   "id": "f67f56b2",
   "metadata": {},
   "outputs": [
    {
     "data": {
      "text/plain": [
       "array([[[ 54,  61,  77],\n",
       "        [ 43,  49,  63],\n",
       "        [ 33,  39,  53],\n",
       "        ...,\n",
       "        [ 48,  57,  64],\n",
       "        [110, 115, 120],\n",
       "        [ 19,  19,  21]],\n",
       "\n",
       "       [[ 58,  65,  80],\n",
       "        [ 45,  51,  65],\n",
       "        [ 34,  40,  54],\n",
       "        ...,\n",
       "        [ 38,  46,  52],\n",
       "        [ 47,  49,  54],\n",
       "        [ 26,  26,  28]],\n",
       "\n",
       "       [[ 62,  69,  85],\n",
       "        [ 48,  54,  68],\n",
       "        [ 35,  41,  55],\n",
       "        ...,\n",
       "        [  3,   5,   8],\n",
       "        [  2,   3,   7],\n",
       "        [  5,   5,   7]],\n",
       "\n",
       "       ...,\n",
       "\n",
       "       [[102,  91,  82],\n",
       "        [ 99,  89,  80],\n",
       "        [101,  92,  84],\n",
       "        ...,\n",
       "        [110,  82,  71],\n",
       "        [112,  82,  72],\n",
       "        [110,  82,  70]],\n",
       "\n",
       "       [[ 40,  30,  24],\n",
       "        [ 37,  30,  24],\n",
       "        [ 26,  20,  16],\n",
       "        ...,\n",
       "        [108,  80,  69],\n",
       "        [111,  81,  70],\n",
       "        [112,  84,  72]],\n",
       "\n",
       "       [[ 16,  10,   6],\n",
       "        [ 13,   9,   5],\n",
       "        [  9,   5,   3],\n",
       "        ...,\n",
       "        [109,  81,  70],\n",
       "        [111,  81,  71],\n",
       "        [111,  83,  71]]], dtype=uint8)"
      ]
     },
     "execution_count": 6,
     "metadata": {},
     "output_type": "execute_result"
    }
   ],
   "source": [
    "image_list[1]"
   ]
  },
  {
   "cell_type": "code",
   "execution_count": null,
   "id": "fe5c3d33",
   "metadata": {},
   "outputs": [],
   "source": [
    "X_train = np.array(image_list)\n",
    "y_train = np.array(label_list)\n",
    "X_train.shape"
   ]
  },
  {
   "cell_type": "code",
   "execution_count": null,
   "id": "3e9c16f7",
   "metadata": {},
   "outputs": [],
   "source": [
    "##### TEST\n",
    "\n",
    "image_list = []\n",
    "label_list = []\n",
    "\n",
    "test_base_dir = \"c:/han/food_file/food/test/\"\n",
    "test_label_list = os.listdir(test_base_dir)\n",
    "\n",
    "\n",
    "strat_time = datetime.now()\n",
    "for label_name in test_label_list:\n",
    "    file_path = test_base_dir + label_name\n",
    "    img_file_list = glob.glob(file_path + \"/*.*\")\n",
    "    \n",
    "    for img_file in img_file_list:\n",
    "        src_img = cv2.imread(img_file, cv2.IMREAD_COLOR)\n",
    "        src_img = cv2.resize(src_img, dsize=(128,128))\n",
    "        src_img = cv2.cvtColor(src_img, cv2.COLOR_BGR2RGB)\n",
    "        \n",
    "        image_list.append(src_img)\n",
    "        label_list.append(label_name)\n",
    "        \n",
    "end_time = datetime.now()\n",
    "print(\"Elapsed Time : \", end_time - start_time)"
   ]
  }
 ],
 "metadata": {
  "kernelspec": {
   "display_name": "Python 3 (ipykernel)",
   "language": "python",
   "name": "python3"
  },
  "language_info": {
   "codemirror_mode": {
    "name": "ipython",
    "version": 3
   },
   "file_extension": ".py",
   "mimetype": "text/x-python",
   "name": "python",
   "nbconvert_exporter": "python",
   "pygments_lexer": "ipython3",
   "version": "3.9.13"
  }
 },
 "nbformat": 4,
 "nbformat_minor": 5
}
