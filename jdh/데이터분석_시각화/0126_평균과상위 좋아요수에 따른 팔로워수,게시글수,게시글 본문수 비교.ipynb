{
 "cells": [
  {
   "cell_type": "code",
   "execution_count": 1,
   "id": "1c6bff9e",
   "metadata": {},
   "outputs": [],
   "source": [
    "import pandas as pd\n",
    "\n",
    "import numpy as np\n",
    "\n",
    "import matplotlib.pyplot as plt\n",
    "import seaborn as sns"
   ]
  },
  {
   "cell_type": "code",
   "execution_count": 26,
   "id": "811f1add",
   "metadata": {},
   "outputs": [],
   "source": [
    "result=pd.read_csv(\"C:/han/pythonwork/AI/result3.csv\")"
   ]
  },
  {
   "cell_type": "code",
   "execution_count": 27,
   "id": "16430cc0",
   "metadata": {
    "collapsed": true
   },
   "outputs": [
    {
     "name": "stdout",
     "output_type": "stream",
     "text": [
      "<class 'pandas.core.frame.DataFrame'>\n",
      "RangeIndex: 13330 entries, 0 to 13329\n",
      "Data columns (total 12 columns):\n",
      " #   Column        Non-Null Count  Dtype  \n",
      "---  ------        --------------  -----  \n",
      " 0   Category      13330 non-null  object \n",
      " 1   ID            13330 non-null  object \n",
      " 2   Post_num      13330 non-null  object \n",
      " 3   Followers     13330 non-null  object \n",
      " 4   Contents      13330 non-null  object \n",
      " 5   Tags          12042 non-null  object \n",
      " 6   Tags_sum      13330 non-null  int64  \n",
      " 7   Tags_count    13330 non-null  int64  \n",
      " 8   Tags_rate     13330 non-null  float64\n",
      " 9   Likes         13330 non-null  int64  \n",
      " 10  Scaled_likes  13330 non-null  float64\n",
      " 11  Contents_len  13330 non-null  int64  \n",
      "dtypes: float64(2), int64(4), object(6)\n",
      "memory usage: 1.2+ MB\n"
     ]
    },
    {
     "data": {
      "text/html": [
       "<div>\n",
       "<style scoped>\n",
       "    .dataframe tbody tr th:only-of-type {\n",
       "        vertical-align: middle;\n",
       "    }\n",
       "\n",
       "    .dataframe tbody tr th {\n",
       "        vertical-align: top;\n",
       "    }\n",
       "\n",
       "    .dataframe thead th {\n",
       "        text-align: right;\n",
       "    }\n",
       "</style>\n",
       "<table border=\"1\" class=\"dataframe\">\n",
       "  <thead>\n",
       "    <tr style=\"text-align: right;\">\n",
       "      <th></th>\n",
       "      <th>Category</th>\n",
       "      <th>ID</th>\n",
       "      <th>Post_num</th>\n",
       "      <th>Followers</th>\n",
       "      <th>Contents</th>\n",
       "      <th>Tags</th>\n",
       "      <th>Tags_sum</th>\n",
       "      <th>Tags_count</th>\n",
       "      <th>Tags_rate</th>\n",
       "      <th>Likes</th>\n",
       "      <th>Scaled_likes</th>\n",
       "      <th>Contents_len</th>\n",
       "    </tr>\n",
       "  </thead>\n",
       "  <tbody>\n",
       "    <tr>\n",
       "      <th>0</th>\n",
       "      <td>돈까스</td>\n",
       "      <td>bbo_muksta</td>\n",
       "      <td>-</td>\n",
       "      <td>-</td>\n",
       "      <td>내 꿈은 돈모아서  돈까스의집 사는것  한입에 모든걸 뺏겨버린 맛이다  괜히 40년...</td>\n",
       "      <td>#돈까스의집, #돈까스맛집, #송파맛집, #삼전역맛집, #빵맛집, #돈까스</td>\n",
       "      <td>6</td>\n",
       "      <td>2</td>\n",
       "      <td>33.33</td>\n",
       "      <td>3126</td>\n",
       "      <td>0.396449</td>\n",
       "      <td>377</td>\n",
       "    </tr>\n",
       "    <tr>\n",
       "      <th>1</th>\n",
       "      <td>돈까스</td>\n",
       "      <td>___foodtour</td>\n",
       "      <td>-</td>\n",
       "      <td>-</td>\n",
       "      <td>구름같은 만두를 맛볼 수 있은 곳이에요  너무 맛있어서 음소거 모드로 흡입했어요  ...</td>\n",
       "      <td>#건대, #성수완당깔끔한, #투어_건대</td>\n",
       "      <td>3</td>\n",
       "      <td>0</td>\n",
       "      <td>0.00</td>\n",
       "      <td>3750</td>\n",
       "      <td>0.475587</td>\n",
       "      <td>467</td>\n",
       "    </tr>\n",
       "    <tr>\n",
       "      <th>2</th>\n",
       "      <td>돈까스</td>\n",
       "      <td>mukpresident</td>\n",
       "      <td>-</td>\n",
       "      <td>-</td>\n",
       "      <td>고치돈 좋아하는 국민들 주목 친애하는 국민여러분 먹통령입니다 오늘 저희가 회담을...</td>\n",
       "      <td>#사장님돈까스, #먹통령_이대, #이대맛집, #이화여대맛집, #고치돈맛집, #돈까스...</td>\n",
       "      <td>8</td>\n",
       "      <td>2</td>\n",
       "      <td>25.00</td>\n",
       "      <td>2761</td>\n",
       "      <td>0.350159</td>\n",
       "      <td>634</td>\n",
       "    </tr>\n",
       "    <tr>\n",
       "      <th>3</th>\n",
       "      <td>돈까스</td>\n",
       "      <td>fooseidon_</td>\n",
       "      <td>-</td>\n",
       "      <td>-</td>\n",
       "      <td>다들주목      서울 3대 돈까스   오픈부터 엄청나게 웨이팅이 있는곳벼루다 드뎌...</td>\n",
       "      <td>#북천, #북천돈까스🔱11:00~19:30, #푸세이돈_용...</td>\n",
       "      <td>18</td>\n",
       "      <td>0</td>\n",
       "      <td>0.00</td>\n",
       "      <td>7885</td>\n",
       "      <td>1.000000</td>\n",
       "      <td>469</td>\n",
       "    </tr>\n",
       "    <tr>\n",
       "      <th>4</th>\n",
       "      <td>돈까스</td>\n",
       "      <td>cayeongmi9</td>\n",
       "      <td>-</td>\n",
       "      <td>-</td>\n",
       "      <td>치즈돈까스  집에서만들기    육전용 돈등심으로 미니치즈돈까스를 만들었어요 등심에...</td>\n",
       "      <td>#치즈돈까스, #집에서만들기, #키마카레, #미니돈까스, #사평카레, #저수분카레,...</td>\n",
       "      <td>19</td>\n",
       "      <td>4</td>\n",
       "      <td>21.05</td>\n",
       "      <td>317</td>\n",
       "      <td>0.040203</td>\n",
       "      <td>393</td>\n",
       "    </tr>\n",
       "    <tr>\n",
       "      <th>5</th>\n",
       "      <td>돈까스</td>\n",
       "      <td>miro__food</td>\n",
       "      <td>-</td>\n",
       "      <td>-</td>\n",
       "      <td>협찬  안양  범계  유미카츠  떡볶카츠  돈까스맛집 돈까스와 떡볶이 러버들이...</td>\n",
       "      <td>#안양, #범계, #유미카츠, #떡볶카츠, #돈까스맛집, #미로_범계, #미로_안양...</td>\n",
       "      <td>19</td>\n",
       "      <td>3</td>\n",
       "      <td>15.79</td>\n",
       "      <td>655</td>\n",
       "      <td>0.083069</td>\n",
       "      <td>1510</td>\n",
       "    </tr>\n",
       "    <tr>\n",
       "      <th>6</th>\n",
       "      <td>돈까스</td>\n",
       "      <td>_mukjini</td>\n",
       "      <td>-</td>\n",
       "      <td>-</td>\n",
       "      <td>첫줄원래 5시에 퇴근을 하는데오늘은 한시간 늦은 6시에 퇴근을 하게되어 형님들과 ...</td>\n",
       "      <td>#첫줄원래</td>\n",
       "      <td>1</td>\n",
       "      <td>0</td>\n",
       "      <td>0.00</td>\n",
       "      <td>109</td>\n",
       "      <td>0.013824</td>\n",
       "      <td>183</td>\n",
       "    </tr>\n",
       "    <tr>\n",
       "      <th>7</th>\n",
       "      <td>돈까스</td>\n",
       "      <td>food__some</td>\n",
       "      <td>-</td>\n",
       "      <td>-</td>\n",
       "      <td>오래된 세월이 가게의 맛을 보장해 주는 곳  무려 39년 동안 한자리를 지키고 있는...</td>\n",
       "      <td>#돈까스의집첫, #푸썸_송파</td>\n",
       "      <td>2</td>\n",
       "      <td>0</td>\n",
       "      <td>0.00</td>\n",
       "      <td>1205</td>\n",
       "      <td>0.152822</td>\n",
       "      <td>358</td>\n",
       "    </tr>\n",
       "    <tr>\n",
       "      <th>8</th>\n",
       "      <td>돈까스</td>\n",
       "      <td>heokw</td>\n",
       "      <td>-</td>\n",
       "      <td>-</td>\n",
       "      <td>이제는 최고라 하긴 힘들지만 나한텐 추억의 맛이다  근데 상호가 명동돈가스라는 걸 ...</td>\n",
       "      <td>#명동돈가스, #명동돈까스, #돈까스, #돈카츠, #로스카츠, #돈까스맛집, #돈카...</td>\n",
       "      <td>11</td>\n",
       "      <td>3</td>\n",
       "      <td>27.27</td>\n",
       "      <td>52</td>\n",
       "      <td>0.006595</td>\n",
       "      <td>142</td>\n",
       "    </tr>\n",
       "    <tr>\n",
       "      <th>9</th>\n",
       "      <td>돈까스</td>\n",
       "      <td>openbopk</td>\n",
       "      <td>-</td>\n",
       "      <td>-</td>\n",
       "      <td>오늘 저녁은 뭐 먹지 초밥  초밥맛집  초밥스타그램  돈까스  돈까스맛집  먹스타그...</td>\n",
       "      <td>#초밥, #초밥맛집, #초밥스타그램, #돈까스, #돈까스맛집, #먹스타그램맞팔, #일상</td>\n",
       "      <td>7</td>\n",
       "      <td>3</td>\n",
       "      <td>42.86</td>\n",
       "      <td>0</td>\n",
       "      <td>0.000000</td>\n",
       "      <td>53</td>\n",
       "    </tr>\n",
       "  </tbody>\n",
       "</table>\n",
       "</div>"
      ],
      "text/plain": [
       "  Category            ID Post_num Followers  \\\n",
       "0      돈까스    bbo_muksta        -         -   \n",
       "1      돈까스   ___foodtour        -         -   \n",
       "2      돈까스  mukpresident        -         -   \n",
       "3      돈까스    fooseidon_        -         -   \n",
       "4      돈까스    cayeongmi9        -         -   \n",
       "5      돈까스    miro__food        -         -   \n",
       "6      돈까스      _mukjini        -         -   \n",
       "7      돈까스    food__some        -         -   \n",
       "8      돈까스         heokw        -         -   \n",
       "9      돈까스      openbopk        -         -   \n",
       "\n",
       "                                            Contents  \\\n",
       "0  내 꿈은 돈모아서  돈까스의집 사는것  한입에 모든걸 뺏겨버린 맛이다  괜히 40년...   \n",
       "1  구름같은 만두를 맛볼 수 있은 곳이에요  너무 맛있어서 음소거 모드로 흡입했어요  ...   \n",
       "2    고치돈 좋아하는 국민들 주목 친애하는 국민여러분 먹통령입니다 오늘 저희가 회담을...   \n",
       "3  다들주목      서울 3대 돈까스   오픈부터 엄청나게 웨이팅이 있는곳벼루다 드뎌...   \n",
       "4   치즈돈까스  집에서만들기    육전용 돈등심으로 미니치즈돈까스를 만들었어요 등심에...   \n",
       "5     협찬  안양  범계  유미카츠  떡볶카츠  돈까스맛집 돈까스와 떡볶이 러버들이...   \n",
       "6   첫줄원래 5시에 퇴근을 하는데오늘은 한시간 늦은 6시에 퇴근을 하게되어 형님들과 ...   \n",
       "7  오래된 세월이 가게의 맛을 보장해 주는 곳  무려 39년 동안 한자리를 지키고 있는...   \n",
       "8  이제는 최고라 하긴 힘들지만 나한텐 추억의 맛이다  근데 상호가 명동돈가스라는 걸 ...   \n",
       "9  오늘 저녁은 뭐 먹지 초밥  초밥맛집  초밥스타그램  돈까스  돈까스맛집  먹스타그...   \n",
       "\n",
       "                                                Tags  Tags_sum  Tags_count  \\\n",
       "0          #돈까스의집, #돈까스맛집, #송파맛집, #삼전역맛집, #빵맛집, #돈까스         6           2   \n",
       "1                              #건대, #성수완당깔끔한, #투어_건대         3           0   \n",
       "2  #사장님돈까스, #먹통령_이대, #이대맛집, #이화여대맛집, #고치돈맛집, #돈까스...         8           2   \n",
       "3  #북천, #북천돈까스🔱11:00~19:30, #푸세이돈_용...        18           0   \n",
       "4  #치즈돈까스, #집에서만들기, #키마카레, #미니돈까스, #사평카레, #저수분카레,...        19           4   \n",
       "5  #안양, #범계, #유미카츠, #떡볶카츠, #돈까스맛집, #미로_범계, #미로_안양...        19           3   \n",
       "6                                              #첫줄원래         1           0   \n",
       "7                                    #돈까스의집첫, #푸썸_송파         2           0   \n",
       "8  #명동돈가스, #명동돈까스, #돈까스, #돈카츠, #로스카츠, #돈까스맛집, #돈카...        11           3   \n",
       "9   #초밥, #초밥맛집, #초밥스타그램, #돈까스, #돈까스맛집, #먹스타그램맞팔, #일상         7           3   \n",
       "\n",
       "   Tags_rate  Likes  Scaled_likes  Contents_len  \n",
       "0      33.33   3126      0.396449           377  \n",
       "1       0.00   3750      0.475587           467  \n",
       "2      25.00   2761      0.350159           634  \n",
       "3       0.00   7885      1.000000           469  \n",
       "4      21.05    317      0.040203           393  \n",
       "5      15.79    655      0.083069          1510  \n",
       "6       0.00    109      0.013824           183  \n",
       "7       0.00   1205      0.152822           358  \n",
       "8      27.27     52      0.006595           142  \n",
       "9      42.86      0      0.000000            53  "
      ]
     },
     "execution_count": 27,
     "metadata": {},
     "output_type": "execute_result"
    }
   ],
   "source": [
    "result.info()\n",
    "result.head(10)"
   ]
  },
  {
   "cell_type": "code",
   "execution_count": 7,
   "id": "6e048f60",
   "metadata": {},
   "outputs": [],
   "source": [
    "chicken=result[result[\"Category\"]==\"치킨\"]"
   ]
  },
  {
   "cell_type": "code",
   "execution_count": 45,
   "id": "436bdaa8",
   "metadata": {},
   "outputs": [],
   "source": [
    "### 좋아요 상위 10percent의 변수 만들어서 전체 데이터와 비교해보자!\n",
    "## 상위 10프로 변수\n",
    "result_top10percent = result.sort_values(\"Likes\", ascending=False)[:1330]"
   ]
  },
  {
   "cell_type": "code",
   "execution_count": null,
   "id": "d2b4a73c",
   "metadata": {},
   "outputs": [],
   "source": [
    "# 좋아요 개수 차이 367 / 54"
   ]
  },
  {
   "cell_type": "code",
   "execution_count": 29,
   "id": "5b9d8757",
   "metadata": {
    "scrolled": true
   },
   "outputs": [
    {
     "data": {
      "text/plain": [
       "367.481954887218"
      ]
     },
     "execution_count": 29,
     "metadata": {},
     "output_type": "execute_result"
    }
   ],
   "source": [
    "result_top10percent[\"Likes\"].mean()"
   ]
  },
  {
   "cell_type": "code",
   "execution_count": 30,
   "id": "bd90dff3",
   "metadata": {},
   "outputs": [
    {
     "data": {
      "text/plain": [
       "54.50645161290323"
      ]
     },
     "execution_count": 30,
     "metadata": {},
     "output_type": "execute_result"
    }
   ],
   "source": [
    "result[\"Likes\"].mean()"
   ]
  },
  {
   "cell_type": "code",
   "execution_count": null,
   "id": "a85d69a7",
   "metadata": {},
   "outputs": [],
   "source": [
    "# 게시글 길이 차이 328 / 203"
   ]
  },
  {
   "cell_type": "code",
   "execution_count": 43,
   "id": "efe0fe07",
   "metadata": {},
   "outputs": [
    {
     "data": {
      "text/plain": [
       "328.1203007518797"
      ]
     },
     "execution_count": 43,
     "metadata": {},
     "output_type": "execute_result"
    }
   ],
   "source": [
    "result_top10percent[\"Contents_len\"].mean()"
   ]
  },
  {
   "cell_type": "code",
   "execution_count": 44,
   "id": "05fa3a3d",
   "metadata": {},
   "outputs": [
    {
     "data": {
      "text/plain": [
       "203.4085521380345"
      ]
     },
     "execution_count": 44,
     "metadata": {},
     "output_type": "execute_result"
    }
   ],
   "source": [
    "result[\"Contents_len\"].mean()"
   ]
  },
  {
   "cell_type": "code",
   "execution_count": null,
   "id": "ef1a86a2",
   "metadata": {},
   "outputs": [],
   "source": []
  },
  {
   "cell_type": "markdown",
   "id": "328f32e1",
   "metadata": {},
   "source": [
    "## 치킨으로 평균과 좋아요 상위 10프로 확인!"
   ]
  },
  {
   "cell_type": "code",
   "execution_count": 83,
   "id": "4395ac1c",
   "metadata": {
    "collapsed": true
   },
   "outputs": [
    {
     "data": {
      "text/html": [
       "<div>\n",
       "<style scoped>\n",
       "    .dataframe tbody tr th:only-of-type {\n",
       "        vertical-align: middle;\n",
       "    }\n",
       "\n",
       "    .dataframe tbody tr th {\n",
       "        vertical-align: top;\n",
       "    }\n",
       "\n",
       "    .dataframe thead th {\n",
       "        text-align: right;\n",
       "    }\n",
       "</style>\n",
       "<table border=\"1\" class=\"dataframe\">\n",
       "  <thead>\n",
       "    <tr style=\"text-align: right;\">\n",
       "      <th></th>\n",
       "      <th>Category</th>\n",
       "      <th>ID</th>\n",
       "      <th>Post_num</th>\n",
       "      <th>Followers</th>\n",
       "      <th>Contents</th>\n",
       "      <th>Tags</th>\n",
       "      <th>Tags_sum</th>\n",
       "      <th>Tags_count</th>\n",
       "      <th>Tags_rate</th>\n",
       "      <th>Likes</th>\n",
       "      <th>Scaled_likes</th>\n",
       "      <th>Contents_len</th>\n",
       "      <th>Follwers</th>\n",
       "    </tr>\n",
       "  </thead>\n",
       "  <tbody>\n",
       "    <tr>\n",
       "      <th>5999</th>\n",
       "      <td>치킨</td>\n",
       "      <td>z.e.o.m</td>\n",
       "      <td>236.0</td>\n",
       "      <td>8603.0</td>\n",
       "      <td>둥근해 대신 올해는  동근 해가 떴습니다  우동사리에 치밥까지 치킨으로 풀코스 즐기...</td>\n",
       "      <td>#동근이숯불두마리치킨, #동근이숯불두마리치킨, #치킨, #치킨맛집, #배달치킨, #...</td>\n",
       "      <td>11</td>\n",
       "      <td>3</td>\n",
       "      <td>27.27</td>\n",
       "      <td>1040</td>\n",
       "      <td>0.175646</td>\n",
       "      <td>477</td>\n",
       "      <td>8603.0</td>\n",
       "    </tr>\n",
       "    <tr>\n",
       "      <th>6000</th>\n",
       "      <td>치킨</td>\n",
       "      <td>foodgangster_fgg</td>\n",
       "      <td>128.0</td>\n",
       "      <td>3360.0</td>\n",
       "      <td>협찬  떡볶이에 타피오카 펄 쏟은 줄 알았다  버블티같은 떡볶이다  맥주를 부르는...</td>\n",
       "      <td>#치킨매니아, #푸드갱_배달, #배달맛집, #치킨맛집, #떡볶이맛집, #배달음식추천...</td>\n",
       "      <td>9</td>\n",
       "      <td>3</td>\n",
       "      <td>33.33</td>\n",
       "      <td>109</td>\n",
       "      <td>0.018409</td>\n",
       "      <td>262</td>\n",
       "      <td>3360.0</td>\n",
       "    </tr>\n",
       "    <tr>\n",
       "      <th>6001</th>\n",
       "      <td>치킨</td>\n",
       "      <td>bboong_bbang_2</td>\n",
       "      <td>741.0</td>\n",
       "      <td>6928.0</td>\n",
       "      <td>돼지 사료 일지   506  지코바 성정점뿡빵쓰가 스트레스 받으면 주기적 수혈하는 ...</td>\n",
       "      <td></td>\n",
       "      <td>0</td>\n",
       "      <td>0</td>\n",
       "      <td>0.00</td>\n",
       "      <td>109</td>\n",
       "      <td>0.018409</td>\n",
       "      <td>511</td>\n",
       "      <td>6928.0</td>\n",
       "    </tr>\n",
       "    <tr>\n",
       "      <th>6002</th>\n",
       "      <td>치킨</td>\n",
       "      <td>dhrkspths</td>\n",
       "      <td>2178.0</td>\n",
       "      <td>27000.0</td>\n",
       "      <td>얼마나 맛있었으면 포장까지ㄷㄷㄷ    범맥주 임</td>\n",
       "      <td></td>\n",
       "      <td>0</td>\n",
       "      <td>0</td>\n",
       "      <td>0.00</td>\n",
       "      <td>9</td>\n",
       "      <td>0.001520</td>\n",
       "      <td>26</td>\n",
       "      <td>27000.0</td>\n",
       "    </tr>\n",
       "    <tr>\n",
       "      <th>6003</th>\n",
       "      <td>치킨</td>\n",
       "      <td>a_a_bl0s2om</td>\n",
       "      <td>606.0</td>\n",
       "      <td>1020.0</td>\n",
       "      <td>노랑통닭ㆍㆍㆍ 대구맛집  먹방  instafood  요리스타그램  요리  맛스타...</td>\n",
       "      <td>#대구맛집, #먹방, #instafood, #요리스타그램, #요리, #맛스타그램, ...</td>\n",
       "      <td>28</td>\n",
       "      <td>8</td>\n",
       "      <td>28.57</td>\n",
       "      <td>19</td>\n",
       "      <td>0.003209</td>\n",
       "      <td>193</td>\n",
       "      <td>1020.0</td>\n",
       "    </tr>\n",
       "    <tr>\n",
       "      <th>6004</th>\n",
       "      <td>치킨</td>\n",
       "      <td>yeony_matzipsa</td>\n",
       "      <td>223.0</td>\n",
       "      <td>8787.0</td>\n",
       "      <td>협찬  소떡소떡 밀어내고 이제는 치떡 시대야식 하면 가장 먼저 생각나는 치킨과...</td>\n",
       "      <td>#치킨맛집, #떡볶이맛집, #치킨추천, #떡볶이추천, #배달맛집</td>\n",
       "      <td>5</td>\n",
       "      <td>2</td>\n",
       "      <td>40.00</td>\n",
       "      <td>742</td>\n",
       "      <td>0.125317</td>\n",
       "      <td>254</td>\n",
       "      <td>8787.0</td>\n",
       "    </tr>\n",
       "    <tr>\n",
       "      <th>6005</th>\n",
       "      <td>치킨</td>\n",
       "      <td>cookat.magazine</td>\n",
       "      <td>5861.0</td>\n",
       "      <td>1311000.0</td>\n",
       "      <td>네네치킨 신상 국물게티X레드마블 네네치킨에서 신메뉴를 선보입니다  넉넉한 국물에 떡...</td>\n",
       "      <td>#네네치킨, #네네치킨신상, #신상마켓, #쿠캣신상마켓, #국물게티, #로제게티, ...</td>\n",
       "      <td>25</td>\n",
       "      <td>4</td>\n",
       "      <td>16.00</td>\n",
       "      <td>888</td>\n",
       "      <td>0.149975</td>\n",
       "      <td>452</td>\n",
       "      <td>1311000.0</td>\n",
       "    </tr>\n",
       "    <tr>\n",
       "      <th>6006</th>\n",
       "      <td>치킨</td>\n",
       "      <td>wooo_new</td>\n",
       "      <td>395.0</td>\n",
       "      <td>19000.0</td>\n",
       "      <td>맵찔이도 폭풍흡입하는   고추바사삭   볼케이노   오늘은 굽네치킨입니다    배달...</td>\n",
       "      <td>#굽네치킨제, #우뉴_배달, #배달음식, #배달맛집, #고추바사삭, #볼케이노, #...</td>\n",
       "      <td>7</td>\n",
       "      <td>0</td>\n",
       "      <td>0.00</td>\n",
       "      <td>797</td>\n",
       "      <td>0.134606</td>\n",
       "      <td>418</td>\n",
       "      <td>19000.0</td>\n",
       "    </tr>\n",
       "    <tr>\n",
       "      <th>6007</th>\n",
       "      <td>치킨</td>\n",
       "      <td>matport_</td>\n",
       "      <td>379.0</td>\n",
       "      <td>44000.0</td>\n",
       "      <td>참숯치킨은 절대 못참지   치즈소스도 못참지     훌랄라치킨  훌랄라참숯바베큐치킨...</td>\n",
       "      <td>#훌랄라치킨, #훌랄라참숯바베큐치킨, #훌랄라치킨, #안산맛집, #인천맛집, #치킨...</td>\n",
       "      <td>19</td>\n",
       "      <td>2</td>\n",
       "      <td>10.53</td>\n",
       "      <td>757</td>\n",
       "      <td>0.127850</td>\n",
       "      <td>544</td>\n",
       "      <td>44000.0</td>\n",
       "    </tr>\n",
       "    <tr>\n",
       "      <th>6008</th>\n",
       "      <td>치킨</td>\n",
       "      <td>sun_star520</td>\n",
       "      <td>538.0</td>\n",
       "      <td>251.0</td>\n",
       "      <td>하하호호오늘 넘 많이 웃었다 대화가 되는 나이가 됐군   좀 ...</td>\n",
       "      <td>#하하호호오늘, #햄버거셔틀, #상전아들, #싄나싄나🎶, #춤추고난리, #야식, #...</td>\n",
       "      <td>14</td>\n",
       "      <td>2</td>\n",
       "      <td>14.29</td>\n",
       "      <td>1</td>\n",
       "      <td>0.000169</td>\n",
       "      <td>233</td>\n",
       "      <td>251.0</td>\n",
       "    </tr>\n",
       "  </tbody>\n",
       "</table>\n",
       "</div>"
      ],
      "text/plain": [
       "     Category                ID Post_num  Followers  \\\n",
       "5999       치킨           z.e.o.m    236.0     8603.0   \n",
       "6000       치킨  foodgangster_fgg    128.0     3360.0   \n",
       "6001       치킨    bboong_bbang_2    741.0     6928.0   \n",
       "6002       치킨         dhrkspths   2178.0    27000.0   \n",
       "6003       치킨       a_a_bl0s2om    606.0     1020.0   \n",
       "6004       치킨    yeony_matzipsa    223.0     8787.0   \n",
       "6005       치킨   cookat.magazine   5861.0  1311000.0   \n",
       "6006       치킨          wooo_new    395.0    19000.0   \n",
       "6007       치킨          matport_    379.0    44000.0   \n",
       "6008       치킨       sun_star520    538.0      251.0   \n",
       "\n",
       "                                               Contents  \\\n",
       "5999  둥근해 대신 올해는  동근 해가 떴습니다  우동사리에 치밥까지 치킨으로 풀코스 즐기...   \n",
       "6000   협찬  떡볶이에 타피오카 펄 쏟은 줄 알았다  버블티같은 떡볶이다  맥주를 부르는...   \n",
       "6001  돼지 사료 일지   506  지코바 성정점뿡빵쓰가 스트레스 받으면 주기적 수혈하는 ...   \n",
       "6002                         얼마나 맛있었으면 포장까지ㄷㄷㄷ    범맥주 임   \n",
       "6003    노랑통닭ㆍㆍㆍ 대구맛집  먹방  instafood  요리스타그램  요리  맛스타...   \n",
       "6004     협찬  소떡소떡 밀어내고 이제는 치떡 시대야식 하면 가장 먼저 생각나는 치킨과...   \n",
       "6005  네네치킨 신상 국물게티X레드마블 네네치킨에서 신메뉴를 선보입니다  넉넉한 국물에 떡...   \n",
       "6006  맵찔이도 폭풍흡입하는   고추바사삭   볼케이노   오늘은 굽네치킨입니다    배달...   \n",
       "6007  참숯치킨은 절대 못참지   치즈소스도 못참지     훌랄라치킨  훌랄라참숯바베큐치킨...   \n",
       "6008              하하호호오늘 넘 많이 웃었다 대화가 되는 나이가 됐군   좀 ...   \n",
       "\n",
       "                                                   Tags  Tags_sum  Tags_count  \\\n",
       "5999  #동근이숯불두마리치킨, #동근이숯불두마리치킨, #치킨, #치킨맛집, #배달치킨, #...        11           3   \n",
       "6000  #치킨매니아, #푸드갱_배달, #배달맛집, #치킨맛집, #떡볶이맛집, #배달음식추천...         9           3   \n",
       "6001                                                            0           0   \n",
       "6002                                                            0           0   \n",
       "6003  #대구맛집, #먹방, #instafood, #요리스타그램, #요리, #맛스타그램, ...        28           8   \n",
       "6004                #치킨맛집, #떡볶이맛집, #치킨추천, #떡볶이추천, #배달맛집         5           2   \n",
       "6005  #네네치킨, #네네치킨신상, #신상마켓, #쿠캣신상마켓, #국물게티, #로제게티, ...        25           4   \n",
       "6006  #굽네치킨제, #우뉴_배달, #배달음식, #배달맛집, #고추바사삭, #볼케이노, #...         7           0   \n",
       "6007  #훌랄라치킨, #훌랄라참숯바베큐치킨, #훌랄라치킨, #안산맛집, #인천맛집, #치킨...        19           2   \n",
       "6008  #하하호호오늘, #햄버거셔틀, #상전아들, #싄나싄나🎶, #춤추고난리, #야식, #...        14           2   \n",
       "\n",
       "      Tags_rate  Likes  Scaled_likes  Contents_len   Follwers  \n",
       "5999      27.27   1040      0.175646           477     8603.0  \n",
       "6000      33.33    109      0.018409           262     3360.0  \n",
       "6001       0.00    109      0.018409           511     6928.0  \n",
       "6002       0.00      9      0.001520            26    27000.0  \n",
       "6003      28.57     19      0.003209           193     1020.0  \n",
       "6004      40.00    742      0.125317           254     8787.0  \n",
       "6005      16.00    888      0.149975           452  1311000.0  \n",
       "6006       0.00    797      0.134606           418    19000.0  \n",
       "6007      10.53    757      0.127850           544    44000.0  \n",
       "6008      14.29      1      0.000169           233      251.0  "
      ]
     },
     "execution_count": 83,
     "metadata": {},
     "output_type": "execute_result"
    }
   ],
   "source": [
    "chicken_200=result[result[\"Category\"]==\"치킨\"].sort_values(\"Likes\",ascending=False)[:200]\n",
    "chicken_200\n",
    "\n",
    "chicken=result[result[\"Category\"]==\"치킨\"]\n",
    "chicken.head(10)"
   ]
  },
  {
   "cell_type": "code",
   "execution_count": 84,
   "id": "5cdffac0",
   "metadata": {},
   "outputs": [
    {
     "name": "stdout",
     "output_type": "stream",
     "text": [
      "2000 300\n"
     ]
    }
   ],
   "source": [
    "# 결측치 확인\n",
    "print(len(chicken[\"Followers\"]), len(chicken_300[\"Followers\"]))"
   ]
  },
  {
   "cell_type": "code",
   "execution_count": 77,
   "id": "f59d8abf",
   "metadata": {},
   "outputs": [],
   "source": [
    "# 치킨에서 게시글 길이 차이 "
   ]
  },
  {
   "cell_type": "code",
   "execution_count": 78,
   "id": "4d527261",
   "metadata": {},
   "outputs": [
    {
     "data": {
      "text/plain": [
       "292.16"
      ]
     },
     "execution_count": 78,
     "metadata": {},
     "output_type": "execute_result"
    }
   ],
   "source": [
    "chicken_200[\"Contents_len\"].mean()"
   ]
  },
  {
   "cell_type": "code",
   "execution_count": 79,
   "id": "506260f9",
   "metadata": {},
   "outputs": [
    {
     "data": {
      "text/plain": [
       "195.092"
      ]
     },
     "execution_count": 79,
     "metadata": {},
     "output_type": "execute_result"
    }
   ],
   "source": [
    "chicken[\"Contents_len\"].mean()"
   ]
  },
  {
   "cell_type": "code",
   "execution_count": null,
   "id": "1aabf98b",
   "metadata": {},
   "outputs": [],
   "source": [
    "# 치킨에서 게시글 수 차이 1599 / 969"
   ]
  },
  {
   "cell_type": "code",
   "execution_count": 85,
   "id": "c8487cb6",
   "metadata": {},
   "outputs": [
    {
     "name": "stderr",
     "output_type": "stream",
     "text": [
      "C:\\Users\\LG\\AppData\\Local\\Temp\\ipykernel_12232\\971011543.py:1: SettingWithCopyWarning: \n",
      "A value is trying to be set on a copy of a slice from a DataFrame.\n",
      "Try using .loc[row_indexer,col_indexer] = value instead\n",
      "\n",
      "See the caveats in the documentation: https://pandas.pydata.org/pandas-docs/stable/user_guide/indexing.html#returning-a-view-versus-a-copy\n",
      "  chicken['Post_num'] = pd.to_numeric(chicken['Post_num'],errors='coerce')\n"
     ]
    },
    {
     "data": {
      "text/plain": [
       "969.5555"
      ]
     },
     "execution_count": 85,
     "metadata": {},
     "output_type": "execute_result"
    }
   ],
   "source": [
    "chicken['Post_num'] = pd.to_numeric(chicken['Post_num'],errors='coerce')\n",
    "chicken[\"Post_num\"].mean()"
   ]
  },
  {
   "cell_type": "code",
   "execution_count": 76,
   "id": "01f5188d",
   "metadata": {},
   "outputs": [
    {
     "data": {
      "text/plain": [
       "1599.78"
      ]
     },
     "execution_count": 76,
     "metadata": {},
     "output_type": "execute_result"
    }
   ],
   "source": [
    "chicken_200['Post_num'] = pd.to_numeric(chicken_200['Post_num'],errors='coerce')\n",
    "chicken_200[\"Post_num\"].mean()"
   ]
  },
  {
   "cell_type": "code",
   "execution_count": null,
   "id": "04061518",
   "metadata": {},
   "outputs": [],
   "source": [
    "# 치킨에서 팔로워 수 차이 36103 / 4888"
   ]
  },
  {
   "cell_type": "code",
   "execution_count": 80,
   "id": "5cae87b1",
   "metadata": {},
   "outputs": [
    {
     "name": "stderr",
     "output_type": "stream",
     "text": [
      "C:\\Users\\LG\\AppData\\Local\\Temp\\ipykernel_12232\\3386332383.py:1: SettingWithCopyWarning: \n",
      "A value is trying to be set on a copy of a slice from a DataFrame.\n",
      "Try using .loc[row_indexer,col_indexer] = value instead\n",
      "\n",
      "See the caveats in the documentation: https://pandas.pydata.org/pandas-docs/stable/user_guide/indexing.html#returning-a-view-versus-a-copy\n",
      "  chicken['Followers'] = pd.to_numeric(chicken['Followers'],errors='coerce')\n"
     ]
    },
    {
     "data": {
      "text/plain": [
       "4888.4225"
      ]
     },
     "execution_count": 80,
     "metadata": {},
     "output_type": "execute_result"
    }
   ],
   "source": [
    "chicken['Followers'] = pd.to_numeric(chicken['Followers'],errors='coerce')\n",
    "chicken[\"Followers\"].mean()"
   ]
  },
  {
   "cell_type": "code",
   "execution_count": 81,
   "id": "6bc69263",
   "metadata": {},
   "outputs": [
    {
     "data": {
      "text/plain": [
       "36103.495"
      ]
     },
     "execution_count": 81,
     "metadata": {},
     "output_type": "execute_result"
    }
   ],
   "source": [
    "chicken_200['Followers'] = pd.to_numeric(chicken_200['Followers'],errors='coerce')\n",
    "chicken_200[\"Followers\"].mean()"
   ]
  }
 ],
 "metadata": {
  "kernelspec": {
   "display_name": "Python 3 (ipykernel)",
   "language": "python",
   "name": "python3"
  },
  "language_info": {
   "codemirror_mode": {
    "name": "ipython",
    "version": 3
   },
   "file_extension": ".py",
   "mimetype": "text/x-python",
   "name": "python",
   "nbconvert_exporter": "python",
   "pygments_lexer": "ipython3",
   "version": "3.9.13"
  }
 },
 "nbformat": 4,
 "nbformat_minor": 5
}
