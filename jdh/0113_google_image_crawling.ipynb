{
  "cells": [
    {
      "cell_type": "code",
      "execution_count": 1,
      "metadata": {
        "id": "mNNqWeoCoS9X"
      },
      "outputs": [],
      "source": [
        "import numpy as np\n",
        "import pandas as pd\n",
        "import matplotlib.pyplot as plt\n",
        "\n",
        "import tensorflow as tf\n",
        "from tensorflow.keras.models import Sequential\n",
        "from tensorflow.keras.layers import Dense, Flatten, Input, concatenate, Dropout\n",
        "from tensorflow.keras.layers import Conv2D, MaxPool2D, GlobalAveragePooling2D\n",
        "from tensorflow.keras.optimizers import SGD, Adam, RMSprop\n",
        "from tensorflow.keras.utils import to_categorical\n",
        "\n",
        "from datetime import datetime\n",
        "import os\n",
        "import glob\n",
        "import shutil\n",
        "import random\n",
        "import cv2\n",
        "from google.colab import drive\n",
        "import zipfile\n",
        "\n",
        "from tensorflow.keras.applications import Xception, ResNet50, InceptionV3, MobileNet"
      ]
    },
    {
      "cell_type": "code",
      "execution_count": 2,
      "metadata": {
        "colab": {
          "base_uri": "https://localhost:8080/"
        },
        "id": "7qOHUo3boT8B",
        "outputId": "2023cebc-7126-4296-b630-06847ecfc7c0"
      },
      "outputs": [
        {
          "output_type": "stream",
          "name": "stdout",
          "text": [
            "Mounted at /content/gdrive/\n"
          ]
        }
      ],
      "source": [
        "# 구글 드라이브와 연동하기\n",
        "drive.mount(\"/content/gdrive/\")"
      ]
    },
    {
      "cell_type": "code",
      "execution_count": 3,
      "metadata": {
        "colab": {
          "base_uri": "https://localhost:8080/",
          "height": 35
        },
        "id": "1XNBdqPAoba9",
        "outputId": "310cb7f6-44e3-40cd-c50d-a14f9334c820"
      },
      "outputs": [
        {
          "output_type": "execute_result",
          "data": {
            "text/plain": [
              "'/content/food.zip'"
            ],
            "application/vnd.google.colaboratory.intrinsic+json": {
              "type": "string"
            }
          },
          "metadata": {},
          "execution_count": 3
        }
      ],
      "source": [
        "# 짚파일을 맨 첫번째 페이지에 노출되게 하기.\n",
        "dataset_path = \"/content/gdrive/MyDrive/Colab Notebooks\"\n",
        "shutil.copy(os.path.join(dataset_path, \"food.zip\"), \"/content\")"
      ]
    },
    {
      "cell_type": "code",
      "execution_count": 4,
      "metadata": {
        "id": "waewCTNqzR5H"
      },
      "outputs": [],
      "source": [
        "# 관리할 폴더 미리 지정해주기(만들어주는게 아님)\n",
        "\n",
        "DATA_ROOT_DIR = os.path.join(\"/content\", \"food\")\n",
        "TRAIN_DATA_ROOT_DIR = os.path.join(DATA_ROOT_DIR, \"train\") # train이라는 폴더를 만들어 주겠다.\n",
        "TEST_DATA_ROOT_DIR = os.path.join(DATA_ROOT_DIR, \"test\")\n",
        "\n",
        "# label_name_list = 폴더이름이자 정답이름"
      ]
    },
    {
      "cell_type": "code",
      "execution_count": 5,
      "metadata": {
        "id": "Ywo87SPXzS59"
      },
      "outputs": [],
      "source": [
        "# 압축 풀어주기 (풀면 파일이 만들어짐)\n",
        "with zipfile.ZipFile(os.path.join(\"/content\", \"food.zip\"), \"r\") as target_file:\n",
        "  target_file.extractall(TRAIN_DATA_ROOT_DIR)\n",
        "    "
      ]
    },
    {
      "cell_type": "code",
      "source": [
        "# # 삭제할 파일있으면 아래코드 사용하기\n",
        "# if os.path.exists(\"/content/food\"):  # COLAB = os.path.exists(\"/content/GTSRB\")\n",
        "#     shutil.rmtree(\"/content/food\")\n",
        "#     print(\"/content/food/train is deleted!\")"
      ],
      "metadata": {
        "colab": {
          "base_uri": "https://localhost:8080/"
        },
        "id": "R30DkYNuG6gZ",
        "outputId": "9f987be4-f39b-4521-b492-087e5efce643"
      },
      "execution_count": 19,
      "outputs": [
        {
          "output_type": "stream",
          "name": "stdout",
          "text": [
            "/content/food/train is deleted!\n"
          ]
        }
      ]
    },
    {
      "cell_type": "code",
      "execution_count": null,
      "metadata": {
        "id": "HvIlm4r3zU2U",
        "colab": {
          "base_uri": "https://localhost:8080/",
          "height": 36
        },
        "outputId": "1e0566b6-a32c-422c-c1c4-6fba5a687393"
      },
      "outputs": [
        {
          "output_type": "execute_result",
          "data": {
            "text/plain": [
              "'/content/food/train'"
            ],
            "application/vnd.google.colaboratory.intrinsic+json": {
              "type": "string"
            }
          },
          "metadata": {},
          "execution_count": 11
        }
      ],
      "source": [
        "# # 풀어놓은 전체 데이터를 TRAIN파일에 옮겨주자\n",
        "\n",
        "# shutil.copytree(DATA_ROOT_DIR, TRAIN_DATA_ROOT_DIR) # COPYTREE는 기존에 똑같은 이름의 폴더가 있으면 에러가 생김."
      ]
    },
    {
      "cell_type": "code",
      "source": [
        "label_name_list = os.listdir(TRAIN_DATA_ROOT_DIR)\n",
        "label_name_list"
      ],
      "metadata": {
        "colab": {
          "base_uri": "https://localhost:8080/"
        },
        "id": "MYrJzDBolfVo",
        "outputId": "84a53a53-e7ef-4d0f-a47f-c190b0cdbe17"
      },
      "execution_count": 6,
      "outputs": [
        {
          "output_type": "execute_result",
          "data": {
            "text/plain": [
              "['Pizza', 'pasta', 'chicken', 'Burger']"
            ]
          },
          "metadata": {},
          "execution_count": 6
        }
      ]
    },
    {
      "cell_type": "code",
      "execution_count": 7,
      "metadata": {
        "id": "tg_ddqRWzWlF",
        "colab": {
          "base_uri": "https://localhost:8080/"
        },
        "outputId": "377ad05a-34a9-4907-dd61-b679cf959024"
      },
      "outputs": [
        {
          "output_type": "stream",
          "name": "stdout",
          "text": [
            "/content/food/test directory is created\n",
            "/content/food/test/Pizza is created\n",
            "/content/food/test/pasta is created\n",
            "/content/food/test/chicken is created\n",
            "/content/food/test/Burger is created\n",
            "총 횟수 :  4\n"
          ]
        }
      ],
      "source": [
        "# TEST폴더 만들어주자 / 기존에 같은 명의의 파일이 있으면 에러생김\n",
        "\n",
        "if not os.path.exists(\"/content/food/test\"):\n",
        "    os.mkdir(\"/content/food/test\")\n",
        "    print(\"/content/food/test directory is created\")\n",
        "    \n",
        "    count = 0\n",
        "    for label_name in label_name_list:\n",
        "        os.mkdir(\"/content/food/test/\" + label_name.strip())\n",
        "        print(\"/content/food/test/\" + label_name.strip() + \" is created\")\n",
        "        \n",
        "        count = count + 1\n",
        "        \n",
        "    print(\"총 횟수 : \", count)"
      ]
    },
    {
      "cell_type": "code",
      "execution_count": 8,
      "metadata": {
        "id": "C8FHSja9zxgK",
        "colab": {
          "base_uri": "https://localhost:8080/"
        },
        "outputId": "540e44c7-7f38-4450-f1f6-fc26015988c2"
      },
      "outputs": [
        {
          "output_type": "stream",
          "name": "stdout",
          "text": [
            "==========================================================\n",
            "total [Pizza] image file nums => [1500]\n",
            "분리할 갯수 :  300\n",
            "total move nums =>  300\n",
            "===========================================================\n",
            "==========================================================\n",
            "total [pasta] image file nums => [1230]\n",
            "분리할 갯수 :  246\n",
            "total move nums =>  246\n",
            "===========================================================\n",
            "==========================================================\n",
            "total [chicken] image file nums => [1396]\n",
            "분리할 갯수 :  279\n",
            "total move nums =>  279\n",
            "===========================================================\n",
            "==========================================================\n",
            "total [Burger] image file nums => [1500]\n",
            "분리할 갯수 :  300\n",
            "total move nums =>  300\n",
            "===========================================================\n"
          ]
        }
      ],
      "source": [
        "ratio = 0.2\n",
        "\n",
        "src_root_dir = \"/content/food/train/\"\n",
        "dst_root_dir = \"/content/food/test/\"\n",
        "\n",
        "for label_name in label_name_list:\n",
        "    train_image_file_list = glob.glob(src_root_dir + label_name + \"/*.*\")\n",
        "    print(\"==========================================================\")\n",
        "    \n",
        "    print(\"total [%s] image file nums => [%s]\"%(label_name, len(train_image_file_list)))\n",
        "    \n",
        "    split_num = int(ratio * len(train_image_file_list))\n",
        "    print(\"분리할 갯수 : \", split_num)\n",
        "    \n",
        "    test_image_file_list = train_image_file_list[0:split_num]\n",
        "    \n",
        "    # move\n",
        "    move_nums = 0\n",
        "    for image_file in test_image_file_list:\n",
        "        shutil.move(image_file, dst_root_dir + label_name)\n",
        "        move_nums = move_nums + 1\n",
        "        \n",
        "    print(\"total move nums => \", move_nums)\n",
        "    print(\"===========================================================\")"
      ]
    },
    {
      "cell_type": "code",
      "execution_count": 9,
      "metadata": {
        "id": "SqbzrTNfzxb1",
        "colab": {
          "base_uri": "https://localhost:8080/"
        },
        "outputId": "8c27b034-6c36-49a0-a973-ea45e95b3111"
      },
      "outputs": [
        {
          "output_type": "stream",
          "name": "stdout",
          "text": [
            "Elapsed Time :  0:00:10.914221\n"
          ]
        }
      ],
      "source": [
        "# 실제 이미지를 메모리에 올려놓자\n",
        "\n",
        "train_data_list = []\n",
        "train_label_list = []\n",
        "\n",
        "class_dict = {\"Pizza\":0, \"pasta\":1,\"chicken\":2, \"Burger\":3}\n",
        "\n",
        "\n",
        "start_time = datetime.now()\n",
        "for label_name in label_name_list:\n",
        "  file_path = os.path.join(TRAIN_DATA_ROOT_DIR, label_name)\n",
        "  img_file_list = glob.glob(file_path + \"/*.*\")\n",
        "\n",
        "\n",
        "# 이미지, 색, 순서(bgr->rgb)\n",
        "  for img in img_file_list:\n",
        "    src_img = cv2.imread(img,cv2.IMREAD_COLOR)\n",
        "    src_img = cv2.resize(src_img, dsize=(224,224))\n",
        "    src_img = cv2.cvtColor(src_img, cv2.COLOR_BGR2RGB)\n",
        "\n",
        "    train_data_list.append(src_img)\n",
        "    train_label_list.append(class_dict[label_name])\n",
        "end_time = datetime.now()\n",
        "print(\"Elapsed Time : \", end_time - start_time)"
      ]
    },
    {
      "cell_type": "code",
      "execution_count": 10,
      "metadata": {
        "id": "DlkuAqiRzxYw"
      },
      "outputs": [],
      "source": [
        "X_train = np.array(train_data_list).astype(\"float32\")\n",
        "y_train = np.array(train_label_list).astype(\"float32\")"
      ]
    },
    {
      "cell_type": "code",
      "execution_count": 11,
      "metadata": {
        "id": "iUcJHMntzxUi",
        "colab": {
          "base_uri": "https://localhost:8080/"
        },
        "outputId": "2e622079-0eec-4a9c-f63f-189540953b70"
      },
      "outputs": [
        {
          "output_type": "stream",
          "name": "stdout",
          "text": [
            "(4501, 224, 224, 3) (4501,)\n"
          ]
        }
      ],
      "source": [
        "print(X_train.shape, y_train.shape)"
      ]
    },
    {
      "cell_type": "code",
      "execution_count": 12,
      "metadata": {
        "id": "WoPptIFozxRd"
      },
      "outputs": [],
      "source": [
        "# 실제 이미지를 메모리에 올려놓자 test\n",
        "\n",
        "test_data_list = []\n",
        "test_label_list = []\n",
        "\n",
        "class_dict = {\"Pizza\":0, \"pasta\":1,\"chicken\":2, \"Burger\":3}\n",
        "\n",
        "for label_name in label_name_list:\n",
        "  file_path = os.path.join(TEST_DATA_ROOT_DIR, label_name)\n",
        "  img_file_list = glob.glob(file_path + \"/*.*\")\n",
        "\n",
        "\n",
        "# 이미지, 색, 순서(bgr->rgb)\n",
        "  for img in img_file_list:\n",
        "    src_img = cv2.imread(img,cv2.IMREAD_COLOR)\n",
        "    src_img = cv2.resize(src_img, dsize=(224,224))\n",
        "    src_img = cv2.cvtColor(src_img, cv2.COLOR_BGR2RGB)\n",
        "\n",
        "    test_data_list.append(src_img)\n",
        "    test_label_list.append(class_dict[label_name])"
      ]
    },
    {
      "cell_type": "code",
      "execution_count": 13,
      "metadata": {
        "id": "abAdVaKezxOn"
      },
      "outputs": [],
      "source": [
        "X_test = np.array(test_data_list).astype(\"float32\")\n",
        "y_test = np.array(test_label_list).astype(\"float32\")"
      ]
    },
    {
      "cell_type": "code",
      "execution_count": 14,
      "metadata": {
        "id": "CWzHUGFszxLr",
        "colab": {
          "base_uri": "https://localhost:8080/"
        },
        "outputId": "cc66fef3-9a29-45ee-b024-cd6eac7cfd16"
      },
      "outputs": [
        {
          "output_type": "stream",
          "name": "stdout",
          "text": [
            "(1125, 224, 224, 3) (1125,)\n"
          ]
        }
      ],
      "source": [
        "print(X_test.shape, y_test.shape)"
      ]
    },
    {
      "cell_type": "code",
      "execution_count": 15,
      "metadata": {
        "id": "0cE8-30RzxIW"
      },
      "outputs": [],
      "source": [
        "# 정규화\n",
        "\n",
        "X_train = X_train / 255.0\n",
        "X_test = X_test / 255.0"
      ]
    },
    {
      "cell_type": "code",
      "source": [
        "base_model = MobileNet(weights=\"imagenet\", include_top=False, input_shape=(224,224,3))\n",
        "\n",
        "model = Sequential()\n",
        "model.add(base_model)\n",
        "\n",
        "# model.add(Flatten())\n",
        "\n",
        "model.add(GlobalAveragePooling2D())\n",
        "model.add(Dense(128, activation='relu')) #은닉층\n",
        "model.add(Dense(128, activation='relu'))\n",
        "\n",
        "model.add(Dense(4, activation = 'softmax'))\n",
        "model.compile(loss='sparse_categorical_crossentropy', optimizer=Adam(learning_rate=0.00001), metrics=[\"accuracy\"])\n",
        "base_model.summary()"
      ],
      "metadata": {
        "colab": {
          "base_uri": "https://localhost:8080/"
        },
        "id": "FJZbN4XCtWgW",
        "outputId": "a639200a-db86-47b8-dea1-33783f63ee8c"
      },
      "execution_count": 16,
      "outputs": [
        {
          "output_type": "stream",
          "name": "stdout",
          "text": [
            "Downloading data from https://storage.googleapis.com/tensorflow/keras-applications/mobilenet/mobilenet_1_0_224_tf_no_top.h5\n",
            "17225924/17225924 [==============================] - 1s 0us/step\n",
            "Model: \"mobilenet_1.00_224\"\n",
            "_________________________________________________________________\n",
            " Layer (type)                Output Shape              Param #   \n",
            "=================================================================\n",
            " input_1 (InputLayer)        [(None, 224, 224, 3)]     0         \n",
            "                                                                 \n",
            " conv1 (Conv2D)              (None, 112, 112, 32)      864       \n",
            "                                                                 \n",
            " conv1_bn (BatchNormalizatio  (None, 112, 112, 32)     128       \n",
            " n)                                                              \n",
            "                                                                 \n",
            " conv1_relu (ReLU)           (None, 112, 112, 32)      0         \n",
            "                                                                 \n",
            " conv_dw_1 (DepthwiseConv2D)  (None, 112, 112, 32)     288       \n",
            "                                                                 \n",
            " conv_dw_1_bn (BatchNormaliz  (None, 112, 112, 32)     128       \n",
            " ation)                                                          \n",
            "                                                                 \n",
            " conv_dw_1_relu (ReLU)       (None, 112, 112, 32)      0         \n",
            "                                                                 \n",
            " conv_pw_1 (Conv2D)          (None, 112, 112, 64)      2048      \n",
            "                                                                 \n",
            " conv_pw_1_bn (BatchNormaliz  (None, 112, 112, 64)     256       \n",
            " ation)                                                          \n",
            "                                                                 \n",
            " conv_pw_1_relu (ReLU)       (None, 112, 112, 64)      0         \n",
            "                                                                 \n",
            " conv_pad_2 (ZeroPadding2D)  (None, 113, 113, 64)      0         \n",
            "                                                                 \n",
            " conv_dw_2 (DepthwiseConv2D)  (None, 56, 56, 64)       576       \n",
            "                                                                 \n",
            " conv_dw_2_bn (BatchNormaliz  (None, 56, 56, 64)       256       \n",
            " ation)                                                          \n",
            "                                                                 \n",
            " conv_dw_2_relu (ReLU)       (None, 56, 56, 64)        0         \n",
            "                                                                 \n",
            " conv_pw_2 (Conv2D)          (None, 56, 56, 128)       8192      \n",
            "                                                                 \n",
            " conv_pw_2_bn (BatchNormaliz  (None, 56, 56, 128)      512       \n",
            " ation)                                                          \n",
            "                                                                 \n",
            " conv_pw_2_relu (ReLU)       (None, 56, 56, 128)       0         \n",
            "                                                                 \n",
            " conv_dw_3 (DepthwiseConv2D)  (None, 56, 56, 128)      1152      \n",
            "                                                                 \n",
            " conv_dw_3_bn (BatchNormaliz  (None, 56, 56, 128)      512       \n",
            " ation)                                                          \n",
            "                                                                 \n",
            " conv_dw_3_relu (ReLU)       (None, 56, 56, 128)       0         \n",
            "                                                                 \n",
            " conv_pw_3 (Conv2D)          (None, 56, 56, 128)       16384     \n",
            "                                                                 \n",
            " conv_pw_3_bn (BatchNormaliz  (None, 56, 56, 128)      512       \n",
            " ation)                                                          \n",
            "                                                                 \n",
            " conv_pw_3_relu (ReLU)       (None, 56, 56, 128)       0         \n",
            "                                                                 \n",
            " conv_pad_4 (ZeroPadding2D)  (None, 57, 57, 128)       0         \n",
            "                                                                 \n",
            " conv_dw_4 (DepthwiseConv2D)  (None, 28, 28, 128)      1152      \n",
            "                                                                 \n",
            " conv_dw_4_bn (BatchNormaliz  (None, 28, 28, 128)      512       \n",
            " ation)                                                          \n",
            "                                                                 \n",
            " conv_dw_4_relu (ReLU)       (None, 28, 28, 128)       0         \n",
            "                                                                 \n",
            " conv_pw_4 (Conv2D)          (None, 28, 28, 256)       32768     \n",
            "                                                                 \n",
            " conv_pw_4_bn (BatchNormaliz  (None, 28, 28, 256)      1024      \n",
            " ation)                                                          \n",
            "                                                                 \n",
            " conv_pw_4_relu (ReLU)       (None, 28, 28, 256)       0         \n",
            "                                                                 \n",
            " conv_dw_5 (DepthwiseConv2D)  (None, 28, 28, 256)      2304      \n",
            "                                                                 \n",
            " conv_dw_5_bn (BatchNormaliz  (None, 28, 28, 256)      1024      \n",
            " ation)                                                          \n",
            "                                                                 \n",
            " conv_dw_5_relu (ReLU)       (None, 28, 28, 256)       0         \n",
            "                                                                 \n",
            " conv_pw_5 (Conv2D)          (None, 28, 28, 256)       65536     \n",
            "                                                                 \n",
            " conv_pw_5_bn (BatchNormaliz  (None, 28, 28, 256)      1024      \n",
            " ation)                                                          \n",
            "                                                                 \n",
            " conv_pw_5_relu (ReLU)       (None, 28, 28, 256)       0         \n",
            "                                                                 \n",
            " conv_pad_6 (ZeroPadding2D)  (None, 29, 29, 256)       0         \n",
            "                                                                 \n",
            " conv_dw_6 (DepthwiseConv2D)  (None, 14, 14, 256)      2304      \n",
            "                                                                 \n",
            " conv_dw_6_bn (BatchNormaliz  (None, 14, 14, 256)      1024      \n",
            " ation)                                                          \n",
            "                                                                 \n",
            " conv_dw_6_relu (ReLU)       (None, 14, 14, 256)       0         \n",
            "                                                                 \n",
            " conv_pw_6 (Conv2D)          (None, 14, 14, 512)       131072    \n",
            "                                                                 \n",
            " conv_pw_6_bn (BatchNormaliz  (None, 14, 14, 512)      2048      \n",
            " ation)                                                          \n",
            "                                                                 \n",
            " conv_pw_6_relu (ReLU)       (None, 14, 14, 512)       0         \n",
            "                                                                 \n",
            " conv_dw_7 (DepthwiseConv2D)  (None, 14, 14, 512)      4608      \n",
            "                                                                 \n",
            " conv_dw_7_bn (BatchNormaliz  (None, 14, 14, 512)      2048      \n",
            " ation)                                                          \n",
            "                                                                 \n",
            " conv_dw_7_relu (ReLU)       (None, 14, 14, 512)       0         \n",
            "                                                                 \n",
            " conv_pw_7 (Conv2D)          (None, 14, 14, 512)       262144    \n",
            "                                                                 \n",
            " conv_pw_7_bn (BatchNormaliz  (None, 14, 14, 512)      2048      \n",
            " ation)                                                          \n",
            "                                                                 \n",
            " conv_pw_7_relu (ReLU)       (None, 14, 14, 512)       0         \n",
            "                                                                 \n",
            " conv_dw_8 (DepthwiseConv2D)  (None, 14, 14, 512)      4608      \n",
            "                                                                 \n",
            " conv_dw_8_bn (BatchNormaliz  (None, 14, 14, 512)      2048      \n",
            " ation)                                                          \n",
            "                                                                 \n",
            " conv_dw_8_relu (ReLU)       (None, 14, 14, 512)       0         \n",
            "                                                                 \n",
            " conv_pw_8 (Conv2D)          (None, 14, 14, 512)       262144    \n",
            "                                                                 \n",
            " conv_pw_8_bn (BatchNormaliz  (None, 14, 14, 512)      2048      \n",
            " ation)                                                          \n",
            "                                                                 \n",
            " conv_pw_8_relu (ReLU)       (None, 14, 14, 512)       0         \n",
            "                                                                 \n",
            " conv_dw_9 (DepthwiseConv2D)  (None, 14, 14, 512)      4608      \n",
            "                                                                 \n",
            " conv_dw_9_bn (BatchNormaliz  (None, 14, 14, 512)      2048      \n",
            " ation)                                                          \n",
            "                                                                 \n",
            " conv_dw_9_relu (ReLU)       (None, 14, 14, 512)       0         \n",
            "                                                                 \n",
            " conv_pw_9 (Conv2D)          (None, 14, 14, 512)       262144    \n",
            "                                                                 \n",
            " conv_pw_9_bn (BatchNormaliz  (None, 14, 14, 512)      2048      \n",
            " ation)                                                          \n",
            "                                                                 \n",
            " conv_pw_9_relu (ReLU)       (None, 14, 14, 512)       0         \n",
            "                                                                 \n",
            " conv_dw_10 (DepthwiseConv2D  (None, 14, 14, 512)      4608      \n",
            " )                                                               \n",
            "                                                                 \n",
            " conv_dw_10_bn (BatchNormali  (None, 14, 14, 512)      2048      \n",
            " zation)                                                         \n",
            "                                                                 \n",
            " conv_dw_10_relu (ReLU)      (None, 14, 14, 512)       0         \n",
            "                                                                 \n",
            " conv_pw_10 (Conv2D)         (None, 14, 14, 512)       262144    \n",
            "                                                                 \n",
            " conv_pw_10_bn (BatchNormali  (None, 14, 14, 512)      2048      \n",
            " zation)                                                         \n",
            "                                                                 \n",
            " conv_pw_10_relu (ReLU)      (None, 14, 14, 512)       0         \n",
            "                                                                 \n",
            " conv_dw_11 (DepthwiseConv2D  (None, 14, 14, 512)      4608      \n",
            " )                                                               \n",
            "                                                                 \n",
            " conv_dw_11_bn (BatchNormali  (None, 14, 14, 512)      2048      \n",
            " zation)                                                         \n",
            "                                                                 \n",
            " conv_dw_11_relu (ReLU)      (None, 14, 14, 512)       0         \n",
            "                                                                 \n",
            " conv_pw_11 (Conv2D)         (None, 14, 14, 512)       262144    \n",
            "                                                                 \n",
            " conv_pw_11_bn (BatchNormali  (None, 14, 14, 512)      2048      \n",
            " zation)                                                         \n",
            "                                                                 \n",
            " conv_pw_11_relu (ReLU)      (None, 14, 14, 512)       0         \n",
            "                                                                 \n",
            " conv_pad_12 (ZeroPadding2D)  (None, 15, 15, 512)      0         \n",
            "                                                                 \n",
            " conv_dw_12 (DepthwiseConv2D  (None, 7, 7, 512)        4608      \n",
            " )                                                               \n",
            "                                                                 \n",
            " conv_dw_12_bn (BatchNormali  (None, 7, 7, 512)        2048      \n",
            " zation)                                                         \n",
            "                                                                 \n",
            " conv_dw_12_relu (ReLU)      (None, 7, 7, 512)         0         \n",
            "                                                                 \n",
            " conv_pw_12 (Conv2D)         (None, 7, 7, 1024)        524288    \n",
            "                                                                 \n",
            " conv_pw_12_bn (BatchNormali  (None, 7, 7, 1024)       4096      \n",
            " zation)                                                         \n",
            "                                                                 \n",
            " conv_pw_12_relu (ReLU)      (None, 7, 7, 1024)        0         \n",
            "                                                                 \n",
            " conv_dw_13 (DepthwiseConv2D  (None, 7, 7, 1024)       9216      \n",
            " )                                                               \n",
            "                                                                 \n",
            " conv_dw_13_bn (BatchNormali  (None, 7, 7, 1024)       4096      \n",
            " zation)                                                         \n",
            "                                                                 \n",
            " conv_dw_13_relu (ReLU)      (None, 7, 7, 1024)        0         \n",
            "                                                                 \n",
            " conv_pw_13 (Conv2D)         (None, 7, 7, 1024)        1048576   \n",
            "                                                                 \n",
            " conv_pw_13_bn (BatchNormali  (None, 7, 7, 1024)       4096      \n",
            " zation)                                                         \n",
            "                                                                 \n",
            " conv_pw_13_relu (ReLU)      (None, 7, 7, 1024)        0         \n",
            "                                                                 \n",
            "=================================================================\n",
            "Total params: 3,228,864\n",
            "Trainable params: 3,206,976\n",
            "Non-trainable params: 21,888\n",
            "_________________________________________________________________\n"
          ]
        }
      ]
    },
    {
      "cell_type": "code",
      "execution_count": null,
      "metadata": {
        "id": "aANXS2SBzxDY",
        "colab": {
          "base_uri": "https://localhost:8080/"
        },
        "outputId": "bded82e6-79fd-4794-c8c8-8ad20a5c541a"
      },
      "outputs": [
        {
          "output_type": "stream",
          "name": "stdout",
          "text": [
            "Model: \"sequential\"\n",
            "_________________________________________________________________\n",
            " Layer (type)                Output Shape              Param #   \n",
            "=================================================================\n",
            " mobilenet_1.00_128 (Functio  (None, 4, 4, 1024)       3228864   \n",
            " nal)                                                            \n",
            "                                                                 \n",
            " global_average_pooling2d (G  (None, 1024)             0         \n",
            " lobalAveragePooling2D)                                          \n",
            "                                                                 \n",
            " dense (Dense)               (None, 16)                16400     \n",
            "                                                                 \n",
            " dense_1 (Dense)             (None, 16)                272       \n",
            "                                                                 \n",
            " dense_2 (Dense)             (None, 6)                 102       \n",
            "                                                                 \n",
            "=================================================================\n",
            "Total params: 3,245,638\n",
            "Trainable params: 3,223,750\n",
            "Non-trainable params: 21,888\n",
            "_________________________________________________________________\n"
          ]
        }
      ],
      "source": [
        "# # 모델 설계 cmd cmd fdd (sigmoid, binary)\n",
        "# model = Sequential()\n",
        "\n",
        "# model.add(Conv2D(kernel_size=3, filters=32, activation=\"relu\", \n",
        "#                  padding=\"SAME\", input_shape=(128,128,3)))\n",
        "# model.add(MaxPool2D(pool_size=(2,2)))\n",
        "# model.add(Dropout(0.25))\n",
        "\n",
        "# model.add(Conv2D(kernel_size=3, filters=64, activation=\"relu\", kernel_initializer=\"he_normal\",\n",
        "#                  padding=\"SAME\",))\n",
        "# model.add(MaxPool2D(pool_size=(2,2)))\n",
        "# model.add(Dropout(0.25))\n",
        "\n",
        "# model.add(Conv2D(kernel_size=3, filters=64, activation=\"relu\", \n",
        "#                  padding=\"SAME\",))\n",
        "# model.add(MaxPool2D(pool_size=(2,2)))\n",
        "# model.add(Dropout(0.25))\n",
        " \n",
        "# model.add(Flatten())\n",
        "\n",
        "# model.add(Dense(128, activation='relu'))\n",
        "# model.add(Dropout(0.25))\n",
        "# model.add(Dense(6, activation='softmax'))\n",
        "\n",
        "# # 출력 개수가 1인 이유는 이중분류는 1로만 한다.\n",
        "# # 다중 출력이라면 원핫코딩의 개수만큼 적어준다.\n",
        "\n",
        "\n",
        "\n",
        "model.summary()"
      ]
    },
    {
      "cell_type": "code",
      "execution_count": 17,
      "metadata": {
        "id": "azIu8S5Hzw9C",
        "colab": {
          "base_uri": "https://localhost:8080/"
        },
        "outputId": "03b0552b-37bb-482f-b58b-794d46a6467d"
      },
      "outputs": [
        {
          "output_type": "stream",
          "name": "stdout",
          "text": [
            "Epoch 1/30\n",
            "113/113 [==============================] - 33s 203ms/step - loss: 1.0336 - accuracy: 0.5917 - val_loss: 2.0195 - val_accuracy: 0.0644\n",
            "Epoch 2/30\n",
            "113/113 [==============================] - 21s 188ms/step - loss: 0.4794 - accuracy: 0.8836 - val_loss: 1.1820 - val_accuracy: 0.5516\n",
            "Epoch 3/30\n",
            "113/113 [==============================] - 21s 190ms/step - loss: 0.2848 - accuracy: 0.9375 - val_loss: 0.7934 - val_accuracy: 0.7347\n",
            "Epoch 4/30\n",
            "113/113 [==============================] - 22s 195ms/step - loss: 0.1959 - accuracy: 0.9561 - val_loss: 0.5673 - val_accuracy: 0.8113\n",
            "Epoch 5/30\n",
            "113/113 [==============================] - 22s 197ms/step - loss: 0.1591 - accuracy: 0.9586 - val_loss: 0.4680 - val_accuracy: 0.8446\n",
            "Epoch 6/30\n",
            "113/113 [==============================] - 23s 201ms/step - loss: 0.1243 - accuracy: 0.9722 - val_loss: 0.4168 - val_accuracy: 0.8635\n",
            "Epoch 7/30\n",
            "113/113 [==============================] - 23s 200ms/step - loss: 0.1067 - accuracy: 0.9739 - val_loss: 0.3779 - val_accuracy: 0.8824\n",
            "Epoch 8/30\n",
            "113/113 [==============================] - 23s 200ms/step - loss: 0.0786 - accuracy: 0.9836 - val_loss: 0.3558 - val_accuracy: 0.8923\n",
            "Epoch 9/30\n",
            "113/113 [==============================] - 22s 198ms/step - loss: 0.0692 - accuracy: 0.9853 - val_loss: 0.3550 - val_accuracy: 0.8912\n",
            "Epoch 10/30\n",
            "113/113 [==============================] - 23s 201ms/step - loss: 0.0567 - accuracy: 0.9892 - val_loss: 0.3389 - val_accuracy: 0.8990\n",
            "Epoch 11/30\n",
            "113/113 [==============================] - 23s 200ms/step - loss: 0.0465 - accuracy: 0.9919 - val_loss: 0.3248 - val_accuracy: 0.9046\n",
            "Epoch 12/30\n",
            "113/113 [==============================] - 22s 199ms/step - loss: 0.0383 - accuracy: 0.9947 - val_loss: 0.3236 - val_accuracy: 0.9034\n",
            "Epoch 13/30\n",
            "113/113 [==============================] - 22s 199ms/step - loss: 0.0322 - accuracy: 0.9958 - val_loss: 0.3161 - val_accuracy: 0.9068\n",
            "Epoch 14/30\n",
            "113/113 [==============================] - 23s 200ms/step - loss: 0.0329 - accuracy: 0.9931 - val_loss: 0.3069 - val_accuracy: 0.9090\n",
            "Epoch 15/30\n",
            "113/113 [==============================] - 22s 199ms/step - loss: 0.0258 - accuracy: 0.9961 - val_loss: 0.2935 - val_accuracy: 0.9134\n",
            "Epoch 16/30\n",
            "113/113 [==============================] - 22s 199ms/step - loss: 0.0246 - accuracy: 0.9969 - val_loss: 0.2888 - val_accuracy: 0.9168\n",
            "Epoch 17/30\n",
            "113/113 [==============================] - 22s 198ms/step - loss: 0.0212 - accuracy: 0.9978 - val_loss: 0.2940 - val_accuracy: 0.9156\n",
            "Epoch 18/30\n",
            "113/113 [==============================] - 22s 199ms/step - loss: 0.0180 - accuracy: 0.9975 - val_loss: 0.3054 - val_accuracy: 0.9112\n",
            "Epoch 19/30\n",
            "113/113 [==============================] - 22s 198ms/step - loss: 0.0172 - accuracy: 0.9981 - val_loss: 0.3178 - val_accuracy: 0.9112\n",
            "Epoch 20/30\n",
            "113/113 [==============================] - 22s 199ms/step - loss: 0.0152 - accuracy: 0.9981 - val_loss: 0.3170 - val_accuracy: 0.9057\n",
            "Epoch 21/30\n",
            "113/113 [==============================] - 22s 196ms/step - loss: 0.0122 - accuracy: 0.9994 - val_loss: 0.2979 - val_accuracy: 0.9156\n",
            "Epoch 22/30\n",
            "113/113 [==============================] - 23s 201ms/step - loss: 0.0108 - accuracy: 0.9994 - val_loss: 0.2848 - val_accuracy: 0.9179\n",
            "Epoch 23/30\n",
            "113/113 [==============================] - 23s 202ms/step - loss: 0.0098 - accuracy: 0.9992 - val_loss: 0.2963 - val_accuracy: 0.9156\n",
            "Epoch 24/30\n",
            "113/113 [==============================] - 22s 198ms/step - loss: 0.0085 - accuracy: 1.0000 - val_loss: 0.2974 - val_accuracy: 0.9145\n",
            "Epoch 25/30\n",
            "113/113 [==============================] - 22s 198ms/step - loss: 0.0113 - accuracy: 0.9981 - val_loss: 0.2862 - val_accuracy: 0.9190\n",
            "Epoch 26/30\n",
            "113/113 [==============================] - 23s 200ms/step - loss: 0.0096 - accuracy: 0.9989 - val_loss: 0.2823 - val_accuracy: 0.9234\n",
            "Epoch 27/30\n",
            "113/113 [==============================] - 22s 199ms/step - loss: 0.0079 - accuracy: 0.9992 - val_loss: 0.2920 - val_accuracy: 0.9168\n",
            "Epoch 28/30\n",
            "113/113 [==============================] - 23s 199ms/step - loss: 0.0060 - accuracy: 0.9997 - val_loss: 0.2878 - val_accuracy: 0.9190\n",
            "Epoch 29/30\n",
            "113/113 [==============================] - 22s 197ms/step - loss: 0.0086 - accuracy: 0.9986 - val_loss: 0.2707 - val_accuracy: 0.9267\n",
            "Epoch 30/30\n",
            "113/113 [==============================] - 22s 199ms/step - loss: 0.0066 - accuracy: 0.9994 - val_loss: 0.2899 - val_accuracy: 0.9223\n"
          ]
        }
      ],
      "source": [
        "from tensorflow.keras.callbacks import EarlyStopping\n",
        "earlystopping = EarlyStopping(monitor='val_loss', patience=10, verbose=1)\n",
        "\n",
        "result = model.fit(X_train, y_train, epochs=30, validation_split=0.2, callbacks=[earlystopping])\n",
        "\n",
        "\n",
        "#### 결과 작성\n",
        "### imagenet, dd 128, adam0.00001, 다중분류\n",
        "## loss: 0.0066 - accuracy: 0.9994 - val_loss: 0.2899 - val_accuracy: 0.9223"
      ]
    },
    {
      "cell_type": "code",
      "execution_count": 18,
      "metadata": {
        "id": "9xwRjBwDzwwm",
        "colab": {
          "base_uri": "https://localhost:8080/"
        },
        "outputId": "70ebc5d1-be21-4c42-bed8-26c8e495b684"
      },
      "outputs": [
        {
          "output_type": "stream",
          "name": "stdout",
          "text": [
            "36/36 [==============================] - 1s 39ms/step - loss: 0.1595 - accuracy: 0.9476\n"
          ]
        },
        {
          "output_type": "execute_result",
          "data": {
            "text/plain": [
              "[0.15950730443000793, 0.9475555419921875]"
            ]
          },
          "metadata": {},
          "execution_count": 18
        }
      ],
      "source": [
        "model.evaluate(X_test, y_test)\n",
        "\n",
        "### imagenet, dd 128, adam0.00001, 다중분류\n",
        "## [0.15950730443000793, 0.9475555419921875]"
      ]
    },
    {
      "cell_type": "markdown",
      "source": [],
      "metadata": {
        "id": "wIrPd7ckPX90"
      }
    },
    {
      "cell_type": "code",
      "source": [
        "test_img2 = cv2.imread(\"/content/gdrive/MyDrive/Colab Notebooks/for_test/1.jpg\", cv2.IMREAD_COLOR)\n",
        "test_img2 = cv2.resize(test_img2, dsize=(224,224))\n",
        "test_img2 = cv2.cvtColor(test_img2, cv2.COLOR_BGR2RGB)\n",
        "\n",
        "pred2 = model.predict(test_img2.reshape(-1, 224,224,3))\n",
        "score2=tf.nn.softmax(pred2)\n",
        "\n",
        "print(\"{:.2f}percnet confidence.\".format( 100*np.max(score2)))"
      ],
      "metadata": {
        "id": "2YmAiEqorYay",
        "colab": {
          "base_uri": "https://localhost:8080/"
        },
        "outputId": "1be04a04-b057-4dd0-d355-ebcf8d2c428b"
      },
      "execution_count": 31,
      "outputs": [
        {
          "output_type": "stream",
          "name": "stdout",
          "text": [
            "1/1 [==============================] - 0s 18ms/step\n",
            "45.38percnet confidence.\n"
          ]
        }
      ]
    },
    {
      "cell_type": "code",
      "source": [
        "type(test_img2)"
      ],
      "metadata": {
        "colab": {
          "base_uri": "https://localhost:8080/"
        },
        "id": "ZHzkECbTN8sQ",
        "outputId": "906a99ab-c807-4613-9f6d-1436bc6e7ffc"
      },
      "execution_count": 25,
      "outputs": [
        {
          "output_type": "execute_result",
          "data": {
            "text/plain": [
              "NoneType"
            ]
          },
          "metadata": {},
          "execution_count": 25
        }
      ]
    },
    {
      "cell_type": "code",
      "source": [],
      "metadata": {
        "id": "MD1fbUUoO6FN"
      },
      "execution_count": null,
      "outputs": []
    },
    {
      "cell_type": "markdown",
      "source": [
        "1월 12일 종합\n",
        "모델링설계는 그대로 가고\n",
        "학습에서 높은점수 약 92프로정도와 evaluate도 높은것을 보아 모델링설계에서는 문제가 없는것 같다. 하지만 실제 예측값이 낮다는 문제점 발견. \n",
        "\n",
        "이미지 크롤링단계에서 더 많은 정제된 이미지를 가져오는것이 중요해졌다. \n",
        "\n",
        "\n",
        "1. 피자사진만 predict해봤는데, 다른 사진도 해봐야겠다. \n",
        "2. 방향성은 맞으니, 이미지 오답처리와 정제된 이미지 가져오는게 중요해졌다. \n"
      ],
      "metadata": {
        "id": "48aF-f_PPe3-"
      }
    }
  ],
  "metadata": {
    "accelerator": "GPU",
    "colab": {
      "provenance": []
    },
    "gpuClass": "standard",
    "kernelspec": {
      "display_name": "Python 3",
      "name": "python3"
    },
    "language_info": {
      "name": "python"
    }
  },
  "nbformat": 4,
  "nbformat_minor": 0
}