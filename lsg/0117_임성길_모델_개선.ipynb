{
  "cells": [
    {
      "cell_type": "code",
      "execution_count": 1,
      "metadata": {
        "id": "K97vHsyAj61u"
      },
      "outputs": [],
      "source": [
        "import numpy as np\n",
        "import pandas as pd\n",
        "import matplotlib.pyplot as plt\n",
        "import seaborn as sns\n",
        "\n",
        "from sklearn.datasets import load_iris\n",
        "from sklearn.model_selection import train_test_split\n",
        "from sklearn.preprocessing import StandardScaler, LabelEncoder\n",
        "from sklearn.metrics import accuracy_score\n",
        "\n",
        "import tensorflow as tf\n",
        "from tensorflow.keras.models import Sequential, Model, load_model\n",
        "from tensorflow.keras.layers import Flatten, Dense, Input, concatenate, Dropout\n",
        "from tensorflow.keras.layers import Conv2D, MaxPool2D , GlobalAveragePooling2D\n",
        "from tensorflow.keras.optimizers import SGD, Adam, RMSprop\n",
        "from tensorflow.keras.utils import to_categorical\n",
        "\n",
        "from tensorflow.keras.applications import Xception, ResNet50, InceptionV3, MobileNet\n",
        "from tensorflow.keras.callbacks import EarlyStopping\n",
        "\n",
        "import os\n",
        "import cv2\n",
        "\n",
        "from numpy import expand_dims\n",
        "from tensorflow.keras.preprocessing.image import load_img\n",
        "from tensorflow.keras.preprocessing.image import img_to_array\n",
        "from tensorflow.keras.preprocessing.image import ImageDataGenerator\n"
      ]
    },
    {
      "cell_type": "code",
      "source": [
        "from google.colab import drive\n",
        "drive.mount('/content/drive')"
      ],
      "metadata": {
        "colab": {
          "base_uri": "https://localhost:8080/"
        },
        "id": "t79NQC-iCpup",
        "outputId": "9261931a-f54c-4a8b-bc49-b6c49b6630d7"
      },
      "execution_count": 2,
      "outputs": [
        {
          "output_type": "stream",
          "name": "stdout",
          "text": [
            "Mounted at /content/drive\n"
          ]
        }
      ]
    },
    {
      "cell_type": "code",
      "source": [
        "import zipfile\n",
        "\n",
        "with zipfile.ZipFile(\"/content/drive/MyDrive/food/food0117.zip\",  \"r\") as target_file:\n",
        "  target_file.extractall(\"/content/drive/MyDrive/food/food0117/\")"
      ],
      "metadata": {
        "id": "Crvl3HZJC9F5"
      },
      "execution_count": 3,
      "outputs": []
    },
    {
      "cell_type": "code",
      "execution_count": 6,
      "metadata": {
        "id": "p7CGzA9Zj8UX"
      },
      "outputs": [],
      "source": [
        "# DATA ROOT DIR 설정\n",
        "DATA_ROOT_DIR = os.path.join('/content/drive/MyDrive/food/food0117') \n",
        "label_name_list = os.listdir(DATA_ROOT_DIR)"
      ]
    },
    {
      "cell_type": "markdown",
      "source": [],
      "metadata": {
        "id": "VpMizz6TNK9t"
      }
    },
    {
      "cell_type": "code",
      "execution_count": 7,
      "metadata": {
        "id": "Jiy2KJcJkAj-"
      },
      "outputs": [],
      "source": [
        "import glob\n",
        "import cv2\n",
        "\n",
        "image_list=[]\n",
        "label_list=[]\n",
        "\n",
        "# 경로 지정\n",
        "for label_name in label_name_list:\n",
        "    file_path = os.path.join(DATA_ROOT_DIR, label_name)\n",
        "    img_file_list=glob.glob(file_path + \"/*.*\")\n",
        "    \n",
        "    # 폴더 별로 반복문 돌리기\n",
        "    for img_file in img_file_list:\n",
        "        src_img = cv2.imread(img_file, cv2.IMREAD_COLOR) # 컬러이미지로 가져오기\n",
        "        src_img = cv2.resize(src_img, dsize=(128,128)) # 사이즈 조절\n",
        "        src_img = cv2.cvtColor(src_img, cv2.COLOR_BGR2RGB) # BGR 에서 RGB로 변환\n",
        "        \n",
        "        image_list.append(src_img) # X값\n",
        "        label_list.append(float(label_name)) # Y값"
      ]
    },
    {
      "cell_type": "code",
      "execution_count": 8,
      "metadata": {
        "colab": {
          "base_uri": "https://localhost:8080/"
        },
        "id": "QvfGibBCwbCI",
        "outputId": "a9e43758-b1e7-4fe0-8228-894ef3abf7eb"
      },
      "outputs": [
        {
          "output_type": "stream",
          "name": "stdout",
          "text": [
            "16344 16344\n"
          ]
        }
      ],
      "source": [
        "# list에 담겼는지 확인\n",
        "print(len(image_list),len(label_list))"
      ]
    },
    {
      "cell_type": "code",
      "source": [
        "# 10563 10563 폴더 0,1,2,3,4"
      ],
      "metadata": {
        "id": "0szahRplNL7v"
      },
      "execution_count": 9,
      "outputs": []
    },
    {
      "cell_type": "code",
      "execution_count": 11,
      "metadata": {
        "id": "oxXiRU4swcvx"
      },
      "outputs": [],
      "source": [
        "X_train, X_test, y_train, y_test =train_test_split(np.array(image_list),\n",
        "                                                   np.array(label_list),\n",
        "                                                   test_size=0.2,\n",
        "                                                   stratify=np.array(label_list)) # label을 비율에 맞게 설정"
      ]
    },
    {
      "cell_type": "code",
      "execution_count": 12,
      "metadata": {
        "colab": {
          "base_uri": "https://localhost:8080/"
        },
        "id": "iJbKty9XwcyS",
        "outputId": "513b7c29-e5d9-4595-e888-db5b3a202e83"
      },
      "outputs": [
        {
          "output_type": "stream",
          "name": "stdout",
          "text": [
            "(13075, 128, 128, 3) (3269, 128, 128, 3) (13075,) (3269,)\n"
          ]
        }
      ],
      "source": [
        "# shape확인\n",
        "print(X_train.shape, X_test.shape, y_train.shape, y_test.shape)"
      ]
    },
    {
      "cell_type": "code",
      "execution_count": 13,
      "metadata": {
        "id": "CXYEHXACwc09"
      },
      "outputs": [],
      "source": [
        "# 정규화\n",
        "X_train= X_train.astype(np.float32) /255.0\n",
        "X_test= X_test.astype(np.float32) /255.0"
      ]
    },
    {
      "cell_type": "code",
      "source": [
        "tr_gen=ImageDataGenerator(rotation_range=10,\n",
        "                           width_shift_range=0.3,\n",
        "                           height_shift_range=0.3,\n",
        "                           zoom_range= 0.1)\n",
        "\n",
        "idg_tr= tr_gen.flow(X_train, y_train, batch_size=128, shuffle=True)"
      ],
      "metadata": {
        "id": "58qTq3CPIqc-"
      },
      "execution_count": 14,
      "outputs": []
    },
    {
      "cell_type": "code",
      "execution_count": null,
      "metadata": {
        "id": "CXe9GN4_wc4J"
      },
      "outputs": [],
      "source": [
        "# 모델 설계\n",
        "\n",
        "model = Sequential()\n",
        "\n",
        "\n",
        "model.add(Conv2D(input_shape=(128,128,3), kernel_size=3,\n",
        "                 filters=32,strides=(1,1), padding=\"SAME\", activation=\"relu\"))\n",
        "\n",
        "# 1sf conv layer\n",
        "model.add(MaxPool2D(pool_size=(2, 2)))\n",
        "model.add(Conv2D(kernel_size=3,filters=64,\n",
        "                 strides=(1,1), padding=\"SAME\", activation=\"relu\"))\n",
        "\n",
        "model.add(Dropout(0.5))\n",
        "\n",
        "# 2nd conv layer\n",
        "model.add(MaxPool2D(pool_size=(2, 2)))\n",
        "model.add(Conv2D(kernel_size=3,filters=128,\n",
        "                 strides=(1,1), padding=\"SAME\", activation=\"relu\",kernel_initializer=\"he_normal\"))\n",
        "\n",
        "# 3rd conv layer\n",
        "model.add(MaxPool2D(pool_size=(2, 2)))\n",
        "model.add(Conv2D(kernel_size=3,filters=256,\n",
        "                 strides=(1,1), padding=\"SAME\", activation=\"relu\"))\n",
        "\n",
        "\n",
        "model.add(Dropout(0.5))\n",
        "\n",
        "model.add(Flatten())\n",
        "\n",
        "\n",
        "model.add(Dense(256, activation=\"relu\"))\n",
        "model.add(Dropout(0.5))\n",
        "model.add(Dense(256, activation=\"relu\"))\n",
        "model.add(Dropout(0.5))\n",
        "model.add(Dense(256, activation=\"relu\"))\n",
        "model.add(Dropout(0.5))\n",
        "\n",
        "# 출력층\n",
        "model.add(Dense(5, activation=\"softmax\"))\n",
        "\n",
        "\n",
        "\n",
        "model.compile(optimizer=Adam(learning_rate=0.0001), loss=\"sparse_categorical_crossentropy\",\n",
        "              metrics=[\"accuracy\"])\n",
        "\n",
        "\n"
      ]
    },
    {
      "cell_type": "code",
      "execution_count": null,
      "metadata": {
        "colab": {
          "base_uri": "https://localhost:8080/"
        },
        "id": "ntnkb6u1wc7J",
        "outputId": "83d63658-d9eb-4291-e7c7-020f70a34b86"
      },
      "outputs": [
        {
          "output_type": "stream",
          "name": "stdout",
          "text": [
            "Model: \"sequential_2\"\n",
            "_________________________________________________________________\n",
            " Layer (type)                Output Shape              Param #   \n",
            "=================================================================\n",
            " conv2d_8 (Conv2D)           (None, 128, 128, 32)      896       \n",
            "                                                                 \n",
            " max_pooling2d_6 (MaxPooling  (None, 64, 64, 32)       0         \n",
            " 2D)                                                             \n",
            "                                                                 \n",
            " conv2d_9 (Conv2D)           (None, 64, 64, 64)        18496     \n",
            "                                                                 \n",
            " dropout_11 (Dropout)        (None, 64, 64, 64)        0         \n",
            "                                                                 \n",
            " max_pooling2d_7 (MaxPooling  (None, 32, 32, 64)       0         \n",
            " 2D)                                                             \n",
            "                                                                 \n",
            " conv2d_10 (Conv2D)          (None, 32, 32, 128)       73856     \n",
            "                                                                 \n",
            " max_pooling2d_8 (MaxPooling  (None, 16, 16, 128)      0         \n",
            " 2D)                                                             \n",
            "                                                                 \n",
            " conv2d_11 (Conv2D)          (None, 16, 16, 256)       295168    \n",
            "                                                                 \n",
            " dropout_12 (Dropout)        (None, 16, 16, 256)       0         \n",
            "                                                                 \n",
            " flatten_2 (Flatten)         (None, 65536)             0         \n",
            "                                                                 \n",
            " dense_9 (Dense)             (None, 256)               16777472  \n",
            "                                                                 \n",
            " dropout_13 (Dropout)        (None, 256)               0         \n",
            "                                                                 \n",
            " dense_10 (Dense)            (None, 256)               65792     \n",
            "                                                                 \n",
            " dropout_14 (Dropout)        (None, 256)               0         \n",
            "                                                                 \n",
            " dense_11 (Dense)            (None, 256)               65792     \n",
            "                                                                 \n",
            " dropout_15 (Dropout)        (None, 256)               0         \n",
            "                                                                 \n",
            " dense_12 (Dense)            (None, 5)                 1285      \n",
            "                                                                 \n",
            "=================================================================\n",
            "Total params: 17,298,757\n",
            "Trainable params: 17,298,757\n",
            "Non-trainable params: 0\n",
            "_________________________________________________________________\n"
          ]
        }
      ],
      "source": [
        "# 모델 summary\n",
        "model.summary()"
      ]
    },
    {
      "cell_type": "code",
      "execution_count": null,
      "metadata": {
        "colab": {
          "base_uri": "https://localhost:8080/",
          "height": 474
        },
        "id": "WzpYlgaEwc-R",
        "outputId": "0bd20e9e-34cd-4b16-e802-1ce1e1209301"
      },
      "outputs": [
        {
          "output_type": "stream",
          "name": "stdout",
          "text": [
            "Epoch 1/300\n",
            "103/103 [==============================] - 47s 450ms/step - loss: nan - accuracy: 0.2449 - val_loss: nan - val_accuracy: 0.2459\n",
            "Epoch 2/300\n",
            " 33/103 [========>.....................] - ETA: 30s - loss: nan - accuracy: 0.2552"
          ]
        },
        {
          "output_type": "error",
          "ename": "KeyboardInterrupt",
          "evalue": "ignored",
          "traceback": [
            "\u001b[0;31m---------------------------------------------------------------------------\u001b[0m",
            "\u001b[0;31mKeyboardInterrupt\u001b[0m                         Traceback (most recent call last)",
            "\u001b[0;32m<ipython-input-23-de79eb16937c>\u001b[0m in \u001b[0;36m<module>\u001b[0;34m\u001b[0m\n\u001b[1;32m      5\u001b[0m \u001b[0;34m\u001b[0m\u001b[0m\n\u001b[1;32m      6\u001b[0m \u001b[0mstart_time\u001b[0m \u001b[0;34m=\u001b[0m \u001b[0mdatetime\u001b[0m\u001b[0;34m.\u001b[0m\u001b[0mnow\u001b[0m\u001b[0;34m(\u001b[0m\u001b[0;34m)\u001b[0m\u001b[0;34m\u001b[0m\u001b[0;34m\u001b[0m\u001b[0m\n\u001b[0;32m----> 7\u001b[0;31m \u001b[0mresult\u001b[0m\u001b[0;34m=\u001b[0m \u001b[0mmodel\u001b[0m\u001b[0;34m.\u001b[0m\u001b[0mfit\u001b[0m\u001b[0;34m(\u001b[0m\u001b[0midg_tr\u001b[0m\u001b[0;34m,\u001b[0m \u001b[0mepochs\u001b[0m\u001b[0;34m=\u001b[0m\u001b[0;36m300\u001b[0m\u001b[0;34m,\u001b[0m \u001b[0mvalidation_data\u001b[0m\u001b[0;34m=\u001b[0m\u001b[0;34m(\u001b[0m\u001b[0mX_test\u001b[0m\u001b[0;34m,\u001b[0m\u001b[0my_test\u001b[0m\u001b[0;34m)\u001b[0m\u001b[0;34m,\u001b[0m\u001b[0mbatch_size\u001b[0m\u001b[0;34m=\u001b[0m\u001b[0;36m64\u001b[0m\u001b[0;34m,\u001b[0m \u001b[0mcallbacks\u001b[0m\u001b[0;34m=\u001b[0m\u001b[0;34m[\u001b[0m\u001b[0mearlystopping\u001b[0m\u001b[0;34m]\u001b[0m\u001b[0;34m)\u001b[0m\u001b[0;34m\u001b[0m\u001b[0;34m\u001b[0m\u001b[0m\n\u001b[0m\u001b[1;32m      8\u001b[0m \u001b[0mend_time\u001b[0m \u001b[0;34m=\u001b[0m \u001b[0mdatetime\u001b[0m\u001b[0;34m.\u001b[0m\u001b[0mnow\u001b[0m\u001b[0;34m(\u001b[0m\u001b[0;34m)\u001b[0m\u001b[0;34m\u001b[0m\u001b[0;34m\u001b[0m\u001b[0m\n\u001b[1;32m      9\u001b[0m \u001b[0;34m\u001b[0m\u001b[0m\n",
            "\u001b[0;32m/usr/local/lib/python3.8/dist-packages/keras/utils/traceback_utils.py\u001b[0m in \u001b[0;36merror_handler\u001b[0;34m(*args, **kwargs)\u001b[0m\n\u001b[1;32m     62\u001b[0m     \u001b[0mfiltered_tb\u001b[0m \u001b[0;34m=\u001b[0m \u001b[0;32mNone\u001b[0m\u001b[0;34m\u001b[0m\u001b[0;34m\u001b[0m\u001b[0m\n\u001b[1;32m     63\u001b[0m     \u001b[0;32mtry\u001b[0m\u001b[0;34m:\u001b[0m\u001b[0;34m\u001b[0m\u001b[0;34m\u001b[0m\u001b[0m\n\u001b[0;32m---> 64\u001b[0;31m       \u001b[0;32mreturn\u001b[0m \u001b[0mfn\u001b[0m\u001b[0;34m(\u001b[0m\u001b[0;34m*\u001b[0m\u001b[0margs\u001b[0m\u001b[0;34m,\u001b[0m \u001b[0;34m**\u001b[0m\u001b[0mkwargs\u001b[0m\u001b[0;34m)\u001b[0m\u001b[0;34m\u001b[0m\u001b[0;34m\u001b[0m\u001b[0m\n\u001b[0m\u001b[1;32m     65\u001b[0m     \u001b[0;32mexcept\u001b[0m \u001b[0mException\u001b[0m \u001b[0;32mas\u001b[0m \u001b[0me\u001b[0m\u001b[0;34m:\u001b[0m  \u001b[0;31m# pylint: disable=broad-except\u001b[0m\u001b[0;34m\u001b[0m\u001b[0;34m\u001b[0m\u001b[0m\n\u001b[1;32m     66\u001b[0m       \u001b[0mfiltered_tb\u001b[0m \u001b[0;34m=\u001b[0m \u001b[0m_process_traceback_frames\u001b[0m\u001b[0;34m(\u001b[0m\u001b[0me\u001b[0m\u001b[0;34m.\u001b[0m\u001b[0m__traceback__\u001b[0m\u001b[0;34m)\u001b[0m\u001b[0;34m\u001b[0m\u001b[0;34m\u001b[0m\u001b[0m\n",
            "\u001b[0;32m/usr/local/lib/python3.8/dist-packages/keras/engine/training.py\u001b[0m in \u001b[0;36mfit\u001b[0;34m(self, x, y, batch_size, epochs, verbose, callbacks, validation_split, validation_data, shuffle, class_weight, sample_weight, initial_epoch, steps_per_epoch, validation_steps, validation_batch_size, validation_freq, max_queue_size, workers, use_multiprocessing)\u001b[0m\n\u001b[1;32m   1407\u001b[0m                 _r=1):\n\u001b[1;32m   1408\u001b[0m               \u001b[0mcallbacks\u001b[0m\u001b[0;34m.\u001b[0m\u001b[0mon_train_batch_begin\u001b[0m\u001b[0;34m(\u001b[0m\u001b[0mstep\u001b[0m\u001b[0;34m)\u001b[0m\u001b[0;34m\u001b[0m\u001b[0;34m\u001b[0m\u001b[0m\n\u001b[0;32m-> 1409\u001b[0;31m               \u001b[0mtmp_logs\u001b[0m \u001b[0;34m=\u001b[0m \u001b[0mself\u001b[0m\u001b[0;34m.\u001b[0m\u001b[0mtrain_function\u001b[0m\u001b[0;34m(\u001b[0m\u001b[0miterator\u001b[0m\u001b[0;34m)\u001b[0m\u001b[0;34m\u001b[0m\u001b[0;34m\u001b[0m\u001b[0m\n\u001b[0m\u001b[1;32m   1410\u001b[0m               \u001b[0;32mif\u001b[0m \u001b[0mdata_handler\u001b[0m\u001b[0;34m.\u001b[0m\u001b[0mshould_sync\u001b[0m\u001b[0;34m:\u001b[0m\u001b[0;34m\u001b[0m\u001b[0;34m\u001b[0m\u001b[0m\n\u001b[1;32m   1411\u001b[0m                 \u001b[0mcontext\u001b[0m\u001b[0;34m.\u001b[0m\u001b[0masync_wait\u001b[0m\u001b[0;34m(\u001b[0m\u001b[0;34m)\u001b[0m\u001b[0;34m\u001b[0m\u001b[0;34m\u001b[0m\u001b[0m\n",
            "\u001b[0;32m/usr/local/lib/python3.8/dist-packages/tensorflow/python/util/traceback_utils.py\u001b[0m in \u001b[0;36merror_handler\u001b[0;34m(*args, **kwargs)\u001b[0m\n\u001b[1;32m    148\u001b[0m     \u001b[0mfiltered_tb\u001b[0m \u001b[0;34m=\u001b[0m \u001b[0;32mNone\u001b[0m\u001b[0;34m\u001b[0m\u001b[0;34m\u001b[0m\u001b[0m\n\u001b[1;32m    149\u001b[0m     \u001b[0;32mtry\u001b[0m\u001b[0;34m:\u001b[0m\u001b[0;34m\u001b[0m\u001b[0;34m\u001b[0m\u001b[0m\n\u001b[0;32m--> 150\u001b[0;31m       \u001b[0;32mreturn\u001b[0m \u001b[0mfn\u001b[0m\u001b[0;34m(\u001b[0m\u001b[0;34m*\u001b[0m\u001b[0margs\u001b[0m\u001b[0;34m,\u001b[0m \u001b[0;34m**\u001b[0m\u001b[0mkwargs\u001b[0m\u001b[0;34m)\u001b[0m\u001b[0;34m\u001b[0m\u001b[0;34m\u001b[0m\u001b[0m\n\u001b[0m\u001b[1;32m    151\u001b[0m     \u001b[0;32mexcept\u001b[0m \u001b[0mException\u001b[0m \u001b[0;32mas\u001b[0m \u001b[0me\u001b[0m\u001b[0;34m:\u001b[0m\u001b[0;34m\u001b[0m\u001b[0;34m\u001b[0m\u001b[0m\n\u001b[1;32m    152\u001b[0m       \u001b[0mfiltered_tb\u001b[0m \u001b[0;34m=\u001b[0m \u001b[0m_process_traceback_frames\u001b[0m\u001b[0;34m(\u001b[0m\u001b[0me\u001b[0m\u001b[0;34m.\u001b[0m\u001b[0m__traceback__\u001b[0m\u001b[0;34m)\u001b[0m\u001b[0;34m\u001b[0m\u001b[0;34m\u001b[0m\u001b[0m\n",
            "\u001b[0;32m/usr/local/lib/python3.8/dist-packages/tensorflow/python/eager/def_function.py\u001b[0m in \u001b[0;36m__call__\u001b[0;34m(self, *args, **kwds)\u001b[0m\n\u001b[1;32m    913\u001b[0m \u001b[0;34m\u001b[0m\u001b[0m\n\u001b[1;32m    914\u001b[0m       \u001b[0;32mwith\u001b[0m \u001b[0mOptionalXlaContext\u001b[0m\u001b[0;34m(\u001b[0m\u001b[0mself\u001b[0m\u001b[0;34m.\u001b[0m\u001b[0m_jit_compile\u001b[0m\u001b[0;34m)\u001b[0m\u001b[0;34m:\u001b[0m\u001b[0;34m\u001b[0m\u001b[0;34m\u001b[0m\u001b[0m\n\u001b[0;32m--> 915\u001b[0;31m         \u001b[0mresult\u001b[0m \u001b[0;34m=\u001b[0m \u001b[0mself\u001b[0m\u001b[0;34m.\u001b[0m\u001b[0m_call\u001b[0m\u001b[0;34m(\u001b[0m\u001b[0;34m*\u001b[0m\u001b[0margs\u001b[0m\u001b[0;34m,\u001b[0m \u001b[0;34m**\u001b[0m\u001b[0mkwds\u001b[0m\u001b[0;34m)\u001b[0m\u001b[0;34m\u001b[0m\u001b[0;34m\u001b[0m\u001b[0m\n\u001b[0m\u001b[1;32m    916\u001b[0m \u001b[0;34m\u001b[0m\u001b[0m\n\u001b[1;32m    917\u001b[0m       \u001b[0mnew_tracing_count\u001b[0m \u001b[0;34m=\u001b[0m \u001b[0mself\u001b[0m\u001b[0;34m.\u001b[0m\u001b[0mexperimental_get_tracing_count\u001b[0m\u001b[0;34m(\u001b[0m\u001b[0;34m)\u001b[0m\u001b[0;34m\u001b[0m\u001b[0;34m\u001b[0m\u001b[0m\n",
            "\u001b[0;32m/usr/local/lib/python3.8/dist-packages/tensorflow/python/eager/def_function.py\u001b[0m in \u001b[0;36m_call\u001b[0;34m(self, *args, **kwds)\u001b[0m\n\u001b[1;32m    945\u001b[0m       \u001b[0;31m# In this case we have created variables on the first call, so we run the\u001b[0m\u001b[0;34m\u001b[0m\u001b[0;34m\u001b[0m\u001b[0;34m\u001b[0m\u001b[0m\n\u001b[1;32m    946\u001b[0m       \u001b[0;31m# defunned version which is guaranteed to never create variables.\u001b[0m\u001b[0;34m\u001b[0m\u001b[0;34m\u001b[0m\u001b[0;34m\u001b[0m\u001b[0m\n\u001b[0;32m--> 947\u001b[0;31m       \u001b[0;32mreturn\u001b[0m \u001b[0mself\u001b[0m\u001b[0;34m.\u001b[0m\u001b[0m_stateless_fn\u001b[0m\u001b[0;34m(\u001b[0m\u001b[0;34m*\u001b[0m\u001b[0margs\u001b[0m\u001b[0;34m,\u001b[0m \u001b[0;34m**\u001b[0m\u001b[0mkwds\u001b[0m\u001b[0;34m)\u001b[0m  \u001b[0;31m# pylint: disable=not-callable\u001b[0m\u001b[0;34m\u001b[0m\u001b[0;34m\u001b[0m\u001b[0m\n\u001b[0m\u001b[1;32m    948\u001b[0m     \u001b[0;32melif\u001b[0m \u001b[0mself\u001b[0m\u001b[0;34m.\u001b[0m\u001b[0m_stateful_fn\u001b[0m \u001b[0;32mis\u001b[0m \u001b[0;32mnot\u001b[0m \u001b[0;32mNone\u001b[0m\u001b[0;34m:\u001b[0m\u001b[0;34m\u001b[0m\u001b[0;34m\u001b[0m\u001b[0m\n\u001b[1;32m    949\u001b[0m       \u001b[0;31m# Release the lock early so that multiple threads can perform the call\u001b[0m\u001b[0;34m\u001b[0m\u001b[0;34m\u001b[0m\u001b[0;34m\u001b[0m\u001b[0m\n",
            "\u001b[0;32m/usr/local/lib/python3.8/dist-packages/tensorflow/python/eager/function.py\u001b[0m in \u001b[0;36m__call__\u001b[0;34m(self, *args, **kwargs)\u001b[0m\n\u001b[1;32m   2451\u001b[0m       (graph_function,\n\u001b[1;32m   2452\u001b[0m        filtered_flat_args) = self._maybe_define_function(args, kwargs)\n\u001b[0;32m-> 2453\u001b[0;31m     return graph_function._call_flat(\n\u001b[0m\u001b[1;32m   2454\u001b[0m         filtered_flat_args, captured_inputs=graph_function.captured_inputs)  # pylint: disable=protected-access\n\u001b[1;32m   2455\u001b[0m \u001b[0;34m\u001b[0m\u001b[0m\n",
            "\u001b[0;32m/usr/local/lib/python3.8/dist-packages/tensorflow/python/eager/function.py\u001b[0m in \u001b[0;36m_call_flat\u001b[0;34m(self, args, captured_inputs, cancellation_manager)\u001b[0m\n\u001b[1;32m   1858\u001b[0m         and executing_eagerly):\n\u001b[1;32m   1859\u001b[0m       \u001b[0;31m# No tape is watching; skip to running the function.\u001b[0m\u001b[0;34m\u001b[0m\u001b[0;34m\u001b[0m\u001b[0;34m\u001b[0m\u001b[0m\n\u001b[0;32m-> 1860\u001b[0;31m       return self._build_call_outputs(self._inference_function.call(\n\u001b[0m\u001b[1;32m   1861\u001b[0m           ctx, args, cancellation_manager=cancellation_manager))\n\u001b[1;32m   1862\u001b[0m     forward_backward = self._select_forward_and_backward_functions(\n",
            "\u001b[0;32m/usr/local/lib/python3.8/dist-packages/tensorflow/python/eager/function.py\u001b[0m in \u001b[0;36mcall\u001b[0;34m(self, ctx, args, cancellation_manager)\u001b[0m\n\u001b[1;32m    495\u001b[0m       \u001b[0;32mwith\u001b[0m \u001b[0m_InterpolateFunctionError\u001b[0m\u001b[0;34m(\u001b[0m\u001b[0mself\u001b[0m\u001b[0;34m)\u001b[0m\u001b[0;34m:\u001b[0m\u001b[0;34m\u001b[0m\u001b[0;34m\u001b[0m\u001b[0m\n\u001b[1;32m    496\u001b[0m         \u001b[0;32mif\u001b[0m \u001b[0mcancellation_manager\u001b[0m \u001b[0;32mis\u001b[0m \u001b[0;32mNone\u001b[0m\u001b[0;34m:\u001b[0m\u001b[0;34m\u001b[0m\u001b[0;34m\u001b[0m\u001b[0m\n\u001b[0;32m--> 497\u001b[0;31m           outputs = execute.execute(\n\u001b[0m\u001b[1;32m    498\u001b[0m               \u001b[0mstr\u001b[0m\u001b[0;34m(\u001b[0m\u001b[0mself\u001b[0m\u001b[0;34m.\u001b[0m\u001b[0msignature\u001b[0m\u001b[0;34m.\u001b[0m\u001b[0mname\u001b[0m\u001b[0;34m)\u001b[0m\u001b[0;34m,\u001b[0m\u001b[0;34m\u001b[0m\u001b[0;34m\u001b[0m\u001b[0m\n\u001b[1;32m    499\u001b[0m               \u001b[0mnum_outputs\u001b[0m\u001b[0;34m=\u001b[0m\u001b[0mself\u001b[0m\u001b[0;34m.\u001b[0m\u001b[0m_num_outputs\u001b[0m\u001b[0;34m,\u001b[0m\u001b[0;34m\u001b[0m\u001b[0;34m\u001b[0m\u001b[0m\n",
            "\u001b[0;32m/usr/local/lib/python3.8/dist-packages/tensorflow/python/eager/execute.py\u001b[0m in \u001b[0;36mquick_execute\u001b[0;34m(op_name, num_outputs, inputs, attrs, ctx, name)\u001b[0m\n\u001b[1;32m     52\u001b[0m   \u001b[0;32mtry\u001b[0m\u001b[0;34m:\u001b[0m\u001b[0;34m\u001b[0m\u001b[0;34m\u001b[0m\u001b[0m\n\u001b[1;32m     53\u001b[0m     \u001b[0mctx\u001b[0m\u001b[0;34m.\u001b[0m\u001b[0mensure_initialized\u001b[0m\u001b[0;34m(\u001b[0m\u001b[0;34m)\u001b[0m\u001b[0;34m\u001b[0m\u001b[0;34m\u001b[0m\u001b[0m\n\u001b[0;32m---> 54\u001b[0;31m     tensors = pywrap_tfe.TFE_Py_Execute(ctx._handle, device_name, op_name,\n\u001b[0m\u001b[1;32m     55\u001b[0m                                         inputs, attrs, num_outputs)\n\u001b[1;32m     56\u001b[0m   \u001b[0;32mexcept\u001b[0m \u001b[0mcore\u001b[0m\u001b[0;34m.\u001b[0m\u001b[0m_NotOkStatusException\u001b[0m \u001b[0;32mas\u001b[0m \u001b[0me\u001b[0m\u001b[0;34m:\u001b[0m\u001b[0;34m\u001b[0m\u001b[0;34m\u001b[0m\u001b[0m\n",
            "\u001b[0;31mKeyboardInterrupt\u001b[0m: "
          ]
        }
      ],
      "source": [
        "# 시간 측정\n",
        "from datetime import datetime\n",
        "\n",
        "earlystopping = EarlyStopping(monitor='val_loss', patience=10, verbose=1)\n",
        "\n",
        "start_time = datetime.now()\n",
        "result= model.fit(idg_tr, epochs=300, validation_data=(X_test,y_test),batch_size=64, callbacks=[earlystopping])\n",
        "end_time = datetime.now()\n",
        "\n",
        "print(\"\\n걸린 시간 : \",end_time - start_time)"
      ]
    },
    {
      "cell_type": "code",
      "execution_count": null,
      "metadata": {
        "colab": {
          "base_uri": "https://localhost:8080/"
        },
        "id": "Za9jD0twwdBB",
        "outputId": "cd5cdda0-fe40-4faa-d5ea-457b6ae96234"
      },
      "outputs": [
        {
          "output_type": "stream",
          "name": "stdout",
          "text": [
            "67/67 [==============================] - 0s 5ms/step - loss: 0.2738 - accuracy: 0.9068\n"
          ]
        },
        {
          "output_type": "execute_result",
          "data": {
            "text/plain": [
              "[0.2737515866756439, 0.9067676067352295]"
            ]
          },
          "metadata": {},
          "execution_count": 243
        }
      ],
      "source": [
        "# evaluate\n",
        "model.evaluate(X_test, y_test)"
      ]
    },
    {
      "cell_type": "code",
      "execution_count": null,
      "metadata": {
        "id": "EAK6vcV9wdEB"
      },
      "outputs": [],
      "source": [
        "# 1st record val_loss: 1.3691 - val_accuracy: 0.7468, evaluation : 측정 불가\n",
        "# 2st record val_loss: 1.2780 - val_accuracy: 0.7556  size =(64,64), evaluation : loss: 1.3522 - accuracy: 0.7487 / size=(64,64)로 수정\n",
        "\n",
        "# 3rd evaluation : loss: 1.0672 - accuracy: 0.7492\n",
        "# 4th evaluation : loss: 0.7347 - accuracy: 0.7690\n",
        "# 5th evaluation : loss: 0.6705 - accuracy: 0.7814, val_size =0.2 에서 val_data=X_test, y_test로 변경"
      ]
    },
    {
      "cell_type": "code",
      "execution_count": null,
      "metadata": {
        "colab": {
          "base_uri": "https://localhost:8080/"
        },
        "id": "a9LoIy3QwdG5",
        "outputId": "16335651-ec0d-44d7-fe15-6c79ae285ff9"
      },
      "outputs": [
        {
          "output_type": "stream",
          "name": "stdout",
          "text": [
            "1/1 [==============================] - 0s 105ms/step\n",
            "57.61percnet confidence.\n",
            "tf.Tensor([[0.21194157 0.21194157 0.57611686]], shape=(1, 3), dtype=float32)\n"
          ]
        }
      ],
      "source": [
        "# Predict - 1 chicken\n",
        "\n",
        "test_img2 = cv2.imread(\"/content/drive/MyDrive/Colab Notebooks/for_test/2.jpg\", cv2.IMREAD_COLOR) # 컬러이미지로 가져오기\n",
        "test_img2= cv2.resize(test_img2, dsize=(128,128)) # 사이즈 조절\n",
        "test_img2 = cv2.cvtColor(test_img2, cv2.COLOR_BGR2RGB) # BGR 에서 RGB로 변환\n",
        "\n",
        "pred2 = model.predict(test_img2.reshape(-1, 128,128,3))\n",
        "score2=tf.nn.softmax(pred2)\n",
        "\n",
        "print(\"{:.2f}percnet confidence.\".format( 100*np.max(score2)))\n",
        "print(score2)"
      ]
    },
    {
      "cell_type": "code",
      "source": [
        "# 1st tf.Tensor([[0.12956251 0.12956251 0.12956251 0.3521874  0.12956251 0.12956251]], shape=(1, 6), dtype=float32)\n",
        "# 2nd tf.Tensor([[0.12956251 0.3521874  0.12956251 0.12956251 0.12956251 0.12956251]], shape=(1, 6), dtype=float32)\n",
        "# tf.Tensor([[0.21194157 0.21194157 0.57611686]], shape=(1, 3), dtype=float32) 3가지 분류"
      ],
      "metadata": {
        "id": "X-wzTcE81zZg"
      },
      "execution_count": null,
      "outputs": []
    },
    {
      "cell_type": "code",
      "execution_count": null,
      "metadata": {
        "colab": {
          "base_uri": "https://localhost:8080/"
        },
        "id": "hQdprQ7ID3q0",
        "outputId": "569517db-d1d9-4ace-a239-9cda4e1b3a0c"
      },
      "outputs": [
        {
          "output_type": "stream",
          "name": "stdout",
          "text": [
            "1/1 [==============================] - 0s 20ms/step\n",
            "57.61percnet confidence.\n",
            "tf.Tensor([[0.21194157 0.21194157 0.57611686]], shape=(1, 3), dtype=float32)\n"
          ]
        }
      ],
      "source": [
        "# Predict - 2 pizza\n",
        "\n",
        "test_img4 = cv2.imread(\"/content/drive/MyDrive/Colab Notebooks/for_test/4.jpg\", cv2.IMREAD_COLOR) # 컬러이미지로 가져오기\n",
        "test_img4= cv2.resize(test_img4, dsize=(128,128)) # 사이즈 조절\n",
        "test_img4 = cv2.cvtColor(test_img4, cv2.COLOR_BGR2RGB) # BGR 에서 RGB로 변환\n",
        "\n",
        "pred4 = model.predict(test_img4.reshape(-1, 128,128,3))\n",
        "score4=tf.nn.softmax(pred4)\n",
        "\n",
        "print(\"{:.2f}percnet confidence.\".format( 100*np.max(score4)))\n",
        "print(score4)"
      ]
    },
    {
      "cell_type": "code",
      "source": [
        "# tf.Tensor([[0.12956251 0.12956251 0.12956251 0.3521874  0.12956251 0.12956251]], shape=(1, 6), dtype=float32)\n",
        "# tf.Tensor([[0.12956251 0.12956251 0.12956251 0.3521874  0.12956251 0.12956251]], shape=(1, 6), dtype=float32)\n",
        "# tf.Tensor([[0.21194157 0.21194157 0.57611686]], shape=(1, 3), dtype=float32) 3가지 분류"
      ],
      "metadata": {
        "id": "AOOUtPArwblw"
      },
      "execution_count": null,
      "outputs": []
    },
    {
      "cell_type": "code",
      "execution_count": null,
      "metadata": {
        "colab": {
          "base_uri": "https://localhost:8080/",
          "height": 180
        },
        "id": "PL_MdfKlD3tK",
        "outputId": "e8b1c7eb-5df9-4ac0-daa6-4bf8d1b95903"
      },
      "outputs": [
        {
          "output_type": "execute_result",
          "data": {
            "text/plain": [
              "<matplotlib.image.AxesImage at 0x7fe5900ef610>"
            ]
          },
          "metadata": {},
          "execution_count": 17
        },
        {
          "output_type": "display_data",
          "data": {
            "text/plain": [
              "<Figure size 432x288 with 2 Axes>"
            ],
            "image/png": "[encoded data removed]"
          },
          "metadata": {
            "needs_background": "light"
          }
        }
      ],
      "source": [
        "# 사용 이미지\n",
        "\n",
        "t2 = cv2.imread(\"/content/drive/MyDrive/Colab Notebooks/for_test/2.jpg\",cv2.IMREAD_COLOR)\n",
        "t2= cv2.cvtColor(t2, cv2.COLOR_BGR2RGB)\n",
        "t4 = cv2.imread(\"/content/drive/MyDrive/Colab Notebooks/for_test/4.jpg\",cv2.IMREAD_COLOR)\n",
        "t4= cv2.cvtColor(t4, cv2.COLOR_BGR2RGB)\n",
        "\n",
        "plt.subplot(1, 2, 1)\n",
        "plt.imshow(t2)\n",
        "\n",
        "plt.subplot(1, 2, 2)\n",
        "plt.imshow(t4)"
      ]
    },
    {
      "cell_type": "code",
      "execution_count": null,
      "metadata": {
        "colab": {
          "base_uri": "https://localhost:8080/"
        },
        "id": "ucbPiadVD3vu",
        "outputId": "3354ce3e-74df-4257-acc3-da165e54ddee"
      },
      "outputs": [
        {
          "data": {
            "text/plain": [
              "numpy.ndarray"
            ]
          },
          "execution_count": 112,
          "metadata": {},
          "output_type": "execute_result"
        }
      ],
      "source": [
        "type(t2)"
      ]
    },
    {
      "cell_type": "code",
      "execution_count": null,
      "metadata": {
        "id": "bzuL2pRLD3yb"
      },
      "outputs": [],
      "source": []
    },
    {
      "cell_type": "code",
      "execution_count": null,
      "metadata": {
        "id": "i6JuH9QID4UD"
      },
      "outputs": [],
      "source": []
    },
    {
      "cell_type": "code",
      "execution_count": null,
      "metadata": {
        "id": "Z5fTqAklD4W1"
      },
      "outputs": [],
      "source": []
    },
    {
      "cell_type": "code",
      "execution_count": null,
      "metadata": {
        "id": "8xME-d6WwdJy"
      },
      "outputs": [],
      "source": [
        "# 모바일넷 모델"
      ]
    },
    {
      "cell_type": "code",
      "execution_count": 50,
      "metadata": {
        "id": "wZekGifYwdMx"
      },
      "outputs": [],
      "source": [
        "base_model = MobileNet(weights=\"imagenet\", include_top=False, input_shape=(128,128,3))\n",
        "\n",
        "model = Sequential()\n",
        "model.add(base_model)\n",
        "\n",
        "\n",
        "\n",
        "model.add(GlobalAveragePooling2D())\n",
        "model.add(Dense(128, activation='relu', kernel_initializer=\"he_normal\"))\n",
        "model.add(Dropout(0.5))\n",
        "model.add(Dense(64, activation='relu',kernel_initializer=\"he_normal\"))\n",
        "model.add(Dropout(0.5))\n",
        "model.add(Dense(128, activation='relu',kernel_initializer=\"he_normal\"))\n",
        "model.add(Dropout(0.5))\n",
        "\n",
        "\n",
        "model.add(Flatten())\n",
        "model.add(Dropout(0.5))\n",
        "\n",
        "model.add(Dense(5, activation = 'softmax'))\n",
        "\n",
        "model.compile(loss='sparse_categorical_crossentropy', optimizer=Adam(learning_rate=0.0001), metrics=[\"accuracy\"])"
      ]
    },
    {
      "cell_type": "code",
      "execution_count": 51,
      "metadata": {
        "colab": {
          "base_uri": "https://localhost:8080/"
        },
        "id": "OmkyVJbI4w3D",
        "outputId": "1bca1d86-1d00-4a5a-c835-0fa0dfa47b6a"
      },
      "outputs": [
        {
          "output_type": "stream",
          "name": "stdout",
          "text": [
            "Epoch 1/50\n",
            "103/103 [==============================] - 48s 439ms/step - loss: 3.1778 - accuracy: 0.2317 - val_loss: 1.3966 - val_accuracy: 0.5078\n",
            "Epoch 2/50\n",
            "103/103 [==============================] - 44s 429ms/step - loss: 1.7806 - accuracy: 0.2661 - val_loss: 1.3982 - val_accuracy: 0.5736\n",
            "Epoch 3/50\n",
            "103/103 [==============================] - 44s 427ms/step - loss: 1.6175 - accuracy: 0.2958 - val_loss: 1.3481 - val_accuracy: 0.6002\n",
            "Epoch 4/50\n",
            "103/103 [==============================] - 44s 428ms/step - loss: 1.5289 - accuracy: 0.3284 - val_loss: 1.2380 - val_accuracy: 0.6528\n",
            "Epoch 5/50\n",
            "103/103 [==============================] - 44s 429ms/step - loss: 1.4359 - accuracy: 0.3767 - val_loss: 1.1152 - val_accuracy: 0.6932\n",
            "Epoch 6/50\n",
            "103/103 [==============================] - 45s 431ms/step - loss: 1.3320 - accuracy: 0.4231 - val_loss: 0.9858 - val_accuracy: 0.7017\n",
            "Epoch 7/50\n",
            "103/103 [==============================] - 44s 428ms/step - loss: 1.2321 - accuracy: 0.4690 - val_loss: 0.8629 - val_accuracy: 0.7369\n",
            "Epoch 8/50\n",
            "103/103 [==============================] - 44s 429ms/step - loss: 1.1251 - accuracy: 0.5228 - val_loss: 0.7113 - val_accuracy: 0.7635\n",
            "Epoch 9/50\n",
            "103/103 [==============================] - 44s 433ms/step - loss: 1.0107 - accuracy: 0.5667 - val_loss: 0.5761 - val_accuracy: 0.7816\n",
            "Epoch 10/50\n",
            "103/103 [==============================] - 44s 429ms/step - loss: 0.9173 - accuracy: 0.6094 - val_loss: 0.4957 - val_accuracy: 0.7886\n",
            "Epoch 11/50\n",
            "103/103 [==============================] - 44s 429ms/step - loss: 0.8407 - accuracy: 0.6379 - val_loss: 0.4595 - val_accuracy: 0.7917\n",
            "Epoch 12/50\n",
            "103/103 [==============================] - 44s 428ms/step - loss: 0.7604 - accuracy: 0.6884 - val_loss: 0.4437 - val_accuracy: 0.7950\n",
            "Epoch 13/50\n",
            "103/103 [==============================] - 44s 429ms/step - loss: 0.7008 - accuracy: 0.7347 - val_loss: 0.4096 - val_accuracy: 0.9180\n",
            "Epoch 14/50\n",
            "103/103 [==============================] - 44s 429ms/step - loss: 0.6411 - accuracy: 0.7837 - val_loss: 0.4058 - val_accuracy: 0.9290\n",
            "Epoch 15/50\n",
            "103/103 [==============================] - 44s 429ms/step - loss: 0.6036 - accuracy: 0.8173 - val_loss: 0.3959 - val_accuracy: 0.9318\n",
            "Epoch 16/50\n",
            "103/103 [==============================] - 44s 429ms/step - loss: 0.5653 - accuracy: 0.8516 - val_loss: 0.3951 - val_accuracy: 0.9342\n",
            "Epoch 17/50\n",
            "103/103 [==============================] - 44s 430ms/step - loss: 0.5334 - accuracy: 0.8708 - val_loss: 0.3939 - val_accuracy: 0.9306\n",
            "Epoch 18/50\n",
            "103/103 [==============================] - 44s 429ms/step - loss: 0.4911 - accuracy: 0.8925 - val_loss: 0.3775 - val_accuracy: 0.9410\n",
            "Epoch 19/50\n",
            "103/103 [==============================] - 44s 428ms/step - loss: 0.4622 - accuracy: 0.8994 - val_loss: 0.3727 - val_accuracy: 0.9434\n",
            "Epoch 20/50\n",
            "103/103 [==============================] - 45s 432ms/step - loss: 0.4388 - accuracy: 0.9105 - val_loss: 0.3635 - val_accuracy: 0.9428\n",
            "Epoch 21/50\n",
            "103/103 [==============================] - 44s 430ms/step - loss: 0.4309 - accuracy: 0.9105 - val_loss: 0.3932 - val_accuracy: 0.9309\n",
            "Epoch 22/50\n",
            "103/103 [==============================] - 45s 431ms/step - loss: 0.4085 - accuracy: 0.9201 - val_loss: 0.3735 - val_accuracy: 0.9394\n",
            "Epoch 23/50\n",
            "103/103 [==============================] - 44s 430ms/step - loss: 0.3876 - accuracy: 0.9270 - val_loss: 0.3902 - val_accuracy: 0.9397\n",
            "Epoch 24/50\n",
            "103/103 [==============================] - 44s 427ms/step - loss: 0.3664 - accuracy: 0.9297 - val_loss: 0.3576 - val_accuracy: 0.9474\n",
            "Epoch 25/50\n",
            "103/103 [==============================] - 44s 429ms/step - loss: 0.3542 - accuracy: 0.9347 - val_loss: 0.4713 - val_accuracy: 0.9229\n",
            "Epoch 26/50\n",
            "103/103 [==============================] - 44s 431ms/step - loss: 0.3275 - accuracy: 0.9400 - val_loss: 0.3290 - val_accuracy: 0.9556\n",
            "Epoch 27/50\n",
            "103/103 [==============================] - 45s 435ms/step - loss: 0.3058 - accuracy: 0.9480 - val_loss: 0.3590 - val_accuracy: 0.9553\n",
            "Epoch 28/50\n",
            "103/103 [==============================] - 45s 432ms/step - loss: 0.2845 - accuracy: 0.9514 - val_loss: 0.3507 - val_accuracy: 0.9544\n",
            "Epoch 29/50\n",
            "103/103 [==============================] - 44s 429ms/step - loss: 0.2814 - accuracy: 0.9517 - val_loss: 0.3436 - val_accuracy: 0.9498\n",
            "Epoch 30/50\n",
            "103/103 [==============================] - 44s 429ms/step - loss: 0.2638 - accuracy: 0.9563 - val_loss: 0.3576 - val_accuracy: 0.9449\n",
            "Epoch 31/50\n",
            "103/103 [==============================] - 44s 429ms/step - loss: 0.2481 - accuracy: 0.9557 - val_loss: 0.3703 - val_accuracy: 0.9511\n",
            "Epoch 32/50\n",
            "103/103 [==============================] - 44s 430ms/step - loss: 0.2457 - accuracy: 0.9581 - val_loss: 0.4968 - val_accuracy: 0.9370\n",
            "Epoch 33/50\n",
            "103/103 [==============================] - 44s 428ms/step - loss: 0.2246 - accuracy: 0.9638 - val_loss: 0.3644 - val_accuracy: 0.9474\n",
            "Epoch 34/50\n",
            "103/103 [==============================] - 44s 428ms/step - loss: 0.2166 - accuracy: 0.9621 - val_loss: 0.4001 - val_accuracy: 0.9480\n",
            "Epoch 35/50\n",
            "103/103 [==============================] - 44s 430ms/step - loss: 0.2071 - accuracy: 0.9667 - val_loss: 0.3356 - val_accuracy: 0.9486\n",
            "Epoch 36/50\n",
            "103/103 [==============================] - 44s 428ms/step - loss: 0.2006 - accuracy: 0.9665 - val_loss: 0.5358 - val_accuracy: 0.9232\n",
            "Epoch 36: early stopping\n"
          ]
        }
      ],
      "source": [
        "earlystopping = EarlyStopping(monitor='val_loss', patience=10, verbose=1)\n",
        "\n",
        "result = model.fit(idg_tr, epochs=50, validation_data= (X_test,y_test), batch_size= 16, callbacks=[earlystopping])"
      ]
    },
    {
      "cell_type": "code",
      "execution_count": 52,
      "metadata": {
        "colab": {
          "base_uri": "https://localhost:8080/"
        },
        "id": "Ny08xrc_wdPp",
        "outputId": "ef5d32ec-cfe1-43ca-c128-bf9849030675"
      },
      "outputs": [
        {
          "output_type": "stream",
          "name": "stdout",
          "text": [
            "103/103 [==============================] - 1s 7ms/step - loss: 0.5362 - accuracy: 0.9232\n"
          ]
        },
        {
          "output_type": "execute_result",
          "data": {
            "text/plain": [
              "[0.5362221002578735, 0.9232181310653687]"
            ]
          },
          "metadata": {},
          "execution_count": 52
        }
      ],
      "source": [
        "# evaluate\n",
        "model.evaluate(X_test, y_test)"
      ]
    },
    {
      "cell_type": "code",
      "source": [
        "# evaluation=[0.3889729082584381, 0.9015617370605469] idg 사용 전"
      ],
      "metadata": {
        "id": "0HuDRitot5CV"
      },
      "execution_count": 30,
      "outputs": []
    },
    {
      "cell_type": "code",
      "execution_count": 53,
      "metadata": {
        "id": "QqkopAttwdYb",
        "colab": {
          "base_uri": "https://localhost:8080/"
        },
        "outputId": "44cc8a67-6cca-4660-c1f8-16cd493511d3"
      },
      "outputs": [
        {
          "output_type": "stream",
          "name": "stderr",
          "text": [
            "WARNING:tensorflow:5 out of the last 14 calls to <function Model.make_predict_function.<locals>.predict_function at 0x7ff8ac08f550> triggered tf.function retracing. Tracing is expensive and the excessive number of tracings could be due to (1) creating @tf.function repeatedly in a loop, (2) passing tensors with different shapes, (3) passing Python objects instead of tensors. For (1), please define your @tf.function outside of the loop. For (2), @tf.function has reduce_retracing=True option that can avoid unnecessary retracing. For (3), please refer to https://www.tensorflow.org/guide/function#controlling_retracing and https://www.tensorflow.org/api_docs/python/tf/function for  more details.\n"
          ]
        },
        {
          "output_type": "stream",
          "name": "stdout",
          "text": [
            "1/1 [==============================] - 0s 416ms/step\n",
            "30.28percnet confidence.\n",
            "tf.Tensor([[0.16560042 0.17714451 0.3028023  0.18807548 0.16637728]], shape=(1, 5), dtype=float32)\n"
          ]
        }
      ],
      "source": [
        "test_img1 = cv2.imread(\"/content/drive/MyDrive/Colab Notebooks/for_test/1.jpg\", cv2.IMREAD_COLOR) # 컬러이미지로 가져오기\n",
        "test_img1= cv2.resize(test_img1, dsize=(128,128)) # 사이즈 조절\n",
        "test_img1 = cv2.cvtColor(test_img1, cv2.COLOR_BGR2RGB) # BGR 에서 RGB로 변환\n",
        "\n",
        "pred = model.predict(test_img1.reshape(-1, 128,128,3))\n",
        "score=tf.nn.softmax(pred)\n",
        "\n",
        "print(\"{:.2f}percnet confidence.\".format( 100*np.max(score)))\n",
        "print(score)"
      ]
    },
    {
      "cell_type": "code",
      "execution_count": 32,
      "metadata": {
        "colab": {
          "base_uri": "https://localhost:8080/"
        },
        "id": "foLWi7OswdjR",
        "outputId": "190fbca8-dbec-4bb2-d706-f1892bddd884"
      },
      "outputs": [
        {
          "output_type": "stream",
          "name": "stdout",
          "text": [
            "1/1 [==============================] - 0s 20ms/step\n",
            "25.10percnet confidence.\n",
            "tf.Tensor([[0.17738885 0.2510321  0.20841695 0.19298013 0.17018197]], shape=(1, 5), dtype=float32)\n"
          ]
        }
      ],
      "source": [
        "test_img2 = cv2.imread(\"/content/drive/MyDrive/Colab Notebooks/for_test/2.jpg\", cv2.IMREAD_COLOR) # 컬러이미지로 가져오기\n",
        "test_img2= cv2.resize(test_img2, dsize=(128,128)) # 사이즈 조절\n",
        "test_img2 = cv2.cvtColor(test_img2, cv2.COLOR_BGR2RGB) # BGR 에서 RGB로 변환\n",
        "\n",
        "pred2 = model.predict(test_img2.reshape(-1, 128,128,3))\n",
        "score2=tf.nn.softmax(pred2)\n",
        "\n",
        "print(\"{:.2f}percnet confidence.\".format( 100*np.max(score2)))\n",
        "print(score2)"
      ]
    },
    {
      "cell_type": "code",
      "source": [
        "# 34.03percnet confidence.\n",
        "# 2nd tf.Tensor([[0.13059564 0.34217882 0.13138808 0.13371669 0.1315161  0.13060474]], shape=(1, 6), dtype=float32)"
      ],
      "metadata": {
        "id": "3srleS8I3xwB"
      },
      "execution_count": null,
      "outputs": []
    },
    {
      "cell_type": "code",
      "execution_count": 33,
      "metadata": {
        "colab": {
          "base_uri": "https://localhost:8080/"
        },
        "id": "vUY-1oPfAkip",
        "outputId": "a3fc51dd-3370-4e9a-e2e6-29d352275c73"
      },
      "outputs": [
        {
          "output_type": "stream",
          "name": "stdout",
          "text": [
            "1/1 [==============================] - 0s 19ms/step\n",
            "40.46percnet confidence.\n",
            "tf.Tensor([[0.14885187 0.404587   0.14886002 0.14885053 0.1488506 ]], shape=(1, 5), dtype=float32)\n"
          ]
        }
      ],
      "source": [
        "test_img3 = cv2.imread(\"/content/drive/MyDrive/Colab Notebooks/for_test/3.jpg\", cv2.IMREAD_COLOR) # 컬러이미지로 가져오기\n",
        "test_img3= cv2.resize(test_img3, dsize=(128,128)) # 사이즈 조절\n",
        "test_img3 = cv2.cvtColor(test_img3, cv2.COLOR_BGR2RGB) # BGR 에서 RGB로 변환\n",
        "\n",
        "pred3 = model.predict(test_img3.reshape(-1, 128,128,3))\n",
        "score3=tf.nn.softmax(pred3)\n",
        "\n",
        "print(\"{:.2f}percnet confidence.\".format( 100*np.max(score3)))\n",
        "print(score3)"
      ]
    },
    {
      "cell_type": "code",
      "source": [
        "# 35.22percnet confidence.\n",
        "# 2nd tf.Tensor([[0.13275458 0.3222036  0.14121322 0.13381198 0.13546191 0.13455471]]\n",
        "# 3rd tf.Tensor([[0.13504496 0.1626961  0.13587035 0.13489316 0.29650405 0.1349914 ]]"
      ],
      "metadata": {
        "id": "4FhtpPHg3_GZ"
      },
      "execution_count": null,
      "outputs": []
    },
    {
      "cell_type": "code",
      "execution_count": 47,
      "metadata": {
        "colab": {
          "base_uri": "https://localhost:8080/"
        },
        "id": "1beoylIfAsnx",
        "outputId": "13467fe3-b543-4a0b-d31e-fc072cf1064c"
      },
      "outputs": [
        {
          "output_type": "stream",
          "name": "stdout",
          "text": [
            "1/1 [==============================] - 0s 22ms/step\n",
            "29.22percnet confidence.\n",
            "tf.Tensor([[0.17119914 0.2922199  0.18837704 0.18300442 0.16519949]], shape=(1, 5), dtype=float32)\n"
          ]
        }
      ],
      "source": [
        "test_img4 = cv2.imread(\"/content/drive/MyDrive/Colab Notebooks/for_test/4.jpg\", cv2.IMREAD_COLOR) # 컬러이미지로 가져오기\n",
        "test_img4= cv2.resize(test_img4, dsize=(128,128)) # 사이즈 조절\n",
        "test_img4 = cv2.cvtColor(test_img4, cv2.COLOR_BGR2RGB) # BGR 에서 RGB로 변환\n",
        "\n",
        "pred4 = model.predict(test_img4.reshape(-1, 128,128,3))\n",
        "score4=tf.nn.softmax(pred4)\n",
        "\n",
        "print(\"{:.2f}percnet confidence.\".format( 100*np.max(score4)))\n",
        "print(score4)\n"
      ]
    },
    {
      "cell_type": "code",
      "source": [
        "# 28.28percnet confidence\n",
        "# 35.22percnet confidence."
      ],
      "metadata": {
        "id": "iqbOlvttxZp3"
      },
      "execution_count": null,
      "outputs": []
    },
    {
      "cell_type": "code",
      "execution_count": null,
      "metadata": {
        "colab": {
          "base_uri": "https://localhost:8080/"
        },
        "id": "KJfJQSgrBRWJ",
        "outputId": "f04f7133-0f42-4b20-8803-d942a7f2d2fe"
      },
      "outputs": [
        {
          "output_type": "stream",
          "name": "stdout",
          "text": [
            "1/1 [==============================] - 0s 20ms/step\n",
            "57.61percnet confidence.\n",
            "tf.Tensor([[0.21194157 0.21194157 0.57611686]], shape=(1, 3), dtype=float32)\n"
          ]
        }
      ],
      "source": [
        "test_img5 = cv2.imread(\"/content/drive/MyDrive/Colab Notebooks/for_test/5.jpg\", cv2.IMREAD_COLOR) # 컬러이미지로 가져오기\n",
        "test_img5= cv2.resize(test_img5, dsize=(128,128)) # 사이즈 조절\n",
        "test_img5 = cv2.cvtColor(test_img5, cv2.COLOR_BGR2RGB) # BGR 에서 RGB로 변환\n",
        "\n",
        "pred5 = model.predict(test_img5.reshape(-1, 128,128,3))\n",
        "score5=tf.nn.softmax(pred5)\n",
        "\n",
        "print(\"{:.2f}percnet confidence.\".format( 100*np.max(score5)))\n",
        "print(score5)"
      ]
    },
    {
      "cell_type": "code",
      "source": [],
      "metadata": {
        "id": "fA8eAQKfxQqw"
      },
      "execution_count": null,
      "outputs": []
    },
    {
      "cell_type": "code",
      "execution_count": null,
      "metadata": {
        "colab": {
          "base_uri": "https://localhost:8080/"
        },
        "id": "-zkyQ1TBBb8h",
        "outputId": "3f9e3f95-4161-4a2e-c857-3501d6333690"
      },
      "outputs": [
        {
          "output_type": "stream",
          "name": "stdout",
          "text": [
            "1/1 [==============================] - 0s 21ms/step\n",
            "57.61percnet confidence.\n",
            "tf.Tensor(\n",
            "[[0.21194708 0.5760907  0.21196224]\n",
            " [0.21194157 0.21194157 0.57611686]\n",
            " [0.21194157 0.21194157 0.57611686]\n",
            " [0.57611686 0.21194157 0.21194157]], shape=(4, 3), dtype=float32)\n"
          ]
        }
      ],
      "source": [
        "test_img6 = cv2.imread(\"/content/drive/MyDrive/Colab Notebooks/for_test/6.jpg\", cv2.IMREAD_COLOR) # 컬러이미지로 가져오기\n",
        "test_img6= cv2.resize(test_img6, dsize=(256,256)) # 사이즈 조절\n",
        "test_img6 = cv2.cvtColor(test_img6, cv2.COLOR_BGR2RGB) # BGR 에서 RGB로 변환\n",
        "\n",
        "pred6 = model.predict(test_img6.reshape(-1, 256,256,3))\n",
        "score6=tf.nn.softmax(pred6)\n",
        "\n",
        "print(\"{:.2f}percnet confidence.\".format( 100*np.max(score6)))\n",
        "print(score6)"
      ]
    },
    {
      "cell_type": "code",
      "execution_count": null,
      "metadata": {
        "id": "Af_kjWwTBkTy"
      },
      "outputs": [],
      "source": [
        "#29.13percnet confidence.\n",
        "#35.22percnet confidence."
      ]
    },
    {
      "cell_type": "code",
      "source": [
        "#위에서 본 햄버거\n",
        "test_img7 = cv2.imread(\"/content/drive/MyDrive/Colab Notebooks/for_test/03.jpg\", cv2.IMREAD_COLOR) # 컬러이미지로 가져오기\n",
        "test_img7= cv2.resize(test_img7, dsize=(256,256)) # 사이즈 조절\n",
        "test_img7 = cv2.cvtColor(test_img7, cv2.COLOR_BGR2RGB) # BGR 에서 RGB로 변환\n",
        "\n",
        "pred7 = model.predict(test_img7.reshape(-1, 256,256,3))\n",
        "score7=tf.nn.softmax(pred7)\n",
        "\n",
        "print(\"{:.2f}percnet confidence.\".format( 100*np.max(score7)))\n",
        "print(score7)"
      ],
      "metadata": {
        "colab": {
          "base_uri": "https://localhost:8080/"
        },
        "id": "jcS83Vz9wT5T",
        "outputId": "f09bc9f1-69c5-4702-f782-a72e47d7d668"
      },
      "execution_count": null,
      "outputs": [
        {
          "output_type": "stream",
          "name": "stdout",
          "text": [
            "1/1 [==============================] - 0s 20ms/step\n",
            "57.61percnet confidence.\n",
            "tf.Tensor(\n",
            "[[0.21194157 0.57611686 0.21194157]\n",
            " [0.21194157 0.21194157 0.57611686]\n",
            " [0.21194157 0.21194157 0.57611686]\n",
            " [0.21194157 0.57611686 0.21194157]], shape=(4, 3), dtype=float32)\n"
          ]
        }
      ]
    },
    {
      "cell_type": "code",
      "source": [
        "#옆에서 본 햄버거\n",
        "test_img8 = cv2.imread(\"/content/drive/MyDrive/Colab Notebooks/for_test/46_xw9yoy5jribaygvjclfi.jpg\", cv2.IMREAD_COLOR) # 컬러이미지로 가져오기\n",
        "test_img8= cv2.resize(test_img8, dsize=(256,256)) # 사이즈 조절\n",
        "test_img8 = cv2.cvtColor(test_img8, cv2.COLOR_BGR2RGB) # BGR 에서 RGB로 변환\n",
        "\n",
        "pred8 = model.predict(test_img8.reshape(-1, 256,256,3))\n",
        "score8=tf.nn.softmax(pred8)\n",
        "\n",
        "print(\"{:.2f}percnet confidence.\".format( 100*np.max(score8)))\n",
        "print(score8)"
      ],
      "metadata": {
        "colab": {
          "base_uri": "https://localhost:8080/"
        },
        "id": "sNPE89piwT8K",
        "outputId": "82932d76-ab2e-4025-90dc-4908096977a1"
      },
      "execution_count": 54,
      "outputs": [
        {
          "output_type": "stream",
          "name": "stderr",
          "text": [
            "WARNING:tensorflow:6 out of the last 15 calls to <function Model.make_predict_function.<locals>.predict_function at 0x7ff8ac08f550> triggered tf.function retracing. Tracing is expensive and the excessive number of tracings could be due to (1) creating @tf.function repeatedly in a loop, (2) passing tensors with different shapes, (3) passing Python objects instead of tensors. For (1), please define your @tf.function outside of the loop. For (2), @tf.function has reduce_retracing=True option that can avoid unnecessary retracing. For (3), please refer to https://www.tensorflow.org/guide/function#controlling_retracing and https://www.tensorflow.org/api_docs/python/tf/function for  more details.\n"
          ]
        },
        {
          "output_type": "stream",
          "name": "stdout",
          "text": [
            "1/1 [==============================] - 0s 415ms/step\n",
            "37.10percnet confidence.\n",
            "tf.Tensor([[0.15396823 0.16277806 0.3710476  0.15792796 0.15427817]], shape=(1, 5), dtype=float32)\n"
          ]
        }
      ]
    },
    {
      "cell_type": "code",
      "source": [
        "#치킨 한조각\n",
        "test_img9 = cv2.imread(\"/content/drive/MyDrive/Colab Notebooks/for_test/0.jpg500050005000jpg5000.jpg\", cv2.IMREAD_COLOR) # 컬러이미지로 가져오기\n",
        "test_img9= cv2.resize(test_img9, dsize=(256,256)) # 사이즈 조절\n",
        "test_img9 = cv2.cvtColor(test_img9, cv2.COLOR_BGR2RGB) # BGR 에서 RGB로 변환\n",
        "\n",
        "pred9 = model.predict(test_img9.reshape(-1, 256,256,3))\n",
        "score9=tf.nn.softmax(pred9)\n",
        "\n",
        "print(\"{:.2f}percnet confidence.\".format( 100*np.max(score9)))\n",
        "print(score9)"
      ],
      "metadata": {
        "colab": {
          "base_uri": "https://localhost:8080/"
        },
        "id": "376WF_bQwT-q",
        "outputId": "2f884584-366f-4cfa-d0e2-04f433abcf62"
      },
      "execution_count": 55,
      "outputs": [
        {
          "output_type": "stream",
          "name": "stdout",
          "text": [
            "1/1 [==============================] - 0s 22ms/step\n",
            "37.00percnet confidence.\n",
            "tf.Tensor([[0.15402797 0.1626407  0.37003848 0.15916125 0.15413165]], shape=(1, 5), dtype=float32)\n"
          ]
        }
      ]
    },
    {
      "cell_type": "code",
      "source": [
        "#내가 찍은 돈까스\n",
        "test_img10 = cv2.imread(\"/content/drive/MyDrive/Colab Notebooks/for_test/KakaoTalk_20230117_154648765.jpg\", cv2.IMREAD_COLOR) # 컬러이미지로 가져오기\n",
        "test_img10= cv2.resize(test_img10, dsize=(128,128)) # 사이즈 조절\n",
        "test_img10 = cv2.cvtColor(test_img10, cv2.COLOR_BGR2RGB) # BGR 에서 RGB로 변환\n",
        "\n",
        "test_img10=test_img10 /255.0\n",
        "\n",
        "pred10 = model.predict(test_img10.reshape(-1, 128,128,3))\n",
        "score10=tf.nn.softmax(pred10)\n",
        "\n",
        "print(\"{:.2f}percnet confidence.\".format( 100*np.max(score10)))\n",
        "print(score10)"
      ],
      "metadata": {
        "id": "hgLHd7r2wUBb",
        "colab": {
          "base_uri": "https://localhost:8080/"
        },
        "outputId": "4deec5da-8cd7-4fd9-b68e-0b221e788ae3"
      },
      "execution_count": 61,
      "outputs": [
        {
          "output_type": "stream",
          "name": "stdout",
          "text": [
            "1/1 [==============================] - 0s 19ms/step\n",
            "40.13percnet confidence.\n",
            "tf.Tensor([[0.14934255 0.15040326 0.40126547 0.14955641 0.1494322 ]], shape=(1, 5), dtype=float32)\n"
          ]
        }
      ]
    },
    {
      "cell_type": "code",
      "source": [
        "# tf.Tensor([[0.17226732 0.23989728 0.22468074 0.19596674 0.16718788]], shape=(1, 5), dtype=float32)"
      ],
      "metadata": {
        "id": "-PFTfG5diftR"
      },
      "execution_count": null,
      "outputs": []
    },
    {
      "cell_type": "code",
      "source": [
        "#교촌치킨\n",
        "test_img11 = cv2.imread(\"/content/drive/MyDrive/Colab Notebooks/for_test/KakaoTalk_20230117_154723479.jpg\", cv2.IMREAD_COLOR) # 컬러이미지로 가져오기\n",
        "test_img11= cv2.resize(test_img11, dsize=(128,128)) # 사이즈 조절\n",
        "test_img11 = cv2.cvtColor(test_img11, cv2.COLOR_BGR2RGB) # BGR 에서 RGB로 변환\n",
        "\n",
        "test_img11=test_img11 /255.0\n",
        "\n",
        "pred11 = model.predict(test_img11.reshape(-1,128,128,3))\n",
        "score11=tf.nn.softmax(pred11)\n",
        "\n",
        "print(\"{:.2f}percnet confidence.\".format( 100*np.max(score11)))\n",
        "print(score11)"
      ],
      "metadata": {
        "id": "P0YfN7yzwUEL",
        "colab": {
          "base_uri": "https://localhost:8080/"
        },
        "outputId": "6181672c-82bb-4a72-91c6-07cd7e8bf2c0"
      },
      "execution_count": 60,
      "outputs": [
        {
          "output_type": "stream",
          "name": "stdout",
          "text": [
            "1/1 [==============================] - 0s 21ms/step\n",
            "40.36percnet confidence.\n",
            "tf.Tensor([[0.14899312 0.4035984  0.1494259  0.14898866 0.1489939 ]], shape=(1, 5), dtype=float32)\n"
          ]
        }
      ]
    },
    {
      "cell_type": "code",
      "source": [
        "# tf.Tensor([[0.17708781 0.20001115 0.1935521  0.2576018  0.17174716]], shape=(1, 5), dtype=float32)"
      ],
      "metadata": {
        "id": "mxZn6_pFwUGp"
      },
      "execution_count": null,
      "outputs": []
    },
    {
      "cell_type": "code",
      "source": [],
      "metadata": {
        "id": "wfLzKm0swUJC"
      },
      "execution_count": null,
      "outputs": []
    },
    {
      "cell_type": "code",
      "source": [],
      "metadata": {
        "colab": {
          "base_uri": "https://localhost:8080/"
        },
        "id": "Q9gmbjNpwUMR",
        "outputId": "16c48745-8353-470b-d8d0-8951043bf1bb"
      },
      "execution_count": null,
      "outputs": [
        {
          "output_type": "stream",
          "name": "stdout",
          "text": [
            "Object ` fit` not found.\n"
          ]
        }
      ]
    },
    {
      "cell_type": "code",
      "source": [],
      "metadata": {
        "colab": {
          "base_uri": "https://localhost:8080/",
          "height": 174
        },
        "id": "UhKlpHN9I2OT",
        "outputId": "588b8abc-f47e-46dc-95ff-c2eb85e50a0a"
      },
      "execution_count": null,
      "outputs": [
        {
          "output_type": "error",
          "ename": "AttributeError",
          "evalue": "ignored",
          "traceback": [
            "\u001b[0;31m---------------------------------------------------------------------------\u001b[0m",
            "\u001b[0;31mAttributeError\u001b[0m                            Traceback (most recent call last)",
            "\u001b[0;32m<ipython-input-47-19e985038eeb>\u001b[0m in \u001b[0;36m<module>\u001b[0;34m\u001b[0m\n\u001b[0;32m----> 1\u001b[0;31m \u001b[0midg_tr\u001b[0m\u001b[0;34m.\u001b[0m\u001b[0misnan\u001b[0m\u001b[0;34m(\u001b[0m\u001b[0;34m)\u001b[0m\u001b[0;34m\u001b[0m\u001b[0;34m\u001b[0m\u001b[0m\n\u001b[0m",
            "\u001b[0;31mAttributeError\u001b[0m: 'NumpyArrayIterator' object has no attribute 'isnan'"
          ]
        }
      ]
    },
    {
      "cell_type": "code",
      "source": [],
      "metadata": {
        "id": "WHOja4-IMRkl"
      },
      "execution_count": null,
      "outputs": []
    }
  ],
  "metadata": {
    "accelerator": "GPU",
    "colab": {
      "provenance": [],
      "machine_shape": "hm"
    },
    "gpuClass": "premium",
    "kernelspec": {
      "display_name": "Python 3",
      "name": "python3"
    },
    "language_info": {
      "name": "python"
    }
  },
  "nbformat": 4,
  "nbformat_minor": 0
}