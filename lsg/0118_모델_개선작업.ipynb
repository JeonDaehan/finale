{
  "nbformat": 4,
  "nbformat_minor": 0,
  "metadata": {
    "colab": {
      "provenance": [],
      "machine_shape": "hm"
    },
    "kernelspec": {
      "name": "python3",
      "display_name": "Python 3"
    },
    "language_info": {
      "name": "python"
    },
    "accelerator": "GPU",
    "gpuClass": "standard"
  },
  "cells": [
    {
      "cell_type": "code",
      "execution_count": null,
      "metadata": {
        "id": "5TbEf_hPb4AB"
      },
      "outputs": [],
      "source": [
        "import numpy as np\n",
        "import pandas as pd\n",
        "import matplotlib.pyplot as plt\n",
        "import seaborn as sns\n",
        "\n",
        "from sklearn.datasets import load_iris\n",
        "from sklearn.model_selection import train_test_split\n",
        "from sklearn.preprocessing import StandardScaler, LabelEncoder\n",
        "from sklearn.metrics import accuracy_score\n",
        "\n",
        "import tensorflow as tf\n",
        "from tensorflow.keras.models import Sequential, Model, load_model\n",
        "from tensorflow.keras.layers import Flatten, Dense, Input, concatenate, Dropout\n",
        "from tensorflow.keras.layers import Conv2D, MaxPool2D , GlobalAveragePooling2D\n",
        "from tensorflow.keras.optimizers import SGD, Adam, RMSprop\n",
        "from tensorflow.keras.utils import to_categorical\n",
        "\n",
        "from tensorflow.keras.applications import Xception, ResNet50, InceptionV3, MobileNet\n",
        "from tensorflow.keras.callbacks import EarlyStopping\n",
        "\n",
        "from keras.models import Sequential\n",
        "\n",
        "import os\n",
        "import cv2\n",
        "\n",
        "from numpy import expand_dims\n",
        "from tensorflow.keras.preprocessing.image import load_img\n",
        "from tensorflow.keras.preprocessing.image import img_to_array\n",
        "from tensorflow.keras.preprocessing.image import ImageDataGenerator\n"
      ]
    },
    {
      "cell_type": "code",
      "source": [
        "from google.colab import drive\n",
        "drive.mount('/content/drive')"
      ],
      "metadata": {
        "colab": {
          "base_uri": "https://localhost:8080/"
        },
        "id": "yMtemaBub_P3",
        "outputId": "3b610c9b-28c0-4996-cff4-4431a28d3d14"
      },
      "execution_count": null,
      "outputs": [
        {
          "output_type": "stream",
          "name": "stdout",
          "text": [
            "Mounted at /content/drive\n"
          ]
        }
      ]
    },
    {
      "cell_type": "code",
      "source": [
        "import zipfile\n",
        "\n",
        "with zipfile.ZipFile(\"/content/drive/MyDrive/food/food0118.zip\",  \"r\") as target_file:\n",
        "  target_file.extractall(\"/content/drive/MyDrive/food/food0118/\")"
      ],
      "metadata": {
        "id": "XaKTwxatcJKl"
      },
      "execution_count": null,
      "outputs": []
    },
    {
      "cell_type": "code",
      "source": [
        "# DATA ROOT DIR 설정\n",
        "DATA_ROOT_DIR = os.path.join('/content/drive/MyDrive/food/food0118') \n",
        "label_name_list = os.listdir(DATA_ROOT_DIR)"
      ],
      "metadata": {
        "id": "VLkaRbYgcRZm"
      },
      "execution_count": null,
      "outputs": []
    },
    {
      "cell_type": "code",
      "source": [
        "import glob\n",
        "import cv2\n",
        "\n",
        "image_list=[]\n",
        "label_list=[]\n",
        "\n",
        "# 경로 지정\n",
        "for label_name in label_name_list:\n",
        "    file_path = os.path.join(DATA_ROOT_DIR, label_name)\n",
        "    img_file_list=glob.glob(file_path + \"/*.*\")\n",
        "    \n",
        "    # 폴더 별로 반복문 돌리기\n",
        "    for img_file in img_file_list:\n",
        "        src_img = cv2.imread(img_file, cv2.IMREAD_COLOR) # 컬러이미지로 가져오기\n",
        "        src_img = cv2.resize(src_img, dsize=(128,128)) # 사이즈 조절\n",
        "        src_img = cv2.cvtColor(src_img, cv2.COLOR_BGR2RGB) # BGR 에서 RGB로 변환\n",
        "        \n",
        "        image_list.append(src_img) # X값\n",
        "        label_list.append(float(label_name)) # Y값"
      ],
      "metadata": {
        "id": "yC8UlNtBe5Th"
      },
      "execution_count": null,
      "outputs": []
    },
    {
      "cell_type": "code",
      "source": [
        "# list에 담겼는지 확인\n",
        "print(len(image_list),len(label_list))"
      ],
      "metadata": {
        "colab": {
          "base_uri": "https://localhost:8080/"
        },
        "id": "icdwefdqe88v",
        "outputId": "8650897b-871b-4c10-8cf4-9365de28ca18"
      },
      "execution_count": null,
      "outputs": [
        {
          "output_type": "stream",
          "name": "stdout",
          "text": [
            "22876 22876\n"
          ]
        }
      ]
    },
    {
      "cell_type": "code",
      "source": [
        "X_train, X_test, y_train, y_test =train_test_split(np.array(image_list),\n",
        "                                                   np.array(label_list),\n",
        "                                                   test_size=0.2,\n",
        "                                                   stratify=np.array(label_list)) # label을 비율에 맞게 설정"
      ],
      "metadata": {
        "id": "tgSMLB-afWQO"
      },
      "execution_count": null,
      "outputs": []
    },
    {
      "cell_type": "code",
      "source": [
        "# 정규화\n",
        "X_train= X_train.astype(np.float32) /255.0\n",
        "X_test= X_test.astype(np.float32) /255.0"
      ],
      "metadata": {
        "id": "0pW2nmJ3ffEG"
      },
      "execution_count": null,
      "outputs": []
    },
    {
      "cell_type": "code",
      "source": [
        "tr_gen=ImageDataGenerator(rotation_range=10,\n",
        "                           width_shift_range=0.3,\n",
        "                           height_shift_range=0.3,\n",
        "                           zoom_range= 0.1)\n",
        "\n",
        "idg_tr= tr_gen.flow(X_train, y_train, batch_size=128, shuffle=True)"
      ],
      "metadata": {
        "id": "AEP1tVgXfgiu"
      },
      "execution_count": null,
      "outputs": []
    },
    {
      "cell_type": "code",
      "source": [
        "# 모바일넷\n",
        "IMAGE_WIDTH = 128\n",
        "IMAGE_HEIGHT = 128\n",
        "\n",
        "base_model = MobileNet(weights='imagenet', include_top=False, input_shape=(IMAGE_WIDTH, IMAGE_HEIGHT, 3))\n",
        "base_model.summary()"
      ],
      "metadata": {
        "id": "Qw4C17d-jXAf",
        "colab": {
          "base_uri": "https://localhost:8080/"
        },
        "outputId": "ac3b8a06-1eb7-4e79-b942-ea234841c522"
      },
      "execution_count": null,
      "outputs": [
        {
          "output_type": "stream",
          "name": "stdout",
          "text": [
            "Downloading data from https://storage.googleapis.com/tensorflow/keras-applications/mobilenet/mobilenet_1_0_128_tf_no_top.h5\n",
            "17225924/17225924 [==============================] - 1s 0us/step\n",
            "Model: \"mobilenet_1.00_128\"\n",
            "_________________________________________________________________\n",
            " Layer (type)                Output Shape              Param #   \n",
            "=================================================================\n",
            " input_1 (InputLayer)        [(None, 128, 128, 3)]     0         \n",
            "                                                                 \n",
            " conv1 (Conv2D)              (None, 64, 64, 32)        864       \n",
            "                                                                 \n",
            " conv1_bn (BatchNormalizatio  (None, 64, 64, 32)       128       \n",
            " n)                                                              \n",
            "                                                                 \n",
            " conv1_relu (ReLU)           (None, 64, 64, 32)        0         \n",
            "                                                                 \n",
            " conv_dw_1 (DepthwiseConv2D)  (None, 64, 64, 32)       288       \n",
            "                                                                 \n",
            " conv_dw_1_bn (BatchNormaliz  (None, 64, 64, 32)       128       \n",
            " ation)                                                          \n",
            "                                                                 \n",
            " conv_dw_1_relu (ReLU)       (None, 64, 64, 32)        0         \n",
            "                                                                 \n",
            " conv_pw_1 (Conv2D)          (None, 64, 64, 64)        2048      \n",
            "                                                                 \n",
            " conv_pw_1_bn (BatchNormaliz  (None, 64, 64, 64)       256       \n",
            " ation)                                                          \n",
            "                                                                 \n",
            " conv_pw_1_relu (ReLU)       (None, 64, 64, 64)        0         \n",
            "                                                                 \n",
            " conv_pad_2 (ZeroPadding2D)  (None, 65, 65, 64)        0         \n",
            "                                                                 \n",
            " conv_dw_2 (DepthwiseConv2D)  (None, 32, 32, 64)       576       \n",
            "                                                                 \n",
            " conv_dw_2_bn (BatchNormaliz  (None, 32, 32, 64)       256       \n",
            " ation)                                                          \n",
            "                                                                 \n",
            " conv_dw_2_relu (ReLU)       (None, 32, 32, 64)        0         \n",
            "                                                                 \n",
            " conv_pw_2 (Conv2D)          (None, 32, 32, 128)       8192      \n",
            "                                                                 \n",
            " conv_pw_2_bn (BatchNormaliz  (None, 32, 32, 128)      512       \n",
            " ation)                                                          \n",
            "                                                                 \n",
            " conv_pw_2_relu (ReLU)       (None, 32, 32, 128)       0         \n",
            "                                                                 \n",
            " conv_dw_3 (DepthwiseConv2D)  (None, 32, 32, 128)      1152      \n",
            "                                                                 \n",
            " conv_dw_3_bn (BatchNormaliz  (None, 32, 32, 128)      512       \n",
            " ation)                                                          \n",
            "                                                                 \n",
            " conv_dw_3_relu (ReLU)       (None, 32, 32, 128)       0         \n",
            "                                                                 \n",
            " conv_pw_3 (Conv2D)          (None, 32, 32, 128)       16384     \n",
            "                                                                 \n",
            " conv_pw_3_bn (BatchNormaliz  (None, 32, 32, 128)      512       \n",
            " ation)                                                          \n",
            "                                                                 \n",
            " conv_pw_3_relu (ReLU)       (None, 32, 32, 128)       0         \n",
            "                                                                 \n",
            " conv_pad_4 (ZeroPadding2D)  (None, 33, 33, 128)       0         \n",
            "                                                                 \n",
            " conv_dw_4 (DepthwiseConv2D)  (None, 16, 16, 128)      1152      \n",
            "                                                                 \n",
            " conv_dw_4_bn (BatchNormaliz  (None, 16, 16, 128)      512       \n",
            " ation)                                                          \n",
            "                                                                 \n",
            " conv_dw_4_relu (ReLU)       (None, 16, 16, 128)       0         \n",
            "                                                                 \n",
            " conv_pw_4 (Conv2D)          (None, 16, 16, 256)       32768     \n",
            "                                                                 \n",
            " conv_pw_4_bn (BatchNormaliz  (None, 16, 16, 256)      1024      \n",
            " ation)                                                          \n",
            "                                                                 \n",
            " conv_pw_4_relu (ReLU)       (None, 16, 16, 256)       0         \n",
            "                                                                 \n",
            " conv_dw_5 (DepthwiseConv2D)  (None, 16, 16, 256)      2304      \n",
            "                                                                 \n",
            " conv_dw_5_bn (BatchNormaliz  (None, 16, 16, 256)      1024      \n",
            " ation)                                                          \n",
            "                                                                 \n",
            " conv_dw_5_relu (ReLU)       (None, 16, 16, 256)       0         \n",
            "                                                                 \n",
            " conv_pw_5 (Conv2D)          (None, 16, 16, 256)       65536     \n",
            "                                                                 \n",
            " conv_pw_5_bn (BatchNormaliz  (None, 16, 16, 256)      1024      \n",
            " ation)                                                          \n",
            "                                                                 \n",
            " conv_pw_5_relu (ReLU)       (None, 16, 16, 256)       0         \n",
            "                                                                 \n",
            " conv_pad_6 (ZeroPadding2D)  (None, 17, 17, 256)       0         \n",
            "                                                                 \n",
            " conv_dw_6 (DepthwiseConv2D)  (None, 8, 8, 256)        2304      \n",
            "                                                                 \n",
            " conv_dw_6_bn (BatchNormaliz  (None, 8, 8, 256)        1024      \n",
            " ation)                                                          \n",
            "                                                                 \n",
            " conv_dw_6_relu (ReLU)       (None, 8, 8, 256)         0         \n",
            "                                                                 \n",
            " conv_pw_6 (Conv2D)          (None, 8, 8, 512)         131072    \n",
            "                                                                 \n",
            " conv_pw_6_bn (BatchNormaliz  (None, 8, 8, 512)        2048      \n",
            " ation)                                                          \n",
            "                                                                 \n",
            " conv_pw_6_relu (ReLU)       (None, 8, 8, 512)         0         \n",
            "                                                                 \n",
            " conv_dw_7 (DepthwiseConv2D)  (None, 8, 8, 512)        4608      \n",
            "                                                                 \n",
            " conv_dw_7_bn (BatchNormaliz  (None, 8, 8, 512)        2048      \n",
            " ation)                                                          \n",
            "                                                                 \n",
            " conv_dw_7_relu (ReLU)       (None, 8, 8, 512)         0         \n",
            "                                                                 \n",
            " conv_pw_7 (Conv2D)          (None, 8, 8, 512)         262144    \n",
            "                                                                 \n",
            " conv_pw_7_bn (BatchNormaliz  (None, 8, 8, 512)        2048      \n",
            " ation)                                                          \n",
            "                                                                 \n",
            " conv_pw_7_relu (ReLU)       (None, 8, 8, 512)         0         \n",
            "                                                                 \n",
            " conv_dw_8 (DepthwiseConv2D)  (None, 8, 8, 512)        4608      \n",
            "                                                                 \n",
            " conv_dw_8_bn (BatchNormaliz  (None, 8, 8, 512)        2048      \n",
            " ation)                                                          \n",
            "                                                                 \n",
            " conv_dw_8_relu (ReLU)       (None, 8, 8, 512)         0         \n",
            "                                                                 \n",
            " conv_pw_8 (Conv2D)          (None, 8, 8, 512)         262144    \n",
            "                                                                 \n",
            " conv_pw_8_bn (BatchNormaliz  (None, 8, 8, 512)        2048      \n",
            " ation)                                                          \n",
            "                                                                 \n",
            " conv_pw_8_relu (ReLU)       (None, 8, 8, 512)         0         \n",
            "                                                                 \n",
            " conv_dw_9 (DepthwiseConv2D)  (None, 8, 8, 512)        4608      \n",
            "                                                                 \n",
            " conv_dw_9_bn (BatchNormaliz  (None, 8, 8, 512)        2048      \n",
            " ation)                                                          \n",
            "                                                                 \n",
            " conv_dw_9_relu (ReLU)       (None, 8, 8, 512)         0         \n",
            "                                                                 \n",
            " conv_pw_9 (Conv2D)          (None, 8, 8, 512)         262144    \n",
            "                                                                 \n",
            " conv_pw_9_bn (BatchNormaliz  (None, 8, 8, 512)        2048      \n",
            " ation)                                                          \n",
            "                                                                 \n",
            " conv_pw_9_relu (ReLU)       (None, 8, 8, 512)         0         \n",
            "                                                                 \n",
            " conv_dw_10 (DepthwiseConv2D  (None, 8, 8, 512)        4608      \n",
            " )                                                               \n",
            "                                                                 \n",
            " conv_dw_10_bn (BatchNormali  (None, 8, 8, 512)        2048      \n",
            " zation)                                                         \n",
            "                                                                 \n",
            " conv_dw_10_relu (ReLU)      (None, 8, 8, 512)         0         \n",
            "                                                                 \n",
            " conv_pw_10 (Conv2D)         (None, 8, 8, 512)         262144    \n",
            "                                                                 \n",
            " conv_pw_10_bn (BatchNormali  (None, 8, 8, 512)        2048      \n",
            " zation)                                                         \n",
            "                                                                 \n",
            " conv_pw_10_relu (ReLU)      (None, 8, 8, 512)         0         \n",
            "                                                                 \n",
            " conv_dw_11 (DepthwiseConv2D  (None, 8, 8, 512)        4608      \n",
            " )                                                               \n",
            "                                                                 \n",
            " conv_dw_11_bn (BatchNormali  (None, 8, 8, 512)        2048      \n",
            " zation)                                                         \n",
            "                                                                 \n",
            " conv_dw_11_relu (ReLU)      (None, 8, 8, 512)         0         \n",
            "                                                                 \n",
            " conv_pw_11 (Conv2D)         (None, 8, 8, 512)         262144    \n",
            "                                                                 \n",
            " conv_pw_11_bn (BatchNormali  (None, 8, 8, 512)        2048      \n",
            " zation)                                                         \n",
            "                                                                 \n",
            " conv_pw_11_relu (ReLU)      (None, 8, 8, 512)         0         \n",
            "                                                                 \n",
            " conv_pad_12 (ZeroPadding2D)  (None, 9, 9, 512)        0         \n",
            "                                                                 \n",
            " conv_dw_12 (DepthwiseConv2D  (None, 4, 4, 512)        4608      \n",
            " )                                                               \n",
            "                                                                 \n",
            " conv_dw_12_bn (BatchNormali  (None, 4, 4, 512)        2048      \n",
            " zation)                                                         \n",
            "                                                                 \n",
            " conv_dw_12_relu (ReLU)      (None, 4, 4, 512)         0         \n",
            "                                                                 \n",
            " conv_pw_12 (Conv2D)         (None, 4, 4, 1024)        524288    \n",
            "                                                                 \n",
            " conv_pw_12_bn (BatchNormali  (None, 4, 4, 1024)       4096      \n",
            " zation)                                                         \n",
            "                                                                 \n",
            " conv_pw_12_relu (ReLU)      (None, 4, 4, 1024)        0         \n",
            "                                                                 \n",
            " conv_dw_13 (DepthwiseConv2D  (None, 4, 4, 1024)       9216      \n",
            " )                                                               \n",
            "                                                                 \n",
            " conv_dw_13_bn (BatchNormali  (None, 4, 4, 1024)       4096      \n",
            " zation)                                                         \n",
            "                                                                 \n",
            " conv_dw_13_relu (ReLU)      (None, 4, 4, 1024)        0         \n",
            "                                                                 \n",
            " conv_pw_13 (Conv2D)         (None, 4, 4, 1024)        1048576   \n",
            "                                                                 \n",
            " conv_pw_13_bn (BatchNormali  (None, 4, 4, 1024)       4096      \n",
            " zation)                                                         \n",
            "                                                                 \n",
            " conv_pw_13_relu (ReLU)      (None, 4, 4, 1024)        0         \n",
            "                                                                 \n",
            "=================================================================\n",
            "Total params: 3,228,864\n",
            "Trainable params: 3,206,976\n",
            "Non-trainable params: 21,888\n",
            "_________________________________________________________________\n"
          ]
        }
      ]
    },
    {
      "cell_type": "code",
      "source": [
        "from keras.models import load_model\n",
        "\n",
        "model = load_model(\"/content/drive/MyDrive/food/yespizza.h5\")"
      ],
      "metadata": {
        "id": "jB5_7vzEfiEV"
      },
      "execution_count": null,
      "outputs": []
    },
    {
      "cell_type": "code",
      "source": [
        "model.summary()"
      ],
      "metadata": {
        "id": "B-v30vLujI2z",
        "colab": {
          "base_uri": "https://localhost:8080/"
        },
        "outputId": "cb562c33-3705-4c6a-d143-dab789a57572"
      },
      "execution_count": null,
      "outputs": [
        {
          "output_type": "stream",
          "name": "stdout",
          "text": [
            "Model: \"sequential\"\n",
            "_________________________________________________________________\n",
            " Layer (type)                Output Shape              Param #   \n",
            "=================================================================\n",
            " mobilenet_1.00_128 (Functio  (None, 4, 4, 1024)       3228864   \n",
            " nal)                                                            \n",
            "                                                                 \n",
            " global_average_pooling2d (G  (None, 1024)             0         \n",
            " lobalAveragePooling2D)                                          \n",
            "                                                                 \n",
            " dense (Dense)               (None, 64)                65600     \n",
            "                                                                 \n",
            " dropout (Dropout)           (None, 64)                0         \n",
            "                                                                 \n",
            " dense_1 (Dense)             (None, 128)               8320      \n",
            "                                                                 \n",
            " dropout_1 (Dropout)         (None, 128)               0         \n",
            "                                                                 \n",
            " dense_2 (Dense)             (None, 256)               33024     \n",
            "                                                                 \n",
            " dropout_2 (Dropout)         (None, 256)               0         \n",
            "                                                                 \n",
            " dense_3 (Dense)             (None, 7)                 1799      \n",
            "                                                                 \n",
            "=================================================================\n",
            "Total params: 3,337,607\n",
            "Trainable params: 3,315,719\n",
            "Non-trainable params: 21,888\n",
            "_________________________________________________________________\n"
          ]
        }
      ]
    },
    {
      "cell_type": "code",
      "source": [
        "model.compile(loss='sparse_categorical_crossentropy',\n",
        "              optimizer=Adam(learning_rate=0.00001),\n",
        "              metrics=['accuracy'])"
      ],
      "metadata": {
        "id": "b96cfhsrgCrf"
      },
      "execution_count": null,
      "outputs": []
    },
    {
      "cell_type": "code",
      "source": [
        "from datetime import datetime\n",
        "from tensorflow.keras.callbacks import ModelCheckpoint, EarlyStopping\n",
        "\n",
        "\n",
        "# earlystopping = EarlyStopping(monitor='val_loss',  # 모니터 기준 설정 (val loss) \n",
        "#                               patience=5,          # 5회 Epoch동안 개선되지 않는다면 종료\n",
        "#                              )\n",
        "\n",
        "\n",
        "start_time = datetime.now()\n",
        "\n",
        "hist = model.fit(X_train, y_train, epochs=50, validation_data=(X_test, y_test), batch_size=128) #callbacks=[earlystopping]\n",
        "\n",
        "end_time = datetime.now()\n",
        "print('elapsed time = ', end_time-start_time)"
      ],
      "metadata": {
        "id": "ASJs-SuChGgv",
        "colab": {
          "base_uri": "https://localhost:8080/"
        },
        "outputId": "dad183c9-700e-42fb-cf68-bbb214da9be5"
      },
      "execution_count": null,
      "outputs": [
        {
          "output_type": "stream",
          "name": "stdout",
          "text": [
            "Epoch 1/50\n",
            "143/143 [==============================] - 46s 244ms/step - loss: 1.7140 - accuracy: 0.7802 - val_loss: 0.5882 - val_accuracy: 0.8029\n",
            "Epoch 2/50\n",
            "143/143 [==============================] - 33s 227ms/step - loss: 0.4623 - accuracy: 0.8425 - val_loss: 0.2730 - val_accuracy: 0.9001\n",
            "Epoch 3/50\n",
            "143/143 [==============================] - 33s 228ms/step - loss: 0.3095 - accuracy: 0.8909 - val_loss: 0.1715 - val_accuracy: 0.9414\n",
            "Epoch 4/50\n",
            "143/143 [==============================] - 33s 234ms/step - loss: 0.2391 - accuracy: 0.9170 - val_loss: 0.1201 - val_accuracy: 0.9659\n",
            "Epoch 5/50\n",
            "143/143 [==============================] - 33s 232ms/step - loss: 0.1861 - accuracy: 0.9398 - val_loss: 0.0960 - val_accuracy: 0.9747\n",
            "Epoch 6/50\n",
            "143/143 [==============================] - 33s 234ms/step - loss: 0.1553 - accuracy: 0.9499 - val_loss: 0.0869 - val_accuracy: 0.9781\n",
            "Epoch 7/50\n",
            "143/143 [==============================] - 34s 234ms/step - loss: 0.1373 - accuracy: 0.9572 - val_loss: 0.0803 - val_accuracy: 0.9803\n",
            "Epoch 8/50\n",
            "143/143 [==============================] - 34s 235ms/step - loss: 0.1176 - accuracy: 0.9644 - val_loss: 0.0766 - val_accuracy: 0.9812\n",
            "Epoch 9/50\n",
            "143/143 [==============================] - 34s 235ms/step - loss: 0.1006 - accuracy: 0.9707 - val_loss: 0.0709 - val_accuracy: 0.9827\n",
            "Epoch 10/50\n",
            "143/143 [==============================] - 34s 236ms/step - loss: 0.0881 - accuracy: 0.9732 - val_loss: 0.0698 - val_accuracy: 0.9827\n",
            "Epoch 11/50\n",
            "143/143 [==============================] - 34s 235ms/step - loss: 0.0796 - accuracy: 0.9755 - val_loss: 0.0664 - val_accuracy: 0.9834\n",
            "Epoch 12/50\n",
            "143/143 [==============================] - 34s 236ms/step - loss: 0.0703 - accuracy: 0.9778 - val_loss: 0.0674 - val_accuracy: 0.9840\n",
            "Epoch 13/50\n",
            "143/143 [==============================] - 34s 236ms/step - loss: 0.0664 - accuracy: 0.9801 - val_loss: 0.0646 - val_accuracy: 0.9856\n",
            "Epoch 14/50\n",
            "143/143 [==============================] - 34s 236ms/step - loss: 0.0568 - accuracy: 0.9817 - val_loss: 0.0661 - val_accuracy: 0.9849\n",
            "Epoch 15/50\n",
            "143/143 [==============================] - 34s 237ms/step - loss: 0.0474 - accuracy: 0.9860 - val_loss: 0.0650 - val_accuracy: 0.9856\n",
            "Epoch 16/50\n",
            "143/143 [==============================] - 34s 237ms/step - loss: 0.0446 - accuracy: 0.9862 - val_loss: 0.0623 - val_accuracy: 0.9854\n",
            "Epoch 17/50\n",
            "143/143 [==============================] - 34s 238ms/step - loss: 0.0405 - accuracy: 0.9886 - val_loss: 0.0653 - val_accuracy: 0.9860\n",
            "Epoch 18/50\n",
            "143/143 [==============================] - 34s 239ms/step - loss: 0.0424 - accuracy: 0.9867 - val_loss: 0.0681 - val_accuracy: 0.9851\n",
            "Epoch 19/50\n",
            "143/143 [==============================] - 34s 237ms/step - loss: 0.0378 - accuracy: 0.9877 - val_loss: 0.0660 - val_accuracy: 0.9856\n",
            "Epoch 20/50\n",
            "143/143 [==============================] - 34s 238ms/step - loss: 0.0337 - accuracy: 0.9902 - val_loss: 0.0664 - val_accuracy: 0.9856\n",
            "Epoch 21/50\n",
            "143/143 [==============================] - 34s 239ms/step - loss: 0.0329 - accuracy: 0.9902 - val_loss: 0.0642 - val_accuracy: 0.9865\n",
            "Epoch 22/50\n",
            "143/143 [==============================] - 34s 238ms/step - loss: 0.0288 - accuracy: 0.9916 - val_loss: 0.0669 - val_accuracy: 0.9854\n",
            "Epoch 23/50\n",
            "143/143 [==============================] - 34s 237ms/step - loss: 0.0256 - accuracy: 0.9932 - val_loss: 0.0663 - val_accuracy: 0.9858\n",
            "Epoch 24/50\n",
            "143/143 [==============================] - 34s 238ms/step - loss: 0.0249 - accuracy: 0.9933 - val_loss: 0.0642 - val_accuracy: 0.9847\n",
            "Epoch 25/50\n",
            "143/143 [==============================] - 34s 238ms/step - loss: 0.0266 - accuracy: 0.9920 - val_loss: 0.0668 - val_accuracy: 0.9860\n",
            "Epoch 26/50\n",
            "143/143 [==============================] - 34s 237ms/step - loss: 0.0235 - accuracy: 0.9936 - val_loss: 0.0682 - val_accuracy: 0.9858\n",
            "Epoch 27/50\n",
            "143/143 [==============================] - 34s 237ms/step - loss: 0.0231 - accuracy: 0.9932 - val_loss: 0.0676 - val_accuracy: 0.9860\n",
            "Epoch 28/50\n",
            "143/143 [==============================] - 34s 238ms/step - loss: 0.0202 - accuracy: 0.9938 - val_loss: 0.0675 - val_accuracy: 0.9862\n",
            "Epoch 29/50\n",
            "143/143 [==============================] - 34s 236ms/step - loss: 0.0178 - accuracy: 0.9954 - val_loss: 0.0701 - val_accuracy: 0.9860\n",
            "Epoch 30/50\n",
            "143/143 [==============================] - 34s 236ms/step - loss: 0.0191 - accuracy: 0.9943 - val_loss: 0.0686 - val_accuracy: 0.9856\n",
            "Epoch 31/50\n",
            "143/143 [==============================] - 34s 237ms/step - loss: 0.0186 - accuracy: 0.9949 - val_loss: 0.0673 - val_accuracy: 0.9858\n",
            "Epoch 32/50\n",
            "143/143 [==============================] - 34s 237ms/step - loss: 0.0149 - accuracy: 0.9956 - val_loss: 0.0689 - val_accuracy: 0.9856\n",
            "Epoch 33/50\n",
            "143/143 [==============================] - 33s 232ms/step - loss: 0.0148 - accuracy: 0.9957 - val_loss: 0.0695 - val_accuracy: 0.9865\n",
            "Epoch 34/50\n",
            "143/143 [==============================] - 34s 237ms/step - loss: 0.0138 - accuracy: 0.9962 - val_loss: 0.0685 - val_accuracy: 0.9862\n",
            "Epoch 35/50\n",
            "143/143 [==============================] - 34s 237ms/step - loss: 0.0128 - accuracy: 0.9963 - val_loss: 0.0692 - val_accuracy: 0.9860\n",
            "Epoch 36/50\n",
            "143/143 [==============================] - 34s 238ms/step - loss: 0.0137 - accuracy: 0.9964 - val_loss: 0.0701 - val_accuracy: 0.9873\n",
            "Epoch 37/50\n",
            "143/143 [==============================] - 34s 237ms/step - loss: 0.0128 - accuracy: 0.9966 - val_loss: 0.0688 - val_accuracy: 0.9867\n",
            "Epoch 38/50\n",
            "143/143 [==============================] - 34s 238ms/step - loss: 0.0133 - accuracy: 0.9960 - val_loss: 0.0705 - val_accuracy: 0.9867\n",
            "Epoch 39/50\n",
            "143/143 [==============================] - 34s 238ms/step - loss: 0.0116 - accuracy: 0.9966 - val_loss: 0.0753 - val_accuracy: 0.9865\n",
            "Epoch 40/50\n",
            "143/143 [==============================] - 34s 238ms/step - loss: 0.0089 - accuracy: 0.9977 - val_loss: 0.0762 - val_accuracy: 0.9865\n",
            "Epoch 41/50\n",
            "143/143 [==============================] - 34s 238ms/step - loss: 0.0095 - accuracy: 0.9971 - val_loss: 0.0785 - val_accuracy: 0.9858\n",
            "Epoch 42/50\n",
            "143/143 [==============================] - 34s 238ms/step - loss: 0.0096 - accuracy: 0.9973 - val_loss: 0.0770 - val_accuracy: 0.9862\n",
            "Epoch 43/50\n",
            "143/143 [==============================] - 34s 237ms/step - loss: 0.0093 - accuracy: 0.9974 - val_loss: 0.0716 - val_accuracy: 0.9869\n",
            "Epoch 44/50\n",
            "143/143 [==============================] - 34s 237ms/step - loss: 0.0097 - accuracy: 0.9972 - val_loss: 0.0777 - val_accuracy: 0.9871\n",
            "Epoch 45/50\n",
            "143/143 [==============================] - 34s 238ms/step - loss: 0.0088 - accuracy: 0.9976 - val_loss: 0.0767 - val_accuracy: 0.9867\n",
            "Epoch 46/50\n",
            "143/143 [==============================] - 34s 238ms/step - loss: 0.0085 - accuracy: 0.9980 - val_loss: 0.0776 - val_accuracy: 0.9862\n",
            "Epoch 47/50\n",
            "143/143 [==============================] - 34s 237ms/step - loss: 0.0078 - accuracy: 0.9980 - val_loss: 0.0849 - val_accuracy: 0.9849\n",
            "Epoch 48/50\n",
            "143/143 [==============================] - 34s 238ms/step - loss: 0.0079 - accuracy: 0.9977 - val_loss: 0.0753 - val_accuracy: 0.9862\n",
            "Epoch 49/50\n",
            "143/143 [==============================] - 34s 237ms/step - loss: 0.0077 - accuracy: 0.9979 - val_loss: 0.0776 - val_accuracy: 0.9865\n",
            "Epoch 50/50\n",
            "143/143 [==============================] - 34s 237ms/step - loss: 0.0078 - accuracy: 0.9981 - val_loss: 0.0773 - val_accuracy: 0.9862\n",
            "elapsed time =  0:28:27.615586\n"
          ]
        }
      ]
    },
    {
      "cell_type": "code",
      "source": [
        "# evaluation\n",
        "model.evaluate(X_test, y_test)"
      ],
      "metadata": {
        "colab": {
          "base_uri": "https://localhost:8080/"
        },
        "id": "kmVkQPnus_yx",
        "outputId": "1bd2e520-5f13-4f26-e243-10eea9c4e71a"
      },
      "execution_count": null,
      "outputs": [
        {
          "output_type": "stream",
          "name": "stdout",
          "text": [
            "143/143 [==============================] - 2s 14ms/step - loss: 0.0773 - accuracy: 0.9862\n"
          ]
        },
        {
          "output_type": "execute_result",
          "data": {
            "text/plain": [
              "[0.0772622749209404, 0.9862325191497803]"
            ]
          },
          "metadata": {},
          "execution_count": 16
        }
      ]
    },
    {
      "cell_type": "code",
      "source": [
        "model.save('model0118.h5')"
      ],
      "metadata": {
        "id": "_SGWQRqgveVB"
      },
      "execution_count": 47,
      "outputs": []
    },
    {
      "cell_type": "code",
      "source": [
        "plt.figure(figsize=(12,4))\n",
        "\n",
        "plt.subplot(1, 2, 1)\n",
        "plt.title(\"LOSS TREND\")\n",
        "plt.xlabel(\"epochs\")\n",
        "plt.ylabel('loss')\n",
        "plt.grid()\n",
        "\n",
        "plt.plot(hist.history['loss'], label='train_loss')\n",
        "plt.plot(hist.history['val_loss'], label='validation_loss')\n",
        "plt.legend(loc='best')\n",
        "\n",
        "plt.subplot(1, 2, 2)\n",
        "plt.title(\"ACCURACY TREND\")\n",
        "plt.xlabel(\"epochs\")\n",
        "plt.ylabel('accuracy')\n",
        "plt.grid()\n",
        "\n",
        "plt.plot(hist.history['accuracy'], label='train_accuracy')\n",
        "plt.plot(hist.history['val_accuracy'], label='validation_accuracy')\n",
        "plt.legend(loc='best')\n",
        "     "
      ],
      "metadata": {
        "colab": {
          "base_uri": "https://localhost:8080/",
          "height": 276
        },
        "id": "9gD3n9P4mXM2",
        "outputId": "6666f4ec-ddc2-4077-85cc-5605ce8ba294"
      },
      "execution_count": null,
      "outputs": [
        {
          "output_type": "execute_result",
          "data": {
            "text/plain": [
              "<matplotlib.legend.Legend at 0x7f5cbe092a90>"
            ]
          },
          "metadata": {},
          "execution_count": 17
        },
        {
          "output_type": "display_data",
          "data": {
            "text/plain": [
              "<Figure size 864x288 with 2 Axes>"
            ],
            "image/png": "[encoded data removed]"
          },
          "metadata": {
            "needs_background": "light"
          }
        }
      ]
    },
    {
      "cell_type": "code",
      "source": [
        "#내가 찍은 돈까스\n",
        "test_img10 = cv2.imread(\"/content/drive/MyDrive/Colab Notebooks/for_test/KakaoTalk_20230117_154648765.jpg\", cv2.IMREAD_COLOR) # 컬러이미지로 가져오기\n",
        "test_img10= cv2.resize(test_img10, dsize=(128,128)) # 사이즈 조절\n",
        "test_img10 = cv2.cvtColor(test_img10, cv2.COLOR_BGR2RGB) # BGR 에서 RGB로 변환\n",
        "\n",
        "test_img10=test_img10 /255.0\n",
        "\n",
        "pred10 = model.predict(test_img10.reshape(-1, 128,128,3))\n",
        "score10=tf.nn.softmax(pred10)\n",
        "\n",
        "print(\"{:.2f}percnet confidence.\".format( 100*np.max(score10)))\n",
        "print(score10)"
      ],
      "metadata": {
        "colab": {
          "base_uri": "https://localhost:8080/"
        },
        "id": "dMH6OAgMm1Jp",
        "outputId": "1d4fa061-987a-4e00-e2b4-faa9fda57237"
      },
      "execution_count": 35,
      "outputs": [
        {
          "output_type": "stream",
          "name": "stdout",
          "text": [
            "1/1 [==============================] - 0s 20ms/step\n",
            "31.18percnet confidence.\n",
            "tf.Tensor(\n",
            "[[0.1147015  0.1147015  0.1147015  0.1147015  0.31179097 0.1147015\n",
            "  0.1147015 ]], shape=(1, 7), dtype=float32)\n"
          ]
        }
      ]
    },
    {
      "cell_type": "code",
      "source": [
        "#교촌치킨\n",
        "test_img11 = cv2.imread(\"/content/drive/MyDrive/Colab Notebooks/for_test/KakaoTalk_20230117_154723479.jpg\", cv2.IMREAD_COLOR) # 컬러이미지로 가져오기\n",
        "test_img11= cv2.resize(test_img11, dsize=(128,128)) # 사이즈 조절\n",
        "test_img11 = cv2.cvtColor(test_img11, cv2.COLOR_BGR2RGB) # BGR 에서 RGB로 변환\n",
        "\n",
        "test_img11=test_img11 /255.0\n",
        "\n",
        "pred11 = model.predict(test_img11.reshape(-1,128,128,3))\n",
        "score11=tf.nn.softmax(pred11)\n",
        "\n",
        "print(\"{:.2f}percnet confidence.\".format( 100*np.max(score11)))\n",
        "print(score11)"
      ],
      "metadata": {
        "colab": {
          "base_uri": "https://localhost:8080/"
        },
        "id": "2Ft3CSGqm6qS",
        "outputId": "75ce48e0-78f1-4961-acc2-72a8869daa6e"
      },
      "execution_count": null,
      "outputs": [
        {
          "output_type": "stream",
          "name": "stdout",
          "text": [
            "1/1 [==============================] - 0s 17ms/step\n",
            "31.18percnet confidence.\n",
            "tf.Tensor(\n",
            "[[0.11470167 0.3117894  0.11470167 0.11470172 0.11470175 0.11470196\n",
            "  0.11470187]], shape=(1, 7), dtype=float32)\n"
          ]
        }
      ]
    },
    {
      "cell_type": "code",
      "source": [
        "\n",
        "# 이미지 불러오기\n",
        "src_img1 = cv2.imread(\"/content/drive/MyDrive/Colab Notebooks/for_test/8.jpg\", cv2.IMREAD_COLOR)\n",
        "\n",
        "\n",
        "#넘파이 배열로 불러옴\n",
        "print(type(src_img1), src_img1.shape)\n",
        "\n",
        "\n",
        "\n",
        "# RGB로 색상순서변환\n",
        "dst_img1 = cv2.cvtColor(src_img1, cv2.COLOR_BGR2RGB)\n",
        "\n",
        "\n",
        "# 테스트하기 위해서 이미지 가공\n",
        "dst_img1 = cv2.resize(dst_img1, dsize=(128, 128))\n",
        "\n",
        "print(dst_img1.shape)\n",
        "\n",
        "# 정규화\n",
        "dst_img1 = dst_img1 / 255.0\n"
      ],
      "metadata": {
        "colab": {
          "base_uri": "https://localhost:8080/"
        },
        "id": "W1lOtbNntNKH",
        "outputId": "5f108396-23af-46c0-b549-e423ca133685"
      },
      "execution_count": 40,
      "outputs": [
        {
          "output_type": "stream",
          "name": "stdout",
          "text": [
            "<class 'numpy.ndarray'> (194, 259, 3)\n",
            "(128, 128, 3)\n"
          ]
        }
      ]
    },
    {
      "cell_type": "code",
      "source": [
        "test_image_list = []\n",
        "\n",
        "test_image_list.append(dst_img1)\n",
        "\n",
        "test_image_array = np.array(test_image_list) #3차원 한번더 묶어서 4차원으로 차원 맞추기\n",
        "test_image_array.shape"
      ],
      "metadata": {
        "id": "-EhVTmTSvKGB",
        "colab": {
          "base_uri": "https://localhost:8080/"
        },
        "outputId": "89acd62d-fb5d-45ef-ce71-ee66da36799d"
      },
      "execution_count": 41,
      "outputs": [
        {
          "output_type": "execute_result",
          "data": {
            "text/plain": [
              "(1, 128, 128, 3)"
            ]
          },
          "metadata": {},
          "execution_count": 41
        }
      ]
    },
    {
      "cell_type": "code",
      "source": [
        "\n",
        "pred = model.predict(test_image_array)"
      ],
      "metadata": {
        "colab": {
          "base_uri": "https://localhost:8080/"
        },
        "id": "NHAm_hCRzLJg",
        "outputId": "509401ff-593b-4585-98f6-c25f3b33715e"
      },
      "execution_count": 42,
      "outputs": [
        {
          "output_type": "stream",
          "name": "stdout",
          "text": [
            "1/1 [==============================] - 0s 17ms/step\n"
          ]
        }
      ]
    },
    {
      "cell_type": "code",
      "source": [
        "# 스시 31퍼센트로 적중\n",
        "score=tf.nn.softmax(pred)\n",
        "print(score*100)"
      ],
      "metadata": {
        "colab": {
          "base_uri": "https://localhost:8080/"
        },
        "id": "AMD3eDZmzMqo",
        "outputId": "26046129-9b9b-4fc9-e354-ab7b48f62788"
      },
      "execution_count": 46,
      "outputs": [
        {
          "output_type": "stream",
          "name": "stdout",
          "text": [
            "tf.Tensor([[11.47015  11.47015  11.47015  11.47015  11.47015  11.47015  31.179098]], shape=(1, 7), dtype=float32)\n"
          ]
        }
      ]
    },
    {
      "cell_type": "code",
      "source": [],
      "metadata": {
        "id": "eTNLtLXTzQBw"
      },
      "execution_count": null,
      "outputs": []
    }
  ]
}