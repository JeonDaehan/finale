{
 "cells": [
  {
   "cell_type": "code",
   "execution_count": 1,
   "id": "5dad2445",
   "metadata": {},
   "outputs": [
    {
     "data": {
      "text/html": [
       "<style>.container { width:90% !important; }</style>"
      ],
      "text/plain": [
       "<IPython.core.display.HTML object>"
      ]
     },
     "metadata": {},
     "output_type": "display_data"
    }
   ],
   "source": [
    "from IPython.display import display, HTML\n",
    "display(HTML(\"<style>.container { width:90% !important; }</style>\"))\n",
    "\n",
    "import numpy as np\n",
    "import pandas as pd\n",
    "import matplotlib.pyplot as plt\n",
    "import seaborn as sns\n",
    "\n",
    "from selenium import webdriver\n",
    "from selenium.webdriver.common.by import By\n",
    "from selenium.webdriver.common.keys import Keys\n",
    "from selenium.webdriver.chrome.service import Service\n",
    "from webdriver_manager.chrome import ChromeDriverManager\n",
    "import time\n",
    "import pyperclip\n",
    "\n",
    "from selenium.webdriver.support.ui import WebDriverWait\n",
    "from selenium.webdriver.support import expected_conditions as EC"
   ]
  },
  {
   "cell_type": "code",
   "execution_count": 2,
   "id": "8d901db0",
   "metadata": {},
   "outputs": [],
   "source": [
    "hbg = pd.read_csv(\"./data/hbg_result1591.csv\", index_col=0)"
   ]
  },
  {
   "cell_type": "code",
   "execution_count": 3,
   "id": "16f5a531",
   "metadata": {},
   "outputs": [
    {
     "data": {
      "text/html": [
       "<div>\n",
       "<style scoped>\n",
       "    .dataframe tbody tr th:only-of-type {\n",
       "        vertical-align: middle;\n",
       "    }\n",
       "\n",
       "    .dataframe tbody tr th {\n",
       "        vertical-align: top;\n",
       "    }\n",
       "\n",
       "    .dataframe thead th {\n",
       "        text-align: right;\n",
       "    }\n",
       "</style>\n",
       "<table border=\"1\" class=\"dataframe\">\n",
       "  <thead>\n",
       "    <tr style=\"text-align: right;\">\n",
       "      <th></th>\n",
       "      <th>Contents</th>\n",
       "      <th>Like</th>\n",
       "      <th>ID</th>\n",
       "      <th>Tags</th>\n",
       "    </tr>\n",
       "  </thead>\n",
       "  <tbody>\n",
       "    <tr>\n",
       "      <th>0</th>\n",
       "      <td>\"연봉 100억\" 일타강사 이지영,,다이어트 방법데일리 업데잇 @book5657s ...</td>\n",
       "      <td>12</td>\n",
       "      <td>book5657s</td>\n",
       "      <td>['#약수핫플', '#경성대맛집', '#양천구떡케이크', '#신촌네일', '#동안구...</td>\n",
       "    </tr>\n",
       "    <tr>\n",
       "      <th>1</th>\n",
       "      <td>?세계적인 스타 셰프 고든램지의 '고든 램지 버거'가 캐주얼 콘셉트로 새롭게 '고든...</td>\n",
       "      <td>395</td>\n",
       "      <td>etc_zine</td>\n",
       "      <td>[]</td>\n",
       "    </tr>\n",
       "    <tr>\n",
       "      <th>2</th>\n",
       "      <td>.아마도 전국에서 젤 유명한 옛날스타일 햄버거라죠??송탄미군부대 앞에 있는 #미스진...</td>\n",
       "      <td>1517</td>\n",
       "      <td>songs_kitchens</td>\n",
       "      <td>['#미스진버거미군들한테', '#송탄', '#미스진버거??스페셜A(7', '#송탄맛...</td>\n",
       "    </tr>\n",
       "    <tr>\n",
       "      <th>3</th>\n",
       "      <td>?&lt;통새우폭탄버거&gt;?????????????????먹시인입 속을 가득 채우는 탱글한 ...</td>\n",
       "      <td>4265</td>\n",
       "      <td>mukseein</td>\n",
       "      <td>['#왓더버거??', '#직화통새우버거', '#셧더버거', '#햄버거맛집', '#새...</td>\n",
       "    </tr>\n",
       "    <tr>\n",
       "      <th>4</th>\n",
       "      <td>꿀 같은데 헬인 알바 모음??@@카페 알바 누가 꿀이래ㅜㅜ.오늘의 꿀팁은?? @la...</td>\n",
       "      <td>664</td>\n",
       "      <td>lady_good_tip</td>\n",
       "      <td>['#헬', '#헬인알바', '#꿀알바', '#알바모음', '#아르바이트', '#카...</td>\n",
       "    </tr>\n",
       "  </tbody>\n",
       "</table>\n",
       "</div>"
      ],
      "text/plain": [
       "                                            Contents  Like              ID  \\\n",
       "0  \"연봉 100억\" 일타강사 이지영,,다이어트 방법데일리 업데잇 @book5657s ...    12       book5657s   \n",
       "1  ?세계적인 스타 셰프 고든램지의 '고든 램지 버거'가 캐주얼 콘셉트로 새롭게 '고든...   395        etc_zine   \n",
       "2  .아마도 전국에서 젤 유명한 옛날스타일 햄버거라죠??송탄미군부대 앞에 있는 #미스진...  1517  songs_kitchens   \n",
       "3  ?<통새우폭탄버거>?????????????????먹시인입 속을 가득 채우는 탱글한 ...  4265        mukseein   \n",
       "4  꿀 같은데 헬인 알바 모음??@@카페 알바 누가 꿀이래ㅜㅜ.오늘의 꿀팁은?? @la...   664   lady_good_tip   \n",
       "\n",
       "                                                Tags  \n",
       "0  ['#약수핫플', '#경성대맛집', '#양천구떡케이크', '#신촌네일', '#동안구...  \n",
       "1                                                 []  \n",
       "2  ['#미스진버거미군들한테', '#송탄', '#미스진버거??스페셜A(7', '#송탄맛...  \n",
       "3  ['#왓더버거??', '#직화통새우버거', '#셧더버거', '#햄버거맛집', '#새...  \n",
       "4  ['#헬', '#헬인알바', '#꿀알바', '#알바모음', '#아르바이트', '#카...  "
      ]
     },
     "execution_count": 3,
     "metadata": {},
     "output_type": "execute_result"
    }
   ],
   "source": [
    "h = hbg.copy()\n",
    "h.head()"
   ]
  },
  {
   "cell_type": "code",
   "execution_count": 4,
   "id": "d365619a",
   "metadata": {},
   "outputs": [
    {
     "name": "stdout",
     "output_type": "stream",
     "text": [
      "<class 'pandas.core.frame.DataFrame'>\n",
      "Int64Index: 1591 entries, 0 to 1590\n",
      "Data columns (total 4 columns):\n",
      " #   Column    Non-Null Count  Dtype \n",
      "---  ------    --------------  ----- \n",
      " 0   Contents  1591 non-null   object\n",
      " 1   Like      1591 non-null   object\n",
      " 2   ID        1591 non-null   object\n",
      " 3   Tags      1591 non-null   object\n",
      "dtypes: object(4)\n",
      "memory usage: 62.1+ KB\n"
     ]
    }
   ],
   "source": [
    "h.info()"
   ]
  },
  {
   "cell_type": "code",
   "execution_count": 5,
   "id": "54ddc7f4",
   "metadata": {},
   "outputs": [],
   "source": [
    "# contents 특수기호 및 문자 제거\n",
    "h[\"Contents\"] = h[\"Contents\"].str.replace(pat=r'[^\\w]', repl=r' ', regex=True)\n",
    "\n",
    "# # tags # 제외한 특수 기호 제거\n",
    "h[\"Tags\"] = h[\"Tags\"].str.strip(\"]['\")\n",
    "h[\"Tags\"] = h[\"Tags\"].str.replace(\"'\", repl=r\"\", regex=True)"
   ]
  },
  {
   "cell_type": "code",
   "execution_count": 6,
   "id": "d9a0bac0",
   "metadata": {},
   "outputs": [
    {
     "data": {
      "text/html": [
       "<div>\n",
       "<style scoped>\n",
       "    .dataframe tbody tr th:only-of-type {\n",
       "        vertical-align: middle;\n",
       "    }\n",
       "\n",
       "    .dataframe tbody tr th {\n",
       "        vertical-align: top;\n",
       "    }\n",
       "\n",
       "    .dataframe thead th {\n",
       "        text-align: right;\n",
       "    }\n",
       "</style>\n",
       "<table border=\"1\" class=\"dataframe\">\n",
       "  <thead>\n",
       "    <tr style=\"text-align: right;\">\n",
       "      <th></th>\n",
       "      <th>Contents</th>\n",
       "      <th>Like</th>\n",
       "      <th>ID</th>\n",
       "      <th>Tags</th>\n",
       "    </tr>\n",
       "  </thead>\n",
       "  <tbody>\n",
       "    <tr>\n",
       "      <th>0</th>\n",
       "      <td>연봉 100억  일타강사 이지영  다이어트 방법데일리 업데잇  book5657s ...</td>\n",
       "      <td>12</td>\n",
       "      <td>book5657s</td>\n",
       "      <td>#약수핫플, #경성대맛집, #양천구떡케이크, #신촌네일, #동안구맛집추천, #수유데...</td>\n",
       "    </tr>\n",
       "    <tr>\n",
       "      <th>1</th>\n",
       "      <td>세계적인 스타 셰프 고든램지의  고든 램지 버거 가 캐주얼 콘셉트로 새롭게  고든...</td>\n",
       "      <td>395</td>\n",
       "      <td>etc_zine</td>\n",
       "      <td></td>\n",
       "    </tr>\n",
       "    <tr>\n",
       "      <th>2</th>\n",
       "      <td>아마도 전국에서 젤 유명한 옛날스타일 햄버거라죠  송탄미군부대 앞에 있는  미스진...</td>\n",
       "      <td>1517</td>\n",
       "      <td>songs_kitchens</td>\n",
       "      <td>#미스진버거미군들한테, #송탄, #미스진버거??스페셜A(7, #송탄맛집, #옛날햄버...</td>\n",
       "    </tr>\n",
       "    <tr>\n",
       "      <th>3</th>\n",
       "      <td>통새우폭탄버거                  먹시인입 속을 가득 채우는 탱글한 ...</td>\n",
       "      <td>4265</td>\n",
       "      <td>mukseein</td>\n",
       "      <td>#왓더버거??, #직화통새우버거, #셧더버거, #햄버거맛집, #새우버거, #버거맛집...</td>\n",
       "    </tr>\n",
       "    <tr>\n",
       "      <th>4</th>\n",
       "      <td>꿀 같은데 헬인 알바 모음    카페 알바 누가 꿀이래ㅜㅜ 오늘의 꿀팁은    la...</td>\n",
       "      <td>664</td>\n",
       "      <td>lady_good_tip</td>\n",
       "      <td>#헬, #헬인알바, #꿀알바, #알바모음, #아르바이트, #카페, #배스킨, #햄버...</td>\n",
       "    </tr>\n",
       "  </tbody>\n",
       "</table>\n",
       "</div>"
      ],
      "text/plain": [
       "                                            Contents  Like              ID  \\\n",
       "0   연봉 100억  일타강사 이지영  다이어트 방법데일리 업데잇  book5657s ...    12       book5657s   \n",
       "1   세계적인 스타 셰프 고든램지의  고든 램지 버거 가 캐주얼 콘셉트로 새롭게  고든...   395        etc_zine   \n",
       "2   아마도 전국에서 젤 유명한 옛날스타일 햄버거라죠  송탄미군부대 앞에 있는  미스진...  1517  songs_kitchens   \n",
       "3    통새우폭탄버거                  먹시인입 속을 가득 채우는 탱글한 ...  4265        mukseein   \n",
       "4  꿀 같은데 헬인 알바 모음    카페 알바 누가 꿀이래ㅜㅜ 오늘의 꿀팁은    la...   664   lady_good_tip   \n",
       "\n",
       "                                                Tags  \n",
       "0  #약수핫플, #경성대맛집, #양천구떡케이크, #신촌네일, #동안구맛집추천, #수유데...  \n",
       "1                                                     \n",
       "2  #미스진버거미군들한테, #송탄, #미스진버거??스페셜A(7, #송탄맛집, #옛날햄버...  \n",
       "3  #왓더버거??, #직화통새우버거, #셧더버거, #햄버거맛집, #새우버거, #버거맛집...  \n",
       "4  #헬, #헬인알바, #꿀알바, #알바모음, #아르바이트, #카페, #배스킨, #햄버...  "
      ]
     },
     "execution_count": 6,
     "metadata": {},
     "output_type": "execute_result"
    }
   ],
   "source": [
    "h.head()"
   ]
  },
  {
   "cell_type": "markdown",
   "id": "b58e2944",
   "metadata": {},
   "source": [
    "#### 2_1) like 전처리 : 평균"
   ]
  },
  {
   "cell_type": "code",
   "execution_count": 7,
   "id": "2e3c0564",
   "metadata": {},
   "outputs": [
    {
     "data": {
      "text/plain": [
       "92.46656649135988"
      ]
     },
     "execution_count": 7,
     "metadata": {},
     "output_type": "execute_result"
    }
   ],
   "source": [
    "# 중간값\n",
    "num = h[~(h[\"Like\"].str.contains(\"좋아합니\")|h[\"Like\"].str.contains(\"눌러보세\"))][\"Like\"]\n",
    "num = num.astype(int)\n",
    "num.sum()/len(num)    # 92.5"
   ]
  },
  {
   "cell_type": "code",
   "execution_count": 8,
   "id": "93f16737",
   "metadata": {
    "scrolled": true
   },
   "outputs": [
    {
     "data": {
      "text/plain": [
       "False    1338\n",
       "True      253\n",
       "Name: Like, dtype: int64"
      ]
     },
     "execution_count": 8,
     "metadata": {},
     "output_type": "execute_result"
    }
   ],
   "source": [
    "h[\"Like\"].str.contains(\"좋아합니\").value_counts()"
   ]
  },
  {
   "cell_type": "code",
   "execution_count": 9,
   "id": "081c280d",
   "metadata": {},
   "outputs": [
    {
     "data": {
      "text/plain": [
       "False    1584\n",
       "True        7\n",
       "Name: Like, dtype: int64"
      ]
     },
     "execution_count": 9,
     "metadata": {},
     "output_type": "execute_result"
    }
   ],
   "source": [
    "h[\"Like\"].str.contains(\"눌러보세\").value_counts()"
   ]
  },
  {
   "cell_type": "code",
   "execution_count": 10,
   "id": "b3247d70",
   "metadata": {},
   "outputs": [],
   "source": [
    "like_str_idx = h[h[\"Like\"].str.contains(\"좋아합니\")].index\n",
    "like_0_idx = h[h[\"Like\"].str.contains(\"눌러보세\")].index"
   ]
  },
  {
   "cell_type": "code",
   "execution_count": 11,
   "id": "94af5ea5",
   "metadata": {},
   "outputs": [],
   "source": [
    "for i in range(len(h)):\n",
    "    for j in like_str_idx:\n",
    "        for k in like_0_idx:\n",
    "            if i==j:\n",
    "                h[\"Like\"][j]=92.5\n",
    "            elif i==k:\n",
    "                h[\"Like\"][k]=0\n",
    "            else:\n",
    "                continue"
   ]
  },
  {
   "cell_type": "code",
   "execution_count": 12,
   "id": "16c9f371",
   "metadata": {},
   "outputs": [
    {
     "data": {
      "text/plain": [
       "False    1331\n",
       "Name: Like, dtype: int64"
      ]
     },
     "execution_count": 12,
     "metadata": {},
     "output_type": "execute_result"
    }
   ],
   "source": [
    "h[\"Like\"].str.contains(\"좋아합니\").value_counts()"
   ]
  },
  {
   "cell_type": "code",
   "execution_count": 13,
   "id": "8f184a91",
   "metadata": {},
   "outputs": [
    {
     "data": {
      "text/plain": [
       "False    1331\n",
       "Name: Like, dtype: int64"
      ]
     },
     "execution_count": 13,
     "metadata": {},
     "output_type": "execute_result"
    }
   ],
   "source": [
    "h[\"Like\"].str.contains(\"눌러보세\").value_counts()"
   ]
  },
  {
   "cell_type": "code",
   "execution_count": 14,
   "id": "8a098bd9",
   "metadata": {},
   "outputs": [],
   "source": [
    "h[\"Like\"] = h[\"Like\"].astype(\"int\")"
   ]
  },
  {
   "cell_type": "code",
   "execution_count": 15,
   "id": "2b7c26b0",
   "metadata": {},
   "outputs": [
    {
     "name": "stdout",
     "output_type": "stream",
     "text": [
      "<class 'pandas.core.frame.DataFrame'>\n",
      "Int64Index: 1591 entries, 0 to 1590\n",
      "Data columns (total 4 columns):\n",
      " #   Column    Non-Null Count  Dtype \n",
      "---  ------    --------------  ----- \n",
      " 0   Contents  1591 non-null   object\n",
      " 1   Like      1591 non-null   int32 \n",
      " 2   ID        1591 non-null   object\n",
      " 3   Tags      1591 non-null   object\n",
      "dtypes: int32(1), object(3)\n",
      "memory usage: 120.5+ KB\n"
     ]
    }
   ],
   "source": [
    "h.info()"
   ]
  },
  {
   "cell_type": "code",
   "execution_count": 154,
   "id": "8c7ad13e",
   "metadata": {},
   "outputs": [],
   "source": [
    "# h.to_csv(\"./data/hbg1_avg.csv\")"
   ]
  },
  {
   "cell_type": "markdown",
   "id": "aae15589",
   "metadata": {},
   "source": [
    "#### 2_2) like 전처리 : 중간값 (h 다시 불러오기)"
   ]
  },
  {
   "cell_type": "code",
   "execution_count": 100,
   "id": "aa02a7ab",
   "metadata": {},
   "outputs": [
    {
     "data": {
      "text/plain": [
       "25.0"
      ]
     },
     "execution_count": 100,
     "metadata": {},
     "output_type": "execute_result"
    }
   ],
   "source": [
    "# 중간값\n",
    "num = h[~(h[\"Like\"].str.contains(\"좋아합니\")|h[\"Like\"].str.contains(\"눌러보세\"))][\"Like\"]\n",
    "num = num.astype(int)\n",
    "num.median()"
   ]
  },
  {
   "cell_type": "code",
   "execution_count": 101,
   "id": "779c2c42",
   "metadata": {
    "scrolled": true
   },
   "outputs": [
    {
     "data": {
      "text/plain": [
       "False    1338\n",
       "True      253\n",
       "Name: Like, dtype: int64"
      ]
     },
     "execution_count": 101,
     "metadata": {},
     "output_type": "execute_result"
    }
   ],
   "source": [
    "h[\"Like\"].str.contains(\"좋아합니\").value_counts()"
   ]
  },
  {
   "cell_type": "code",
   "execution_count": 102,
   "id": "01ddddb6",
   "metadata": {},
   "outputs": [
    {
     "data": {
      "text/plain": [
       "False    1584\n",
       "True        7\n",
       "Name: Like, dtype: int64"
      ]
     },
     "execution_count": 102,
     "metadata": {},
     "output_type": "execute_result"
    }
   ],
   "source": [
    "h[\"Like\"].str.contains(\"눌러보세\").value_counts()"
   ]
  },
  {
   "cell_type": "code",
   "execution_count": 103,
   "id": "36a788bc",
   "metadata": {},
   "outputs": [],
   "source": [
    "like_str_idx = h[h[\"Like\"].str.contains(\"좋아합니\")].index\n",
    "like_0_idx = h[h[\"Like\"].str.contains(\"눌러보세\")].index"
   ]
  },
  {
   "cell_type": "code",
   "execution_count": 105,
   "id": "bfbafdce",
   "metadata": {},
   "outputs": [],
   "source": [
    "for i in range(len(h)):\n",
    "    for j in like_str_idx:\n",
    "        for k in like_0_idx:\n",
    "            if i==j:\n",
    "                h[\"Like\"][j]=25\n",
    "            if i==k:\n",
    "                h[\"Like\"][k]=0\n",
    "            else:\n",
    "                continue"
   ]
  },
  {
   "cell_type": "code",
   "execution_count": 106,
   "id": "b8167f48",
   "metadata": {},
   "outputs": [
    {
     "data": {
      "text/plain": [
       "False    1331\n",
       "Name: Like, dtype: int64"
      ]
     },
     "execution_count": 106,
     "metadata": {},
     "output_type": "execute_result"
    }
   ],
   "source": [
    "h[\"Like\"].str.contains(\"좋아합니\").value_counts()"
   ]
  },
  {
   "cell_type": "code",
   "execution_count": 107,
   "id": "178c2580",
   "metadata": {},
   "outputs": [
    {
     "data": {
      "text/plain": [
       "False    1331\n",
       "Name: Like, dtype: int64"
      ]
     },
     "execution_count": 107,
     "metadata": {},
     "output_type": "execute_result"
    }
   ],
   "source": [
    "h[\"Like\"].str.contains(\"눌러보세\").value_counts()"
   ]
  },
  {
   "cell_type": "code",
   "execution_count": 108,
   "id": "2e86f378",
   "metadata": {},
   "outputs": [],
   "source": [
    "h[\"Like\"] = h[\"Like\"].astype(\"int\")"
   ]
  },
  {
   "cell_type": "code",
   "execution_count": 109,
   "id": "ea593753",
   "metadata": {},
   "outputs": [
    {
     "name": "stdout",
     "output_type": "stream",
     "text": [
      "<class 'pandas.core.frame.DataFrame'>\n",
      "Int64Index: 1591 entries, 0 to 1590\n",
      "Data columns (total 4 columns):\n",
      " #   Column    Non-Null Count  Dtype \n",
      "---  ------    --------------  ----- \n",
      " 0   Contents  1591 non-null   object\n",
      " 1   Like      1591 non-null   int32 \n",
      " 2   ID        1591 non-null   object\n",
      " 3   Tags      1591 non-null   object\n",
      "dtypes: int32(1), object(3)\n",
      "memory usage: 120.5+ KB\n"
     ]
    }
   ],
   "source": [
    "h.info()"
   ]
  },
  {
   "cell_type": "code",
   "execution_count": 111,
   "id": "c70b8604",
   "metadata": {},
   "outputs": [],
   "source": [
    "# h.to_csv(\"./data/hbg1_med.csv\")"
   ]
  },
  {
   "cell_type": "code",
   "execution_count": 16,
   "id": "d8211d9b",
   "metadata": {},
   "outputs": [
    {
     "data": {
      "text/html": [
       "<div>\n",
       "<style scoped>\n",
       "    .dataframe tbody tr th:only-of-type {\n",
       "        vertical-align: middle;\n",
       "    }\n",
       "\n",
       "    .dataframe tbody tr th {\n",
       "        vertical-align: top;\n",
       "    }\n",
       "\n",
       "    .dataframe thead th {\n",
       "        text-align: right;\n",
       "    }\n",
       "</style>\n",
       "<table border=\"1\" class=\"dataframe\">\n",
       "  <thead>\n",
       "    <tr style=\"text-align: right;\">\n",
       "      <th></th>\n",
       "      <th>Like</th>\n",
       "    </tr>\n",
       "  </thead>\n",
       "  <tbody>\n",
       "    <tr>\n",
       "      <th>0</th>\n",
       "      <td>12</td>\n",
       "    </tr>\n",
       "    <tr>\n",
       "      <th>1</th>\n",
       "      <td>395</td>\n",
       "    </tr>\n",
       "    <tr>\n",
       "      <th>2</th>\n",
       "      <td>1517</td>\n",
       "    </tr>\n",
       "    <tr>\n",
       "      <th>3</th>\n",
       "      <td>4265</td>\n",
       "    </tr>\n",
       "    <tr>\n",
       "      <th>4</th>\n",
       "      <td>664</td>\n",
       "    </tr>\n",
       "  </tbody>\n",
       "</table>\n",
       "</div>"
      ],
      "text/plain": [
       "   Like\n",
       "0    12\n",
       "1   395\n",
       "2  1517\n",
       "3  4265\n",
       "4   664"
      ]
     },
     "execution_count": 16,
     "metadata": {},
     "output_type": "execute_result"
    }
   ],
   "source": [
    "# Like 정규화 및 평균 이하 제거 \n",
    "\n",
    "h_like = h[\"Like\"].copy()\n",
    "h_like = pd.DataFrame(h_like)\n",
    "h_like.head()"
   ]
  },
  {
   "cell_type": "code",
   "execution_count": 17,
   "id": "9f9ca4e2",
   "metadata": {},
   "outputs": [],
   "source": [
    "from sklearn.preprocessing import MinMaxScaler\n",
    "\n",
    "# MinMaxcaler객체 생성\n",
    "scaler = MinMaxScaler()\n",
    "\n",
    "# MinMaxScaler 로 데이터 셋 변환 .fit() 과 .transform() 호출.  \n",
    "scaler.fit(h_like)\n",
    "h_like_scaled = scaler.transform(h_like)\n",
    "\n",
    "# transform( )시 scale 변환된 데이터 셋이 numpy ndarry로 반환되어 이를 DataFrame으로 변환\n",
    "like_scaled = pd.DataFrame(data=h_like_scaled)"
   ]
  },
  {
   "cell_type": "code",
   "execution_count": 18,
   "id": "2f02c74f",
   "metadata": {},
   "outputs": [
    {
     "data": {
      "text/html": [
       "<div>\n",
       "<style scoped>\n",
       "    .dataframe tbody tr th:only-of-type {\n",
       "        vertical-align: middle;\n",
       "    }\n",
       "\n",
       "    .dataframe tbody tr th {\n",
       "        vertical-align: top;\n",
       "    }\n",
       "\n",
       "    .dataframe thead th {\n",
       "        text-align: right;\n",
       "    }\n",
       "</style>\n",
       "<table border=\"1\" class=\"dataframe\">\n",
       "  <thead>\n",
       "    <tr style=\"text-align: right;\">\n",
       "      <th></th>\n",
       "      <th>like_scaled</th>\n",
       "    </tr>\n",
       "  </thead>\n",
       "  <tbody>\n",
       "    <tr>\n",
       "      <th>0</th>\n",
       "      <td>0.002076</td>\n",
       "    </tr>\n",
       "    <tr>\n",
       "      <th>1</th>\n",
       "      <td>0.068339</td>\n",
       "    </tr>\n",
       "    <tr>\n",
       "      <th>2</th>\n",
       "      <td>0.262457</td>\n",
       "    </tr>\n",
       "    <tr>\n",
       "      <th>3</th>\n",
       "      <td>0.737889</td>\n",
       "    </tr>\n",
       "    <tr>\n",
       "      <th>4</th>\n",
       "      <td>0.114879</td>\n",
       "    </tr>\n",
       "  </tbody>\n",
       "</table>\n",
       "</div>"
      ],
      "text/plain": [
       "   like_scaled\n",
       "0     0.002076\n",
       "1     0.068339\n",
       "2     0.262457\n",
       "3     0.737889\n",
       "4     0.114879"
      ]
     },
     "execution_count": 18,
     "metadata": {},
     "output_type": "execute_result"
    }
   ],
   "source": [
    "like_scaled.columns=[\"like_scaled\"]\n",
    "like_scaled.head()"
   ]
  },
  {
   "cell_type": "code",
   "execution_count": 19,
   "id": "142cd6ba",
   "metadata": {},
   "outputs": [
    {
     "data": {
      "text/html": [
       "<div>\n",
       "<style scoped>\n",
       "    .dataframe tbody tr th:only-of-type {\n",
       "        vertical-align: middle;\n",
       "    }\n",
       "\n",
       "    .dataframe tbody tr th {\n",
       "        vertical-align: top;\n",
       "    }\n",
       "\n",
       "    .dataframe thead th {\n",
       "        text-align: right;\n",
       "    }\n",
       "</style>\n",
       "<table border=\"1\" class=\"dataframe\">\n",
       "  <thead>\n",
       "    <tr style=\"text-align: right;\">\n",
       "      <th></th>\n",
       "      <th>Contents</th>\n",
       "      <th>Like</th>\n",
       "      <th>ID</th>\n",
       "      <th>Tags</th>\n",
       "      <th>like_scaled</th>\n",
       "    </tr>\n",
       "  </thead>\n",
       "  <tbody>\n",
       "    <tr>\n",
       "      <th>0</th>\n",
       "      <td>연봉 100억  일타강사 이지영  다이어트 방법데일리 업데잇  book5657s ...</td>\n",
       "      <td>12</td>\n",
       "      <td>book5657s</td>\n",
       "      <td>#약수핫플, #경성대맛집, #양천구떡케이크, #신촌네일, #동안구맛집추천, #수유데...</td>\n",
       "      <td>0.002076</td>\n",
       "    </tr>\n",
       "    <tr>\n",
       "      <th>1</th>\n",
       "      <td>세계적인 스타 셰프 고든램지의  고든 램지 버거 가 캐주얼 콘셉트로 새롭게  고든...</td>\n",
       "      <td>395</td>\n",
       "      <td>etc_zine</td>\n",
       "      <td></td>\n",
       "      <td>0.068339</td>\n",
       "    </tr>\n",
       "    <tr>\n",
       "      <th>2</th>\n",
       "      <td>아마도 전국에서 젤 유명한 옛날스타일 햄버거라죠  송탄미군부대 앞에 있는  미스진...</td>\n",
       "      <td>1517</td>\n",
       "      <td>songs_kitchens</td>\n",
       "      <td>#미스진버거미군들한테, #송탄, #미스진버거??스페셜A(7, #송탄맛집, #옛날햄버...</td>\n",
       "      <td>0.262457</td>\n",
       "    </tr>\n",
       "    <tr>\n",
       "      <th>3</th>\n",
       "      <td>통새우폭탄버거                  먹시인입 속을 가득 채우는 탱글한 ...</td>\n",
       "      <td>4265</td>\n",
       "      <td>mukseein</td>\n",
       "      <td>#왓더버거??, #직화통새우버거, #셧더버거, #햄버거맛집, #새우버거, #버거맛집...</td>\n",
       "      <td>0.737889</td>\n",
       "    </tr>\n",
       "    <tr>\n",
       "      <th>4</th>\n",
       "      <td>꿀 같은데 헬인 알바 모음    카페 알바 누가 꿀이래ㅜㅜ 오늘의 꿀팁은    la...</td>\n",
       "      <td>664</td>\n",
       "      <td>lady_good_tip</td>\n",
       "      <td>#헬, #헬인알바, #꿀알바, #알바모음, #아르바이트, #카페, #배스킨, #햄버...</td>\n",
       "      <td>0.114879</td>\n",
       "    </tr>\n",
       "    <tr>\n",
       "      <th>...</th>\n",
       "      <td>...</td>\n",
       "      <td>...</td>\n",
       "      <td>...</td>\n",
       "      <td>...</td>\n",
       "      <td>...</td>\n",
       "    </tr>\n",
       "    <tr>\n",
       "      <th>1586</th>\n",
       "      <td></td>\n",
       "      <td>6</td>\n",
       "      <td>s_reetl_ght</td>\n",
       "      <td></td>\n",
       "      <td>0.001038</td>\n",
       "    </tr>\n",
       "    <tr>\n",
       "      <th>1587</th>\n",
       "      <td>2023 1 7</td>\n",
       "      <td>292</td>\n",
       "      <td>itzel_day_</td>\n",
       "      <td></td>\n",
       "      <td>0.050519</td>\n",
       "    </tr>\n",
       "    <tr>\n",
       "      <th>1588</th>\n",
       "      <td>제주 판타스틱버거     제주특별자치도 서귀포시 표선면 토산중앙로15번길 6  ...</td>\n",
       "      <td>180</td>\n",
       "      <td>gwimjjijji</td>\n",
       "      <td>#판타스틱버거, #제주판타스틱버거, #제주수제버거, #수제버거, #햄버거, #버거맛...</td>\n",
       "      <td>0.031142</td>\n",
       "    </tr>\n",
       "    <tr>\n",
       "      <th>1589</th>\n",
       "      <td>최애햄버거 더블패티는 기본 fiveguysburgers  파이브가이즈 햄버거</td>\n",
       "      <td>15</td>\n",
       "      <td>yongseongjhkim</td>\n",
       "      <td>#fiveguysburgers, #파이브가이즈, #햄버거</td>\n",
       "      <td>0.002595</td>\n",
       "    </tr>\n",
       "    <tr>\n",
       "      <th>1590</th>\n",
       "      <td>편의점 햄버거   맞팔  선팔  햄버거</td>\n",
       "      <td>2</td>\n",
       "      <td>02_sinbis</td>\n",
       "      <td>#맞팔, #선팔, #햄버거</td>\n",
       "      <td>0.000346</td>\n",
       "    </tr>\n",
       "  </tbody>\n",
       "</table>\n",
       "<p>1591 rows × 5 columns</p>\n",
       "</div>"
      ],
      "text/plain": [
       "                                               Contents  Like              ID  \\\n",
       "0      연봉 100억  일타강사 이지영  다이어트 방법데일리 업데잇  book5657s ...    12       book5657s   \n",
       "1      세계적인 스타 셰프 고든램지의  고든 램지 버거 가 캐주얼 콘셉트로 새롭게  고든...   395        etc_zine   \n",
       "2      아마도 전국에서 젤 유명한 옛날스타일 햄버거라죠  송탄미군부대 앞에 있는  미스진...  1517  songs_kitchens   \n",
       "3       통새우폭탄버거                  먹시인입 속을 가득 채우는 탱글한 ...  4265        mukseein   \n",
       "4     꿀 같은데 헬인 알바 모음    카페 알바 누가 꿀이래ㅜㅜ 오늘의 꿀팁은    la...   664   lady_good_tip   \n",
       "...                                                 ...   ...             ...   \n",
       "1586                                                        6     s_reetl_ght   \n",
       "1587                                        2023 1 7      292      itzel_day_   \n",
       "1588    제주 판타스틱버거     제주특별자치도 서귀포시 표선면 토산중앙로15번길 6  ...   180      gwimjjijji   \n",
       "1589         최애햄버거 더블패티는 기본 fiveguysburgers  파이브가이즈 햄버거    15  yongseongjhkim   \n",
       "1590                              편의점 햄버거   맞팔  선팔  햄버거     2       02_sinbis   \n",
       "\n",
       "                                                   Tags  like_scaled  \n",
       "0     #약수핫플, #경성대맛집, #양천구떡케이크, #신촌네일, #동안구맛집추천, #수유데...     0.002076  \n",
       "1                                                           0.068339  \n",
       "2     #미스진버거미군들한테, #송탄, #미스진버거??스페셜A(7, #송탄맛집, #옛날햄버...     0.262457  \n",
       "3     #왓더버거??, #직화통새우버거, #셧더버거, #햄버거맛집, #새우버거, #버거맛집...     0.737889  \n",
       "4     #헬, #헬인알바, #꿀알바, #알바모음, #아르바이트, #카페, #배스킨, #햄버...     0.114879  \n",
       "...                                                 ...          ...  \n",
       "1586                                                        0.001038  \n",
       "1587                                                        0.050519  \n",
       "1588  #판타스틱버거, #제주판타스틱버거, #제주수제버거, #수제버거, #햄버거, #버거맛...     0.031142  \n",
       "1589                    #fiveguysburgers, #파이브가이즈, #햄버거     0.002595  \n",
       "1590                                     #맞팔, #선팔, #햄버거     0.000346  \n",
       "\n",
       "[1591 rows x 5 columns]"
      ]
     },
     "execution_count": 19,
     "metadata": {},
     "output_type": "execute_result"
    }
   ],
   "source": [
    "h_scaled = pd.concat([h, like_scaled], axis=1)\n",
    "h_scaled"
   ]
  },
  {
   "cell_type": "code",
   "execution_count": 20,
   "id": "ce8cd851",
   "metadata": {},
   "outputs": [
    {
     "data": {
      "text/html": [
       "<div>\n",
       "<style scoped>\n",
       "    .dataframe tbody tr th:only-of-type {\n",
       "        vertical-align: middle;\n",
       "    }\n",
       "\n",
       "    .dataframe tbody tr th {\n",
       "        vertical-align: top;\n",
       "    }\n",
       "\n",
       "    .dataframe thead th {\n",
       "        text-align: right;\n",
       "    }\n",
       "</style>\n",
       "<table border=\"1\" class=\"dataframe\">\n",
       "  <thead>\n",
       "    <tr style=\"text-align: right;\">\n",
       "      <th></th>\n",
       "      <th>ID</th>\n",
       "      <th>Contents</th>\n",
       "      <th>Tags</th>\n",
       "      <th>Like</th>\n",
       "      <th>like_scaled</th>\n",
       "    </tr>\n",
       "  </thead>\n",
       "  <tbody>\n",
       "    <tr>\n",
       "      <th>0</th>\n",
       "      <td>book5657s</td>\n",
       "      <td>연봉 100억  일타강사 이지영  다이어트 방법데일리 업데잇  book5657s ...</td>\n",
       "      <td>#약수핫플, #경성대맛집, #양천구떡케이크, #신촌네일, #동안구맛집추천, #수유데...</td>\n",
       "      <td>12</td>\n",
       "      <td>0.002076</td>\n",
       "    </tr>\n",
       "    <tr>\n",
       "      <th>1</th>\n",
       "      <td>etc_zine</td>\n",
       "      <td>세계적인 스타 셰프 고든램지의  고든 램지 버거 가 캐주얼 콘셉트로 새롭게  고든...</td>\n",
       "      <td></td>\n",
       "      <td>395</td>\n",
       "      <td>0.068339</td>\n",
       "    </tr>\n",
       "    <tr>\n",
       "      <th>2</th>\n",
       "      <td>songs_kitchens</td>\n",
       "      <td>아마도 전국에서 젤 유명한 옛날스타일 햄버거라죠  송탄미군부대 앞에 있는  미스진...</td>\n",
       "      <td>#미스진버거미군들한테, #송탄, #미스진버거??스페셜A(7, #송탄맛집, #옛날햄버...</td>\n",
       "      <td>1517</td>\n",
       "      <td>0.262457</td>\n",
       "    </tr>\n",
       "    <tr>\n",
       "      <th>3</th>\n",
       "      <td>mukseein</td>\n",
       "      <td>통새우폭탄버거                  먹시인입 속을 가득 채우는 탱글한 ...</td>\n",
       "      <td>#왓더버거??, #직화통새우버거, #셧더버거, #햄버거맛집, #새우버거, #버거맛집...</td>\n",
       "      <td>4265</td>\n",
       "      <td>0.737889</td>\n",
       "    </tr>\n",
       "    <tr>\n",
       "      <th>4</th>\n",
       "      <td>lady_good_tip</td>\n",
       "      <td>꿀 같은데 헬인 알바 모음    카페 알바 누가 꿀이래ㅜㅜ 오늘의 꿀팁은    la...</td>\n",
       "      <td>#헬, #헬인알바, #꿀알바, #알바모음, #아르바이트, #카페, #배스킨, #햄버...</td>\n",
       "      <td>664</td>\n",
       "      <td>0.114879</td>\n",
       "    </tr>\n",
       "    <tr>\n",
       "      <th>...</th>\n",
       "      <td>...</td>\n",
       "      <td>...</td>\n",
       "      <td>...</td>\n",
       "      <td>...</td>\n",
       "      <td>...</td>\n",
       "    </tr>\n",
       "    <tr>\n",
       "      <th>1586</th>\n",
       "      <td>s_reetl_ght</td>\n",
       "      <td></td>\n",
       "      <td></td>\n",
       "      <td>6</td>\n",
       "      <td>0.001038</td>\n",
       "    </tr>\n",
       "    <tr>\n",
       "      <th>1587</th>\n",
       "      <td>itzel_day_</td>\n",
       "      <td>2023 1 7</td>\n",
       "      <td></td>\n",
       "      <td>292</td>\n",
       "      <td>0.050519</td>\n",
       "    </tr>\n",
       "    <tr>\n",
       "      <th>1588</th>\n",
       "      <td>gwimjjijji</td>\n",
       "      <td>제주 판타스틱버거     제주특별자치도 서귀포시 표선면 토산중앙로15번길 6  ...</td>\n",
       "      <td>#판타스틱버거, #제주판타스틱버거, #제주수제버거, #수제버거, #햄버거, #버거맛...</td>\n",
       "      <td>180</td>\n",
       "      <td>0.031142</td>\n",
       "    </tr>\n",
       "    <tr>\n",
       "      <th>1589</th>\n",
       "      <td>yongseongjhkim</td>\n",
       "      <td>최애햄버거 더블패티는 기본 fiveguysburgers  파이브가이즈 햄버거</td>\n",
       "      <td>#fiveguysburgers, #파이브가이즈, #햄버거</td>\n",
       "      <td>15</td>\n",
       "      <td>0.002595</td>\n",
       "    </tr>\n",
       "    <tr>\n",
       "      <th>1590</th>\n",
       "      <td>02_sinbis</td>\n",
       "      <td>편의점 햄버거   맞팔  선팔  햄버거</td>\n",
       "      <td>#맞팔, #선팔, #햄버거</td>\n",
       "      <td>2</td>\n",
       "      <td>0.000346</td>\n",
       "    </tr>\n",
       "  </tbody>\n",
       "</table>\n",
       "<p>1591 rows × 5 columns</p>\n",
       "</div>"
      ],
      "text/plain": [
       "                  ID                                           Contents  \\\n",
       "0          book5657s   연봉 100억  일타강사 이지영  다이어트 방법데일리 업데잇  book5657s ...   \n",
       "1           etc_zine   세계적인 스타 셰프 고든램지의  고든 램지 버거 가 캐주얼 콘셉트로 새롭게  고든...   \n",
       "2     songs_kitchens   아마도 전국에서 젤 유명한 옛날스타일 햄버거라죠  송탄미군부대 앞에 있는  미스진...   \n",
       "3           mukseein    통새우폭탄버거                  먹시인입 속을 가득 채우는 탱글한 ...   \n",
       "4      lady_good_tip  꿀 같은데 헬인 알바 모음    카페 알바 누가 꿀이래ㅜㅜ 오늘의 꿀팁은    la...   \n",
       "...              ...                                                ...   \n",
       "1586     s_reetl_ght                                                      \n",
       "1587      itzel_day_                                        2023 1 7      \n",
       "1588      gwimjjijji    제주 판타스틱버거     제주특별자치도 서귀포시 표선면 토산중앙로15번길 6  ...   \n",
       "1589  yongseongjhkim         최애햄버거 더블패티는 기본 fiveguysburgers  파이브가이즈 햄버거   \n",
       "1590       02_sinbis                              편의점 햄버거   맞팔  선팔  햄버거   \n",
       "\n",
       "                                                   Tags  Like  like_scaled  \n",
       "0     #약수핫플, #경성대맛집, #양천구떡케이크, #신촌네일, #동안구맛집추천, #수유데...    12     0.002076  \n",
       "1                                                         395     0.068339  \n",
       "2     #미스진버거미군들한테, #송탄, #미스진버거??스페셜A(7, #송탄맛집, #옛날햄버...  1517     0.262457  \n",
       "3     #왓더버거??, #직화통새우버거, #셧더버거, #햄버거맛집, #새우버거, #버거맛집...  4265     0.737889  \n",
       "4     #헬, #헬인알바, #꿀알바, #알바모음, #아르바이트, #카페, #배스킨, #햄버...   664     0.114879  \n",
       "...                                                 ...   ...          ...  \n",
       "1586                                                        6     0.001038  \n",
       "1587                                                      292     0.050519  \n",
       "1588  #판타스틱버거, #제주판타스틱버거, #제주수제버거, #수제버거, #햄버거, #버거맛...   180     0.031142  \n",
       "1589                    #fiveguysburgers, #파이브가이즈, #햄버거    15     0.002595  \n",
       "1590                                     #맞팔, #선팔, #햄버거     2     0.000346  \n",
       "\n",
       "[1591 rows x 5 columns]"
      ]
     },
     "execution_count": 20,
     "metadata": {},
     "output_type": "execute_result"
    }
   ],
   "source": [
    "# 보기 좋은 순서로 변경~\n",
    "h_scaled = h_scaled[[\"ID\", \"Contents\", \"Tags\", \"Like\", \"like_scaled\"]]\n",
    "h_scaled"
   ]
  },
  {
   "cell_type": "code",
   "execution_count": 36,
   "id": "5f4ffce8",
   "metadata": {},
   "outputs": [
    {
     "data": {
      "text/plain": [
       "['',\n",
       " '약수핫플, ',\n",
       " '경성대맛집, ',\n",
       " '양천구떡케이크, ',\n",
       " '신촌네일, ',\n",
       " '동안구맛집추천, ',\n",
       " '수유데이트코스, ',\n",
       " '자연산막회, ',\n",
       " '대학생코디, ',\n",
       " '장어, ',\n",
       " '성신여대맛집, ',\n",
       " '카페맛집, ',\n",
       " '스타벅스, ',\n",
       " '부암동네일, ',\n",
       " '청담눈썹문신, ',\n",
       " '햄버거, ',\n",
       " '노원핫플, ',\n",
       " '건대눈썹문신, ',\n",
       " '보라매눈썹문신, ',\n",
       " '강동구네일, ',\n",
       " '일산가로수길']"
      ]
     },
     "execution_count": 36,
     "metadata": {},
     "output_type": "execute_result"
    }
   ],
   "source": [
    "h_scaled[\"Tags\"].str.split(\"#\")[0]"
   ]
  },
  {
   "cell_type": "code",
   "execution_count": 37,
   "id": "205db5ca",
   "metadata": {},
   "outputs": [
    {
     "name": "stderr",
     "output_type": "stream",
     "text": [
      "C:\\Users\\somin\\AppData\\Local\\Temp\\ipykernel_23564\\1683845082.py:6: SettingWithCopyWarning: \n",
      "A value is trying to be set on a copy of a slice from a DataFrame.\n",
      "Try using .loc[row_indexer,col_indexer] = value instead\n",
      "\n",
      "See the caveats in the documentation: https://pandas.pydata.org/pandas-docs/stable/user_guide/indexing.html#returning-a-view-versus-a-copy\n",
      "  h_scaled[\"tag_sum\"] = tag_sum\n"
     ]
    }
   ],
   "source": [
    "tag_sum=[]\n",
    "for i in range(len(h_scaled)):\n",
    "    if len(h_scaled[\"Tags\"].str.split(\"#\")[1]) == 1:\n",
    "        tag_sum.append(len(h_scaled[\"Tags\"].str.split(\"#\")[i][1:]))\n",
    "        \n",
    "h_scaled[\"tag_sum\"] = tag_sum"
   ]
  },
  {
   "cell_type": "code",
   "execution_count": 38,
   "id": "81e04b1a",
   "metadata": {},
   "outputs": [
    {
     "data": {
      "text/html": [
       "<div>\n",
       "<style scoped>\n",
       "    .dataframe tbody tr th:only-of-type {\n",
       "        vertical-align: middle;\n",
       "    }\n",
       "\n",
       "    .dataframe tbody tr th {\n",
       "        vertical-align: top;\n",
       "    }\n",
       "\n",
       "    .dataframe thead th {\n",
       "        text-align: right;\n",
       "    }\n",
       "</style>\n",
       "<table border=\"1\" class=\"dataframe\">\n",
       "  <thead>\n",
       "    <tr style=\"text-align: right;\">\n",
       "      <th></th>\n",
       "      <th>ID</th>\n",
       "      <th>Contents</th>\n",
       "      <th>Tags</th>\n",
       "      <th>Like</th>\n",
       "      <th>like_scaled</th>\n",
       "      <th>tag_sum</th>\n",
       "    </tr>\n",
       "  </thead>\n",
       "  <tbody>\n",
       "    <tr>\n",
       "      <th>0</th>\n",
       "      <td>book5657s</td>\n",
       "      <td>연봉 100억  일타강사 이지영  다이어트 방법데일리 업데잇  book5657s ...</td>\n",
       "      <td>#약수핫플, #경성대맛집, #양천구떡케이크, #신촌네일, #동안구맛집추천, #수유데...</td>\n",
       "      <td>12</td>\n",
       "      <td>0.002076</td>\n",
       "      <td>20</td>\n",
       "    </tr>\n",
       "    <tr>\n",
       "      <th>1</th>\n",
       "      <td>etc_zine</td>\n",
       "      <td>세계적인 스타 셰프 고든램지의  고든 램지 버거 가 캐주얼 콘셉트로 새롭게  고든...</td>\n",
       "      <td></td>\n",
       "      <td>395</td>\n",
       "      <td>0.068339</td>\n",
       "      <td>0</td>\n",
       "    </tr>\n",
       "    <tr>\n",
       "      <th>2</th>\n",
       "      <td>songs_kitchens</td>\n",
       "      <td>아마도 전국에서 젤 유명한 옛날스타일 햄버거라죠  송탄미군부대 앞에 있는  미스진...</td>\n",
       "      <td>#미스진버거미군들한테, #송탄, #미스진버거??스페셜A(7, #송탄맛집, #옛날햄버...</td>\n",
       "      <td>1517</td>\n",
       "      <td>0.262457</td>\n",
       "      <td>10</td>\n",
       "    </tr>\n",
       "    <tr>\n",
       "      <th>3</th>\n",
       "      <td>mukseein</td>\n",
       "      <td>통새우폭탄버거                  먹시인입 속을 가득 채우는 탱글한 ...</td>\n",
       "      <td>#왓더버거??, #직화통새우버거, #셧더버거, #햄버거맛집, #새우버거, #버거맛집...</td>\n",
       "      <td>4265</td>\n",
       "      <td>0.737889</td>\n",
       "      <td>9</td>\n",
       "    </tr>\n",
       "    <tr>\n",
       "      <th>4</th>\n",
       "      <td>lady_good_tip</td>\n",
       "      <td>꿀 같은데 헬인 알바 모음    카페 알바 누가 꿀이래ㅜㅜ 오늘의 꿀팁은    la...</td>\n",
       "      <td>#헬, #헬인알바, #꿀알바, #알바모음, #아르바이트, #카페, #배스킨, #햄버...</td>\n",
       "      <td>664</td>\n",
       "      <td>0.114879</td>\n",
       "      <td>12</td>\n",
       "    </tr>\n",
       "  </tbody>\n",
       "</table>\n",
       "</div>"
      ],
      "text/plain": [
       "               ID                                           Contents  \\\n",
       "0       book5657s   연봉 100억  일타강사 이지영  다이어트 방법데일리 업데잇  book5657s ...   \n",
       "1        etc_zine   세계적인 스타 셰프 고든램지의  고든 램지 버거 가 캐주얼 콘셉트로 새롭게  고든...   \n",
       "2  songs_kitchens   아마도 전국에서 젤 유명한 옛날스타일 햄버거라죠  송탄미군부대 앞에 있는  미스진...   \n",
       "3        mukseein    통새우폭탄버거                  먹시인입 속을 가득 채우는 탱글한 ...   \n",
       "4   lady_good_tip  꿀 같은데 헬인 알바 모음    카페 알바 누가 꿀이래ㅜㅜ 오늘의 꿀팁은    la...   \n",
       "\n",
       "                                                Tags  Like  like_scaled  \\\n",
       "0  #약수핫플, #경성대맛집, #양천구떡케이크, #신촌네일, #동안구맛집추천, #수유데...    12     0.002076   \n",
       "1                                                      395     0.068339   \n",
       "2  #미스진버거미군들한테, #송탄, #미스진버거??스페셜A(7, #송탄맛집, #옛날햄버...  1517     0.262457   \n",
       "3  #왓더버거??, #직화통새우버거, #셧더버거, #햄버거맛집, #새우버거, #버거맛집...  4265     0.737889   \n",
       "4  #헬, #헬인알바, #꿀알바, #알바모음, #아르바이트, #카페, #배스킨, #햄버...   664     0.114879   \n",
       "\n",
       "   tag_sum  \n",
       "0       20  \n",
       "1        0  \n",
       "2       10  \n",
       "3        9  \n",
       "4       12  "
      ]
     },
     "execution_count": 38,
     "metadata": {},
     "output_type": "execute_result"
    }
   ],
   "source": [
    "h_scaled.head()"
   ]
  },
  {
   "cell_type": "code",
   "execution_count": null,
   "id": "608407dd",
   "metadata": {},
   "outputs": [],
   "source": [
    "# h_scaled_avg.to_csv(\"./data/test_hbg.csv\")"
   ]
  },
  {
   "cell_type": "code",
   "execution_count": null,
   "id": "1b9dc81a",
   "metadata": {},
   "outputs": [],
   "source": []
  },
  {
   "cell_type": "code",
   "execution_count": null,
   "id": "46ba4a49",
   "metadata": {},
   "outputs": [],
   "source": []
  },
  {
   "cell_type": "code",
   "execution_count": null,
   "id": "d4aaf287",
   "metadata": {},
   "outputs": [],
   "source": []
  },
  {
   "cell_type": "code",
   "execution_count": null,
   "id": "1ce3b5f6",
   "metadata": {},
   "outputs": [],
   "source": []
  },
  {
   "cell_type": "code",
   "execution_count": null,
   "id": "101f7176",
   "metadata": {},
   "outputs": [],
   "source": []
  },
  {
   "cell_type": "code",
   "execution_count": null,
   "id": "66c26620",
   "metadata": {},
   "outputs": [],
   "source": []
  },
  {
   "cell_type": "code",
   "execution_count": null,
   "id": "92055712",
   "metadata": {},
   "outputs": [],
   "source": []
  },
  {
   "cell_type": "code",
   "execution_count": null,
   "id": "29a6549b",
   "metadata": {},
   "outputs": [],
   "source": []
  },
  {
   "cell_type": "code",
   "execution_count": null,
   "id": "81b1bf6a",
   "metadata": {},
   "outputs": [],
   "source": []
  },
  {
   "cell_type": "code",
   "execution_count": null,
   "id": "ca500101",
   "metadata": {},
   "outputs": [],
   "source": []
  },
  {
   "cell_type": "code",
   "execution_count": null,
   "id": "d7c0ac71",
   "metadata": {},
   "outputs": [],
   "source": []
  },
  {
   "cell_type": "code",
   "execution_count": null,
   "id": "5870e446",
   "metadata": {},
   "outputs": [],
   "source": []
  },
  {
   "cell_type": "code",
   "execution_count": null,
   "id": "ba12136a",
   "metadata": {},
   "outputs": [],
   "source": []
  },
  {
   "cell_type": "code",
   "execution_count": null,
   "id": "23a4dc6c",
   "metadata": {},
   "outputs": [],
   "source": []
  },
  {
   "cell_type": "code",
   "execution_count": null,
   "id": "b4d661eb",
   "metadata": {},
   "outputs": [],
   "source": []
  },
  {
   "cell_type": "code",
   "execution_count": null,
   "id": "980de584",
   "metadata": {},
   "outputs": [],
   "source": []
  }
 ],
 "metadata": {
  "kernelspec": {
   "display_name": "Python 3 (ipykernel)",
   "language": "python",
   "name": "python3"
  },
  "language_info": {
   "codemirror_mode": {
    "name": "ipython",
    "version": 3
   },
   "file_extension": ".py",
   "mimetype": "text/x-python",
   "name": "python",
   "nbconvert_exporter": "python",
   "pygments_lexer": "ipython3",
   "version": "3.9.12"
  }
 },
 "nbformat": 4,
 "nbformat_minor": 5
}
