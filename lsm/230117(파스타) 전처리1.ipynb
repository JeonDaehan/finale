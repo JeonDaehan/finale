{
 "cells": [
  {
   "cell_type": "code",
   "execution_count": 1,
   "id": "f189590c",
   "metadata": {},
   "outputs": [
    {
     "data": {
      "text/html": [
       "<style>.container { width:90% !important; }</style>"
      ],
      "text/plain": [
       "<IPython.core.display.HTML object>"
      ]
     },
     "metadata": {},
     "output_type": "display_data"
    }
   ],
   "source": [
    "from IPython.display import display, HTML\n",
    "display(HTML(\"<style>.container { width:90% !important; }</style>\"))\n",
    "\n",
    "import numpy as np\n",
    "import pandas as pd\n",
    "import matplotlib.pyplot as plt\n",
    "import seaborn as sns\n",
    "\n",
    "from selenium import webdriver\n",
    "from selenium.webdriver.common.by import By\n",
    "from selenium.webdriver.common.keys import Keys\n",
    "from selenium.webdriver.chrome.service import Service\n",
    "# from webdriver_manager.chrome import ChromeDriverManager\n",
    "import time\n",
    "import pyperclip\n",
    "\n",
    "from selenium.webdriver.support.ui import WebDriverWait\n",
    "from selenium.webdriver.support import expected_conditions as EC"
   ]
  },
  {
   "cell_type": "markdown",
   "id": "df72021c",
   "metadata": {},
   "source": [
    "####  요약\n",
    "- content/tag 특수문자 제거\n",
    "-like 전처리(이상값 대체 / int 형식으로 변환 / 결측치 대체)"
   ]
  },
  {
   "cell_type": "markdown",
   "id": "00862d9d",
   "metadata": {},
   "source": [
    "## 1. 데이터 정보 확인"
   ]
  },
  {
   "cell_type": "code",
   "execution_count": 3,
   "id": "79b85200",
   "metadata": {
    "scrolled": true
   },
   "outputs": [
    {
     "data": {
      "text/html": [
       "<div>\n",
       "<style scoped>\n",
       "    .dataframe tbody tr th:only-of-type {\n",
       "        vertical-align: middle;\n",
       "    }\n",
       "\n",
       "    .dataframe tbody tr th {\n",
       "        vertical-align: top;\n",
       "    }\n",
       "\n",
       "    .dataframe thead th {\n",
       "        text-align: right;\n",
       "    }\n",
       "</style>\n",
       "<table border=\"1\" class=\"dataframe\">\n",
       "  <thead>\n",
       "    <tr style=\"text-align: right;\">\n",
       "      <th></th>\n",
       "      <th>Contents</th>\n",
       "      <th>Like</th>\n",
       "      <th>ID</th>\n",
       "      <th>Tags</th>\n",
       "    </tr>\n",
       "  </thead>\n",
       "  <tbody>\n",
       "    <tr>\n",
       "      <th>0</th>\n",
       "      <td>새우장 키타라 파스타 집에서 냉동새우로 새우장을 담가봤어요!제가 만들었지만 너무 맛...</td>\n",
       "      <td>204</td>\n",
       "      <td>jooboossong</td>\n",
       "      <td>['#우리의식탁', '#라이프스타일러', '#파스타', '#파스타레시피', '#파스...</td>\n",
       "    </tr>\n",
       "    <tr>\n",
       "      <th>1</th>\n",
       "      <td>@chef_seokdeok안녕하세요. 이태리에서 ??요리학교를 나와 지금까지 이태리...</td>\n",
       "      <td>lerice_cake님 여러 명이 좋아합니</td>\n",
       "      <td>jyourpso1028</td>\n",
       "      <td>['#파스타', '#생면파스타', '#연남맛집', '#연남동맛집', '#홍대맛집',...</td>\n",
       "    </tr>\n",
       "    <tr>\n",
       "      <th>2</th>\n",
       "      <td>@chef_seokdeok안녕하세요. 이태리에서 ??요리학교를 나와 지금까지 이태리...</td>\n",
       "      <td>seunp0203님 여러 명이 좋아합니</td>\n",
       "      <td>uoorspn</td>\n",
       "      <td>['#파스타', '#생면파스타', '#연남맛집', '#연남동맛집', '#홍대맛집',...</td>\n",
       "    </tr>\n",
       "    <tr>\n",
       "      <th>3</th>\n",
       "      <td>@chef_seokdeok안녕하세요. 이태리에서 ??요리학교를 나와 지금까지 이태리...</td>\n",
       "      <td>0721.pdkd님 여러 명이 좋아합니</td>\n",
       "      <td>jsytxmap</td>\n",
       "      <td>['#파스타', '#생면파스타', '#연남맛집', '#연남동맛집', '#홍대맛집',...</td>\n",
       "    </tr>\n",
       "    <tr>\n",
       "      <th>4</th>\n",
       "      <td>@chef_seokdeok안녕하세요. 이태리에서 ??요리학교를 나와 지금까지 이태리...</td>\n",
       "      <td>omsey1102님 여러 명이 좋아합니</td>\n",
       "      <td>jpskanwa0118</td>\n",
       "      <td>['#파스타', '#생면파스타', '#연남맛집', '#연남동맛집', '#홍대맛집',...</td>\n",
       "    </tr>\n",
       "  </tbody>\n",
       "</table>\n",
       "</div>"
      ],
      "text/plain": [
       "                                            Contents                     Like  \\\n",
       "0  새우장 키타라 파스타 집에서 냉동새우로 새우장을 담가봤어요!제가 만들었지만 너무 맛...                      204   \n",
       "1  @chef_seokdeok안녕하세요. 이태리에서 ??요리학교를 나와 지금까지 이태리...  lerice_cake님 여러 명이 좋아합니   \n",
       "2  @chef_seokdeok안녕하세요. 이태리에서 ??요리학교를 나와 지금까지 이태리...    seunp0203님 여러 명이 좋아합니   \n",
       "3  @chef_seokdeok안녕하세요. 이태리에서 ??요리학교를 나와 지금까지 이태리...    0721.pdkd님 여러 명이 좋아합니   \n",
       "4  @chef_seokdeok안녕하세요. 이태리에서 ??요리학교를 나와 지금까지 이태리...    omsey1102님 여러 명이 좋아합니   \n",
       "\n",
       "             ID                                               Tags  \n",
       "0   jooboossong  ['#우리의식탁', '#라이프스타일러', '#파스타', '#파스타레시피', '#파스...  \n",
       "1  jyourpso1028  ['#파스타', '#생면파스타', '#연남맛집', '#연남동맛집', '#홍대맛집',...  \n",
       "2       uoorspn  ['#파스타', '#생면파스타', '#연남맛집', '#연남동맛집', '#홍대맛집',...  \n",
       "3      jsytxmap  ['#파스타', '#생면파스타', '#연남맛집', '#연남동맛집', '#홍대맛집',...  \n",
       "4  jpskanwa0118  ['#파스타', '#생면파스타', '#연남맛집', '#연남동맛집', '#홍대맛집',...  "
      ]
     },
     "execution_count": 3,
     "metadata": {},
     "output_type": "execute_result"
    }
   ],
   "source": [
    "pasta=pd.read_csv(\"./data/pasta_result1518.csv\", index_col = 0)\n",
    "# pasta.columns = [\"UserId\", \"Contents\", \"Tags\", \"Like\"]\n",
    "pasta.head()"
   ]
  },
  {
   "cell_type": "code",
   "execution_count": 4,
   "id": "46847047",
   "metadata": {},
   "outputs": [
    {
     "name": "stdout",
     "output_type": "stream",
     "text": [
      "<class 'pandas.core.frame.DataFrame'>\n",
      "Int64Index: 1518 entries, 0 to 1517\n",
      "Data columns (total 4 columns):\n",
      " #   Column    Non-Null Count  Dtype \n",
      "---  ------    --------------  ----- \n",
      " 0   Contents  1518 non-null   object\n",
      " 1   Like      1517 non-null   object\n",
      " 2   ID        1518 non-null   object\n",
      " 3   Tags      1518 non-null   object\n",
      "dtypes: object(4)\n",
      "memory usage: 59.3+ KB\n"
     ]
    }
   ],
   "source": [
    "pasta.info()"
   ]
  },
  {
   "cell_type": "code",
   "execution_count": 23,
   "id": "7c359c5c",
   "metadata": {},
   "outputs": [
    {
     "data": {
      "text/html": [
       "<div>\n",
       "<style scoped>\n",
       "    .dataframe tbody tr th:only-of-type {\n",
       "        vertical-align: middle;\n",
       "    }\n",
       "\n",
       "    .dataframe tbody tr th {\n",
       "        vertical-align: top;\n",
       "    }\n",
       "\n",
       "    .dataframe thead th {\n",
       "        text-align: right;\n",
       "    }\n",
       "</style>\n",
       "<table border=\"1\" class=\"dataframe\">\n",
       "  <thead>\n",
       "    <tr style=\"text-align: right;\">\n",
       "      <th></th>\n",
       "      <th>Contents</th>\n",
       "      <th>Like</th>\n",
       "      <th>ID</th>\n",
       "      <th>Tags</th>\n",
       "    </tr>\n",
       "  </thead>\n",
       "  <tbody>\n",
       "    <tr>\n",
       "      <th>798</th>\n",
       "      <td>수비드 부채살과콰몰리또띠아 아주 맛있었던 조합#수비드 #과콰몰리#집밥 #셰프 #쉐프...</td>\n",
       "      <td>NaN</td>\n",
       "      <td>pesto_chef</td>\n",
       "      <td>['#수비드', '#과콰몰리', '#집밥', '#셰프', '#쉐프', '#주부', ...</td>\n",
       "    </tr>\n",
       "  </tbody>\n",
       "</table>\n",
       "</div>"
      ],
      "text/plain": [
       "                                              Contents Like          ID  \\\n",
       "798  수비드 부채살과콰몰리또띠아 아주 맛있었던 조합#수비드 #과콰몰리#집밥 #셰프 #쉐프...  NaN  pesto_chef   \n",
       "\n",
       "                                                  Tags  \n",
       "798  ['#수비드', '#과콰몰리', '#집밥', '#셰프', '#쉐프', '#주부', ...  "
      ]
     },
     "execution_count": 23,
     "metadata": {},
     "output_type": "execute_result"
    }
   ],
   "source": [
    "pasta[pasta[\"Like\"].isna()==True]"
   ]
  },
  {
   "cell_type": "markdown",
   "id": "7100521d",
   "metadata": {},
   "source": [
    "## 2. 전처리"
   ]
  },
  {
   "cell_type": "code",
   "execution_count": 14,
   "id": "74918be8",
   "metadata": {},
   "outputs": [],
   "source": [
    "pasta1 = pasta.copy()"
   ]
  },
  {
   "cell_type": "markdown",
   "id": "592c8388",
   "metadata": {},
   "source": [
    "#### 기본 전처리\n",
    "- content/tag 특수문자 제거"
   ]
  },
  {
   "cell_type": "code",
   "execution_count": 15,
   "id": "0a283bac",
   "metadata": {},
   "outputs": [],
   "source": [
    "# contents 특수기호 및 문자 제거\n",
    "pasta1[\"Contents\"] = pasta1[\"Contents\"].str.replace(pat=r'[^\\w]', repl=r' ', regex=True)\n",
    "\n",
    "# # tags # 제외한 특수 기호 제거\n",
    "pasta1[\"Tags\"] = pasta1[\"Tags\"].str.strip(\"]['\")\n",
    "pasta1[\"Tags\"] = pasta1[\"Tags\"].str.replace(\"'\", repl=r\"\", regex=True)"
   ]
  },
  {
   "cell_type": "code",
   "execution_count": 16,
   "id": "61bae17e",
   "metadata": {},
   "outputs": [
    {
     "data": {
      "text/html": [
       "<div>\n",
       "<style scoped>\n",
       "    .dataframe tbody tr th:only-of-type {\n",
       "        vertical-align: middle;\n",
       "    }\n",
       "\n",
       "    .dataframe tbody tr th {\n",
       "        vertical-align: top;\n",
       "    }\n",
       "\n",
       "    .dataframe thead th {\n",
       "        text-align: right;\n",
       "    }\n",
       "</style>\n",
       "<table border=\"1\" class=\"dataframe\">\n",
       "  <thead>\n",
       "    <tr style=\"text-align: right;\">\n",
       "      <th></th>\n",
       "      <th>Contents</th>\n",
       "      <th>Like</th>\n",
       "      <th>ID</th>\n",
       "      <th>Tags</th>\n",
       "    </tr>\n",
       "  </thead>\n",
       "  <tbody>\n",
       "    <tr>\n",
       "      <th>0</th>\n",
       "      <td>새우장 키타라 파스타 집에서 냉동새우로 새우장을 담가봤어요 제가 만들었지만 너무 맛...</td>\n",
       "      <td>204</td>\n",
       "      <td>jooboossong</td>\n",
       "      <td>#우리의식탁, #라이프스타일러, #파스타, #파스타레시피, #파스타만들기, #새우장...</td>\n",
       "    </tr>\n",
       "    <tr>\n",
       "      <th>1</th>\n",
       "      <td>chef_seokdeok안녕하세요  이태리에서   요리학교를 나와 지금까지 이태리...</td>\n",
       "      <td>lerice_cake님 여러 명이 좋아합니</td>\n",
       "      <td>jyourpso1028</td>\n",
       "      <td>#파스타, #생면파스타, #연남맛집, #연남동맛집, #홍대맛집, #연트럴파크맛집, ...</td>\n",
       "    </tr>\n",
       "    <tr>\n",
       "      <th>2</th>\n",
       "      <td>chef_seokdeok안녕하세요  이태리에서   요리학교를 나와 지금까지 이태리...</td>\n",
       "      <td>seunp0203님 여러 명이 좋아합니</td>\n",
       "      <td>uoorspn</td>\n",
       "      <td>#파스타, #생면파스타, #연남맛집, #연남동맛집, #홍대맛집, #연트럴파크맛집, ...</td>\n",
       "    </tr>\n",
       "    <tr>\n",
       "      <th>3</th>\n",
       "      <td>chef_seokdeok안녕하세요  이태리에서   요리학교를 나와 지금까지 이태리...</td>\n",
       "      <td>0721.pdkd님 여러 명이 좋아합니</td>\n",
       "      <td>jsytxmap</td>\n",
       "      <td>#파스타, #생면파스타, #연남맛집, #연남동맛집, #홍대맛집, #연트럴파크맛집, ...</td>\n",
       "    </tr>\n",
       "    <tr>\n",
       "      <th>4</th>\n",
       "      <td>chef_seokdeok안녕하세요  이태리에서   요리학교를 나와 지금까지 이태리...</td>\n",
       "      <td>omsey1102님 여러 명이 좋아합니</td>\n",
       "      <td>jpskanwa0118</td>\n",
       "      <td>#파스타, #생면파스타, #연남맛집, #연남동맛집, #홍대맛집, #연트럴파크맛집, ...</td>\n",
       "    </tr>\n",
       "  </tbody>\n",
       "</table>\n",
       "</div>"
      ],
      "text/plain": [
       "                                            Contents                     Like  \\\n",
       "0  새우장 키타라 파스타 집에서 냉동새우로 새우장을 담가봤어요 제가 만들었지만 너무 맛...                      204   \n",
       "1   chef_seokdeok안녕하세요  이태리에서   요리학교를 나와 지금까지 이태리...  lerice_cake님 여러 명이 좋아합니   \n",
       "2   chef_seokdeok안녕하세요  이태리에서   요리학교를 나와 지금까지 이태리...    seunp0203님 여러 명이 좋아합니   \n",
       "3   chef_seokdeok안녕하세요  이태리에서   요리학교를 나와 지금까지 이태리...    0721.pdkd님 여러 명이 좋아합니   \n",
       "4   chef_seokdeok안녕하세요  이태리에서   요리학교를 나와 지금까지 이태리...    omsey1102님 여러 명이 좋아합니   \n",
       "\n",
       "             ID                                               Tags  \n",
       "0   jooboossong  #우리의식탁, #라이프스타일러, #파스타, #파스타레시피, #파스타만들기, #새우장...  \n",
       "1  jyourpso1028  #파스타, #생면파스타, #연남맛집, #연남동맛집, #홍대맛집, #연트럴파크맛집, ...  \n",
       "2       uoorspn  #파스타, #생면파스타, #연남맛집, #연남동맛집, #홍대맛집, #연트럴파크맛집, ...  \n",
       "3      jsytxmap  #파스타, #생면파스타, #연남맛집, #연남동맛집, #홍대맛집, #연트럴파크맛집, ...  \n",
       "4  jpskanwa0118  #파스타, #생면파스타, #연남맛집, #연남동맛집, #홍대맛집, #연트럴파크맛집, ...  "
      ]
     },
     "execution_count": 16,
     "metadata": {},
     "output_type": "execute_result"
    }
   ],
   "source": [
    "pasta1.head()"
   ]
  },
  {
   "cell_type": "code",
   "execution_count": null,
   "id": "e2b64d8a",
   "metadata": {},
   "outputs": [],
   "source": [
    "# pasta1.to_csv(\"./data/pasta_preprocessing.csv\")"
   ]
  },
  {
   "cell_type": "markdown",
   "id": "b21261b3",
   "metadata": {},
   "source": [
    "- like 전처리(이상값 대체 / int 형식으로 변환 / 결측치 0)"
   ]
  },
  {
   "cell_type": "code",
   "execution_count": 20,
   "id": "8599523c",
   "metadata": {},
   "outputs": [],
   "source": [
    "pasta1[\"Like\"] = pasta1[\"Like\"].fillna(0)"
   ]
  },
  {
   "cell_type": "code",
   "execution_count": 24,
   "id": "4d39694d",
   "metadata": {},
   "outputs": [
    {
     "data": {
      "text/plain": [
       "False    1518\n",
       "Name: Like, dtype: int64"
      ]
     },
     "execution_count": 24,
     "metadata": {},
     "output_type": "execute_result"
    }
   ],
   "source": [
    "pasta1[\"Like\"].isna().value_counts()   # 결측치 0으로 대체 완료"
   ]
  },
  {
   "cell_type": "code",
   "execution_count": 27,
   "id": "77af8484",
   "metadata": {},
   "outputs": [],
   "source": [
    "like_num = pasta1[~(pasta1[\"Like\"].str.contains(\"좋아합니\")|pasta1[\"Like\"].str.contains(\"눌러보세\"))][\"Like\"]\n",
    "like_notnum = pasta1[(pasta1[\"Like\"].str.contains(\"좋아합니\")|pasta1[\"Like\"].str.contains(\"눌러보세\"))][\"Like\"]\n",
    "# like_notnum = num.astype(int)"
   ]
  },
  {
   "cell_type": "code",
   "execution_count": 31,
   "id": "26c49b81",
   "metadata": {},
   "outputs": [
    {
     "data": {
      "text/plain": [
       "17.0"
      ]
     },
     "execution_count": 31,
     "metadata": {},
     "output_type": "execute_result"
    }
   ],
   "source": [
    "like_num = like_num.astype(\"int\")\n",
    "like_num.info()\n",
    "like_num.median()"
   ]
  },
  {
   "cell_type": "code",
   "execution_count": 33,
   "id": "e493df6f",
   "metadata": {},
   "outputs": [
    {
     "data": {
      "text/plain": [
       "False    1230\n",
       "True      287\n",
       "Name: Like, dtype: int64"
      ]
     },
     "execution_count": 33,
     "metadata": {},
     "output_type": "execute_result"
    }
   ],
   "source": [
    "pasta1[\"Like\"].str.contains(\"좋아합니\").value_counts()"
   ]
  },
  {
   "cell_type": "code",
   "execution_count": 34,
   "id": "659acd0b",
   "metadata": {},
   "outputs": [
    {
     "data": {
      "text/plain": [
       "False    1459\n",
       "True       58\n",
       "Name: Like, dtype: int64"
      ]
     },
     "execution_count": 34,
     "metadata": {},
     "output_type": "execute_result"
    }
   ],
   "source": [
    "pasta1[\"Like\"].str.contains(\"눌러보세\").value_counts()"
   ]
  },
  {
   "cell_type": "code",
   "execution_count": 51,
   "id": "31869bfc",
   "metadata": {},
   "outputs": [],
   "source": [
    "like_str_idx = pasta1[pasta1[\"Like\"].str.contains(\"좋아합니\") == True].index\n",
    "like_0_idx = pasta1[pasta1[\"Like\"].str.contains(\"눌러보세\") == True].index"
   ]
  },
  {
   "cell_type": "code",
   "execution_count": 54,
   "id": "f91e8f72",
   "metadata": {},
   "outputs": [],
   "source": [
    "for i in range(len(pasta1)):\n",
    "    for j in like_str_idx:\n",
    "        for k in like_0_idx:\n",
    "            if i == j:\n",
    "                pasta1[\"Like\"][j] = 17.0\n",
    "            if i == k:\n",
    "                pasta1[\"Like\"][k] = 0\n",
    "            else:\n",
    "                continue"
   ]
  },
  {
   "cell_type": "code",
   "execution_count": 55,
   "id": "de1171ff",
   "metadata": {},
   "outputs": [
    {
     "data": {
      "text/plain": [
       "False    1172\n",
       "Name: Like, dtype: int64"
      ]
     },
     "execution_count": 55,
     "metadata": {},
     "output_type": "execute_result"
    }
   ],
   "source": [
    "pasta1[\"Like\"].str.contains(\"좋아합니\").value_counts()"
   ]
  },
  {
   "cell_type": "code",
   "execution_count": 56,
   "id": "d397e75d",
   "metadata": {},
   "outputs": [
    {
     "data": {
      "text/plain": [
       "False    1172\n",
       "Name: Like, dtype: int64"
      ]
     },
     "execution_count": 56,
     "metadata": {},
     "output_type": "execute_result"
    }
   ],
   "source": [
    "pasta1[\"Like\"].str.contains(\"눌러보세\").value_counts()"
   ]
  },
  {
   "cell_type": "code",
   "execution_count": 58,
   "id": "4b7462db",
   "metadata": {},
   "outputs": [],
   "source": [
    "pasta1[\"Like\"] = pasta1[\"Like\"].astype(\"int\")"
   ]
  },
  {
   "cell_type": "code",
   "execution_count": 59,
   "id": "79afc44a",
   "metadata": {},
   "outputs": [
    {
     "name": "stdout",
     "output_type": "stream",
     "text": [
      "<class 'pandas.core.frame.DataFrame'>\n",
      "Int64Index: 1518 entries, 0 to 1517\n",
      "Data columns (total 4 columns):\n",
      " #   Column    Non-Null Count  Dtype \n",
      "---  ------    --------------  ----- \n",
      " 0   Contents  1518 non-null   object\n",
      " 1   Like      1518 non-null   int32 \n",
      " 2   ID        1518 non-null   object\n",
      " 3   Tags      1518 non-null   object\n",
      "dtypes: int32(1), object(3)\n",
      "memory usage: 85.7+ KB\n"
     ]
    }
   ],
   "source": [
    "pasta1.info()"
   ]
  },
  {
   "cell_type": "code",
   "execution_count": 61,
   "id": "5bcdfc41",
   "metadata": {},
   "outputs": [
    {
     "data": {
      "text/html": [
       "<div>\n",
       "<style scoped>\n",
       "    .dataframe tbody tr th:only-of-type {\n",
       "        vertical-align: middle;\n",
       "    }\n",
       "\n",
       "    .dataframe tbody tr th {\n",
       "        vertical-align: top;\n",
       "    }\n",
       "\n",
       "    .dataframe thead th {\n",
       "        text-align: right;\n",
       "    }\n",
       "</style>\n",
       "<table border=\"1\" class=\"dataframe\">\n",
       "  <thead>\n",
       "    <tr style=\"text-align: right;\">\n",
       "      <th></th>\n",
       "      <th>Contents</th>\n",
       "      <th>Like</th>\n",
       "      <th>ID</th>\n",
       "      <th>Tags</th>\n",
       "    </tr>\n",
       "  </thead>\n",
       "  <tbody>\n",
       "    <tr>\n",
       "      <th>0</th>\n",
       "      <td>새우장 키타라 파스타 집에서 냉동새우로 새우장을 담가봤어요 제가 만들었지만 너무 맛...</td>\n",
       "      <td>204</td>\n",
       "      <td>jooboossong</td>\n",
       "      <td>#우리의식탁, #라이프스타일러, #파스타, #파스타레시피, #파스타만들기, #새우장...</td>\n",
       "    </tr>\n",
       "    <tr>\n",
       "      <th>1</th>\n",
       "      <td>chef_seokdeok안녕하세요  이태리에서   요리학교를 나와 지금까지 이태리...</td>\n",
       "      <td>17</td>\n",
       "      <td>jyourpso1028</td>\n",
       "      <td>#파스타, #생면파스타, #연남맛집, #연남동맛집, #홍대맛집, #연트럴파크맛집, ...</td>\n",
       "    </tr>\n",
       "    <tr>\n",
       "      <th>2</th>\n",
       "      <td>chef_seokdeok안녕하세요  이태리에서   요리학교를 나와 지금까지 이태리...</td>\n",
       "      <td>17</td>\n",
       "      <td>uoorspn</td>\n",
       "      <td>#파스타, #생면파스타, #연남맛집, #연남동맛집, #홍대맛집, #연트럴파크맛집, ...</td>\n",
       "    </tr>\n",
       "    <tr>\n",
       "      <th>3</th>\n",
       "      <td>chef_seokdeok안녕하세요  이태리에서   요리학교를 나와 지금까지 이태리...</td>\n",
       "      <td>17</td>\n",
       "      <td>jsytxmap</td>\n",
       "      <td>#파스타, #생면파스타, #연남맛집, #연남동맛집, #홍대맛집, #연트럴파크맛집, ...</td>\n",
       "    </tr>\n",
       "    <tr>\n",
       "      <th>4</th>\n",
       "      <td>chef_seokdeok안녕하세요  이태리에서   요리학교를 나와 지금까지 이태리...</td>\n",
       "      <td>17</td>\n",
       "      <td>jpskanwa0118</td>\n",
       "      <td>#파스타, #생면파스타, #연남맛집, #연남동맛집, #홍대맛집, #연트럴파크맛집, ...</td>\n",
       "    </tr>\n",
       "  </tbody>\n",
       "</table>\n",
       "</div>"
      ],
      "text/plain": [
       "                                            Contents  Like            ID  \\\n",
       "0  새우장 키타라 파스타 집에서 냉동새우로 새우장을 담가봤어요 제가 만들었지만 너무 맛...   204   jooboossong   \n",
       "1   chef_seokdeok안녕하세요  이태리에서   요리학교를 나와 지금까지 이태리...    17  jyourpso1028   \n",
       "2   chef_seokdeok안녕하세요  이태리에서   요리학교를 나와 지금까지 이태리...    17       uoorspn   \n",
       "3   chef_seokdeok안녕하세요  이태리에서   요리학교를 나와 지금까지 이태리...    17      jsytxmap   \n",
       "4   chef_seokdeok안녕하세요  이태리에서   요리학교를 나와 지금까지 이태리...    17  jpskanwa0118   \n",
       "\n",
       "                                                Tags  \n",
       "0  #우리의식탁, #라이프스타일러, #파스타, #파스타레시피, #파스타만들기, #새우장...  \n",
       "1  #파스타, #생면파스타, #연남맛집, #연남동맛집, #홍대맛집, #연트럴파크맛집, ...  \n",
       "2  #파스타, #생면파스타, #연남맛집, #연남동맛집, #홍대맛집, #연트럴파크맛집, ...  \n",
       "3  #파스타, #생면파스타, #연남맛집, #연남동맛집, #홍대맛집, #연트럴파크맛집, ...  \n",
       "4  #파스타, #생면파스타, #연남맛집, #연남동맛집, #홍대맛집, #연트럴파크맛집, ...  "
      ]
     },
     "execution_count": 61,
     "metadata": {},
     "output_type": "execute_result"
    }
   ],
   "source": [
    "pasta1.head()"
   ]
  },
  {
   "cell_type": "code",
   "execution_count": 63,
   "id": "066c5320",
   "metadata": {},
   "outputs": [],
   "source": [
    "pasta1.to_csv(\"./data/result_pre1_pasta.csv\")"
   ]
  },
  {
   "cell_type": "code",
   "execution_count": null,
   "id": "eb8180a5",
   "metadata": {},
   "outputs": [],
   "source": []
  },
  {
   "cell_type": "code",
   "execution_count": null,
   "id": "8f8ce428",
   "metadata": {},
   "outputs": [],
   "source": []
  },
  {
   "cell_type": "code",
   "execution_count": 64,
   "id": "ff1c8336",
   "metadata": {},
   "outputs": [],
   "source": [
    "r = [['988', '3.7만'],\n",
    " ['702', '2.3만'],\n",
    " ['237', '2.6만'],\n",
    " ['481', '2.7만'],\n",
    " ['130', '2.1만'],\n",
    " ['189', '1만'],\n",
    " ['316', '1.8만'],\n",
    " ['319', '2.3만'],\n",
    " ['159', '1.8만'],\n",
    " ['96', '209']]"
   ]
  },
  {
   "cell_type": "code",
   "execution_count": 65,
   "id": "f6a78a3a",
   "metadata": {},
   "outputs": [
    {
     "data": {
      "text/html": [
       "<div>\n",
       "<style scoped>\n",
       "    .dataframe tbody tr th:only-of-type {\n",
       "        vertical-align: middle;\n",
       "    }\n",
       "\n",
       "    .dataframe tbody tr th {\n",
       "        vertical-align: top;\n",
       "    }\n",
       "\n",
       "    .dataframe thead th {\n",
       "        text-align: right;\n",
       "    }\n",
       "</style>\n",
       "<table border=\"1\" class=\"dataframe\">\n",
       "  <thead>\n",
       "    <tr style=\"text-align: right;\">\n",
       "      <th></th>\n",
       "      <th>0</th>\n",
       "      <th>1</th>\n",
       "    </tr>\n",
       "  </thead>\n",
       "  <tbody>\n",
       "    <tr>\n",
       "      <th>0</th>\n",
       "      <td>988</td>\n",
       "      <td>3.7만</td>\n",
       "    </tr>\n",
       "    <tr>\n",
       "      <th>1</th>\n",
       "      <td>702</td>\n",
       "      <td>2.3만</td>\n",
       "    </tr>\n",
       "    <tr>\n",
       "      <th>2</th>\n",
       "      <td>237</td>\n",
       "      <td>2.6만</td>\n",
       "    </tr>\n",
       "    <tr>\n",
       "      <th>3</th>\n",
       "      <td>481</td>\n",
       "      <td>2.7만</td>\n",
       "    </tr>\n",
       "    <tr>\n",
       "      <th>4</th>\n",
       "      <td>130</td>\n",
       "      <td>2.1만</td>\n",
       "    </tr>\n",
       "    <tr>\n",
       "      <th>5</th>\n",
       "      <td>189</td>\n",
       "      <td>1만</td>\n",
       "    </tr>\n",
       "    <tr>\n",
       "      <th>6</th>\n",
       "      <td>316</td>\n",
       "      <td>1.8만</td>\n",
       "    </tr>\n",
       "    <tr>\n",
       "      <th>7</th>\n",
       "      <td>319</td>\n",
       "      <td>2.3만</td>\n",
       "    </tr>\n",
       "    <tr>\n",
       "      <th>8</th>\n",
       "      <td>159</td>\n",
       "      <td>1.8만</td>\n",
       "    </tr>\n",
       "    <tr>\n",
       "      <th>9</th>\n",
       "      <td>96</td>\n",
       "      <td>209</td>\n",
       "    </tr>\n",
       "  </tbody>\n",
       "</table>\n",
       "</div>"
      ],
      "text/plain": [
       "     0     1\n",
       "0  988  3.7만\n",
       "1  702  2.3만\n",
       "2  237  2.6만\n",
       "3  481  2.7만\n",
       "4  130  2.1만\n",
       "5  189    1만\n",
       "6  316  1.8만\n",
       "7  319  2.3만\n",
       "8  159  1.8만\n",
       "9   96   209"
      ]
     },
     "execution_count": 65,
     "metadata": {},
     "output_type": "execute_result"
    }
   ],
   "source": [
    "pd.DataFrame(r)"
   ]
  },
  {
   "cell_type": "code",
   "execution_count": null,
   "id": "86edcf63",
   "metadata": {},
   "outputs": [],
   "source": []
  },
  {
   "cell_type": "code",
   "execution_count": null,
   "id": "c722ebcd",
   "metadata": {},
   "outputs": [],
   "source": []
  },
  {
   "cell_type": "code",
   "execution_count": null,
   "id": "ed61e573",
   "metadata": {},
   "outputs": [],
   "source": []
  },
  {
   "cell_type": "code",
   "execution_count": null,
   "id": "3d31ba86",
   "metadata": {},
   "outputs": [],
   "source": []
  },
  {
   "cell_type": "code",
   "execution_count": null,
   "id": "89b876f8",
   "metadata": {},
   "outputs": [],
   "source": []
  },
  {
   "cell_type": "code",
   "execution_count": null,
   "id": "e575e51b",
   "metadata": {},
   "outputs": [],
   "source": []
  },
  {
   "cell_type": "code",
   "execution_count": null,
   "id": "ba8010f9",
   "metadata": {},
   "outputs": [],
   "source": []
  },
  {
   "cell_type": "code",
   "execution_count": null,
   "id": "a03c265b",
   "metadata": {},
   "outputs": [],
   "source": []
  },
  {
   "cell_type": "code",
   "execution_count": null,
   "id": "3184702c",
   "metadata": {},
   "outputs": [],
   "source": []
  },
  {
   "cell_type": "code",
   "execution_count": null,
   "id": "9aca341a",
   "metadata": {},
   "outputs": [],
   "source": []
  },
  {
   "cell_type": "code",
   "execution_count": null,
   "id": "69a24f0a",
   "metadata": {},
   "outputs": [],
   "source": []
  },
  {
   "cell_type": "code",
   "execution_count": null,
   "id": "823310d5",
   "metadata": {},
   "outputs": [],
   "source": []
  },
  {
   "cell_type": "code",
   "execution_count": null,
   "id": "39d17996",
   "metadata": {},
   "outputs": [],
   "source": []
  },
  {
   "cell_type": "code",
   "execution_count": null,
   "id": "26908a93",
   "metadata": {},
   "outputs": [],
   "source": []
  },
  {
   "cell_type": "code",
   "execution_count": null,
   "id": "63fb6ca4",
   "metadata": {},
   "outputs": [],
   "source": []
  },
  {
   "cell_type": "code",
   "execution_count": null,
   "id": "ac79b084",
   "metadata": {},
   "outputs": [],
   "source": []
  },
  {
   "cell_type": "code",
   "execution_count": null,
   "id": "ca5410c9",
   "metadata": {},
   "outputs": [],
   "source": []
  },
  {
   "cell_type": "code",
   "execution_count": null,
   "id": "c763b756",
   "metadata": {},
   "outputs": [],
   "source": []
  },
  {
   "cell_type": "code",
   "execution_count": null,
   "id": "2b1ea76a",
   "metadata": {},
   "outputs": [],
   "source": []
  },
  {
   "cell_type": "code",
   "execution_count": null,
   "id": "ab165eec",
   "metadata": {},
   "outputs": [],
   "source": []
  },
  {
   "cell_type": "code",
   "execution_count": null,
   "id": "a84cae88",
   "metadata": {},
   "outputs": [],
   "source": []
  },
  {
   "cell_type": "code",
   "execution_count": null,
   "id": "718487a5",
   "metadata": {},
   "outputs": [],
   "source": []
  },
  {
   "cell_type": "code",
   "execution_count": null,
   "id": "1b90c27a",
   "metadata": {},
   "outputs": [],
   "source": []
  },
  {
   "cell_type": "code",
   "execution_count": null,
   "id": "3288e85d",
   "metadata": {},
   "outputs": [],
   "source": []
  },
  {
   "cell_type": "code",
   "execution_count": null,
   "id": "11ca1177",
   "metadata": {},
   "outputs": [],
   "source": []
  },
  {
   "cell_type": "code",
   "execution_count": null,
   "id": "fa18bf8d",
   "metadata": {},
   "outputs": [],
   "source": []
  },
  {
   "cell_type": "code",
   "execution_count": null,
   "id": "b5181dab",
   "metadata": {},
   "outputs": [],
   "source": []
  },
  {
   "cell_type": "code",
   "execution_count": null,
   "id": "dbbea5dd",
   "metadata": {},
   "outputs": [],
   "source": []
  },
  {
   "cell_type": "code",
   "execution_count": null,
   "id": "61acda05",
   "metadata": {},
   "outputs": [],
   "source": []
  },
  {
   "cell_type": "code",
   "execution_count": null,
   "id": "a3991db1",
   "metadata": {},
   "outputs": [],
   "source": []
  },
  {
   "cell_type": "code",
   "execution_count": null,
   "id": "ac077b77",
   "metadata": {},
   "outputs": [],
   "source": []
  },
  {
   "cell_type": "code",
   "execution_count": null,
   "id": "b9322a86",
   "metadata": {},
   "outputs": [],
   "source": []
  }
 ],
 "metadata": {
  "kernelspec": {
   "display_name": "Python 3 (ipykernel)",
   "language": "python",
   "name": "python3"
  },
  "language_info": {
   "codemirror_mode": {
    "name": "ipython",
    "version": 3
   },
   "file_extension": ".py",
   "mimetype": "text/x-python",
   "name": "python",
   "nbconvert_exporter": "python",
   "pygments_lexer": "ipython3",
   "version": "3.9.12"
  }
 },
 "nbformat": 4,
 "nbformat_minor": 5
}
