{
 "cells": [
  {
   "cell_type": "code",
   "execution_count": 2,
   "id": "4bac5833",
   "metadata": {},
   "outputs": [
    {
     "data": {
      "text/html": [
       "<style>.container { width:90% !important; }</style>"
      ],
      "text/plain": [
       "<IPython.core.display.HTML object>"
      ]
     },
     "metadata": {},
     "output_type": "display_data"
    }
   ],
   "source": [
    "from IPython.display import display, HTML\n",
    "display(HTML(\"<style>.container { width:90% !important; }</style>\"))\n",
    "\n",
    "import numpy as np\n",
    "import pandas as pd\n",
    "import matplotlib.pyplot as plt\n",
    "import seaborn as sns\n",
    "\n",
    "from selenium import webdriver\n",
    "from selenium.webdriver.common.by import By\n",
    "from selenium.webdriver.common.keys import Keys\n",
    "from selenium.webdriver.chrome.service import Service\n",
    "from webdriver_manager.chrome import ChromeDriverManager\n",
    "import time\n",
    "import pyperclip\n",
    "\n",
    "from selenium.webdriver.support.ui import WebDriverWait\n",
    "from selenium.webdriver.support import expected_conditions as EC"
   ]
  },
  {
   "cell_type": "code",
   "execution_count": 3,
   "id": "6f2527c0",
   "metadata": {},
   "outputs": [],
   "source": [
    "from selenium import webdriver\n",
    "from bs4 import BeautifulSoup\n",
    "import time\n",
    "import re\n",
    "from selenium.webdriver.common.by import By\n",
    "from selenium.webdriver.common.keys import Keys\n",
    "\n",
    "from selenium.webdriver.support.ui import WebDriverWait\n",
    "from selenium.webdriver.support import expected_conditions as EC"
   ]
  },
  {
   "cell_type": "markdown",
   "id": "98fb6c28",
   "metadata": {},
   "source": [
    "## 1. 데이터 정보 확인"
   ]
  },
  {
   "cell_type": "code",
   "execution_count": 19,
   "id": "ab4bc7e6",
   "metadata": {},
   "outputs": [
    {
     "data": {
      "text/html": [
       "<div>\n",
       "<style scoped>\n",
       "    .dataframe tbody tr th:only-of-type {\n",
       "        vertical-align: middle;\n",
       "    }\n",
       "\n",
       "    .dataframe tbody tr th {\n",
       "        vertical-align: top;\n",
       "    }\n",
       "\n",
       "    .dataframe thead th {\n",
       "        text-align: right;\n",
       "    }\n",
       "</style>\n",
       "<table border=\"1\" class=\"dataframe\">\n",
       "  <thead>\n",
       "    <tr style=\"text-align: right;\">\n",
       "      <th></th>\n",
       "      <th>ID</th>\n",
       "      <th>Contents</th>\n",
       "      <th>Tags</th>\n",
       "      <th>Like</th>\n",
       "    </tr>\n",
       "  </thead>\n",
       "  <tbody>\n",
       "    <tr>\n",
       "      <th>0</th>\n",
       "      <td>book5657s</td>\n",
       "      <td>\"연봉 100억\" 일타강사 이지영,,다이어트 방법데일리 업데잇 @book5657s ...</td>\n",
       "      <td>['#약수핫플', '#경성대맛집', '#양천구떡케이크', '#신촌네일', '#동안구...</td>\n",
       "      <td>12</td>\n",
       "    </tr>\n",
       "    <tr>\n",
       "      <th>1</th>\n",
       "      <td>etc_zine</td>\n",
       "      <td>?세계적인 스타 셰프 고든램지의 '고든 램지 버거'가 캐주얼 콘셉트로 새롭게 '고든...</td>\n",
       "      <td>[]</td>\n",
       "      <td>395</td>\n",
       "    </tr>\n",
       "    <tr>\n",
       "      <th>2</th>\n",
       "      <td>songs_kitchens</td>\n",
       "      <td>.아마도 전국에서 젤 유명한 옛날스타일 햄버거라죠??송탄미군부대 앞에 있는 #미스진...</td>\n",
       "      <td>['#미스진버거미군들한테', '#송탄', '#미스진버거??스페셜A(7', '#송탄맛...</td>\n",
       "      <td>1517</td>\n",
       "    </tr>\n",
       "    <tr>\n",
       "      <th>3</th>\n",
       "      <td>mukseein</td>\n",
       "      <td>?&lt;통새우폭탄버거&gt;?????????????????먹시인입 속을 가득 채우는 탱글한 ...</td>\n",
       "      <td>['#왓더버거??', '#직화통새우버거', '#셧더버거', '#햄버거맛집', '#새...</td>\n",
       "      <td>4265</td>\n",
       "    </tr>\n",
       "    <tr>\n",
       "      <th>4</th>\n",
       "      <td>lady_good_tip</td>\n",
       "      <td>꿀 같은데 헬인 알바 모음??@@카페 알바 누가 꿀이래ㅜㅜ.오늘의 꿀팁은?? @la...</td>\n",
       "      <td>['#헬', '#헬인알바', '#꿀알바', '#알바모음', '#아르바이트', '#카...</td>\n",
       "      <td>664</td>\n",
       "    </tr>\n",
       "  </tbody>\n",
       "</table>\n",
       "</div>"
      ],
      "text/plain": [
       "               ID                                           Contents  \\\n",
       "0       book5657s  \"연봉 100억\" 일타강사 이지영,,다이어트 방법데일리 업데잇 @book5657s ...   \n",
       "1        etc_zine  ?세계적인 스타 셰프 고든램지의 '고든 램지 버거'가 캐주얼 콘셉트로 새롭게 '고든...   \n",
       "2  songs_kitchens  .아마도 전국에서 젤 유명한 옛날스타일 햄버거라죠??송탄미군부대 앞에 있는 #미스진...   \n",
       "3        mukseein  ?<통새우폭탄버거>?????????????????먹시인입 속을 가득 채우는 탱글한 ...   \n",
       "4   lady_good_tip  꿀 같은데 헬인 알바 모음??@@카페 알바 누가 꿀이래ㅜㅜ.오늘의 꿀팁은?? @la...   \n",
       "\n",
       "                                                Tags  Like  \n",
       "0  ['#약수핫플', '#경성대맛집', '#양천구떡케이크', '#신촌네일', '#동안구...    12  \n",
       "1                                                 []   395  \n",
       "2  ['#미스진버거미군들한테', '#송탄', '#미스진버거??스페셜A(7', '#송탄맛...  1517  \n",
       "3  ['#왓더버거??', '#직화통새우버거', '#셧더버거', '#햄버거맛집', '#새...  4265  \n",
       "4  ['#헬', '#헬인알바', '#꿀알바', '#알바모음', '#아르바이트', '#카...   664  "
      ]
     },
     "execution_count": 19,
     "metadata": {},
     "output_type": "execute_result"
    }
   ],
   "source": [
    "hbg = pd.read_csv(\"./data/hbg_result1591.csv\", index_col=0)\n",
    "hbg = hbg[[\"ID\", \"Contents\", \"Tags\", \"Like\"]]\n",
    "# hbg.columns = [\"UserId\", \"Contents\", \"Tags\", \"Like\"]\n",
    "hbg.head()"
   ]
  },
  {
   "cell_type": "code",
   "execution_count": 20,
   "id": "af9d3b93",
   "metadata": {},
   "outputs": [
    {
     "name": "stdout",
     "output_type": "stream",
     "text": [
      "<class 'pandas.core.frame.DataFrame'>\n",
      "Int64Index: 1591 entries, 0 to 1590\n",
      "Data columns (total 4 columns):\n",
      " #   Column    Non-Null Count  Dtype \n",
      "---  ------    --------------  ----- \n",
      " 0   ID        1591 non-null   object\n",
      " 1   Contents  1591 non-null   object\n",
      " 2   Tags      1591 non-null   object\n",
      " 3   Like      1591 non-null   object\n",
      "dtypes: object(4)\n",
      "memory usage: 62.1+ KB\n"
     ]
    }
   ],
   "source": [
    "hbg.info()"
   ]
  },
  {
   "cell_type": "markdown",
   "id": "f8e80d00",
   "metadata": {},
   "source": [
    "## 2. 전처리1"
   ]
  },
  {
   "cell_type": "markdown",
   "id": "000e0789",
   "metadata": {},
   "source": [
    "#### 기본 전처리\n",
    "- content/tag 특수문자 제거"
   ]
  },
  {
   "cell_type": "code",
   "execution_count": 21,
   "id": "46f7f0fc",
   "metadata": {},
   "outputs": [],
   "source": [
    "h = hbg.copy()"
   ]
  },
  {
   "cell_type": "code",
   "execution_count": 22,
   "id": "5d65299f",
   "metadata": {},
   "outputs": [],
   "source": [
    "# contents 특수기호 및 문자 제거\n",
    "h[\"Contents\"] = h[\"Contents\"].str.replace(pat=r'[^\\w]', repl=r' ', regex=True)\n",
    "\n",
    "# # tags # 제외한 특수 기호 제거\n",
    "h[\"Tags\"] = h[\"Tags\"].str.strip(\"]['\")\n",
    "h[\"Tags\"] = h[\"Tags\"].str.replace(\"'\", repl=r\"\", regex=True)"
   ]
  },
  {
   "cell_type": "code",
   "execution_count": 23,
   "id": "af37351a",
   "metadata": {},
   "outputs": [
    {
     "name": "stdout",
     "output_type": "stream",
     "text": [
      "<class 'pandas.core.frame.DataFrame'>\n",
      "Int64Index: 1591 entries, 0 to 1590\n",
      "Data columns (total 4 columns):\n",
      " #   Column    Non-Null Count  Dtype \n",
      "---  ------    --------------  ----- \n",
      " 0   ID        1591 non-null   object\n",
      " 1   Contents  1591 non-null   object\n",
      " 2   Tags      1591 non-null   object\n",
      " 3   Like      1591 non-null   object\n",
      "dtypes: object(4)\n",
      "memory usage: 62.1+ KB\n"
     ]
    }
   ],
   "source": [
    "h.info()"
   ]
  },
  {
   "cell_type": "markdown",
   "id": "5a2afd05",
   "metadata": {},
   "source": [
    "- like 전처리(이상값 대체 / int 형식으로 변환)"
   ]
  },
  {
   "cell_type": "code",
   "execution_count": 52,
   "id": "31489199",
   "metadata": {},
   "outputs": [],
   "source": [
    "like_num = h[~(h[\"Like\"].str.contains(\"좋아합니\")|h[\"Like\"].str.contains(\"눌러보세\"))][\"Like\"]\n",
    "like_notnum = h[(h[\"Like\"].str.contains(\"좋아합니\")|h[\"Like\"].str.contains(\"눌러보세\"))][\"Like\"]\n",
    "like_num = like_num.astype(\"int\")"
   ]
  },
  {
   "cell_type": "code",
   "execution_count": 58,
   "id": "4bd31672",
   "metadata": {
    "collapsed": true
   },
   "outputs": [
    {
     "data": {
      "text/plain": [
       "<AxesSubplot:>"
      ]
     },
     "execution_count": 58,
     "metadata": {},
     "output_type": "execute_result"
    },
    {
     "data": {
      "image/png": "[encoded data removed]",
      "text/plain": [
       "<Figure size 432x288 with 1 Axes>"
      ]
     },
     "metadata": {
      "needs_background": "light"
     },
     "output_type": "display_data"
    }
   ],
   "source": [
    "like_num.plot.box()\n",
    "# 중간값으로 하기!"
   ]
  },
  {
   "cell_type": "code",
   "execution_count": 59,
   "id": "6d2eaf26",
   "metadata": {},
   "outputs": [
    {
     "data": {
      "text/plain": [
       "25.0"
      ]
     },
     "execution_count": 59,
     "metadata": {},
     "output_type": "execute_result"
    }
   ],
   "source": [
    "num = h[~(h[\"Like\"].str.contains(\"좋아합니\")|h[\"Like\"].str.contains(\"눌러보세\"))][\"Like\"]\n",
    "num = num.astype(int)\n",
    "num.median()"
   ]
  },
  {
   "cell_type": "code",
   "execution_count": 60,
   "id": "8cba5cbe",
   "metadata": {},
   "outputs": [
    {
     "data": {
      "text/plain": [
       "False    1338\n",
       "True      253\n",
       "Name: Like, dtype: int64"
      ]
     },
     "execution_count": 60,
     "metadata": {},
     "output_type": "execute_result"
    }
   ],
   "source": [
    "h[\"Like\"].str.contains(\"좋아합니\").value_counts()"
   ]
  },
  {
   "cell_type": "code",
   "execution_count": 61,
   "id": "110bc866",
   "metadata": {},
   "outputs": [
    {
     "data": {
      "text/plain": [
       "False    1584\n",
       "True        7\n",
       "Name: Like, dtype: int64"
      ]
     },
     "execution_count": 61,
     "metadata": {},
     "output_type": "execute_result"
    }
   ],
   "source": [
    "h[\"Like\"].str.contains(\"눌러보세\").value_counts()"
   ]
  },
  {
   "cell_type": "code",
   "execution_count": 62,
   "id": "39872c41",
   "metadata": {},
   "outputs": [],
   "source": [
    "like_str_idx = h[h[\"Like\"].str.contains(\"좋아합니\")].index\n",
    "like_0_idx = h[h[\"Like\"].str.contains(\"눌러보세\")].index"
   ]
  },
  {
   "cell_type": "code",
   "execution_count": 63,
   "id": "975986d1",
   "metadata": {},
   "outputs": [],
   "source": [
    "for i in range(len(h)):\n",
    "    for j in like_str_idx:\n",
    "        for k in like_0_idx:\n",
    "            if i==j:\n",
    "                h[\"Like\"][j]=25.0\n",
    "            if i==k:\n",
    "                h[\"Like\"][k]=0\n",
    "            else:\n",
    "                continue"
   ]
  },
  {
   "cell_type": "code",
   "execution_count": 64,
   "id": "29cc4e31",
   "metadata": {},
   "outputs": [
    {
     "data": {
      "text/plain": [
       "False    1331\n",
       "Name: Like, dtype: int64"
      ]
     },
     "execution_count": 64,
     "metadata": {},
     "output_type": "execute_result"
    }
   ],
   "source": [
    "h[\"Like\"].str.contains(\"좋아합니\").value_counts()"
   ]
  },
  {
   "cell_type": "code",
   "execution_count": 65,
   "id": "ab421346",
   "metadata": {},
   "outputs": [
    {
     "data": {
      "text/plain": [
       "False    1331\n",
       "Name: Like, dtype: int64"
      ]
     },
     "execution_count": 65,
     "metadata": {},
     "output_type": "execute_result"
    }
   ],
   "source": [
    "h[\"Like\"].str.contains(\"눌러보세\").value_counts()"
   ]
  },
  {
   "cell_type": "code",
   "execution_count": 66,
   "id": "e5d32850",
   "metadata": {},
   "outputs": [],
   "source": [
    "h[\"Like\"] = h[\"Like\"].astype(\"int\")"
   ]
  },
  {
   "cell_type": "code",
   "execution_count": 67,
   "id": "e1f54207",
   "metadata": {},
   "outputs": [
    {
     "name": "stdout",
     "output_type": "stream",
     "text": [
      "<class 'pandas.core.frame.DataFrame'>\n",
      "Int64Index: 1591 entries, 0 to 1590\n",
      "Data columns (total 4 columns):\n",
      " #   Column    Non-Null Count  Dtype \n",
      "---  ------    --------------  ----- \n",
      " 0   ID        1591 non-null   object\n",
      " 1   Contents  1591 non-null   object\n",
      " 2   Tags      1591 non-null   object\n",
      " 3   Like      1591 non-null   int32 \n",
      "dtypes: int32(1), object(3)\n",
      "memory usage: 120.5+ KB\n"
     ]
    }
   ],
   "source": [
    "h.info()"
   ]
  },
  {
   "cell_type": "code",
   "execution_count": 68,
   "id": "ee2d6a53",
   "metadata": {},
   "outputs": [
    {
     "data": {
      "text/html": [
       "<div>\n",
       "<style scoped>\n",
       "    .dataframe tbody tr th:only-of-type {\n",
       "        vertical-align: middle;\n",
       "    }\n",
       "\n",
       "    .dataframe tbody tr th {\n",
       "        vertical-align: top;\n",
       "    }\n",
       "\n",
       "    .dataframe thead th {\n",
       "        text-align: right;\n",
       "    }\n",
       "</style>\n",
       "<table border=\"1\" class=\"dataframe\">\n",
       "  <thead>\n",
       "    <tr style=\"text-align: right;\">\n",
       "      <th></th>\n",
       "      <th>ID</th>\n",
       "      <th>Contents</th>\n",
       "      <th>Tags</th>\n",
       "      <th>Like</th>\n",
       "    </tr>\n",
       "  </thead>\n",
       "  <tbody>\n",
       "    <tr>\n",
       "      <th>0</th>\n",
       "      <td>book5657s</td>\n",
       "      <td>연봉 100억  일타강사 이지영  다이어트 방법데일리 업데잇  book5657s ...</td>\n",
       "      <td>#약수핫플, #경성대맛집, #양천구떡케이크, #신촌네일, #동안구맛집추천, #수유데...</td>\n",
       "      <td>12</td>\n",
       "    </tr>\n",
       "    <tr>\n",
       "      <th>1</th>\n",
       "      <td>etc_zine</td>\n",
       "      <td>세계적인 스타 셰프 고든램지의  고든 램지 버거 가 캐주얼 콘셉트로 새롭게  고든...</td>\n",
       "      <td></td>\n",
       "      <td>395</td>\n",
       "    </tr>\n",
       "    <tr>\n",
       "      <th>2</th>\n",
       "      <td>songs_kitchens</td>\n",
       "      <td>아마도 전국에서 젤 유명한 옛날스타일 햄버거라죠  송탄미군부대 앞에 있는  미스진...</td>\n",
       "      <td>#미스진버거미군들한테, #송탄, #미스진버거??스페셜A(7, #송탄맛집, #옛날햄버...</td>\n",
       "      <td>1517</td>\n",
       "    </tr>\n",
       "    <tr>\n",
       "      <th>3</th>\n",
       "      <td>mukseein</td>\n",
       "      <td>통새우폭탄버거                  먹시인입 속을 가득 채우는 탱글한 ...</td>\n",
       "      <td>#왓더버거??, #직화통새우버거, #셧더버거, #햄버거맛집, #새우버거, #버거맛집...</td>\n",
       "      <td>4265</td>\n",
       "    </tr>\n",
       "    <tr>\n",
       "      <th>4</th>\n",
       "      <td>lady_good_tip</td>\n",
       "      <td>꿀 같은데 헬인 알바 모음    카페 알바 누가 꿀이래ㅜㅜ 오늘의 꿀팁은    la...</td>\n",
       "      <td>#헬, #헬인알바, #꿀알바, #알바모음, #아르바이트, #카페, #배스킨, #햄버...</td>\n",
       "      <td>664</td>\n",
       "    </tr>\n",
       "  </tbody>\n",
       "</table>\n",
       "</div>"
      ],
      "text/plain": [
       "               ID                                           Contents  \\\n",
       "0       book5657s   연봉 100억  일타강사 이지영  다이어트 방법데일리 업데잇  book5657s ...   \n",
       "1        etc_zine   세계적인 스타 셰프 고든램지의  고든 램지 버거 가 캐주얼 콘셉트로 새롭게  고든...   \n",
       "2  songs_kitchens   아마도 전국에서 젤 유명한 옛날스타일 햄버거라죠  송탄미군부대 앞에 있는  미스진...   \n",
       "3        mukseein    통새우폭탄버거                  먹시인입 속을 가득 채우는 탱글한 ...   \n",
       "4   lady_good_tip  꿀 같은데 헬인 알바 모음    카페 알바 누가 꿀이래ㅜㅜ 오늘의 꿀팁은    la...   \n",
       "\n",
       "                                                Tags  Like  \n",
       "0  #약수핫플, #경성대맛집, #양천구떡케이크, #신촌네일, #동안구맛집추천, #수유데...    12  \n",
       "1                                                      395  \n",
       "2  #미스진버거미군들한테, #송탄, #미스진버거??스페셜A(7, #송탄맛집, #옛날햄버...  1517  \n",
       "3  #왓더버거??, #직화통새우버거, #셧더버거, #햄버거맛집, #새우버거, #버거맛집...  4265  \n",
       "4  #헬, #헬인알바, #꿀알바, #알바모음, #아르바이트, #카페, #배스킨, #햄버...   664  "
      ]
     },
     "execution_count": 68,
     "metadata": {},
     "output_type": "execute_result"
    }
   ],
   "source": [
    "h.head()"
   ]
  },
  {
   "cell_type": "code",
   "execution_count": 69,
   "id": "3910304c",
   "metadata": {
    "collapsed": true
   },
   "outputs": [
    {
     "data": {
      "text/html": [
       "<div>\n",
       "<style scoped>\n",
       "    .dataframe tbody tr th:only-of-type {\n",
       "        vertical-align: middle;\n",
       "    }\n",
       "\n",
       "    .dataframe tbody tr th {\n",
       "        vertical-align: top;\n",
       "    }\n",
       "\n",
       "    .dataframe thead th {\n",
       "        text-align: right;\n",
       "    }\n",
       "</style>\n",
       "<table border=\"1\" class=\"dataframe\">\n",
       "  <thead>\n",
       "    <tr style=\"text-align: right;\">\n",
       "      <th></th>\n",
       "      <th>Like</th>\n",
       "    </tr>\n",
       "  </thead>\n",
       "  <tbody>\n",
       "    <tr>\n",
       "      <th>0</th>\n",
       "      <td>12</td>\n",
       "    </tr>\n",
       "    <tr>\n",
       "      <th>1</th>\n",
       "      <td>395</td>\n",
       "    </tr>\n",
       "    <tr>\n",
       "      <th>2</th>\n",
       "      <td>1517</td>\n",
       "    </tr>\n",
       "    <tr>\n",
       "      <th>3</th>\n",
       "      <td>4265</td>\n",
       "    </tr>\n",
       "    <tr>\n",
       "      <th>4</th>\n",
       "      <td>664</td>\n",
       "    </tr>\n",
       "  </tbody>\n",
       "</table>\n",
       "</div>"
      ],
      "text/plain": [
       "   Like\n",
       "0    12\n",
       "1   395\n",
       "2  1517\n",
       "3  4265\n",
       "4   664"
      ]
     },
     "execution_count": 69,
     "metadata": {},
     "output_type": "execute_result"
    }
   ],
   "source": [
    "# Like 정규화 및 평균 이하 제거 \n",
    "\n",
    "h_like = h[\"Like\"].copy()\n",
    "h_like = pd.DataFrame(h_like)\n",
    "h_like.head()"
   ]
  },
  {
   "cell_type": "code",
   "execution_count": 70,
   "id": "13719c78",
   "metadata": {},
   "outputs": [],
   "source": [
    "from sklearn.preprocessing import MinMaxScaler\n",
    "\n",
    "# MinMaxcaler객체 생성\n",
    "scaler = MinMaxScaler()\n",
    "\n",
    "# MinMaxScaler 로 데이터 셋 변환 .fit() 과 .transform() 호출.  \n",
    "scaler.fit(h_like)\n",
    "h_like_scaled = scaler.transform(h_like)\n",
    "\n",
    "# transform( )시 scale 변환된 데이터 셋이 numpy ndarry로 반환되어 이를 DataFrame으로 변환\n",
    "like_scaled = pd.DataFrame(data=h_like_scaled)"
   ]
  },
  {
   "cell_type": "code",
   "execution_count": 71,
   "id": "13efbc06",
   "metadata": {},
   "outputs": [
    {
     "data": {
      "text/html": [
       "<div>\n",
       "<style scoped>\n",
       "    .dataframe tbody tr th:only-of-type {\n",
       "        vertical-align: middle;\n",
       "    }\n",
       "\n",
       "    .dataframe tbody tr th {\n",
       "        vertical-align: top;\n",
       "    }\n",
       "\n",
       "    .dataframe thead th {\n",
       "        text-align: right;\n",
       "    }\n",
       "</style>\n",
       "<table border=\"1\" class=\"dataframe\">\n",
       "  <thead>\n",
       "    <tr style=\"text-align: right;\">\n",
       "      <th></th>\n",
       "      <th>like_scaled</th>\n",
       "    </tr>\n",
       "  </thead>\n",
       "  <tbody>\n",
       "    <tr>\n",
       "      <th>0</th>\n",
       "      <td>0.002076</td>\n",
       "    </tr>\n",
       "    <tr>\n",
       "      <th>1</th>\n",
       "      <td>0.068339</td>\n",
       "    </tr>\n",
       "    <tr>\n",
       "      <th>2</th>\n",
       "      <td>0.262457</td>\n",
       "    </tr>\n",
       "    <tr>\n",
       "      <th>3</th>\n",
       "      <td>0.737889</td>\n",
       "    </tr>\n",
       "    <tr>\n",
       "      <th>4</th>\n",
       "      <td>0.114879</td>\n",
       "    </tr>\n",
       "  </tbody>\n",
       "</table>\n",
       "</div>"
      ],
      "text/plain": [
       "   like_scaled\n",
       "0     0.002076\n",
       "1     0.068339\n",
       "2     0.262457\n",
       "3     0.737889\n",
       "4     0.114879"
      ]
     },
     "execution_count": 71,
     "metadata": {},
     "output_type": "execute_result"
    }
   ],
   "source": [
    "like_scaled.columns=[\"like_scaled\"]\n",
    "like_scaled.head()"
   ]
  },
  {
   "cell_type": "code",
   "execution_count": 72,
   "id": "ff5a9eaa",
   "metadata": {},
   "outputs": [
    {
     "data": {
      "text/html": [
       "<div>\n",
       "<style scoped>\n",
       "    .dataframe tbody tr th:only-of-type {\n",
       "        vertical-align: middle;\n",
       "    }\n",
       "\n",
       "    .dataframe tbody tr th {\n",
       "        vertical-align: top;\n",
       "    }\n",
       "\n",
       "    .dataframe thead th {\n",
       "        text-align: right;\n",
       "    }\n",
       "</style>\n",
       "<table border=\"1\" class=\"dataframe\">\n",
       "  <thead>\n",
       "    <tr style=\"text-align: right;\">\n",
       "      <th></th>\n",
       "      <th>ID</th>\n",
       "      <th>Contents</th>\n",
       "      <th>Tags</th>\n",
       "      <th>Like</th>\n",
       "      <th>like_scaled</th>\n",
       "    </tr>\n",
       "  </thead>\n",
       "  <tbody>\n",
       "    <tr>\n",
       "      <th>0</th>\n",
       "      <td>book5657s</td>\n",
       "      <td>연봉 100억  일타강사 이지영  다이어트 방법데일리 업데잇  book5657s ...</td>\n",
       "      <td>#약수핫플, #경성대맛집, #양천구떡케이크, #신촌네일, #동안구맛집추천, #수유데...</td>\n",
       "      <td>12</td>\n",
       "      <td>0.002076</td>\n",
       "    </tr>\n",
       "    <tr>\n",
       "      <th>1</th>\n",
       "      <td>etc_zine</td>\n",
       "      <td>세계적인 스타 셰프 고든램지의  고든 램지 버거 가 캐주얼 콘셉트로 새롭게  고든...</td>\n",
       "      <td></td>\n",
       "      <td>395</td>\n",
       "      <td>0.068339</td>\n",
       "    </tr>\n",
       "    <tr>\n",
       "      <th>2</th>\n",
       "      <td>songs_kitchens</td>\n",
       "      <td>아마도 전국에서 젤 유명한 옛날스타일 햄버거라죠  송탄미군부대 앞에 있는  미스진...</td>\n",
       "      <td>#미스진버거미군들한테, #송탄, #미스진버거??스페셜A(7, #송탄맛집, #옛날햄버...</td>\n",
       "      <td>1517</td>\n",
       "      <td>0.262457</td>\n",
       "    </tr>\n",
       "    <tr>\n",
       "      <th>3</th>\n",
       "      <td>mukseein</td>\n",
       "      <td>통새우폭탄버거                  먹시인입 속을 가득 채우는 탱글한 ...</td>\n",
       "      <td>#왓더버거??, #직화통새우버거, #셧더버거, #햄버거맛집, #새우버거, #버거맛집...</td>\n",
       "      <td>4265</td>\n",
       "      <td>0.737889</td>\n",
       "    </tr>\n",
       "    <tr>\n",
       "      <th>4</th>\n",
       "      <td>lady_good_tip</td>\n",
       "      <td>꿀 같은데 헬인 알바 모음    카페 알바 누가 꿀이래ㅜㅜ 오늘의 꿀팁은    la...</td>\n",
       "      <td>#헬, #헬인알바, #꿀알바, #알바모음, #아르바이트, #카페, #배스킨, #햄버...</td>\n",
       "      <td>664</td>\n",
       "      <td>0.114879</td>\n",
       "    </tr>\n",
       "    <tr>\n",
       "      <th>...</th>\n",
       "      <td>...</td>\n",
       "      <td>...</td>\n",
       "      <td>...</td>\n",
       "      <td>...</td>\n",
       "      <td>...</td>\n",
       "    </tr>\n",
       "    <tr>\n",
       "      <th>1586</th>\n",
       "      <td>s_reetl_ght</td>\n",
       "      <td></td>\n",
       "      <td></td>\n",
       "      <td>6</td>\n",
       "      <td>0.001038</td>\n",
       "    </tr>\n",
       "    <tr>\n",
       "      <th>1587</th>\n",
       "      <td>itzel_day_</td>\n",
       "      <td>2023 1 7</td>\n",
       "      <td></td>\n",
       "      <td>292</td>\n",
       "      <td>0.050519</td>\n",
       "    </tr>\n",
       "    <tr>\n",
       "      <th>1588</th>\n",
       "      <td>gwimjjijji</td>\n",
       "      <td>제주 판타스틱버거     제주특별자치도 서귀포시 표선면 토산중앙로15번길 6  ...</td>\n",
       "      <td>#판타스틱버거, #제주판타스틱버거, #제주수제버거, #수제버거, #햄버거, #버거맛...</td>\n",
       "      <td>180</td>\n",
       "      <td>0.031142</td>\n",
       "    </tr>\n",
       "    <tr>\n",
       "      <th>1589</th>\n",
       "      <td>yongseongjhkim</td>\n",
       "      <td>최애햄버거 더블패티는 기본 fiveguysburgers  파이브가이즈 햄버거</td>\n",
       "      <td>#fiveguysburgers, #파이브가이즈, #햄버거</td>\n",
       "      <td>15</td>\n",
       "      <td>0.002595</td>\n",
       "    </tr>\n",
       "    <tr>\n",
       "      <th>1590</th>\n",
       "      <td>02_sinbis</td>\n",
       "      <td>편의점 햄버거   맞팔  선팔  햄버거</td>\n",
       "      <td>#맞팔, #선팔, #햄버거</td>\n",
       "      <td>2</td>\n",
       "      <td>0.000346</td>\n",
       "    </tr>\n",
       "  </tbody>\n",
       "</table>\n",
       "<p>1591 rows × 5 columns</p>\n",
       "</div>"
      ],
      "text/plain": [
       "                  ID                                           Contents  \\\n",
       "0          book5657s   연봉 100억  일타강사 이지영  다이어트 방법데일리 업데잇  book5657s ...   \n",
       "1           etc_zine   세계적인 스타 셰프 고든램지의  고든 램지 버거 가 캐주얼 콘셉트로 새롭게  고든...   \n",
       "2     songs_kitchens   아마도 전국에서 젤 유명한 옛날스타일 햄버거라죠  송탄미군부대 앞에 있는  미스진...   \n",
       "3           mukseein    통새우폭탄버거                  먹시인입 속을 가득 채우는 탱글한 ...   \n",
       "4      lady_good_tip  꿀 같은데 헬인 알바 모음    카페 알바 누가 꿀이래ㅜㅜ 오늘의 꿀팁은    la...   \n",
       "...              ...                                                ...   \n",
       "1586     s_reetl_ght                                                      \n",
       "1587      itzel_day_                                        2023 1 7      \n",
       "1588      gwimjjijji    제주 판타스틱버거     제주특별자치도 서귀포시 표선면 토산중앙로15번길 6  ...   \n",
       "1589  yongseongjhkim         최애햄버거 더블패티는 기본 fiveguysburgers  파이브가이즈 햄버거   \n",
       "1590       02_sinbis                              편의점 햄버거   맞팔  선팔  햄버거   \n",
       "\n",
       "                                                   Tags  Like  like_scaled  \n",
       "0     #약수핫플, #경성대맛집, #양천구떡케이크, #신촌네일, #동안구맛집추천, #수유데...    12     0.002076  \n",
       "1                                                         395     0.068339  \n",
       "2     #미스진버거미군들한테, #송탄, #미스진버거??스페셜A(7, #송탄맛집, #옛날햄버...  1517     0.262457  \n",
       "3     #왓더버거??, #직화통새우버거, #셧더버거, #햄버거맛집, #새우버거, #버거맛집...  4265     0.737889  \n",
       "4     #헬, #헬인알바, #꿀알바, #알바모음, #아르바이트, #카페, #배스킨, #햄버...   664     0.114879  \n",
       "...                                                 ...   ...          ...  \n",
       "1586                                                        6     0.001038  \n",
       "1587                                                      292     0.050519  \n",
       "1588  #판타스틱버거, #제주판타스틱버거, #제주수제버거, #수제버거, #햄버거, #버거맛...   180     0.031142  \n",
       "1589                    #fiveguysburgers, #파이브가이즈, #햄버거    15     0.002595  \n",
       "1590                                     #맞팔, #선팔, #햄버거     2     0.000346  \n",
       "\n",
       "[1591 rows x 5 columns]"
      ]
     },
     "execution_count": 72,
     "metadata": {},
     "output_type": "execute_result"
    }
   ],
   "source": [
    "h_scaled = pd.concat([h, like_scaled], axis=1)\n",
    "h_scaled"
   ]
  },
  {
   "cell_type": "code",
   "execution_count": 73,
   "id": "2ab77dff",
   "metadata": {},
   "outputs": [],
   "source": [
    "tag_sum=[]\n",
    "for i in range(len(h_scaled)):\n",
    "    if len(h_scaled[\"Tags\"].str.split(\"#\")[1]) == 1:\n",
    "        tag_sum.append(len(h_scaled[\"Tags\"].str.split(\"#\")[i][1:]))\n",
    "        \n",
    "h_scaled[\"tag_sum\"] = tag_sum"
   ]
  },
  {
   "cell_type": "code",
   "execution_count": 74,
   "id": "ca8793ff",
   "metadata": {},
   "outputs": [
    {
     "data": {
      "text/html": [
       "<div>\n",
       "<style scoped>\n",
       "    .dataframe tbody tr th:only-of-type {\n",
       "        vertical-align: middle;\n",
       "    }\n",
       "\n",
       "    .dataframe tbody tr th {\n",
       "        vertical-align: top;\n",
       "    }\n",
       "\n",
       "    .dataframe thead th {\n",
       "        text-align: right;\n",
       "    }\n",
       "</style>\n",
       "<table border=\"1\" class=\"dataframe\">\n",
       "  <thead>\n",
       "    <tr style=\"text-align: right;\">\n",
       "      <th></th>\n",
       "      <th>ID</th>\n",
       "      <th>Contents</th>\n",
       "      <th>Tags</th>\n",
       "      <th>Like</th>\n",
       "      <th>like_scaled</th>\n",
       "      <th>tag_sum</th>\n",
       "    </tr>\n",
       "  </thead>\n",
       "  <tbody>\n",
       "    <tr>\n",
       "      <th>0</th>\n",
       "      <td>book5657s</td>\n",
       "      <td>연봉 100억  일타강사 이지영  다이어트 방법데일리 업데잇  book5657s ...</td>\n",
       "      <td>#약수핫플, #경성대맛집, #양천구떡케이크, #신촌네일, #동안구맛집추천, #수유데...</td>\n",
       "      <td>12</td>\n",
       "      <td>0.002076</td>\n",
       "      <td>20</td>\n",
       "    </tr>\n",
       "    <tr>\n",
       "      <th>1</th>\n",
       "      <td>etc_zine</td>\n",
       "      <td>세계적인 스타 셰프 고든램지의  고든 램지 버거 가 캐주얼 콘셉트로 새롭게  고든...</td>\n",
       "      <td></td>\n",
       "      <td>395</td>\n",
       "      <td>0.068339</td>\n",
       "      <td>0</td>\n",
       "    </tr>\n",
       "    <tr>\n",
       "      <th>2</th>\n",
       "      <td>songs_kitchens</td>\n",
       "      <td>아마도 전국에서 젤 유명한 옛날스타일 햄버거라죠  송탄미군부대 앞에 있는  미스진...</td>\n",
       "      <td>#미스진버거미군들한테, #송탄, #미스진버거??스페셜A(7, #송탄맛집, #옛날햄버...</td>\n",
       "      <td>1517</td>\n",
       "      <td>0.262457</td>\n",
       "      <td>10</td>\n",
       "    </tr>\n",
       "    <tr>\n",
       "      <th>3</th>\n",
       "      <td>mukseein</td>\n",
       "      <td>통새우폭탄버거                  먹시인입 속을 가득 채우는 탱글한 ...</td>\n",
       "      <td>#왓더버거??, #직화통새우버거, #셧더버거, #햄버거맛집, #새우버거, #버거맛집...</td>\n",
       "      <td>4265</td>\n",
       "      <td>0.737889</td>\n",
       "      <td>9</td>\n",
       "    </tr>\n",
       "    <tr>\n",
       "      <th>4</th>\n",
       "      <td>lady_good_tip</td>\n",
       "      <td>꿀 같은데 헬인 알바 모음    카페 알바 누가 꿀이래ㅜㅜ 오늘의 꿀팁은    la...</td>\n",
       "      <td>#헬, #헬인알바, #꿀알바, #알바모음, #아르바이트, #카페, #배스킨, #햄버...</td>\n",
       "      <td>664</td>\n",
       "      <td>0.114879</td>\n",
       "      <td>12</td>\n",
       "    </tr>\n",
       "    <tr>\n",
       "      <th>...</th>\n",
       "      <td>...</td>\n",
       "      <td>...</td>\n",
       "      <td>...</td>\n",
       "      <td>...</td>\n",
       "      <td>...</td>\n",
       "      <td>...</td>\n",
       "    </tr>\n",
       "    <tr>\n",
       "      <th>1586</th>\n",
       "      <td>s_reetl_ght</td>\n",
       "      <td></td>\n",
       "      <td></td>\n",
       "      <td>6</td>\n",
       "      <td>0.001038</td>\n",
       "      <td>0</td>\n",
       "    </tr>\n",
       "    <tr>\n",
       "      <th>1587</th>\n",
       "      <td>itzel_day_</td>\n",
       "      <td>2023 1 7</td>\n",
       "      <td></td>\n",
       "      <td>292</td>\n",
       "      <td>0.050519</td>\n",
       "      <td>0</td>\n",
       "    </tr>\n",
       "    <tr>\n",
       "      <th>1588</th>\n",
       "      <td>gwimjjijji</td>\n",
       "      <td>제주 판타스틱버거     제주특별자치도 서귀포시 표선면 토산중앙로15번길 6  ...</td>\n",
       "      <td>#판타스틱버거, #제주판타스틱버거, #제주수제버거, #수제버거, #햄버거, #버거맛...</td>\n",
       "      <td>180</td>\n",
       "      <td>0.031142</td>\n",
       "      <td>22</td>\n",
       "    </tr>\n",
       "    <tr>\n",
       "      <th>1589</th>\n",
       "      <td>yongseongjhkim</td>\n",
       "      <td>최애햄버거 더블패티는 기본 fiveguysburgers  파이브가이즈 햄버거</td>\n",
       "      <td>#fiveguysburgers, #파이브가이즈, #햄버거</td>\n",
       "      <td>15</td>\n",
       "      <td>0.002595</td>\n",
       "      <td>3</td>\n",
       "    </tr>\n",
       "    <tr>\n",
       "      <th>1590</th>\n",
       "      <td>02_sinbis</td>\n",
       "      <td>편의점 햄버거   맞팔  선팔  햄버거</td>\n",
       "      <td>#맞팔, #선팔, #햄버거</td>\n",
       "      <td>2</td>\n",
       "      <td>0.000346</td>\n",
       "      <td>3</td>\n",
       "    </tr>\n",
       "  </tbody>\n",
       "</table>\n",
       "<p>1591 rows × 6 columns</p>\n",
       "</div>"
      ],
      "text/plain": [
       "                  ID                                           Contents  \\\n",
       "0          book5657s   연봉 100억  일타강사 이지영  다이어트 방법데일리 업데잇  book5657s ...   \n",
       "1           etc_zine   세계적인 스타 셰프 고든램지의  고든 램지 버거 가 캐주얼 콘셉트로 새롭게  고든...   \n",
       "2     songs_kitchens   아마도 전국에서 젤 유명한 옛날스타일 햄버거라죠  송탄미군부대 앞에 있는  미스진...   \n",
       "3           mukseein    통새우폭탄버거                  먹시인입 속을 가득 채우는 탱글한 ...   \n",
       "4      lady_good_tip  꿀 같은데 헬인 알바 모음    카페 알바 누가 꿀이래ㅜㅜ 오늘의 꿀팁은    la...   \n",
       "...              ...                                                ...   \n",
       "1586     s_reetl_ght                                                      \n",
       "1587      itzel_day_                                        2023 1 7      \n",
       "1588      gwimjjijji    제주 판타스틱버거     제주특별자치도 서귀포시 표선면 토산중앙로15번길 6  ...   \n",
       "1589  yongseongjhkim         최애햄버거 더블패티는 기본 fiveguysburgers  파이브가이즈 햄버거   \n",
       "1590       02_sinbis                              편의점 햄버거   맞팔  선팔  햄버거   \n",
       "\n",
       "                                                   Tags  Like  like_scaled  \\\n",
       "0     #약수핫플, #경성대맛집, #양천구떡케이크, #신촌네일, #동안구맛집추천, #수유데...    12     0.002076   \n",
       "1                                                         395     0.068339   \n",
       "2     #미스진버거미군들한테, #송탄, #미스진버거??스페셜A(7, #송탄맛집, #옛날햄버...  1517     0.262457   \n",
       "3     #왓더버거??, #직화통새우버거, #셧더버거, #햄버거맛집, #새우버거, #버거맛집...  4265     0.737889   \n",
       "4     #헬, #헬인알바, #꿀알바, #알바모음, #아르바이트, #카페, #배스킨, #햄버...   664     0.114879   \n",
       "...                                                 ...   ...          ...   \n",
       "1586                                                        6     0.001038   \n",
       "1587                                                      292     0.050519   \n",
       "1588  #판타스틱버거, #제주판타스틱버거, #제주수제버거, #수제버거, #햄버거, #버거맛...   180     0.031142   \n",
       "1589                    #fiveguysburgers, #파이브가이즈, #햄버거    15     0.002595   \n",
       "1590                                     #맞팔, #선팔, #햄버거     2     0.000346   \n",
       "\n",
       "      tag_sum  \n",
       "0          20  \n",
       "1           0  \n",
       "2          10  \n",
       "3           9  \n",
       "4          12  \n",
       "...       ...  \n",
       "1586        0  \n",
       "1587        0  \n",
       "1588       22  \n",
       "1589        3  \n",
       "1590        3  \n",
       "\n",
       "[1591 rows x 6 columns]"
      ]
     },
     "execution_count": 74,
     "metadata": {},
     "output_type": "execute_result"
    }
   ],
   "source": [
    "h_scaled"
   ]
  },
  {
   "cell_type": "code",
   "execution_count": null,
   "id": "b871e5dc",
   "metadata": {},
   "outputs": [],
   "source": [
    "h_scaled.to_csv(\"./data/h_scaled.csv\")"
   ]
  },
  {
   "cell_type": "code",
   "execution_count": null,
   "id": "287dd94e",
   "metadata": {},
   "outputs": [],
   "source": []
  },
  {
   "cell_type": "code",
   "execution_count": null,
   "id": "24e3c65a",
   "metadata": {},
   "outputs": [],
   "source": []
  },
  {
   "cell_type": "code",
   "execution_count": null,
   "id": "03ee310d",
   "metadata": {},
   "outputs": [],
   "source": []
  },
  {
   "cell_type": "code",
   "execution_count": null,
   "id": "88e29373",
   "metadata": {},
   "outputs": [],
   "source": []
  },
  {
   "cell_type": "code",
   "execution_count": null,
   "id": "5d1160ee",
   "metadata": {},
   "outputs": [],
   "source": []
  },
  {
   "cell_type": "code",
   "execution_count": null,
   "id": "4e052d42",
   "metadata": {},
   "outputs": [],
   "source": []
  },
  {
   "cell_type": "code",
   "execution_count": null,
   "id": "0b6d10f2",
   "metadata": {},
   "outputs": [],
   "source": []
  },
  {
   "cell_type": "code",
   "execution_count": null,
   "id": "9bc19b26",
   "metadata": {},
   "outputs": [],
   "source": []
  },
  {
   "cell_type": "code",
   "execution_count": null,
   "id": "825950aa",
   "metadata": {},
   "outputs": [],
   "source": []
  },
  {
   "cell_type": "markdown",
   "id": "c4ce5a29",
   "metadata": {},
   "source": [
    "### 각 계정의 게시물(with 팔로우, 팔로워) 가져오기"
   ]
  },
  {
   "cell_type": "code",
   "execution_count": 23,
   "id": "77302eb3",
   "metadata": {},
   "outputs": [],
   "source": [
    "# 인스타그램 접속\n",
    "driver=webdriver.Chrome(\"chromedriver\")\n",
    "driver.get(\"https://www.instagram.com\")\n",
    "time.sleep(5)\n",
    "\n",
    "# 로그인\n",
    "import pyperclip\n",
    "pyperclip.copy(\"bf_.0109\")\n",
    "driver.find_element(By.NAME, \"username\").send_keys(Keys.CONTROL, \"v\")\n",
    "pyperclip.copy(\"lhk9027700\")\n",
    "driver.find_element(By.NAME, \"password\").send_keys(Keys.CONTROL, \"v\")\n",
    "driver.find_element(By.NAME, \"password\").send_keys(Keys.ENTER)\n",
    "time.sleep(3)\n",
    "\n",
    "# 정보 저장(나중으로 바꾸기)\n",
    "save = WebDriverWait(driver,timeout=5).until(EC.presence_of_element_located((By.CLASS_NAME,\"_ac8f\")))\n",
    "save.find_element(By.CLASS_NAME,\"_acao\").send_keys(Keys.ENTER)  \n",
    "                                                                            \n",
    "# # 알림 설정\n",
    "# ar = WebDriverWait(driver,timeout=5).until(EC.presence_of_element_located((By.CLASS_NAME,\"_a9_1\")))\n",
    "# ar.send_keys(Keys.ENTER)"
   ]
  },
  {
   "cell_type": "code",
   "execution_count": 24,
   "id": "2a37d472",
   "metadata": {},
   "outputs": [
    {
     "data": {
      "application/vnd.jupyter.widget-view+json": {
       "model_id": "9352caff706344c394eb06002c0ac5d2",
       "version_major": 2,
       "version_minor": 0
      },
      "text/plain": [
       "  0%|          | 0/1306 [00:00<?, ?it/s]"
      ]
     },
     "metadata": {},
     "output_type": "display_data"
    },
    {
     "ename": "NoSuchWindowException",
     "evalue": "Message: no such window: target window already closed\nfrom unknown error: web view not found\n  (Session info: chrome=109.0.5414.74)\nStacktrace:\nBacktrace:\n\t(No symbol) [0x00F5F243]\n\t(No symbol) [0x00EE7FD1]\n\t(No symbol) [0x00DDD04D]\n\t(No symbol) [0x00DC2D7A]\n\t(No symbol) [0x00E2BE7B]\n\t(No symbol) [0x00E3C196]\n\t(No symbol) [0x00E28386]\n\t(No symbol) [0x00E0163C]\n\t(No symbol) [0x00E0269D]\n\tGetHandleVerifier [0x011F9A22+2655074]\n\tGetHandleVerifier [0x011ECA24+2601828]\n\tGetHandleVerifier [0x01008C0A+619850]\n\tGetHandleVerifier [0x01007830+614768]\n\t(No symbol) [0x00EF05FC]\n\t(No symbol) [0x00EF5968]\n\t(No symbol) [0x00EF5A55]\n\t(No symbol) [0x00F0051B]\n\tBaseThreadInitThunk [0x757000F9+25]\n\tRtlGetAppContainerNamedObjectPath [0x773B7BBE+286]\n\tRtlGetAppContainerNamedObjectPath [0x773B7B8E+238]\n",
     "output_type": "error",
     "traceback": [
      "\u001b[1;31m---------------------------------------------------------------------------\u001b[0m",
      "\u001b[1;31mNoSuchWindowException\u001b[0m                     Traceback (most recent call last)",
      "Input \u001b[1;32mIn [24]\u001b[0m, in \u001b[0;36m<cell line: 11>\u001b[1;34m()\u001b[0m\n\u001b[0;32m     11\u001b[0m \u001b[38;5;28;01mfor\u001b[39;00m i \u001b[38;5;129;01min\u001b[39;00m tqdm(\u001b[38;5;28mrange\u001b[39m(\u001b[38;5;28mlen\u001b[39m(\u001b[38;5;28mid\u001b[39m))):\n\u001b[0;32m     12\u001b[0m     url\u001b[38;5;241m=\u001b[39m searching(\u001b[38;5;28mid\u001b[39m[i])\n\u001b[1;32m---> 13\u001b[0m     \u001b[43mdriver\u001b[49m\u001b[38;5;241;43m.\u001b[39;49m\u001b[43mget\u001b[49m\u001b[43m(\u001b[49m\u001b[43murl\u001b[49m\u001b[43m)\u001b[49m\n\u001b[0;32m     14\u001b[0m     time\u001b[38;5;241m.\u001b[39msleep(\u001b[38;5;241m5\u001b[39m)\n\u001b[0;32m     15\u001b[0m     \u001b[38;5;28;01mtry\u001b[39;00m:\n",
      "File \u001b[1;32m~\\anaconda3\\lib\\site-packages\\selenium\\webdriver\\remote\\webdriver.py:441\u001b[0m, in \u001b[0;36mWebDriver.get\u001b[1;34m(self, url)\u001b[0m\n\u001b[0;32m    437\u001b[0m \u001b[38;5;28;01mdef\u001b[39;00m \u001b[38;5;21mget\u001b[39m(\u001b[38;5;28mself\u001b[39m, url: \u001b[38;5;28mstr\u001b[39m) \u001b[38;5;241m-\u001b[39m\u001b[38;5;241m>\u001b[39m \u001b[38;5;28;01mNone\u001b[39;00m:\n\u001b[0;32m    438\u001b[0m     \u001b[38;5;124;03m\"\"\"\u001b[39;00m\n\u001b[0;32m    439\u001b[0m \u001b[38;5;124;03m    Loads a web page in the current browser session.\u001b[39;00m\n\u001b[0;32m    440\u001b[0m \u001b[38;5;124;03m    \"\"\"\u001b[39;00m\n\u001b[1;32m--> 441\u001b[0m     \u001b[38;5;28;43mself\u001b[39;49m\u001b[38;5;241;43m.\u001b[39;49m\u001b[43mexecute\u001b[49m\u001b[43m(\u001b[49m\u001b[43mCommand\u001b[49m\u001b[38;5;241;43m.\u001b[39;49m\u001b[43mGET\u001b[49m\u001b[43m,\u001b[49m\u001b[43m \u001b[49m\u001b[43m{\u001b[49m\u001b[38;5;124;43m'\u001b[39;49m\u001b[38;5;124;43murl\u001b[39;49m\u001b[38;5;124;43m'\u001b[39;49m\u001b[43m:\u001b[49m\u001b[43m \u001b[49m\u001b[43murl\u001b[49m\u001b[43m}\u001b[49m\u001b[43m)\u001b[49m\n",
      "File \u001b[1;32m~\\anaconda3\\lib\\site-packages\\selenium\\webdriver\\remote\\webdriver.py:429\u001b[0m, in \u001b[0;36mWebDriver.execute\u001b[1;34m(self, driver_command, params)\u001b[0m\n\u001b[0;32m    427\u001b[0m response \u001b[38;5;241m=\u001b[39m \u001b[38;5;28mself\u001b[39m\u001b[38;5;241m.\u001b[39mcommand_executor\u001b[38;5;241m.\u001b[39mexecute(driver_command, params)\n\u001b[0;32m    428\u001b[0m \u001b[38;5;28;01mif\u001b[39;00m response:\n\u001b[1;32m--> 429\u001b[0m     \u001b[38;5;28;43mself\u001b[39;49m\u001b[38;5;241;43m.\u001b[39;49m\u001b[43merror_handler\u001b[49m\u001b[38;5;241;43m.\u001b[39;49m\u001b[43mcheck_response\u001b[49m\u001b[43m(\u001b[49m\u001b[43mresponse\u001b[49m\u001b[43m)\u001b[49m\n\u001b[0;32m    430\u001b[0m     response[\u001b[38;5;124m'\u001b[39m\u001b[38;5;124mvalue\u001b[39m\u001b[38;5;124m'\u001b[39m] \u001b[38;5;241m=\u001b[39m \u001b[38;5;28mself\u001b[39m\u001b[38;5;241m.\u001b[39m_unwrap_value(\n\u001b[0;32m    431\u001b[0m         response\u001b[38;5;241m.\u001b[39mget(\u001b[38;5;124m'\u001b[39m\u001b[38;5;124mvalue\u001b[39m\u001b[38;5;124m'\u001b[39m, \u001b[38;5;28;01mNone\u001b[39;00m))\n\u001b[0;32m    432\u001b[0m     \u001b[38;5;28;01mreturn\u001b[39;00m response\n",
      "File \u001b[1;32m~\\anaconda3\\lib\\site-packages\\selenium\\webdriver\\remote\\errorhandler.py:243\u001b[0m, in \u001b[0;36mErrorHandler.check_response\u001b[1;34m(self, response)\u001b[0m\n\u001b[0;32m    241\u001b[0m         alert_text \u001b[38;5;241m=\u001b[39m value[\u001b[38;5;124m'\u001b[39m\u001b[38;5;124malert\u001b[39m\u001b[38;5;124m'\u001b[39m]\u001b[38;5;241m.\u001b[39mget(\u001b[38;5;124m'\u001b[39m\u001b[38;5;124mtext\u001b[39m\u001b[38;5;124m'\u001b[39m)\n\u001b[0;32m    242\u001b[0m     \u001b[38;5;28;01mraise\u001b[39;00m exception_class(message, screen, stacktrace, alert_text)  \u001b[38;5;66;03m# type: ignore[call-arg]  # mypy is not smart enough here\u001b[39;00m\n\u001b[1;32m--> 243\u001b[0m \u001b[38;5;28;01mraise\u001b[39;00m exception_class(message, screen, stacktrace)\n",
      "\u001b[1;31mNoSuchWindowException\u001b[0m: Message: no such window: target window already closed\nfrom unknown error: web view not found\n  (Session info: chrome=109.0.5414.74)\nStacktrace:\nBacktrace:\n\t(No symbol) [0x00F5F243]\n\t(No symbol) [0x00EE7FD1]\n\t(No symbol) [0x00DDD04D]\n\t(No symbol) [0x00DC2D7A]\n\t(No symbol) [0x00E2BE7B]\n\t(No symbol) [0x00E3C196]\n\t(No symbol) [0x00E28386]\n\t(No symbol) [0x00E0163C]\n\t(No symbol) [0x00E0269D]\n\tGetHandleVerifier [0x011F9A22+2655074]\n\tGetHandleVerifier [0x011ECA24+2601828]\n\tGetHandleVerifier [0x01008C0A+619850]\n\tGetHandleVerifier [0x01007830+614768]\n\t(No symbol) [0x00EF05FC]\n\t(No symbol) [0x00EF5968]\n\t(No symbol) [0x00EF5A55]\n\t(No symbol) [0x00F0051B]\n\tBaseThreadInitThunk [0x757000F9+25]\n\tRtlGetAppContainerNamedObjectPath [0x773B7BBE+286]\n\tRtlGetAppContainerNamedObjectPath [0x773B7B8E+238]\n"
     ]
    }
   ],
   "source": [
    "from tqdm.notebook import tqdm\n",
    "def searching(user):\n",
    "    url = 'https://www.instagram.com/'+user\n",
    "    return url\n",
    "\n",
    "id = h_avg[\"ID\"].copy()\n",
    "id = id.unique()\n",
    "\n",
    "info_list = []\n",
    "\n",
    "for i in tqdm(range(len(id))):\n",
    "    url= searching(id[i])\n",
    "    driver.get(url)\n",
    "    time.sleep(5)\n",
    "    try:\n",
    "        html = driver.page_source\n",
    "        soup = BeautifulSoup(html, 'html.parser')\n",
    "\n",
    "        info = soup.select('ul.xieb3on> li')\n",
    "\n",
    "        time.sleep(5)\n",
    "        post = info[0].find(\"span\").get_text()\n",
    "        follower = info[1].find(\"span\").get_text()\n",
    "        follow = info[2].find(\"span\").get_text()\n",
    "\n",
    "        info_list.append([post, follower, follow])\n",
    "    except:\n",
    "        info_list.append([0,0,0])\n",
    "        time.sleep(5)\n",
    "        continue\n",
    "        "
   ]
  },
  {
   "cell_type": "code",
   "execution_count": 14,
   "id": "5a28ee9d",
   "metadata": {},
   "outputs": [],
   "source": [
    "driver.close()"
   ]
  },
  {
   "cell_type": "code",
   "execution_count": 26,
   "id": "acd491dd",
   "metadata": {},
   "outputs": [
    {
     "data": {
      "text/plain": [
       "[['3552', '3736', '7361'],\n",
       " ['7375', '6.5만', '774'],\n",
       " ['1279', '15.3만', '231'],\n",
       " ['435', '10.1만', '3112'],\n",
       " ['5787', '6.8만', '1726'],\n",
       " ['144', '2만', '532'],\n",
       " ['370', '2만', '4911'],\n",
       " ['200', '6387', '2446'],\n",
       " ['219', '1만', '2544'],\n",
       " ['5925', '1535', '9'],\n",
       " ['237', '1709', '407'],\n",
       " ['32', '70', '37'],\n",
       " ['252', '1210', '673'],\n",
       " ['137', '596', '598'],\n",
       " ['351', '2606', '1644'],\n",
       " ['44', '133', '84'],\n",
       " ['208', '331', '18'],\n",
       " ['593', '1320', '2717'],\n",
       " ['105', '195', '20'],\n",
       " ['20', '202', '722'],\n",
       " ['1265', '1204', '258'],\n",
       " ['880', '1099', '6326'],\n",
       " ['604', '222', '350'],\n",
       " ['76', '148', '253'],\n",
       " ['475', '306', '636'],\n",
       " ['225', '1418', '1473'],\n",
       " ['1024', '1927', '1575'],\n",
       " ['94', '40', '4'],\n",
       " ['120', '121', '77'],\n",
       " ['1769', '1296', '649'],\n",
       " ['30', '86', '82'],\n",
       " ['1781', '1528', '295'],\n",
       " ['4', '0', '0'],\n",
       " ['71', '463', '457'],\n",
       " ['637', '352', '200'],\n",
       " ['2532', '2736', '2171'],\n",
       " ['1360', '683', '261'],\n",
       " ['2245', '2983', '456'],\n",
       " ['807', '3.4만', '2763'],\n",
       " ['146', '369', '575'],\n",
       " ['522', '146', '43'],\n",
       " ['2', '0', '0'],\n",
       " [0, 0, 0],\n",
       " ['188', '4130', '2964'],\n",
       " ['801', '1.7만', '6767'],\n",
       " ['1131', '3760', '0'],\n",
       " ['2917', '2090', '904'],\n",
       " ['710', '1486', '824'],\n",
       " ['228', '164', '246'],\n",
       " ['726', '372', '29'],\n",
       " ['568', '118', '65'],\n",
       " ['226', '1430', '1283'],\n",
       " ['847', '223', '276'],\n",
       " ['690', '1751', '327'],\n",
       " ['1257', '1871', '317'],\n",
       " ['2126', '2399', '238'],\n",
       " ['1922', '246', '182'],\n",
       " ['435', '118', '14'],\n",
       " ['947', '743', '217'],\n",
       " ['284', '2629', '7'],\n",
       " ['93', '16', '1'],\n",
       " [0, 0, 0],\n",
       " ['24', '464', '353'],\n",
       " ['463', '1.3만', '7417'],\n",
       " ['121', '262', '664'],\n",
       " ['1473', '1630', '531'],\n",
       " ['228', '1211', '1347'],\n",
       " ['25', '63', '38'],\n",
       " ['93', '264', '333'],\n",
       " ['23', '1', '0'],\n",
       " ['1353', '1478', '847'],\n",
       " ['1155', '358', '134'],\n",
       " ['2982', '1095', '95'],\n",
       " ['1983', '1.9만', '314'],\n",
       " ['199', '807', '292'],\n",
       " ['769', '2209', '1688'],\n",
       " ['120', '695', '508'],\n",
       " ['176', '308', '1'],\n",
       " ['1842', '567', '280'],\n",
       " ['53', '2', '0'],\n",
       " ['99', '479', '490'],\n",
       " ['495', '294', '182'],\n",
       " ['21', '108', '37'],\n",
       " ['129', '113', '62'],\n",
       " ['5922', '1161', '226'],\n",
       " ['8', '14', '14'],\n",
       " ['2064', '1240', '561'],\n",
       " ['17', '49', '73'],\n",
       " ['197', '60', '32'],\n",
       " ['230', '743', '566'],\n",
       " ['37', '217', '263'],\n",
       " ['2223', '3974', '2672'],\n",
       " ['1264', '187', '82'],\n",
       " ['2609', '711', '356'],\n",
       " ['8086', '1만', '3353'],\n",
       " ['920', '1648', '255'],\n",
       " ['12', '18', '8'],\n",
       " ['348', '1.2만', '6785'],\n",
       " ['712', '744', '649'],\n",
       " ['6', '3', '0'],\n",
       " ['25', '3', '5'],\n",
       " ['7187', '3996', '2065'],\n",
       " ['512', '738', '407'],\n",
       " ['105', '1489', '118'],\n",
       " ['8271', '4042', '262'],\n",
       " ['36', '660', '471'],\n",
       " ['890', '475', '395'],\n",
       " ['60', '1만', '18'],\n",
       " ['1202', '8295', '4908'],\n",
       " ['45', '2065', '133'],\n",
       " ['1254', '292', '24'],\n",
       " ['720', '909', '545'],\n",
       " ['1456', '611', '535'],\n",
       " ['1145', '1091', '336'],\n",
       " ['10', '56', '28'],\n",
       " ['554', '283', '441'],\n",
       " ['2106', '3307', '474'],\n",
       " ['607', '195', '113'],\n",
       " ['645', '1007', '246'],\n",
       " ['2411', '1494', '580'],\n",
       " ['560', '291', '28'],\n",
       " ['366', '597', '276'],\n",
       " ['16', '10', '0'],\n",
       " ['79', '93', '69'],\n",
       " ['276', '139', '108'],\n",
       " ['1916', '247', '198'],\n",
       " ['11', '1166', '162'],\n",
       " ['716', '519', '50'],\n",
       " ['87', '1448', '630'],\n",
       " ['22', '151', '410'],\n",
       " ['140', '110', '64'],\n",
       " ['206', '931', '2257'],\n",
       " ['2882', '2075', '1286'],\n",
       " ['18', '801', '145'],\n",
       " ['24', '171', '172'],\n",
       " ['173', '376', '511'],\n",
       " ['13', '25', '37'],\n",
       " ['30', '4', '2'],\n",
       " ['46', '655', '756'],\n",
       " ['1483', '1017', '337'],\n",
       " ['3313', '2660', '1669'],\n",
       " ['14', '99', '6'],\n",
       " ['751', '4214', '2160'],\n",
       " ['131', '95', '85'],\n",
       " [0, 0, 0],\n",
       " ['580', '8242', '3669'],\n",
       " ['17', '2', '4'],\n",
       " ['13', '40', '13'],\n",
       " ['31', '148', '140'],\n",
       " ['4507', '4.9만', '0'],\n",
       " ['73', '1265', '2149'],\n",
       " ['162', '882', '1023'],\n",
       " ['1836', '3166', '1438'],\n",
       " ['146', '2962', '1702'],\n",
       " ['5501', '11.3만', '6341'],\n",
       " ['406', '1755', '766'],\n",
       " ['3', '61', '67'],\n",
       " ['4', '0', '20'],\n",
       " ['5', '172', '156'],\n",
       " ['145', '2142', '910'],\n",
       " ['161', '388', '531'],\n",
       " ['37', '443', '424'],\n",
       " ['1808', '1608', '189'],\n",
       " ['24', '176', '184'],\n",
       " ['32', '112', '34'],\n",
       " ['8040', '2.9만', '217'],\n",
       " ['792', '848', '305'],\n",
       " ['6', '2034', '1866'],\n",
       " ['205', '1083', '1127'],\n",
       " ['104', '4', '2'],\n",
       " ['26', '474', '473'],\n",
       " ['742', '1936', '367'],\n",
       " ['2310', '1963', '262'],\n",
       " ['2188', '438', '257'],\n",
       " ['2021', '1032', '179'],\n",
       " ['16', '65', '28'],\n",
       " ['37', '8', '36'],\n",
       " ['15', '6620', '152'],\n",
       " ['36', '173', '146'],\n",
       " ['120', '536', '576'],\n",
       " ['150', '6', '20'],\n",
       " ['158', '125', '159'],\n",
       " ['1410', '1349', '440'],\n",
       " ['433', '3만', '195'],\n",
       " ['3', '9', '2'],\n",
       " ['1693', '463', '1362'],\n",
       " [0, 0, 0],\n",
       " ['147', '960', '468'],\n",
       " ['10', '53', '27'],\n",
       " ['23', '272', '243'],\n",
       " ['37', '49', '55'],\n",
       " ['979', '33', '352'],\n",
       " ['16', '17', '16'],\n",
       " ['774', '231', '888'],\n",
       " ['3222', '1571', '519'],\n",
       " ['154', '638', '644'],\n",
       " ['122', '183', '210'],\n",
       " ['254', '1074', '403'],\n",
       " ['152', '25', '49'],\n",
       " ['2733', '5785', '3604'],\n",
       " ['1743', '896', '125'],\n",
       " ['1411', '423', '546'],\n",
       " ['39', '6', '29'],\n",
       " ['596', '41', '45'],\n",
       " ['707', '472', '74'],\n",
       " ['30', '50', '28'],\n",
       " ['416', '3478', '984'],\n",
       " ['4', '49', '9'],\n",
       " ['5', '2', '2'],\n",
       " ['63', '215', '226'],\n",
       " ['732', '3757', '1613'],\n",
       " ['143', '1011', '556'],\n",
       " ['2341', '1201', '303'],\n",
       " ['304', '161', '430'],\n",
       " ['3', '58', '363'],\n",
       " ['1만', '2040', '734'],\n",
       " ['18', '75', '65'],\n",
       " ['213', '427', '65'],\n",
       " ['317', '1197', '1288'],\n",
       " ['240', '1175', '1209'],\n",
       " [0, 0, 0],\n",
       " [0, 0, 0],\n",
       " [0, 0, 0],\n",
       " [0, 0, 0],\n",
       " [0, 0, 0],\n",
       " [0, 0, 0],\n",
       " [0, 0, 0],\n",
       " [0, 0, 0],\n",
       " [0, 0, 0],\n",
       " [0, 0, 0],\n",
       " [0, 0, 0],\n",
       " [0, 0, 0],\n",
       " [0, 0, 0],\n",
       " [0, 0, 0],\n",
       " [0, 0, 0],\n",
       " [0, 0, 0],\n",
       " [0, 0, 0],\n",
       " [0, 0, 0],\n",
       " [0, 0, 0],\n",
       " [0, 0, 0],\n",
       " [0, 0, 0],\n",
       " [0, 0, 0],\n",
       " [0, 0, 0],\n",
       " [0, 0, 0],\n",
       " [0, 0, 0],\n",
       " [0, 0, 0],\n",
       " [0, 0, 0],\n",
       " [0, 0, 0],\n",
       " ['97', '5', '28'],\n",
       " ['24', '14', '13'],\n",
       " ['984', '513', '126'],\n",
       " ['10', '9', '106'],\n",
       " ['21', '2', '3'],\n",
       " [0, 0, 0],\n",
       " [0, 0, 0],\n",
       " [0, 0, 0],\n",
       " [0, 0, 0],\n",
       " [0, 0, 0],\n",
       " [0, 0, 0],\n",
       " [0, 0, 0],\n",
       " [0, 0, 0],\n",
       " [0, 0, 0],\n",
       " [0, 0, 0],\n",
       " [0, 0, 0],\n",
       " [0, 0, 0],\n",
       " [0, 0, 0],\n",
       " [0, 0, 0],\n",
       " [0, 0, 0],\n",
       " [0, 0, 0],\n",
       " [0, 0, 0],\n",
       " [0, 0, 0],\n",
       " [0, 0, 0],\n",
       " [0, 0, 0],\n",
       " [0, 0, 0],\n",
       " [0, 0, 0],\n",
       " [0, 0, 0],\n",
       " [0, 0, 0],\n",
       " [0, 0, 0],\n",
       " [0, 0, 0],\n",
       " [0, 0, 0],\n",
       " [0, 0, 0],\n",
       " [0, 0, 0],\n",
       " [0, 0, 0],\n",
       " [0, 0, 0],\n",
       " [0, 0, 0],\n",
       " [0, 0, 0]]"
      ]
     },
     "execution_count": 26,
     "metadata": {},
     "output_type": "execute_result"
    }
   ],
   "source": [
    "info_list"
   ]
  },
  {
   "cell_type": "code",
   "execution_count": 25,
   "id": "f797166b",
   "metadata": {},
   "outputs": [
    {
     "data": {
      "text/html": [
       "<div>\n",
       "<style scoped>\n",
       "    .dataframe tbody tr th:only-of-type {\n",
       "        vertical-align: middle;\n",
       "    }\n",
       "\n",
       "    .dataframe tbody tr th {\n",
       "        vertical-align: top;\n",
       "    }\n",
       "\n",
       "    .dataframe thead th {\n",
       "        text-align: right;\n",
       "    }\n",
       "</style>\n",
       "<table border=\"1\" class=\"dataframe\">\n",
       "  <thead>\n",
       "    <tr style=\"text-align: right;\">\n",
       "      <th></th>\n",
       "      <th>post</th>\n",
       "      <th>follower</th>\n",
       "      <th>follow</th>\n",
       "    </tr>\n",
       "  </thead>\n",
       "  <tbody>\n",
       "    <tr>\n",
       "      <th>0</th>\n",
       "      <td>3552</td>\n",
       "      <td>3736</td>\n",
       "      <td>7361</td>\n",
       "    </tr>\n",
       "    <tr>\n",
       "      <th>1</th>\n",
       "      <td>7375</td>\n",
       "      <td>6.5만</td>\n",
       "      <td>774</td>\n",
       "    </tr>\n",
       "    <tr>\n",
       "      <th>2</th>\n",
       "      <td>1279</td>\n",
       "      <td>15.3만</td>\n",
       "      <td>231</td>\n",
       "    </tr>\n",
       "    <tr>\n",
       "      <th>3</th>\n",
       "      <td>435</td>\n",
       "      <td>10.1만</td>\n",
       "      <td>3112</td>\n",
       "    </tr>\n",
       "    <tr>\n",
       "      <th>4</th>\n",
       "      <td>5787</td>\n",
       "      <td>6.8만</td>\n",
       "      <td>1726</td>\n",
       "    </tr>\n",
       "    <tr>\n",
       "      <th>...</th>\n",
       "      <td>...</td>\n",
       "      <td>...</td>\n",
       "      <td>...</td>\n",
       "    </tr>\n",
       "    <tr>\n",
       "      <th>281</th>\n",
       "      <td>0</td>\n",
       "      <td>0</td>\n",
       "      <td>0</td>\n",
       "    </tr>\n",
       "    <tr>\n",
       "      <th>282</th>\n",
       "      <td>0</td>\n",
       "      <td>0</td>\n",
       "      <td>0</td>\n",
       "    </tr>\n",
       "    <tr>\n",
       "      <th>283</th>\n",
       "      <td>0</td>\n",
       "      <td>0</td>\n",
       "      <td>0</td>\n",
       "    </tr>\n",
       "    <tr>\n",
       "      <th>284</th>\n",
       "      <td>0</td>\n",
       "      <td>0</td>\n",
       "      <td>0</td>\n",
       "    </tr>\n",
       "    <tr>\n",
       "      <th>285</th>\n",
       "      <td>0</td>\n",
       "      <td>0</td>\n",
       "      <td>0</td>\n",
       "    </tr>\n",
       "  </tbody>\n",
       "</table>\n",
       "<p>286 rows × 3 columns</p>\n",
       "</div>"
      ],
      "text/plain": [
       "     post follower follow\n",
       "0    3552     3736   7361\n",
       "1    7375     6.5만    774\n",
       "2    1279    15.3만    231\n",
       "3     435    10.1만   3112\n",
       "4    5787     6.8만   1726\n",
       "..    ...      ...    ...\n",
       "281     0        0      0\n",
       "282     0        0      0\n",
       "283     0        0      0\n",
       "284     0        0      0\n",
       "285     0        0      0\n",
       "\n",
       "[286 rows x 3 columns]"
      ]
     },
     "execution_count": 25,
     "metadata": {},
     "output_type": "execute_result"
    }
   ],
   "source": [
    "cols = [\"post\", \"follower\", \"follow\"]\n",
    "df = pd.DataFrame(info_list, columns=cols)\n",
    "df"
   ]
  },
  {
   "cell_type": "code",
   "execution_count": null,
   "id": "2a1293a0",
   "metadata": {},
   "outputs": [],
   "source": []
  },
  {
   "cell_type": "code",
   "execution_count": null,
   "id": "436bd614",
   "metadata": {},
   "outputs": [],
   "source": []
  },
  {
   "cell_type": "code",
   "execution_count": null,
   "id": "68e1d959",
   "metadata": {},
   "outputs": [],
   "source": []
  },
  {
   "cell_type": "code",
   "execution_count": null,
   "id": "036fc8d0",
   "metadata": {},
   "outputs": [],
   "source": []
  },
  {
   "cell_type": "code",
   "execution_count": null,
   "id": "4acc438f",
   "metadata": {},
   "outputs": [],
   "source": []
  },
  {
   "cell_type": "code",
   "execution_count": null,
   "id": "0aad0c7c",
   "metadata": {},
   "outputs": [],
   "source": []
  },
  {
   "cell_type": "code",
   "execution_count": null,
   "id": "e1758c6b",
   "metadata": {},
   "outputs": [],
   "source": []
  },
  {
   "cell_type": "code",
   "execution_count": null,
   "id": "811a5ccf",
   "metadata": {},
   "outputs": [],
   "source": []
  },
  {
   "cell_type": "code",
   "execution_count": null,
   "id": "bfff2198",
   "metadata": {},
   "outputs": [],
   "source": []
  },
  {
   "cell_type": "code",
   "execution_count": null,
   "id": "f8233c1c",
   "metadata": {},
   "outputs": [],
   "source": []
  },
  {
   "cell_type": "code",
   "execution_count": null,
   "id": "27269386",
   "metadata": {},
   "outputs": [],
   "source": []
  },
  {
   "cell_type": "code",
   "execution_count": null,
   "id": "a8e697e7",
   "metadata": {},
   "outputs": [],
   "source": []
  },
  {
   "cell_type": "code",
   "execution_count": null,
   "id": "0ba11f8c",
   "metadata": {},
   "outputs": [],
   "source": []
  },
  {
   "cell_type": "code",
   "execution_count": null,
   "id": "2e407319",
   "metadata": {},
   "outputs": [],
   "source": []
  },
  {
   "cell_type": "code",
   "execution_count": null,
   "id": "b817b9df",
   "metadata": {},
   "outputs": [],
   "source": []
  },
  {
   "cell_type": "code",
   "execution_count": null,
   "id": "95b589fe",
   "metadata": {},
   "outputs": [],
   "source": []
  },
  {
   "cell_type": "code",
   "execution_count": null,
   "id": "bed8a78a",
   "metadata": {},
   "outputs": [],
   "source": []
  },
  {
   "cell_type": "code",
   "execution_count": null,
   "id": "826f7df3",
   "metadata": {},
   "outputs": [],
   "source": []
  },
  {
   "cell_type": "code",
   "execution_count": null,
   "id": "6a6576c5",
   "metadata": {},
   "outputs": [],
   "source": []
  },
  {
   "cell_type": "code",
   "execution_count": null,
   "id": "121511ea",
   "metadata": {},
   "outputs": [],
   "source": []
  },
  {
   "cell_type": "code",
   "execution_count": null,
   "id": "4f9ca5bd",
   "metadata": {},
   "outputs": [],
   "source": []
  },
  {
   "cell_type": "code",
   "execution_count": null,
   "id": "df51894a",
   "metadata": {},
   "outputs": [],
   "source": []
  }
 ],
 "metadata": {
  "kernelspec": {
   "display_name": "Python 3 (ipykernel)",
   "language": "python",
   "name": "python3"
  },
  "language_info": {
   "codemirror_mode": {
    "name": "ipython",
    "version": 3
   },
   "file_extension": ".py",
   "mimetype": "text/x-python",
   "name": "python",
   "nbconvert_exporter": "python",
   "pygments_lexer": "ipython3",
   "version": "3.9.12"
  }
 },
 "nbformat": 4,
 "nbformat_minor": 5
}
